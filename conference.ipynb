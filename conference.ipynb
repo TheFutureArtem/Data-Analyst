{
 "cells": [
  {
   "cell_type": "markdown",
   "id": "40ef99f1",
   "metadata": {},
   "source": [
    "### Загрузка данных"
   ]
  },
  {
   "cell_type": "code",
   "execution_count": 160,
   "id": "2d71da02",
   "metadata": {
    "ExecuteTime": {
     "end_time": "2023-10-01T16:39:09.324300Z",
     "start_time": "2023-10-01T16:39:09.319805Z"
    }
   },
   "outputs": [],
   "source": [
    "import pandas as pd\n",
    "import datetime as dt\n",
    "import numpy as np"
   ]
  },
  {
   "cell_type": "code",
   "execution_count": 161,
   "id": "928e69e7",
   "metadata": {
    "ExecuteTime": {
     "end_time": "2023-10-01T16:39:14.285767Z",
     "start_time": "2023-10-01T16:39:12.869611Z"
    },
    "scrolled": false
   },
   "outputs": [
    {
     "name": "stderr",
     "output_type": "stream",
     "text": [
      "C:\\Users\\eshel\\AppData\\Local\\Temp\\ipykernel_20848\\3054899957.py:1: DtypeWarning:\n",
      "\n",
      "Columns (2,23) have mixed types. Specify dtype option on import or set low_memory=False.\n",
      "\n"
     ]
    }
   ],
   "source": [
    "views = pd.read_csv(\"C:\\\\Users\\eshel\\events.csv\", sep=';') #все мероприятия.csv"
   ]
  },
  {
   "cell_type": "markdown",
   "id": "14c38267",
   "metadata": {},
   "source": [
    "### Предобработка"
   ]
  },
  {
   "cell_type": "code",
   "execution_count": 162,
   "id": "0b2e6fd4",
   "metadata": {
    "ExecuteTime": {
     "end_time": "2023-10-01T16:39:17.060303Z",
     "start_time": "2023-10-01T16:39:17.053397Z"
    }
   },
   "outputs": [
    {
     "data": {
      "text/plain": [
       "Index(['UID', 'OID', 'BARCODE', 'COUNTRY', 'REGION', 'CITY', 'PROFESSION',\n",
       "       'SPECIALIZATION', 'Общее время просомтра, мин', 'ПОТОК', 'Устройство',\n",
       "       'Оп.сис', 'Броузер', 'Время начала', 'Время окончания',\n",
       "       'Timestamp начала', 'Timestamp окончания', 'Время просомтра, мин',\n",
       "       'Кол-во кликов', 'ID открытой сессии', 'ID закрытой сессии', 'IP',\n",
       "       'SERVER SESSION ID', 'Статус открытия', 'Статус закрытия',\n",
       "       'Мероприятие'],\n",
       "      dtype='object')"
      ]
     },
     "execution_count": 162,
     "metadata": {},
     "output_type": "execute_result"
    }
   ],
   "source": [
    "views.columns"
   ]
  },
  {
   "cell_type": "code",
   "execution_count": 163,
   "id": "d771e7da",
   "metadata": {
    "ExecuteTime": {
     "end_time": "2023-10-01T16:39:26.659601Z",
     "start_time": "2023-10-01T16:39:26.654757Z"
    }
   },
   "outputs": [],
   "source": [
    "views.columns = ['uid', 'oid', 'barcode', 'country', 'region', 'city', 'profession',\n",
    "       'specialization', 'total_time_min', 'stream', 'device',\n",
    "       'os', 'browser', 'time_start', 'time_end',\n",
    "       'ts_start', 'ts_end', 'time_min',\n",
    "       'clicks', 'idopenses', 'idcloseses', 'ip',\n",
    "       'server_session_id', 'open_status', 'close_status',\n",
    "       'event']"
   ]
  },
  {
   "cell_type": "code",
   "execution_count": 164,
   "id": "6d749dbe",
   "metadata": {
    "ExecuteTime": {
     "end_time": "2023-10-01T16:39:34.122533Z",
     "start_time": "2023-10-01T16:39:33.804672Z"
    }
   },
   "outputs": [
    {
     "name": "stdout",
     "output_type": "stream",
     "text": [
      "<class 'pandas.core.frame.DataFrame'>\n",
      "RangeIndex: 154333 entries, 0 to 154332\n",
      "Data columns (total 26 columns):\n",
      " #   Column             Non-Null Count   Dtype  \n",
      "---  ------             --------------   -----  \n",
      " 0   uid                134779 non-null  float64\n",
      " 1   oid                135694 non-null  float64\n",
      " 2   barcode            135694 non-null  object \n",
      " 3   country            127206 non-null  object \n",
      " 4   region             118648 non-null  object \n",
      " 5   city               133047 non-null  object \n",
      " 6   profession         133191 non-null  object \n",
      " 7   specialization     131793 non-null  object \n",
      " 8   total_time_min     135694 non-null  float64\n",
      " 9   stream             135694 non-null  float64\n",
      " 10  device             135694 non-null  object \n",
      " 11  os                 135693 non-null  object \n",
      " 12  browser            135693 non-null  object \n",
      " 13  time_start         135694 non-null  object \n",
      " 14  time_end           135694 non-null  object \n",
      " 15  ts_start           135694 non-null  float64\n",
      " 16  ts_end             135694 non-null  float64\n",
      " 17  time_min           135694 non-null  object \n",
      " 18  clicks             7362 non-null    float64\n",
      " 19  idopenses          6704 non-null    object \n",
      " 20  idcloseses         125771 non-null  object \n",
      " 21  ip                 130953 non-null  object \n",
      " 22  server_session_id  135694 non-null  object \n",
      " 23  open_status        72018 non-null   object \n",
      " 24  close_status       84890 non-null   object \n",
      " 25  event              154333 non-null  object \n",
      "dtypes: float64(7), object(19)\n",
      "memory usage: 30.6+ MB\n"
     ]
    }
   ],
   "source": [
    "views.info()"
   ]
  },
  {
   "cell_type": "code",
   "execution_count": 165,
   "id": "8ad81617",
   "metadata": {
    "ExecuteTime": {
     "end_time": "2023-10-01T16:39:59.264782Z",
     "start_time": "2023-10-01T16:39:59.250652Z"
    },
    "scrolled": false
   },
   "outputs": [
    {
     "data": {
      "text/html": [
       "<div>\n",
       "<style scoped>\n",
       "    .dataframe tbody tr th:only-of-type {\n",
       "        vertical-align: middle;\n",
       "    }\n",
       "\n",
       "    .dataframe tbody tr th {\n",
       "        vertical-align: top;\n",
       "    }\n",
       "\n",
       "    .dataframe thead th {\n",
       "        text-align: right;\n",
       "    }\n",
       "</style>\n",
       "<table border=\"1\" class=\"dataframe\">\n",
       "  <thead>\n",
       "    <tr style=\"text-align: right;\">\n",
       "      <th></th>\n",
       "      <th>0</th>\n",
       "      <th>1</th>\n",
       "      <th>2</th>\n",
       "      <th>3</th>\n",
       "      <th>4</th>\n",
       "    </tr>\n",
       "  </thead>\n",
       "  <tbody>\n",
       "    <tr>\n",
       "      <th>uid</th>\n",
       "      <td>16573.0</td>\n",
       "      <td>16573.0</td>\n",
       "      <td>16573.0</td>\n",
       "      <td>16573.0</td>\n",
       "      <td>16573.0</td>\n",
       "    </tr>\n",
       "    <tr>\n",
       "      <th>oid</th>\n",
       "      <td>626199.0</td>\n",
       "      <td>626199.0</td>\n",
       "      <td>626199.0</td>\n",
       "      <td>626199.0</td>\n",
       "      <td>626199.0</td>\n",
       "    </tr>\n",
       "    <tr>\n",
       "      <th>barcode</th>\n",
       "      <td>0809202204421616573</td>\n",
       "      <td>0809202204421616573</td>\n",
       "      <td>0809202204421616573</td>\n",
       "      <td>0809202204421616573</td>\n",
       "      <td>0809202204421616573</td>\n",
       "    </tr>\n",
       "    <tr>\n",
       "      <th>country</th>\n",
       "      <td>Россия</td>\n",
       "      <td>Россия</td>\n",
       "      <td>Россия</td>\n",
       "      <td>Россия</td>\n",
       "      <td>Россия</td>\n",
       "    </tr>\n",
       "    <tr>\n",
       "      <th>region</th>\n",
       "      <td>Амурская обл.</td>\n",
       "      <td>Амурская обл.</td>\n",
       "      <td>Амурская обл.</td>\n",
       "      <td>Амурская обл.</td>\n",
       "      <td>Амурская обл.</td>\n",
       "    </tr>\n",
       "    <tr>\n",
       "      <th>city</th>\n",
       "      <td>NaN</td>\n",
       "      <td>NaN</td>\n",
       "      <td>NaN</td>\n",
       "      <td>NaN</td>\n",
       "      <td>NaN</td>\n",
       "    </tr>\n",
       "    <tr>\n",
       "      <th>profession</th>\n",
       "      <td>Врач</td>\n",
       "      <td>Врач</td>\n",
       "      <td>Врач</td>\n",
       "      <td>Врач</td>\n",
       "      <td>Врач</td>\n",
       "    </tr>\n",
       "    <tr>\n",
       "      <th>specialization</th>\n",
       "      <td>онкология: хирургия (огш)</td>\n",
       "      <td>онкология: хирургия (огш)</td>\n",
       "      <td>онкология: хирургия (огш)</td>\n",
       "      <td>онкология: хирургия (огш)</td>\n",
       "      <td>онкология: хирургия (огш)</td>\n",
       "    </tr>\n",
       "    <tr>\n",
       "      <th>total_time_min</th>\n",
       "      <td>52.0</td>\n",
       "      <td>52.0</td>\n",
       "      <td>52.0</td>\n",
       "      <td>52.0</td>\n",
       "      <td>52.0</td>\n",
       "    </tr>\n",
       "    <tr>\n",
       "      <th>stream</th>\n",
       "      <td>1.0</td>\n",
       "      <td>1.0</td>\n",
       "      <td>1.0</td>\n",
       "      <td>1.0</td>\n",
       "      <td>1.0</td>\n",
       "    </tr>\n",
       "    <tr>\n",
       "      <th>device</th>\n",
       "      <td>Десктоп</td>\n",
       "      <td>Десктоп</td>\n",
       "      <td>Десктоп</td>\n",
       "      <td>Десктоп</td>\n",
       "      <td>Десктоп</td>\n",
       "    </tr>\n",
       "    <tr>\n",
       "      <th>os</th>\n",
       "      <td>Windows</td>\n",
       "      <td>Windows</td>\n",
       "      <td>Windows</td>\n",
       "      <td>Windows</td>\n",
       "      <td>Windows</td>\n",
       "    </tr>\n",
       "    <tr>\n",
       "      <th>browser</th>\n",
       "      <td>Chrome</td>\n",
       "      <td>Chrome</td>\n",
       "      <td>Chrome</td>\n",
       "      <td>Chrome</td>\n",
       "      <td>Chrome</td>\n",
       "    </tr>\n",
       "    <tr>\n",
       "      <th>time_start</th>\n",
       "      <td>15.09.2022 09:42:30</td>\n",
       "      <td>15.09.2022 09:51:34</td>\n",
       "      <td>15.09.2022 09:51:42</td>\n",
       "      <td>15.09.2022 09:54:57</td>\n",
       "      <td>15.09.2022 10:10:06</td>\n",
       "    </tr>\n",
       "    <tr>\n",
       "      <th>time_end</th>\n",
       "      <td>15.09.2022 09:44:17</td>\n",
       "      <td>15.09.2022 09:51:37</td>\n",
       "      <td>15.09.2022 09:54:55</td>\n",
       "      <td>15.09.2022 10:09:45</td>\n",
       "      <td>15.09.2022 10:14:57</td>\n",
       "    </tr>\n",
       "    <tr>\n",
       "      <th>ts_start</th>\n",
       "      <td>1663224150.0</td>\n",
       "      <td>1663224694.0</td>\n",
       "      <td>1663224702.0</td>\n",
       "      <td>1663224897.0</td>\n",
       "      <td>1663225806.0</td>\n",
       "    </tr>\n",
       "    <tr>\n",
       "      <th>ts_end</th>\n",
       "      <td>1663224257.0</td>\n",
       "      <td>1663224697.0</td>\n",
       "      <td>1663224895.0</td>\n",
       "      <td>1663225785.0</td>\n",
       "      <td>1663226097.0</td>\n",
       "    </tr>\n",
       "    <tr>\n",
       "      <th>time_min</th>\n",
       "      <td>2</td>\n",
       "      <td>3 сек.</td>\n",
       "      <td>3</td>\n",
       "      <td>15</td>\n",
       "      <td>5</td>\n",
       "    </tr>\n",
       "    <tr>\n",
       "      <th>clicks</th>\n",
       "      <td>NaN</td>\n",
       "      <td>NaN</td>\n",
       "      <td>NaN</td>\n",
       "      <td>NaN</td>\n",
       "      <td>NaN</td>\n",
       "    </tr>\n",
       "    <tr>\n",
       "      <th>idopenses</th>\n",
       "      <td>NaN</td>\n",
       "      <td>NaN</td>\n",
       "      <td>NaN</td>\n",
       "      <td>NaN</td>\n",
       "      <td>NaN</td>\n",
       "    </tr>\n",
       "    <tr>\n",
       "      <th>idcloseses</th>\n",
       "      <td>vEg3gydkv6KzcG</td>\n",
       "      <td>vEg3gydkv6KzcG</td>\n",
       "      <td>bquNyVcL7eCLeE</td>\n",
       "      <td>bquNyVcL7eCLeE</td>\n",
       "      <td>bquNyVcL7eCLeE</td>\n",
       "    </tr>\n",
       "    <tr>\n",
       "      <th>ip</th>\n",
       "      <td>212.124.21.110</td>\n",
       "      <td>212.124.21.110</td>\n",
       "      <td>212.124.21.110</td>\n",
       "      <td>212.124.21.110</td>\n",
       "      <td>212.124.21.110</td>\n",
       "    </tr>\n",
       "    <tr>\n",
       "      <th>server_session_id</th>\n",
       "      <td>vIsrJYwqtiP3UwjQ3gCiHPl6OS1eFpnu</td>\n",
       "      <td>vIsrJYwqtiP3UwjQ3gCiHPl6OS1eFpnu</td>\n",
       "      <td>vIsrJYwqtiP3UwjQ3gCiHPl6OS1eFpnu</td>\n",
       "      <td>vIsrJYwqtiP3UwjQ3gCiHPl6OS1eFpnu</td>\n",
       "      <td>vIsrJYwqtiP3UwjQ3gCiHPl6OS1eFpnu</td>\n",
       "    </tr>\n",
       "    <tr>\n",
       "      <th>open_status</th>\n",
       "      <td>PLAY_START</td>\n",
       "      <td>PLAY_RESTART_PAUSE</td>\n",
       "      <td>PLAY_START</td>\n",
       "      <td>PLAY_RESTART_STOP</td>\n",
       "      <td>PLAY_RESTART_PAUSE</td>\n",
       "    </tr>\n",
       "    <tr>\n",
       "      <th>close_status</th>\n",
       "      <td>DESTROY_PAUSE</td>\n",
       "      <td>NaN</td>\n",
       "      <td>DESTROY_STOP</td>\n",
       "      <td>DESTROY_PAUSE</td>\n",
       "      <td>DESTROY_PAUSE</td>\n",
       "    </tr>\n",
       "    <tr>\n",
       "      <th>event</th>\n",
       "      <td>Лечение злокачественных новообразований головы...</td>\n",
       "      <td>Лечение злокачественных новообразований головы...</td>\n",
       "      <td>Лечение злокачественных новообразований головы...</td>\n",
       "      <td>Лечение злокачественных новообразований головы...</td>\n",
       "      <td>Лечение злокачественных новообразований головы...</td>\n",
       "    </tr>\n",
       "  </tbody>\n",
       "</table>\n",
       "</div>"
      ],
      "text/plain": [
       "                                                                   0  \\\n",
       "uid                                                          16573.0   \n",
       "oid                                                         626199.0   \n",
       "barcode                                          0809202204421616573   \n",
       "country                                                       Россия   \n",
       "region                                                 Амурская обл.   \n",
       "city                                                             NaN   \n",
       "profession                                                      Врач   \n",
       "specialization                             онкология: хирургия (огш)   \n",
       "total_time_min                                                  52.0   \n",
       "stream                                                           1.0   \n",
       "device                                                       Десктоп   \n",
       "os                                                           Windows   \n",
       "browser                                                       Chrome   \n",
       "time_start                                       15.09.2022 09:42:30   \n",
       "time_end                                         15.09.2022 09:44:17   \n",
       "ts_start                                                1663224150.0   \n",
       "ts_end                                                  1663224257.0   \n",
       "time_min                                                           2   \n",
       "clicks                                                           NaN   \n",
       "idopenses                                                        NaN   \n",
       "idcloseses                                            vEg3gydkv6KzcG   \n",
       "ip                                                    212.124.21.110   \n",
       "server_session_id                   vIsrJYwqtiP3UwjQ3gCiHPl6OS1eFpnu   \n",
       "open_status                                               PLAY_START   \n",
       "close_status                                           DESTROY_PAUSE   \n",
       "event              Лечение злокачественных новообразований головы...   \n",
       "\n",
       "                                                                   1  \\\n",
       "uid                                                          16573.0   \n",
       "oid                                                         626199.0   \n",
       "barcode                                          0809202204421616573   \n",
       "country                                                       Россия   \n",
       "region                                                 Амурская обл.   \n",
       "city                                                             NaN   \n",
       "profession                                                      Врач   \n",
       "specialization                             онкология: хирургия (огш)   \n",
       "total_time_min                                                  52.0   \n",
       "stream                                                           1.0   \n",
       "device                                                       Десктоп   \n",
       "os                                                           Windows   \n",
       "browser                                                       Chrome   \n",
       "time_start                                       15.09.2022 09:51:34   \n",
       "time_end                                         15.09.2022 09:51:37   \n",
       "ts_start                                                1663224694.0   \n",
       "ts_end                                                  1663224697.0   \n",
       "time_min                                                      3 сек.   \n",
       "clicks                                                           NaN   \n",
       "idopenses                                                        NaN   \n",
       "idcloseses                                            vEg3gydkv6KzcG   \n",
       "ip                                                    212.124.21.110   \n",
       "server_session_id                   vIsrJYwqtiP3UwjQ3gCiHPl6OS1eFpnu   \n",
       "open_status                                       PLAY_RESTART_PAUSE   \n",
       "close_status                                                     NaN   \n",
       "event              Лечение злокачественных новообразований головы...   \n",
       "\n",
       "                                                                   2  \\\n",
       "uid                                                          16573.0   \n",
       "oid                                                         626199.0   \n",
       "barcode                                          0809202204421616573   \n",
       "country                                                       Россия   \n",
       "region                                                 Амурская обл.   \n",
       "city                                                             NaN   \n",
       "profession                                                      Врач   \n",
       "specialization                             онкология: хирургия (огш)   \n",
       "total_time_min                                                  52.0   \n",
       "stream                                                           1.0   \n",
       "device                                                       Десктоп   \n",
       "os                                                           Windows   \n",
       "browser                                                       Chrome   \n",
       "time_start                                       15.09.2022 09:51:42   \n",
       "time_end                                         15.09.2022 09:54:55   \n",
       "ts_start                                                1663224702.0   \n",
       "ts_end                                                  1663224895.0   \n",
       "time_min                                                           3   \n",
       "clicks                                                           NaN   \n",
       "idopenses                                                        NaN   \n",
       "idcloseses                                            bquNyVcL7eCLeE   \n",
       "ip                                                    212.124.21.110   \n",
       "server_session_id                   vIsrJYwqtiP3UwjQ3gCiHPl6OS1eFpnu   \n",
       "open_status                                               PLAY_START   \n",
       "close_status                                            DESTROY_STOP   \n",
       "event              Лечение злокачественных новообразований головы...   \n",
       "\n",
       "                                                                   3  \\\n",
       "uid                                                          16573.0   \n",
       "oid                                                         626199.0   \n",
       "barcode                                          0809202204421616573   \n",
       "country                                                       Россия   \n",
       "region                                                 Амурская обл.   \n",
       "city                                                             NaN   \n",
       "profession                                                      Врач   \n",
       "specialization                             онкология: хирургия (огш)   \n",
       "total_time_min                                                  52.0   \n",
       "stream                                                           1.0   \n",
       "device                                                       Десктоп   \n",
       "os                                                           Windows   \n",
       "browser                                                       Chrome   \n",
       "time_start                                       15.09.2022 09:54:57   \n",
       "time_end                                         15.09.2022 10:09:45   \n",
       "ts_start                                                1663224897.0   \n",
       "ts_end                                                  1663225785.0   \n",
       "time_min                                                          15   \n",
       "clicks                                                           NaN   \n",
       "idopenses                                                        NaN   \n",
       "idcloseses                                            bquNyVcL7eCLeE   \n",
       "ip                                                    212.124.21.110   \n",
       "server_session_id                   vIsrJYwqtiP3UwjQ3gCiHPl6OS1eFpnu   \n",
       "open_status                                        PLAY_RESTART_STOP   \n",
       "close_status                                           DESTROY_PAUSE   \n",
       "event              Лечение злокачественных новообразований головы...   \n",
       "\n",
       "                                                                   4  \n",
       "uid                                                          16573.0  \n",
       "oid                                                         626199.0  \n",
       "barcode                                          0809202204421616573  \n",
       "country                                                       Россия  \n",
       "region                                                 Амурская обл.  \n",
       "city                                                             NaN  \n",
       "profession                                                      Врач  \n",
       "specialization                             онкология: хирургия (огш)  \n",
       "total_time_min                                                  52.0  \n",
       "stream                                                           1.0  \n",
       "device                                                       Десктоп  \n",
       "os                                                           Windows  \n",
       "browser                                                       Chrome  \n",
       "time_start                                       15.09.2022 10:10:06  \n",
       "time_end                                         15.09.2022 10:14:57  \n",
       "ts_start                                                1663225806.0  \n",
       "ts_end                                                  1663226097.0  \n",
       "time_min                                                           5  \n",
       "clicks                                                           NaN  \n",
       "idopenses                                                        NaN  \n",
       "idcloseses                                            bquNyVcL7eCLeE  \n",
       "ip                                                    212.124.21.110  \n",
       "server_session_id                   vIsrJYwqtiP3UwjQ3gCiHPl6OS1eFpnu  \n",
       "open_status                                       PLAY_RESTART_PAUSE  \n",
       "close_status                                           DESTROY_PAUSE  \n",
       "event              Лечение злокачественных новообразований головы...  "
      ]
     },
     "execution_count": 165,
     "metadata": {},
     "output_type": "execute_result"
    }
   ],
   "source": [
    "views.head().T"
   ]
  },
  {
   "cell_type": "code",
   "execution_count": 166,
   "id": "ef15e8b9",
   "metadata": {
    "ExecuteTime": {
     "end_time": "2023-10-01T16:40:22.700796Z",
     "start_time": "2023-10-01T16:40:22.655171Z"
    }
   },
   "outputs": [
    {
     "data": {
      "text/plain": [
       "5359    01.07.2022 08:03:38\n",
       "5360    01.07.2022 08:52:19\n",
       "5361    01.07.2022 10:43:28\n",
       "5362    01.07.2022 12:18:49\n",
       "5363    01.07.2022 13:42:13\n",
       "Name: time_start, dtype: object"
      ]
     },
     "execution_count": 166,
     "metadata": {},
     "output_type": "execute_result"
    }
   ],
   "source": [
    "views.query('event==\"VIII Петербургский международный онкологический форум Белые ночи\"')['time_start'].head()"
   ]
  },
  {
   "cell_type": "code",
   "execution_count": 112,
   "id": "62a5b7e2",
   "metadata": {
    "ExecuteTime": {
     "end_time": "2023-10-01T13:45:17.652007Z",
     "start_time": "2023-10-01T13:45:17.640322Z"
    }
   },
   "outputs": [
    {
     "data": {
      "text/plain": [
       "0    15.09.2022 09:42:30\n",
       "1    15.09.2022 09:51:34\n",
       "2    15.09.2022 09:51:42\n",
       "3    15.09.2022 09:54:57\n",
       "4    15.09.2022 10:10:06\n",
       "Name: time_start, dtype: object"
      ]
     },
     "execution_count": 112,
     "metadata": {},
     "output_type": "execute_result"
    }
   ],
   "source": [
    "views.query('event==\"Лечение злокачественных новообразований головы и шеи\"')['time_start'].head()"
   ]
  },
  {
   "cell_type": "code",
   "execution_count": 167,
   "id": "adb4c70e",
   "metadata": {
    "ExecuteTime": {
     "end_time": "2023-10-01T16:40:36.905973Z",
     "start_time": "2023-10-01T16:40:36.813923Z"
    }
   },
   "outputs": [
    {
     "name": "stderr",
     "output_type": "stream",
     "text": [
      "C:\\Users\\eshel\\anaconda3\\Lib\\site-packages\\pandas\\core\\tools\\datetimes.py:557: RuntimeWarning:\n",
      "\n",
      "invalid value encountered in cast\n",
      "\n",
      "C:\\Users\\eshel\\anaconda3\\Lib\\site-packages\\pandas\\core\\tools\\datetimes.py:557: RuntimeWarning:\n",
      "\n",
      "invalid value encountered in cast\n",
      "\n"
     ]
    }
   ],
   "source": [
    "views['time_start'] = pd.to_datetime(views['ts_start'], unit='s')\n",
    "views['time_end'] = pd.to_datetime(views['ts_end'], unit='s')"
   ]
  },
  {
   "cell_type": "code",
   "execution_count": 168,
   "id": "b76971e5",
   "metadata": {
    "ExecuteTime": {
     "end_time": "2023-10-01T16:40:40.419146Z",
     "start_time": "2023-10-01T16:40:40.413892Z"
    }
   },
   "outputs": [
    {
     "data": {
      "text/plain": [
       "0        2022-09-15 06:42:30\n",
       "1        2022-09-15 06:51:34\n",
       "2        2022-09-15 06:51:42\n",
       "3        2022-09-15 06:54:57\n",
       "4        2022-09-15 07:10:06\n",
       "                 ...        \n",
       "154328   2023-07-07 14:30:15\n",
       "154329   2023-07-07 14:41:22\n",
       "154330   2023-07-07 14:54:03\n",
       "154331                   NaT\n",
       "154332   2023-07-07 15:11:25\n",
       "Name: time_start, Length: 154333, dtype: datetime64[ns]"
      ]
     },
     "execution_count": 168,
     "metadata": {},
     "output_type": "execute_result"
    }
   ],
   "source": [
    "views['time_start'] "
   ]
  },
  {
   "cell_type": "code",
   "execution_count": 169,
   "id": "7579c9b0",
   "metadata": {
    "ExecuteTime": {
     "end_time": "2023-10-01T16:41:02.038793Z",
     "start_time": "2023-10-01T16:41:02.004047Z"
    }
   },
   "outputs": [],
   "source": [
    "views['date'] = views['time_start'].dt.date"
   ]
  },
  {
   "cell_type": "code",
   "execution_count": 170,
   "id": "113cdd4e",
   "metadata": {
    "ExecuteTime": {
     "end_time": "2023-10-01T16:41:19.090693Z",
     "start_time": "2023-10-01T16:41:19.083334Z"
    },
    "scrolled": true
   },
   "outputs": [
    {
     "data": {
      "text/plain": [
       "0   2022-09-15 06:42:30\n",
       "1   2022-09-15 06:51:34\n",
       "2   2022-09-15 06:51:42\n",
       "3   2022-09-15 06:54:57\n",
       "4   2022-09-15 07:10:06\n",
       "Name: time_start, dtype: datetime64[ns]"
      ]
     },
     "execution_count": 170,
     "metadata": {},
     "output_type": "execute_result"
    }
   ],
   "source": [
    " views['time_start'].head()"
   ]
  },
  {
   "cell_type": "code",
   "execution_count": 171,
   "id": "2fc7abaa",
   "metadata": {
    "ExecuteTime": {
     "end_time": "2023-10-01T16:41:28.986153Z",
     "start_time": "2023-10-01T16:41:28.956148Z"
    }
   },
   "outputs": [],
   "source": [
    "views['event_type'] =  views['event'].apply(lambda x: \"forum\" if 'ночи' in x else \"small\")"
   ]
  },
  {
   "cell_type": "code",
   "execution_count": 172,
   "id": "290c8a31",
   "metadata": {
    "ExecuteTime": {
     "end_time": "2023-10-01T16:41:50.713689Z",
     "start_time": "2023-10-01T16:41:50.594917Z"
    }
   },
   "outputs": [],
   "source": [
    "views = views[~views['uid'].isna() | ~views['barcode'].isna() ]"
   ]
  },
  {
   "cell_type": "code",
   "execution_count": 173,
   "id": "cf59b8c7",
   "metadata": {
    "ExecuteTime": {
     "end_time": "2023-10-01T16:41:53.664038Z",
     "start_time": "2023-10-01T16:41:53.634049Z"
    }
   },
   "outputs": [
    {
     "data": {
      "text/plain": [
       "array(['Лечение злокачественных новообразований головы и шеи',\n",
       "       'I Мультидисциплинарная международная конференция',\n",
       "       'Лабораторная диагностика анемий Часть 1',\n",
       "       'Плоскодетекторная компьютерная томография в интервенционной онкологии',\n",
       "       'Рак эндометрия. Без прошлого нет будущего',\n",
       "       'Школа криогенных технологий. Криохирургические технологии в лечении базальноклеточного рака кожи: эпидемиология, диагностика, лечение',\n",
       "       'VIII Петербургский международный онкологический форум Белые ночи',\n",
       "       'IX Петербургский международный онкологический форум Белые ночи'],\n",
       "      dtype=object)"
      ]
     },
     "execution_count": 173,
     "metadata": {},
     "output_type": "execute_result"
    }
   ],
   "source": [
    "views['event'].unique()"
   ]
  },
  {
   "cell_type": "markdown",
   "id": "0effb823",
   "metadata": {},
   "source": [
    "## Dash time"
   ]
  },
  {
   "cell_type": "markdown",
   "id": "c9cd11e2",
   "metadata": {},
   "source": [
    "https://dash.plotly.com/"
   ]
  },
  {
   "cell_type": "markdown",
   "id": "d47d25e1",
   "metadata": {},
   "source": [
    "https://dash.plotly.com/tutorial"
   ]
  },
  {
   "cell_type": "code",
   "execution_count": 11,
   "id": "3f3a14c9",
   "metadata": {
    "ExecuteTime": {
     "end_time": "2023-10-01T12:42:40.904680Z",
     "start_time": "2023-10-01T12:42:40.902545Z"
    }
   },
   "outputs": [],
   "source": [
    "#!pip install jupyter-dash"
   ]
  },
  {
   "cell_type": "code",
   "execution_count": 174,
   "id": "e2dfeda5",
   "metadata": {
    "ExecuteTime": {
     "end_time": "2023-10-01T16:45:00.168432Z",
     "start_time": "2023-10-01T16:44:59.955298Z"
    },
    "scrolled": false
   },
   "outputs": [
    {
     "data": {
      "text/html": [
       "\n",
       "        <iframe\n",
       "            width=\"100%\"\n",
       "            height=\"650\"\n",
       "            src=\"http://127.0.0.1:8050/\"\n",
       "            frameborder=\"0\"\n",
       "            allowfullscreen\n",
       "            \n",
       "        ></iframe>\n",
       "        "
      ],
      "text/plain": [
       "<IPython.lib.display.IFrame at 0x237a06cb8d0>"
      ]
     },
     "metadata": {},
     "output_type": "display_data"
    }
   ],
   "source": [
    "import dash\n",
    "import dash_core_components as dcc\n",
    "import dash_html_components as html\n",
    "import plotly.express as px\n",
    "import pandas as pd\n",
    "from dash import Dash, dcc, html, Input, Output\n",
    "\n",
    "app = dash.Dash(__name__)\n",
    "\n",
    "fig = px.bar(views.groupby('date')['uid'].nunique().reset_index(), x=\"date\", y = 'uid')\n",
    "\n",
    "app.layout = html.Div([\n",
    "   html.H1('Дашборд'),  # Create a title with H1 tag\n",
    "\n",
    "   html.Div('''\n",
    "       кол-во пользователей по дням\n",
    "   '''),  # Display some text\n",
    "\n",
    "   dcc.Graph(\n",
    "       id='example-graph',\n",
    "       figure=fig\n",
    "   )  # Display the Plotly figure\n",
    "])\n",
    "\n",
    "app.run(debug=True) "
   ]
  },
  {
   "cell_type": "code",
   "execution_count": 180,
   "id": "4e4e959b",
   "metadata": {
    "ExecuteTime": {
     "end_time": "2023-10-01T16:52:39.449836Z",
     "start_time": "2023-10-01T16:52:38.862427Z"
    }
   },
   "outputs": [
    {
     "name": "stdout",
     "output_type": "stream",
     "text": [
      "Dash app running on http://127.0.0.1:8050/\n"
     ]
    }
   ],
   "source": [
    "#app = Dash(__name__)\n",
    "fig = px.bar(views.groupby('date')['uid'].nunique().reset_index(), x=\"date\", y = 'uid')\n",
    "fig2 = px.bar(views.groupby('event')['uid'].nunique().reset_index().sort_values(by='uid', ascending = True), x=\"uid\", y=\"event\", orientation='h')\n",
    "app.layout = html.Div([\n",
    "   html.H1('Дашборд'),\n",
    "   html.Div([\n",
    " #  html.H1('Дашборд'),  # Create a title with H1 tag\n",
    "\n",
    "   html.Div('''\n",
    "       кол-во пользователей по дням\n",
    "   '''),  # Display some text\n",
    "\n",
    "   dcc.Graph(\n",
    "       id='example-graph',\n",
    "       figure=fig\n",
    "   )  # Display the Plotly figure\n",
    "], style={'width': '49%', 'display': 'inline-block'}\n",
    "),\n",
    "html.Div([\n",
    "   # html.H1('Chart 2'),  # Create a title with H1 tag\n",
    "\n",
    "   html.Div('''\n",
    "       Another comment\n",
    "   '''),  # Display some text\n",
    "  dcc.Graph(\n",
    "       id='example-graph',\n",
    "       figure=fig2\n",
    "   ) \n",
    "   #dash.dash_table.DataTable(data = views.groupby('event')['uid'].nunique().reset_index().sort_values(by='uid', ascending = False).to_dict('records'), page_size=10)\n",
    "], style={'width': '49%', 'display': 'inline-block'}\n",
    "),\n",
    "])\n",
    "\n",
    "\n",
    "\n",
    "#app.run() # Run the Dash app\n",
    "app.run(jupyter_mode=\"external\")"
   ]
  },
  {
   "cell_type": "markdown",
   "id": "1b8b9475",
   "metadata": {},
   "source": [
    "https://dash.plotly.com/dash-core-components/"
   ]
  },
  {
   "cell_type": "code",
   "execution_count": 181,
   "id": "a099e647",
   "metadata": {
    "ExecuteTime": {
     "end_time": "2023-10-01T17:02:08.953861Z",
     "start_time": "2023-10-01T17:02:08.794200Z"
    }
   },
   "outputs": [
    {
     "name": "stdout",
     "output_type": "stream",
     "text": [
      "Dash app running on http://127.0.0.1:8050/\n"
     ]
    }
   ],
   "source": [
    "app = Dash(__name__)\n",
    "\n",
    "app.layout = html.Div([\n",
    "   html.H1('Дашборд'),\n",
    "   dcc.Dropdown(\n",
    "        id=\"events-dropdown\",\n",
    "        options=views['event'].unique(),\n",
    "        value=views['event'].unique(),\n",
    "        clearable=True,\n",
    "        multi=True\n",
    "    ),\n",
    "   html.Div([\n",
    "   html.Div('''\n",
    "       кол-во пользователей по дням\n",
    "   '''), \n",
    "\n",
    "   dcc.Graph(\n",
    "       id='date-bar',\n",
    "       figure=px.bar(views.groupby('date')['uid'].nunique().reset_index(), x=\"date\", y = 'uid')\n",
    "   )  \n",
    "]\n",
    "),\n",
    "html.Div([\n",
    "  \n",
    "\n",
    "   html.Div('''\n",
    "       top events\n",
    "   '''),  \n",
    "  dcc.Graph(\n",
    "       id='event-barh'\n",
    "   ) \n",
    "]\n",
    "),\n",
    "])\n",
    "\n",
    "@app.callback(\n",
    "    Output(\"event-barh\", \"figure\"), \n",
    "    Input(\"events-dropdown\", \"value\"))\n",
    "def update_bar_chart(event):\n",
    "    df_tmp = views.groupby('event')['uid'].nunique().reset_index().sort_values(by='uid', ascending = True) # replace with your own data source\n",
    "    mask = df_tmp['event'].isin(event)\n",
    "    fig_tmp = px.bar(df_tmp[mask], x=\"uid\", y=\"event\", orientation='h')\n",
    "    return fig_tmp\n",
    "\n",
    "\n",
    "\n",
    "app.run(jupyter_mode=\"external\") # Run the Dash app"
   ]
  },
  {
   "cell_type": "code",
   "execution_count": 182,
   "id": "bbae31d4",
   "metadata": {
    "ExecuteTime": {
     "end_time": "2023-10-01T17:06:39.970178Z",
     "start_time": "2023-10-01T17:06:39.427335Z"
    }
   },
   "outputs": [
    {
     "name": "stdout",
     "output_type": "stream",
     "text": [
      "Dash app running on http://127.0.0.1:8050/\n"
     ]
    }
   ],
   "source": [
    "app = Dash(__name__)\n",
    "\n",
    "app.layout = html.Div([\n",
    "   html.H1('Дашборд'),\n",
    "   dcc.Dropdown(\n",
    "        id=\"events-dropdown\",\n",
    "        options=views['event'].unique(),\n",
    "        value=views['event'].unique(),\n",
    "        clearable=True,\n",
    "        multi=True\n",
    "    ),\n",
    "    dcc.DatePickerRange(\n",
    "        id='date-picker',\n",
    "        min_date_allowed=views['time_start'].min(),\n",
    "        max_date_allowed=views['time_end'].max(),\n",
    "        initial_visible_month=views['time_start'].min(),\n",
    "        start_date=views['time_start'].min(),\n",
    "        end_date=views['time_end'].max()\n",
    "    ),\n",
    "   html.Div([\n",
    "   html.Div('''\n",
    "       кол-во пользователей по дням\n",
    "   '''), \n",
    "\n",
    "   dcc.Graph(\n",
    "       id='date-bar',\n",
    "       figure=px.bar(views.groupby('date')['uid'].nunique().reset_index(), x=\"date\", y = 'uid')\n",
    "   )  \n",
    "]\n",
    "),\n",
    "html.Div([\n",
    "  \n",
    "\n",
    "   html.Div('''\n",
    "       Посещаемость мероприятий\n",
    "   '''),  \n",
    "  dcc.Graph(\n",
    "       id='event-barh'\n",
    "   ) \n",
    "]\n",
    "),\n",
    "])\n",
    "\n",
    "@app.callback(\n",
    "    Output(\"event-barh\", \"figure\"), [\n",
    "    Input(\"events-dropdown\", \"value\"),\n",
    "    Input(\"date-picker\", \"start_date\"),\n",
    "    Input(\"date-picker\", \"end_date\")]\n",
    ")\n",
    "def update_bar_chart(event,start_date, end_date):\n",
    "    df_tmp = views # replace with your own data source\n",
    "    mask = (df_tmp['event'].isin(event)) & (df_tmp['time_start'] >= start_date) & (df_tmp['time_end']<=end_date)\n",
    "    fig_tmp = px.bar(df_tmp[mask].groupby('event')['uid'].nunique().reset_index().sort_values(by='uid', ascending = True), x=\"uid\", y=\"event\", orientation='h')\n",
    "    return fig_tmp\n",
    "\n",
    "\n",
    "\n",
    "app.run(jupyter_mode=\"external\") # Run the Dash app"
   ]
  },
  {
   "cell_type": "code",
   "execution_count": 183,
   "id": "66a726a1",
   "metadata": {
    "ExecuteTime": {
     "end_time": "2023-10-01T17:09:01.933429Z",
     "start_time": "2023-10-01T17:09:01.380669Z"
    }
   },
   "outputs": [
    {
     "name": "stdout",
     "output_type": "stream",
     "text": [
      "Dash app running on http://127.0.0.1:8050/\n"
     ]
    }
   ],
   "source": [
    "app = Dash(__name__)\n",
    "\n",
    "app.layout = html.Div([\n",
    "   html.H1('Дашборд'),\n",
    "   dcc.Dropdown(\n",
    "        id=\"events-dropdown\",\n",
    "        options=views['event'].unique(),\n",
    "        value=views['event'].unique(),\n",
    "        clearable=True,\n",
    "        multi=True\n",
    "    ),\n",
    "    dcc.DatePickerRange(\n",
    "        id='date-picker',\n",
    "        min_date_allowed=views['time_start'].min(),\n",
    "        max_date_allowed=views['time_end'].max(),\n",
    "        initial_visible_month=views['time_start'].min(),\n",
    "        start_date=views['time_start'].min(),\n",
    "        end_date=views['time_end'].max()\n",
    "    ),\n",
    "   html.Div([\n",
    "   html.Div('''\n",
    "       кол-во пользователей по дням\n",
    "   '''), \n",
    "\n",
    "   dcc.Graph(\n",
    "       id='date-bar',\n",
    "       figure=px.bar(views.groupby('date')['uid'].nunique().reset_index(), x=\"date\", y = 'uid')\n",
    "   )  \n",
    "]\n",
    "),\n",
    "html.Div([\n",
    "  \n",
    "\n",
    "   html.Div('''\n",
    "       top events\n",
    "   '''),  \n",
    "  dcc.Graph(\n",
    "       id='event-barh'\n",
    "   ) \n",
    "]\n",
    "),\n",
    "])\n",
    "\n",
    "@app.callback(\n",
    "    Output(\"event-barh\", \"figure\"), [\n",
    "    Input(\"events-dropdown\", \"value\"),\n",
    "    Input(\"date-picker\", \"start_date\"),\n",
    "    Input(\"date-picker\", \"end_date\")]\n",
    ")\n",
    "def update_bar_chart(event,start_date, end_date):\n",
    "    df_tmp = views # replace with your own data source\n",
    "    mask = (df_tmp['event'].isin(event)) & (df_tmp['time_start'] >= start_date) & (df_tmp['time_end']<=end_date)\n",
    "    fig_tmp = px.bar(df_tmp[mask].groupby('event')['uid'].nunique().reset_index().sort_values(by='uid', ascending = True), x=\"uid\", y=\"event\", orientation='h')\n",
    "    return fig_tmp\n",
    "\n",
    "@app.callback(\n",
    "    Output(\"date-bar\", \"figure\"), [\n",
    "    Input(\"events-dropdown\", \"value\"),\n",
    "    Input(\"date-picker\", \"start_date\"),\n",
    "    Input(\"date-picker\", \"end_date\")]\n",
    ")\n",
    "def update_date_bar_chart(event,start_date, end_date):\n",
    "    df_tmp = views # replace with your own data source\n",
    "    mask = (df_tmp['event'].isin(event)) & (df_tmp['time_start'] >= start_date) & (df_tmp['time_end']<=end_date)\n",
    "    fig_tmp = px.bar(df_tmp[mask].groupby('date')['uid'].nunique().reset_index(), x=\"date\", y=\"uid\")\n",
    "    return fig_tmp\n",
    "\n",
    "\n",
    "app.run(jupyter_mode=\"external\") # Run the Dash app"
   ]
  },
  {
   "cell_type": "code",
   "execution_count": 185,
   "id": "20473bcd",
   "metadata": {
    "ExecuteTime": {
     "end_time": "2023-10-01T17:11:16.934460Z",
     "start_time": "2023-10-01T17:11:16.497855Z"
    }
   },
   "outputs": [
    {
     "name": "stdout",
     "output_type": "stream",
     "text": [
      "Dash app running on http://127.0.0.1:8050/\n"
     ]
    }
   ],
   "source": [
    "app = Dash(__name__)\n",
    "\n",
    "app.layout = html.Div([\n",
    "   html.H1('Дашборд'),\n",
    "   html.Br(),\n",
    "   html.H3('''\n",
    "       Комментарий о том, как это работает\n",
    "   '''), \n",
    "   html.Br(),\n",
    "   html.H3('''\n",
    "       Выбор мероприятия\n",
    "   '''),\n",
    "   html.Div(\n",
    "   dcc.Dropdown(\n",
    "        id=\"events-dropdown\",\n",
    "        options=views['event'].unique(),\n",
    "        value=views['event'].unique(),\n",
    "        clearable=True,\n",
    "        multi=True\n",
    "    ), style={'width': '49%', 'display': 'flex'}),\n",
    "    html.Br(),\n",
    "    html.H3('''\n",
    "       Выбор дат\n",
    "   '''),\n",
    "    html.Div(\n",
    "    dcc.DatePickerRange(\n",
    "        id='date-picker',\n",
    "        min_date_allowed=views['time_start'].min(),\n",
    "        max_date_allowed=views['time_end'].max(),\n",
    "        initial_visible_month=views['time_start'].min(),\n",
    "        start_date=views['time_start'].min(),\n",
    "        end_date=views['time_end'].max()\n",
    "    ), style={'width': '49%', 'display':  'flex'}),\n",
    "   html.Div([\n",
    "   dcc.Graph(\n",
    "       id='date-bar',\n",
    "       figure=px.bar(views.groupby('date')['uid'].nunique().reset_index(), x=\"date\", y = 'uid')\n",
    "   )  \n",
    "]\n",
    "),\n",
    "html.Div([\n",
    "  \n",
    "\n",
    "  dcc.Graph(\n",
    "       id='event-barh',\n",
    "       figure=px.bar(views.groupby('event')['uid'].nunique().reset_index().sort_values(by='uid', ascending = True), x=\"uid\", y=\"event\", orientation='h', title = 'Топ мероприятий')\n",
    "   ) \n",
    "]\n",
    "),\n",
    "])\n",
    "\n",
    "@app.callback(\n",
    "    Output(\"event-barh\", \"figure\"), [\n",
    "    Input(\"events-dropdown\", \"value\"),\n",
    "    Input(\"date-picker\", \"start_date\"),\n",
    "    Input(\"date-picker\", \"end_date\")]\n",
    ")\n",
    "def update_bar_chart(event,start_date, end_date):\n",
    "    df_tmp = views # replace with your own data source\n",
    "    mask = (df_tmp['event'].isin(event)) & (df_tmp['time_start'] >= start_date) & (df_tmp['time_end']<=end_date)\n",
    "    fig_tmp = px.bar(df_tmp[mask].groupby('event')['uid'].nunique().reset_index().sort_values(by='uid', ascending = True), x=\"uid\", y=\"event\", orientation='h', title = 'Топ мероприятий')\n",
    "    return fig_tmp\n",
    "\n",
    "@app.callback(\n",
    "    Output(\"date-bar\", \"figure\"), [\n",
    "    Input(\"events-dropdown\", \"value\"),\n",
    "    Input(\"date-picker\", \"start_date\"),\n",
    "    Input(\"date-picker\", \"end_date\")]\n",
    ")\n",
    "def update_date_bar_chart(event,start_date, end_date):\n",
    "    df_tmp = views # replace with your own data source\n",
    "    mask = (df_tmp['event'].isin(event)) & (df_tmp['time_start'] >= start_date) & (df_tmp['time_end']<=end_date)\n",
    "    fig_tmp = px.bar(df_tmp[mask].groupby('date')['uid'].nunique().reset_index(), x=\"date\", y=\"uid\", title = 'Участники по дням')\n",
    "    return fig_tmp\n",
    "\n",
    "\n",
    "app.run(jupyter_mode=\"external\") # Run the Dash app"
   ]
  },
  {
   "cell_type": "code",
   "execution_count": 186,
   "id": "7f3de3a9",
   "metadata": {
    "ExecuteTime": {
     "end_time": "2023-10-01T17:12:18.482916Z",
     "start_time": "2023-10-01T17:12:18.131144Z"
    }
   },
   "outputs": [
    {
     "name": "stdout",
     "output_type": "stream",
     "text": [
      "Dash app running on http://127.0.0.1:8050/\n"
     ]
    }
   ],
   "source": [
    "app = Dash(__name__)\n",
    "\n",
    "colors = {\n",
    "    'background': '#FFF5E0',\n",
    "    'text': '#141E46',\n",
    "    'header': '#C70039'\n",
    "}\n",
    "\n",
    "app.layout = html.Div([\n",
    "   html.H1('Дашборд',\n",
    "        style={\n",
    "            'textAlign': 'center',\n",
    "            'color': colors['header'],\n",
    "            'font-family' : 'Arial'\n",
    "        } ),\n",
    "   html.Br(),\n",
    "   html.H3('''\n",
    "       Комментарий о том, как это работает\n",
    "   ''', style={\n",
    "            'textAlign': 'left',\n",
    "            'color': colors['text']\n",
    "        } ), \n",
    "   html.Br(),\n",
    "   html.Div(\n",
    "   dcc.Dropdown(\n",
    "        id=\"events-dropdown\",\n",
    "        options=views['event'].unique(),\n",
    "        value=views['event'].unique(),\n",
    "        clearable=True,\n",
    "        multi=True\n",
    "    ), style={'width': '49%', 'display': 'flex'}),\n",
    "    html.Br(),\n",
    "    html.Div(\n",
    "    dcc.DatePickerRange(\n",
    "        id='date-picker',\n",
    "        min_date_allowed=views['time_start'].min(),\n",
    "        max_date_allowed=views['time_end'].max(),\n",
    "        initial_visible_month=views['time_start'].min(),\n",
    "        start_date=views['time_start'].min(),\n",
    "        end_date=views['time_end'].max()\n",
    "    ), style={'width': '49%', 'display':  'flex'}),\n",
    "   html.Div([\n",
    "   dcc.Graph(\n",
    "       id='date-bar',\n",
    "       figure=px.bar(views.groupby('date')['uid'].nunique().reset_index(), x=\"date\", y = 'uid')\n",
    "   )  \n",
    "]\n",
    "),\n",
    "html.Div([\n",
    "  \n",
    "\n",
    "  dcc.Graph(\n",
    "       id='event-barh',\n",
    "       figure=px.bar(views.groupby('event')['uid'].nunique().reset_index().sort_values(by='uid', ascending = True), x=\"uid\", y=\"event\", orientation='h', title = 'Топ мероприятий')\n",
    "   ) \n",
    "]\n",
    "),\n",
    "])\n",
    "\n",
    "@app.callback(\n",
    "    Output(\"event-barh\", \"figure\"), [\n",
    "    Input(\"events-dropdown\", \"value\"),\n",
    "    Input(\"date-picker\", \"start_date\"),\n",
    "    Input(\"date-picker\", \"end_date\")]\n",
    ")\n",
    "def update_bar_chart(event,start_date, end_date):\n",
    "    df_tmp = views # replace with your own data source\n",
    "    mask = (df_tmp['event'].isin(event)) & (df_tmp['time_start'] >= start_date) & (df_tmp['time_end']<=end_date)\n",
    "    fig_tmp = px.bar(df_tmp[mask].groupby('event')['uid'].nunique().reset_index().sort_values(by='uid', ascending = True), x=\"uid\", y=\"event\", orientation='h', title = 'Топ мероприятий')\n",
    "    return fig_tmp\n",
    "\n",
    "@app.callback(\n",
    "    Output(\"date-bar\", \"figure\"), [\n",
    "    Input(\"events-dropdown\", \"value\"),\n",
    "    Input(\"date-picker\", \"start_date\"),\n",
    "    Input(\"date-picker\", \"end_date\")]\n",
    ")\n",
    "def update_date_bar_chart(event,start_date, end_date):\n",
    "    df_tmp = views # replace with your own data source\n",
    "    mask = (df_tmp['event'].isin(event)) & (df_tmp['time_start'] >= start_date) & (df_tmp['time_end']<=end_date)\n",
    "    fig_tmp = px.bar(df_tmp[mask].groupby('date')['uid'].nunique().reset_index(), x=\"date\", y=\"uid\", title = 'Участники по дням')\n",
    "    return fig_tmp\n",
    "\n",
    "\n",
    "app.run(jupyter_mode=\"external\") # Run the Dash app"
   ]
  }
 ],
 "metadata": {
  "kernelspec": {
   "display_name": "Python 3",
   "language": "python",
   "name": "python3"
  },
  "language_info": {
   "codemirror_mode": {
    "name": "ipython",
    "version": 3
   },
   "file_extension": ".py",
   "mimetype": "text/x-python",
   "name": "python",
   "nbconvert_exporter": "python",
   "pygments_lexer": "ipython3",
   "version": "3.11.4"
  },
  "toc": {
   "base_numbering": 1,
   "nav_menu": {},
   "number_sections": true,
   "sideBar": true,
   "skip_h1_title": false,
   "title_cell": "Table of Contents",
   "title_sidebar": "Contents",
   "toc_cell": false,
   "toc_position": {},
   "toc_section_display": true,
   "toc_window_display": false
  }
 },
 "nbformat": 4,
 "nbformat_minor": 5
}
