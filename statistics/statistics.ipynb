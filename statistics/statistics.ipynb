{
 "cells": [
  {
   "cell_type": "markdown",
   "id": "1c487eed",
   "metadata": {},
   "source": [
    "# GoFast\n",
    "\n",
    "В нашем распоряжении данные о некоторых пользователях из нескольких городов, а также об их поездках. В нашем распоряжении данные о пользователях: их уникальные id, имена, возраст, город и тип подписки; об их поездках: снова id, пройденное расстояние, длительность и дата поездки; а также о подписках: тип подписки, стоимость одной минуты, стоимость начала поездки и ежемесячный платеж.\n",
    "\n",
    "Нам нужно определить поведение пользователей с подпиской и без: кто приносит больший доход, как часто они пользуются услугами сервиса, нужно ли проводить акцию с промокодами на 1 бесплатный месяц подписки и т.д.\n",
    "\n",
    "**Цели исследования** - проверить три гипотезы:\n",
    "\n",
    "- Пользователи с подпиской тратят на поездки больше времени\n",
    "- Расстояние, которое проезжают пользователи с подпиской за одну поездку, меньше 3130 метров\n",
    "- Выручка от пользователей с подпиской выше, чем выручка от пользователей без подписки\n",
    "\n",
    "**Ход исследования:**\n",
    "\n",
    "1. Обзор данных\n",
    "2. Предобработка данных\n",
    "3. Исследовательский анализ\n",
    "4. Объедининение датафреймов для дальнейшего удобства\n",
    "5. Подсчет ежемесячной выручки с каждого пользователя\n",
    "6. Проверка выше описанных гипотез\n",
    "7. Построение распределений и формулировка выводов\n",
    "8. Общий вывод"
   ]
  },
  {
   "cell_type": "code",
   "execution_count": 1,
   "id": "72576667",
   "metadata": {},
   "outputs": [],
   "source": [
    "# Импортируем нужные нам библиотеки и функции из них\n",
    "\n",
    "import pandas as pd\n",
    "import matplotlib.pyplot as plt\n",
    "from scipy import stats as st\n",
    "from math import factorial, sqrt"
   ]
  },
  {
   "cell_type": "markdown",
   "id": "c42cbe00",
   "metadata": {},
   "source": [
    "## Загрузка данных"
   ]
  },
  {
   "cell_type": "code",
   "execution_count": 2,
   "id": "eff9f206",
   "metadata": {
    "scrolled": false
   },
   "outputs": [
    {
     "name": "stdout",
     "output_type": "stream",
     "text": [
      "<class 'pandas.core.frame.DataFrame'>\n",
      "RangeIndex: 1565 entries, 0 to 1564\n",
      "Data columns (total 5 columns):\n",
      " #   Column             Non-Null Count  Dtype \n",
      "---  ------             --------------  ----- \n",
      " 0   user_id            1565 non-null   int64 \n",
      " 1   name               1565 non-null   object\n",
      " 2   age                1565 non-null   int64 \n",
      " 3   city               1565 non-null   object\n",
      " 4   subscription_type  1565 non-null   object\n",
      "dtypes: int64(2), object(3)\n",
      "memory usage: 61.3+ KB\n"
     ]
    },
    {
     "data": {
      "text/html": [
       "<div>\n",
       "<style scoped>\n",
       "    .dataframe tbody tr th:only-of-type {\n",
       "        vertical-align: middle;\n",
       "    }\n",
       "\n",
       "    .dataframe tbody tr th {\n",
       "        vertical-align: top;\n",
       "    }\n",
       "\n",
       "    .dataframe thead th {\n",
       "        text-align: right;\n",
       "    }\n",
       "</style>\n",
       "<table border=\"1\" class=\"dataframe\">\n",
       "  <thead>\n",
       "    <tr style=\"text-align: right;\">\n",
       "      <th></th>\n",
       "      <th>user_id</th>\n",
       "      <th>name</th>\n",
       "      <th>age</th>\n",
       "      <th>city</th>\n",
       "      <th>subscription_type</th>\n",
       "    </tr>\n",
       "  </thead>\n",
       "  <tbody>\n",
       "    <tr>\n",
       "      <th>0</th>\n",
       "      <td>1</td>\n",
       "      <td>Кира</td>\n",
       "      <td>22</td>\n",
       "      <td>Тюмень</td>\n",
       "      <td>ultra</td>\n",
       "    </tr>\n",
       "    <tr>\n",
       "      <th>1</th>\n",
       "      <td>2</td>\n",
       "      <td>Станислав</td>\n",
       "      <td>31</td>\n",
       "      <td>Омск</td>\n",
       "      <td>ultra</td>\n",
       "    </tr>\n",
       "    <tr>\n",
       "      <th>2</th>\n",
       "      <td>3</td>\n",
       "      <td>Алексей</td>\n",
       "      <td>20</td>\n",
       "      <td>Москва</td>\n",
       "      <td>ultra</td>\n",
       "    </tr>\n",
       "    <tr>\n",
       "      <th>3</th>\n",
       "      <td>4</td>\n",
       "      <td>Константин</td>\n",
       "      <td>26</td>\n",
       "      <td>Ростов-на-Дону</td>\n",
       "      <td>ultra</td>\n",
       "    </tr>\n",
       "    <tr>\n",
       "      <th>4</th>\n",
       "      <td>5</td>\n",
       "      <td>Адель</td>\n",
       "      <td>28</td>\n",
       "      <td>Омск</td>\n",
       "      <td>ultra</td>\n",
       "    </tr>\n",
       "  </tbody>\n",
       "</table>\n",
       "</div>"
      ],
      "text/plain": [
       "   user_id        name  age            city subscription_type\n",
       "0        1        Кира   22          Тюмень             ultra\n",
       "1        2   Станислав   31            Омск             ultra\n",
       "2        3     Алексей   20          Москва             ultra\n",
       "3        4  Константин   26  Ростов-на-Дону             ultra\n",
       "4        5       Адель   28            Омск             ultra"
      ]
     },
     "execution_count": 2,
     "metadata": {},
     "output_type": "execute_result"
    }
   ],
   "source": [
    "# Читаем файлы и выводим общую информацию о каждом из них\n",
    "\n",
    "users = pd.read_csv('/datasets/users_go.csv')\n",
    "rides = pd.read_csv('/datasets/rides_go.csv')\n",
    "subs = pd.read_csv('/datasets/subscriptions_go.csv')\n",
    "\n",
    "users.info()\n",
    "users.head()"
   ]
  },
  {
   "cell_type": "markdown",
   "id": "600ea97b",
   "metadata": {},
   "source": [
    "В таблице с пользователями 1565 строк, пропуски отсутствуют, названия столбцов соответствуют общепринятым стандартам, но в столбце с именами скорее всего есть неявные дубликаты, нужно будет это проверить на этапе предобработки."
   ]
  },
  {
   "cell_type": "code",
   "execution_count": 3,
   "id": "84aa0962",
   "metadata": {},
   "outputs": [
    {
     "name": "stdout",
     "output_type": "stream",
     "text": [
      "<class 'pandas.core.frame.DataFrame'>\n",
      "RangeIndex: 18068 entries, 0 to 18067\n",
      "Data columns (total 4 columns):\n",
      " #   Column    Non-Null Count  Dtype  \n",
      "---  ------    --------------  -----  \n",
      " 0   user_id   18068 non-null  int64  \n",
      " 1   distance  18068 non-null  float64\n",
      " 2   duration  18068 non-null  float64\n",
      " 3   date      18068 non-null  object \n",
      "dtypes: float64(2), int64(1), object(1)\n",
      "memory usage: 564.8+ KB\n"
     ]
    },
    {
     "data": {
      "text/html": [
       "<div>\n",
       "<style scoped>\n",
       "    .dataframe tbody tr th:only-of-type {\n",
       "        vertical-align: middle;\n",
       "    }\n",
       "\n",
       "    .dataframe tbody tr th {\n",
       "        vertical-align: top;\n",
       "    }\n",
       "\n",
       "    .dataframe thead th {\n",
       "        text-align: right;\n",
       "    }\n",
       "</style>\n",
       "<table border=\"1\" class=\"dataframe\">\n",
       "  <thead>\n",
       "    <tr style=\"text-align: right;\">\n",
       "      <th></th>\n",
       "      <th>user_id</th>\n",
       "      <th>distance</th>\n",
       "      <th>duration</th>\n",
       "      <th>date</th>\n",
       "    </tr>\n",
       "  </thead>\n",
       "  <tbody>\n",
       "    <tr>\n",
       "      <th>0</th>\n",
       "      <td>1</td>\n",
       "      <td>4409.919140</td>\n",
       "      <td>25.599769</td>\n",
       "      <td>2021-01-01</td>\n",
       "    </tr>\n",
       "    <tr>\n",
       "      <th>1</th>\n",
       "      <td>1</td>\n",
       "      <td>2617.592153</td>\n",
       "      <td>15.816871</td>\n",
       "      <td>2021-01-18</td>\n",
       "    </tr>\n",
       "    <tr>\n",
       "      <th>2</th>\n",
       "      <td>1</td>\n",
       "      <td>754.159807</td>\n",
       "      <td>6.232113</td>\n",
       "      <td>2021-04-20</td>\n",
       "    </tr>\n",
       "    <tr>\n",
       "      <th>3</th>\n",
       "      <td>1</td>\n",
       "      <td>2694.783254</td>\n",
       "      <td>18.511000</td>\n",
       "      <td>2021-08-11</td>\n",
       "    </tr>\n",
       "    <tr>\n",
       "      <th>4</th>\n",
       "      <td>1</td>\n",
       "      <td>4028.687306</td>\n",
       "      <td>26.265803</td>\n",
       "      <td>2021-08-28</td>\n",
       "    </tr>\n",
       "  </tbody>\n",
       "</table>\n",
       "</div>"
      ],
      "text/plain": [
       "   user_id     distance   duration        date\n",
       "0        1  4409.919140  25.599769  2021-01-01\n",
       "1        1  2617.592153  15.816871  2021-01-18\n",
       "2        1   754.159807   6.232113  2021-04-20\n",
       "3        1  2694.783254  18.511000  2021-08-11\n",
       "4        1  4028.687306  26.265803  2021-08-28"
      ]
     },
     "execution_count": 3,
     "metadata": {},
     "output_type": "execute_result"
    }
   ],
   "source": [
    "rides.info()\n",
    "rides.head()"
   ]
  },
  {
   "cell_type": "markdown",
   "id": "76941be3",
   "metadata": {},
   "source": [
    "В таблице с поездками 18068 строк, пропуски также отсутствуют,  названия столбцов соответствуют общепринятым стандартам. В столбце с датой нужно поменять тип данных на datetime."
   ]
  },
  {
   "cell_type": "code",
   "execution_count": 4,
   "id": "04327798",
   "metadata": {},
   "outputs": [
    {
     "name": "stdout",
     "output_type": "stream",
     "text": [
      "<class 'pandas.core.frame.DataFrame'>\n",
      "RangeIndex: 2 entries, 0 to 1\n",
      "Data columns (total 4 columns):\n",
      " #   Column             Non-Null Count  Dtype \n",
      "---  ------             --------------  ----- \n",
      " 0   subscription_type  2 non-null      object\n",
      " 1   minute_price       2 non-null      int64 \n",
      " 2   start_ride_price   2 non-null      int64 \n",
      " 3   subscription_fee   2 non-null      int64 \n",
      "dtypes: int64(3), object(1)\n",
      "memory usage: 192.0+ bytes\n"
     ]
    },
    {
     "data": {
      "text/html": [
       "<div>\n",
       "<style scoped>\n",
       "    .dataframe tbody tr th:only-of-type {\n",
       "        vertical-align: middle;\n",
       "    }\n",
       "\n",
       "    .dataframe tbody tr th {\n",
       "        vertical-align: top;\n",
       "    }\n",
       "\n",
       "    .dataframe thead th {\n",
       "        text-align: right;\n",
       "    }\n",
       "</style>\n",
       "<table border=\"1\" class=\"dataframe\">\n",
       "  <thead>\n",
       "    <tr style=\"text-align: right;\">\n",
       "      <th></th>\n",
       "      <th>subscription_type</th>\n",
       "      <th>minute_price</th>\n",
       "      <th>start_ride_price</th>\n",
       "      <th>subscription_fee</th>\n",
       "    </tr>\n",
       "  </thead>\n",
       "  <tbody>\n",
       "    <tr>\n",
       "      <th>0</th>\n",
       "      <td>free</td>\n",
       "      <td>8</td>\n",
       "      <td>50</td>\n",
       "      <td>0</td>\n",
       "    </tr>\n",
       "    <tr>\n",
       "      <th>1</th>\n",
       "      <td>ultra</td>\n",
       "      <td>6</td>\n",
       "      <td>0</td>\n",
       "      <td>199</td>\n",
       "    </tr>\n",
       "  </tbody>\n",
       "</table>\n",
       "</div>"
      ],
      "text/plain": [
       "  subscription_type  minute_price  start_ride_price  subscription_fee\n",
       "0              free             8                50                 0\n",
       "1             ultra             6                 0               199"
      ]
     },
     "execution_count": 4,
     "metadata": {},
     "output_type": "execute_result"
    }
   ],
   "source": [
    "subs.info()\n",
    "subs.head()"
   ]
  },
  {
   "cell_type": "markdown",
   "id": "e90a61f4",
   "metadata": {},
   "source": [
    "В таблице с подписками всего 2 строки, здесь все в порядке."
   ]
  },
  {
   "cell_type": "markdown",
   "id": "42f0567b",
   "metadata": {},
   "source": [
    "### Промежуточный вывод по общей информации\n",
    "\n",
    "Были получены таблицы с информацией о пользователях, их поездках и о подписке. Пропусков не обнаружено. Названия столбцов соответствуют общепринятым стандартам."
   ]
  },
  {
   "cell_type": "markdown",
   "id": "e95ebca7",
   "metadata": {},
   "source": [
    "## Предобработка данных"
   ]
  },
  {
   "cell_type": "markdown",
   "id": "b15aabdf",
   "metadata": {},
   "source": [
    "Для начала проверим столбец с именами на неявные дубликаты."
   ]
  },
  {
   "cell_type": "code",
   "execution_count": 5,
   "id": "af6d202c",
   "metadata": {},
   "outputs": [
    {
     "name": "stdout",
     "output_type": "stream",
     "text": [
      "['Агата' 'Аделина' 'Адель' 'Айдар' 'Александр' 'Александра' 'Алексей'\n",
      " 'Алина' 'Алиса' 'Алия' 'Алла' 'Альберт' 'Альбина' 'Алёна' 'Амалия'\n",
      " 'Амина' 'Амир' 'Анастасия' 'Анатолий' 'Ангелина' 'Андрей' 'Анжелика'\n",
      " 'Анна' 'Антон' 'Антонина' 'Ариана' 'Арина' 'Арсен' 'Арсений' 'Артемий'\n",
      " 'Артур' 'Артём' 'Богдан' 'Борис' 'Вадим' 'Валентина' 'Валерий' 'Валерия'\n",
      " 'Варвара' 'Василий' 'Василина' 'Василиса' 'Вера' 'Вероника' 'Виктор'\n",
      " 'Виктория' 'Виолетта' 'Виталий' 'Виталина' 'Влада' 'Владимир' 'Владислав'\n",
      " 'Владислава' 'Всеволод' 'Вячеслав' 'Галина' 'Георгий' 'Герман' 'Глеб'\n",
      " 'Гордей' 'Григорий' 'Давид' 'Дамир' 'Даниил' 'Данил' 'Данила' 'Даниэль'\n",
      " 'Дарина' 'Дарья' 'Демид' 'Денис' 'Диана' 'Дмитрий' 'Ева' 'Евгений'\n",
      " 'Евгения' 'Егор' 'Екатерина' 'Елена' 'Елизавета' 'Елисей' 'Есения'\n",
      " 'Жанна' 'Зарина' 'Захар' 'Злата' 'Иван' 'Игнат' 'Игорь' 'Ильдар' 'Илья'\n",
      " 'Инна' 'Ирина' 'Камилла' 'Карина' 'Каролина' 'Кира' 'Кирилл' 'Константин'\n",
      " 'Кристина' 'Ксения' 'Лариса' 'Лев' 'Леонид' 'Лиана' 'Лидия' 'Лилия'\n",
      " 'Любовь' 'Людмила' 'Мадина' 'Майя' 'Макар' 'Максим' 'Марат' 'Маргарита'\n",
      " 'Марина' 'Мария' 'Марк' 'Марсель' 'Матвей' 'Мелания' 'Милана' 'Милена'\n",
      " 'Мирон' 'Мирослав' 'Мирослава' 'Михаил' 'Назар' 'Наталия' 'Нелли' 'Ника'\n",
      " 'Никита' 'Николай' 'Нина' 'Одиссей' 'Оксана' 'Олег' 'Олеся' 'Ольга'\n",
      " 'Павел' 'Петр' 'Платон' 'Полина' 'Радмир' 'Рамиль' 'Регина' 'Роберт'\n",
      " 'Родион' 'Роман' 'Ростислав' 'Руслан' 'Рустам' 'Савелий' 'Самир' 'Самира'\n",
      " 'Светлана' 'Святогор' 'Святослав' 'Семен' 'Сергей' 'Снежана' 'София'\n",
      " 'Софья' 'Станислав' 'Степан' 'Стефания' 'Таисия' 'Тамара' 'Тамерлан'\n",
      " 'Татьяна' 'Тимофей' 'Тимур' 'Тихон' 'Ульяна' 'Федор' 'Эвелина' 'Эдуард'\n",
      " 'Элина' 'Эльвира' 'Эльмира' 'Эмилия' 'Эмиль' 'Юлиана' 'Юлия' 'Юрий' 'Ян'\n",
      " 'Яна' 'Яромир' 'Ярослав' 'Ярослава' 'Ясмина']\n"
     ]
    }
   ],
   "source": [
    "# Выводим список уникальных имен и ищем неявные дубликаты, затем устраняем их\n",
    "\n",
    "# print(users['name'].sort_values().unique())\n",
    "users['name'] = users['name'].replace({'Влад': 'Владислав', 'Наталья': 'Наталия', 'Наташа': 'Наталия'})\n",
    "print(users['name'].sort_values().unique())"
   ]
  },
  {
   "cell_type": "markdown",
   "id": "7d22ca02",
   "metadata": {},
   "source": [
    "Неявные дубликаты устранены, но практического смысла в этом нет, так как столбец с этими данными нам не понадобится."
   ]
  },
  {
   "cell_type": "markdown",
   "id": "7553d495",
   "metadata": {},
   "source": [
    "Теперь проверим таблицы на явные дубликаты"
   ]
  },
  {
   "cell_type": "code",
   "execution_count": 6,
   "id": "33b19fdf",
   "metadata": {},
   "outputs": [
    {
     "name": "stdout",
     "output_type": "stream",
     "text": [
      "Количество явных дубликатов  в таблице с пользователями: 31\n",
      "Количество явных дубликатов  в таблице с поездками: 0\n"
     ]
    }
   ],
   "source": [
    "print('Количество явных дубликатов  в таблице с пользователями:', users.duplicated().sum())\n",
    "print('Количество явных дубликатов  в таблице с поездками:', rides.duplicated().sum())"
   ]
  },
  {
   "cell_type": "markdown",
   "id": "14da5fa1",
   "metadata": {},
   "source": [
    "Обнаружено 31 явных дубликатов в таблице с пользователями, устраним их."
   ]
  },
  {
   "cell_type": "code",
   "execution_count": 7,
   "id": "377e9ce3",
   "metadata": {},
   "outputs": [],
   "source": [
    "users = users.drop_duplicates()\n",
    "\n",
    "# users.info() Проверим, были ли удалены явные дубликаты"
   ]
  },
  {
   "cell_type": "markdown",
   "id": "c8f5e239",
   "metadata": {},
   "source": [
    "Теперь изменим тип данных в столбце с датой в таблице с поездками и тут же создадим новый столбец с номером месяца."
   ]
  },
  {
   "cell_type": "code",
   "execution_count": 8,
   "id": "aa5543ad",
   "metadata": {},
   "outputs": [
    {
     "data": {
      "text/html": [
       "<div>\n",
       "<style scoped>\n",
       "    .dataframe tbody tr th:only-of-type {\n",
       "        vertical-align: middle;\n",
       "    }\n",
       "\n",
       "    .dataframe tbody tr th {\n",
       "        vertical-align: top;\n",
       "    }\n",
       "\n",
       "    .dataframe thead th {\n",
       "        text-align: right;\n",
       "    }\n",
       "</style>\n",
       "<table border=\"1\" class=\"dataframe\">\n",
       "  <thead>\n",
       "    <tr style=\"text-align: right;\">\n",
       "      <th></th>\n",
       "      <th>user_id</th>\n",
       "      <th>distance</th>\n",
       "      <th>duration</th>\n",
       "      <th>date</th>\n",
       "      <th>month</th>\n",
       "    </tr>\n",
       "  </thead>\n",
       "  <tbody>\n",
       "    <tr>\n",
       "      <th>0</th>\n",
       "      <td>1</td>\n",
       "      <td>4409.919140</td>\n",
       "      <td>25.599769</td>\n",
       "      <td>2021-01-01</td>\n",
       "      <td>1</td>\n",
       "    </tr>\n",
       "    <tr>\n",
       "      <th>1</th>\n",
       "      <td>1</td>\n",
       "      <td>2617.592153</td>\n",
       "      <td>15.816871</td>\n",
       "      <td>2021-01-18</td>\n",
       "      <td>1</td>\n",
       "    </tr>\n",
       "    <tr>\n",
       "      <th>2</th>\n",
       "      <td>1</td>\n",
       "      <td>754.159807</td>\n",
       "      <td>6.232113</td>\n",
       "      <td>2021-04-20</td>\n",
       "      <td>4</td>\n",
       "    </tr>\n",
       "    <tr>\n",
       "      <th>3</th>\n",
       "      <td>1</td>\n",
       "      <td>2694.783254</td>\n",
       "      <td>18.511000</td>\n",
       "      <td>2021-08-11</td>\n",
       "      <td>8</td>\n",
       "    </tr>\n",
       "    <tr>\n",
       "      <th>4</th>\n",
       "      <td>1</td>\n",
       "      <td>4028.687306</td>\n",
       "      <td>26.265803</td>\n",
       "      <td>2021-08-28</td>\n",
       "      <td>8</td>\n",
       "    </tr>\n",
       "  </tbody>\n",
       "</table>\n",
       "</div>"
      ],
      "text/plain": [
       "   user_id     distance   duration       date  month\n",
       "0        1  4409.919140  25.599769 2021-01-01      1\n",
       "1        1  2617.592153  15.816871 2021-01-18      1\n",
       "2        1   754.159807   6.232113 2021-04-20      4\n",
       "3        1  2694.783254  18.511000 2021-08-11      8\n",
       "4        1  4028.687306  26.265803 2021-08-28      8"
      ]
     },
     "execution_count": 8,
     "metadata": {},
     "output_type": "execute_result"
    }
   ],
   "source": [
    "# Изменяем типы данных\n",
    "\n",
    "rides['date'] = pd.to_datetime(rides['date'], format='%Y-%m-%d')\n",
    "rides['month'] = pd.DatetimeIndex(rides['date']).month\n",
    "\n",
    "# rides['year'] = pd.DatetimeIndex(rides['date']).year\n",
    "# print(rides['year'].unique())\n",
    "\n",
    "# rides.info() Проверим, как изменился тип данных\n",
    "\n",
    "rides.head() "
   ]
  },
  {
   "cell_type": "markdown",
   "id": "782d5985",
   "metadata": {},
   "source": [
    "Теперь проверим данные на наличие аномальных значений."
   ]
  },
  {
   "cell_type": "code",
   "execution_count": 9,
   "id": "17e3a3ad",
   "metadata": {},
   "outputs": [
    {
     "data": {
      "image/png": "[encoded data removed]",
      "text/plain": [
       "<Figure size 432x288 with 1 Axes>"
      ]
     },
     "metadata": {
      "needs_background": "light"
     },
     "output_type": "display_data"
    },
    {
     "data": {
      "image/png": "[encoded data removed]",
      "text/plain": [
       "<Figure size 432x288 with 1 Axes>"
      ]
     },
     "metadata": {
      "needs_background": "light"
     },
     "output_type": "display_data"
    },
    {
     "data": {
      "image/png": "[encoded data removed]",
      "text/plain": [
       "<Figure size 432x288 with 1 Axes>"
      ]
     },
     "metadata": {
      "needs_background": "light"
     },
     "output_type": "display_data"
    },
    {
     "name": "stdout",
     "output_type": "stream",
     "text": [
      "count    18068.000000\n",
      "mean      3070.659976\n",
      "std       1116.831209\n",
      "min          0.855683\n",
      "25%       2543.226360\n",
      "50%       3133.609994\n",
      "75%       3776.222735\n",
      "max       7211.007745\n",
      "Name: distance, dtype: float64\n"
     ]
    },
    {
     "data": {
      "text/plain": [
       "count    18068.000000\n",
       "mean        17.805011\n",
       "std          6.091051\n",
       "min          0.500000\n",
       "25%         13.597563\n",
       "50%         17.678395\n",
       "75%         21.724800\n",
       "max         40.823963\n",
       "Name: duration, dtype: float64"
      ]
     },
     "execution_count": 9,
     "metadata": {},
     "output_type": "execute_result"
    }
   ],
   "source": [
    "# Выводим диаграммы размаха и определяем выбросы, а также выводим общую характеристику некоторых столбцов\n",
    "\n",
    "users.boxplot(column='age')\n",
    "plt.show()\n",
    "\n",
    "rides.boxplot(column='distance')\n",
    "plt.show()\n",
    "\n",
    "rides.boxplot(column='duration')\n",
    "plt.show()\n",
    "\n",
    "print(rides['distance'].describe())\n",
    "rides['duration'].describe()"
   ]
  },
  {
   "cell_type": "markdown",
   "id": "fd5013cf",
   "metadata": {},
   "source": [
    "В столбце в возрастом пользователя аномальных значений нет. В столбце с пройденной дистанцией есть значения, меньшие 1 м, скорее всего это люди, которые впервые встали на самокат и передумали использовать его. Я думаю, что данные, где пройденная дистанция меньше 200 м можно считать нерелевантными. То же самое можно сказать и про столбец с длительностью поездки, там тоже есть значения, которые меньше минуты. Поэтому данные, где длительность меньше минуты можно считать нерелевантными. Очистим таблицу от этих значений."
   ]
  },
  {
   "cell_type": "code",
   "execution_count": 10,
   "id": "c286a8e6",
   "metadata": {},
   "outputs": [
    {
     "data": {
      "text/plain": [
       "17803"
      ]
     },
     "execution_count": 10,
     "metadata": {},
     "output_type": "execute_result"
    }
   ],
   "source": [
    "# Фильтруем таблицу\n",
    "\n",
    "rides = rides.query('distance >= 200')\n",
    "rides = rides.query('duration >= 1')\n",
    "\n",
    "rides.shape[0]"
   ]
  },
  {
   "cell_type": "markdown",
   "id": "907752bf",
   "metadata": {},
   "source": [
    "После обработки аномальных значений было удалено 265 строк из 18068."
   ]
  },
  {
   "cell_type": "markdown",
   "id": "3f5ee3c6",
   "metadata": {},
   "source": [
    "### Промежуточный вывод по этапу предобработки\n",
    "\n",
    "Пропуски в данных полностью отсутствуют, в столбце с именами были устранены неявные дупликаты, в таблице с пользователями было удалено 31 явных дупликатов. Был изменен тип данных в столбце в датой на datetime, также был создан новый столбец с номером месяца. Были обнаружены и устранены аномальные значения в столбцах с дистанцией, меньшей 200 м, и длительностью поездки, меньшей 1 минуты. Было удалено 265 строк из 18068. "
   ]
  },
  {
   "cell_type": "markdown",
   "id": "212593c7",
   "metadata": {},
   "source": [
    "## Исследовательский анализ данных"
   ]
  },
  {
   "cell_type": "markdown",
   "id": "300c0b2a",
   "metadata": {},
   "source": [
    "Теперь опишем и визуализируем общую информацию о пользователях и их поездках с помощью графиков."
   ]
  },
  {
   "cell_type": "code",
   "execution_count": 11,
   "id": "e3a4274c",
   "metadata": {},
   "outputs": [
    {
     "data": {
      "image/png": "[encoded data removed]",
      "text/plain": [
       "<Figure size 432x288 with 1 Axes>"
      ]
     },
     "metadata": {
      "needs_background": "light"
     },
     "output_type": "display_data"
    }
   ],
   "source": [
    "# Строим столбчатые диаграммы и гистограммы для анализа\n",
    "\n",
    "users['city'].value_counts().plot(kind='barh')\n",
    "plt.xlabel('Количество пользователей')\n",
    "plt.ylabel('Город');"
   ]
  },
  {
   "cell_type": "markdown",
   "id": "2ca818f5",
   "metadata": {},
   "source": [
    "Больше всего пользователей из Пятигорска, их около 220, меньше всего в Москве - ~170. Количество пользователей равномерно уменьшается от Пятигорска к Москве."
   ]
  },
  {
   "cell_type": "code",
   "execution_count": 32,
   "id": "22a272e6",
   "metadata": {},
   "outputs": [
    {
     "data": {
      "image/png": "[encoded data removed]",
      "text/plain": [
       "<Figure size 432x288 with 1 Axes>"
      ]
     },
     "metadata": {},
     "output_type": "display_data"
    }
   ],
   "source": [
    "users['subscription_type'].value_counts().plot(title = 'Тип подписки', kind='pie', autopct = \"%.0f%%\");"
   ]
  },
  {
   "cell_type": "markdown",
   "id": "6de040dc",
   "metadata": {},
   "source": [
    "Пользователи без подписки составляют чуть более половины от общего числа клиентов."
   ]
  },
  {
   "cell_type": "code",
   "execution_count": 13,
   "id": "baaaa52a",
   "metadata": {},
   "outputs": [
    {
     "data": {
      "image/png": "[encoded data removed]",
      "text/plain": [
       "<Figure size 432x288 with 1 Axes>"
      ]
     },
     "metadata": {
      "needs_background": "light"
     },
     "output_type": "display_data"
    }
   ],
   "source": [
    "users.hist('age', bins=32, range=(12, 44));"
   ]
  },
  {
   "cell_type": "markdown",
   "id": "871cc1aa",
   "metadata": {},
   "source": [
    "Больше всего людей, которым 25 лет - их больше 140. Основной возрастной диапазон лежит в области от 18 до 34 лет. График похож на нормальное распределение."
   ]
  },
  {
   "cell_type": "code",
   "execution_count": 14,
   "id": "6a90d5ff",
   "metadata": {},
   "outputs": [
    {
     "data": {
      "image/png": "[encoded data removed]",
      "text/plain": [
       "<Figure size 432x288 with 1 Axes>"
      ]
     },
     "metadata": {
      "needs_background": "light"
     },
     "output_type": "display_data"
    }
   ],
   "source": [
    "rides.hist('distance', bins=30);"
   ]
  },
  {
   "cell_type": "markdown",
   "id": "272efa05",
   "metadata": {},
   "source": [
    "В среднем каждая дистанция одной поездки лежит в диапазоне от 2 до 5 км. На левой стороне графика виден \"бугорок\": достаточно большое количество людей проезжает меньше 1.5 км, видимо эти люди неуверенно чувствовали себя на самокате на первых попытках."
   ]
  },
  {
   "cell_type": "code",
   "execution_count": 15,
   "id": "c5990000",
   "metadata": {
    "scrolled": false
   },
   "outputs": [
    {
     "data": {
      "image/png": "[encoded data removed]",
      "text/plain": [
       "<Figure size 432x288 with 1 Axes>"
      ]
     },
     "metadata": {
      "needs_background": "light"
     },
     "output_type": "display_data"
    }
   ],
   "source": [
    "rides.hist('duration', bins=40);"
   ]
  },
  {
   "cell_type": "markdown",
   "id": "b92d315c",
   "metadata": {},
   "source": [
    "В среднем одна поездка длится от 7 до 27 минут, больше всего поездок длительностью ~17 минут. Этот график также похож на график нормального распределения."
   ]
  },
  {
   "cell_type": "markdown",
   "id": "c2bc1bc9",
   "metadata": {},
   "source": [
    "### Промежуточный вывод по этапу исследовательского анализа данных\n",
    "\n",
    "Для описания частоты встречаемости городов и соотношения пользователей с подпиской и без подписки были построены столбчатые диаграммы. Для остальных параметров были построены гистограммы. Гистограммы с возрастом пользователей и длительностью поездки напоминают график нормального распределения. Больше всего пользователей в Пятигорске - ~220, пользователи без подписки составляют 54% от общего числа, основная возрастная категория - 25 лет. В основном дистанция одной поездки лежит в области от 2 до 5 км, ее средняя продолжительность лежит в диапазоне от 7 до 27 минут."
   ]
  },
  {
   "cell_type": "markdown",
   "id": "4ef51331",
   "metadata": {},
   "source": [
    "## Объединение данных"
   ]
  },
  {
   "cell_type": "code",
   "execution_count": 16,
   "id": "6bf288b5",
   "metadata": {
    "scrolled": false
   },
   "outputs": [
    {
     "name": "stdout",
     "output_type": "stream",
     "text": [
      "Итоговый размер таблицы: 17803\n"
     ]
    },
    {
     "data": {
      "text/html": [
       "<div>\n",
       "<style scoped>\n",
       "    .dataframe tbody tr th:only-of-type {\n",
       "        vertical-align: middle;\n",
       "    }\n",
       "\n",
       "    .dataframe tbody tr th {\n",
       "        vertical-align: top;\n",
       "    }\n",
       "\n",
       "    .dataframe thead th {\n",
       "        text-align: right;\n",
       "    }\n",
       "</style>\n",
       "<table border=\"1\" class=\"dataframe\">\n",
       "  <thead>\n",
       "    <tr style=\"text-align: right;\">\n",
       "      <th></th>\n",
       "      <th>user_id</th>\n",
       "      <th>name</th>\n",
       "      <th>age</th>\n",
       "      <th>city</th>\n",
       "      <th>subscription_type</th>\n",
       "      <th>distance</th>\n",
       "      <th>duration</th>\n",
       "      <th>date</th>\n",
       "      <th>month</th>\n",
       "      <th>minute_price</th>\n",
       "      <th>start_ride_price</th>\n",
       "      <th>subscription_fee</th>\n",
       "    </tr>\n",
       "  </thead>\n",
       "  <tbody>\n",
       "    <tr>\n",
       "      <th>0</th>\n",
       "      <td>1</td>\n",
       "      <td>Кира</td>\n",
       "      <td>22</td>\n",
       "      <td>Тюмень</td>\n",
       "      <td>ultra</td>\n",
       "      <td>4409.919140</td>\n",
       "      <td>25.599769</td>\n",
       "      <td>2021-01-01</td>\n",
       "      <td>1</td>\n",
       "      <td>6</td>\n",
       "      <td>0</td>\n",
       "      <td>199</td>\n",
       "    </tr>\n",
       "    <tr>\n",
       "      <th>1</th>\n",
       "      <td>1</td>\n",
       "      <td>Кира</td>\n",
       "      <td>22</td>\n",
       "      <td>Тюмень</td>\n",
       "      <td>ultra</td>\n",
       "      <td>2617.592153</td>\n",
       "      <td>15.816871</td>\n",
       "      <td>2021-01-18</td>\n",
       "      <td>1</td>\n",
       "      <td>6</td>\n",
       "      <td>0</td>\n",
       "      <td>199</td>\n",
       "    </tr>\n",
       "    <tr>\n",
       "      <th>2</th>\n",
       "      <td>1</td>\n",
       "      <td>Кира</td>\n",
       "      <td>22</td>\n",
       "      <td>Тюмень</td>\n",
       "      <td>ultra</td>\n",
       "      <td>754.159807</td>\n",
       "      <td>6.232113</td>\n",
       "      <td>2021-04-20</td>\n",
       "      <td>4</td>\n",
       "      <td>6</td>\n",
       "      <td>0</td>\n",
       "      <td>199</td>\n",
       "    </tr>\n",
       "    <tr>\n",
       "      <th>3</th>\n",
       "      <td>1</td>\n",
       "      <td>Кира</td>\n",
       "      <td>22</td>\n",
       "      <td>Тюмень</td>\n",
       "      <td>ultra</td>\n",
       "      <td>2694.783254</td>\n",
       "      <td>18.511000</td>\n",
       "      <td>2021-08-11</td>\n",
       "      <td>8</td>\n",
       "      <td>6</td>\n",
       "      <td>0</td>\n",
       "      <td>199</td>\n",
       "    </tr>\n",
       "    <tr>\n",
       "      <th>4</th>\n",
       "      <td>1</td>\n",
       "      <td>Кира</td>\n",
       "      <td>22</td>\n",
       "      <td>Тюмень</td>\n",
       "      <td>ultra</td>\n",
       "      <td>4028.687306</td>\n",
       "      <td>26.265803</td>\n",
       "      <td>2021-08-28</td>\n",
       "      <td>8</td>\n",
       "      <td>6</td>\n",
       "      <td>0</td>\n",
       "      <td>199</td>\n",
       "    </tr>\n",
       "  </tbody>\n",
       "</table>\n",
       "</div>"
      ],
      "text/plain": [
       "   user_id  name  age    city subscription_type     distance   duration  \\\n",
       "0        1  Кира   22  Тюмень             ultra  4409.919140  25.599769   \n",
       "1        1  Кира   22  Тюмень             ultra  2617.592153  15.816871   \n",
       "2        1  Кира   22  Тюмень             ultra   754.159807   6.232113   \n",
       "3        1  Кира   22  Тюмень             ultra  2694.783254  18.511000   \n",
       "4        1  Кира   22  Тюмень             ultra  4028.687306  26.265803   \n",
       "\n",
       "        date  month  minute_price  start_ride_price  subscription_fee  \n",
       "0 2021-01-01      1             6                 0               199  \n",
       "1 2021-01-18      1             6                 0               199  \n",
       "2 2021-04-20      4             6                 0               199  \n",
       "3 2021-08-11      8             6                 0               199  \n",
       "4 2021-08-28      8             6                 0               199  "
      ]
     },
     "execution_count": 16,
     "metadata": {},
     "output_type": "execute_result"
    }
   ],
   "source": [
    "# Методом merge() объединяем сначала таблицу с пользователями и поездками, затем присоединяем таблицу с подписками\n",
    "\n",
    "data = users.merge(rides, on='user_id', how='right')\n",
    "data = data.merge(subs, on='subscription_type', how='left')\n",
    "\n",
    "print('Итоговый размер таблицы:', data.shape[0])\n",
    "data.head()"
   ]
  },
  {
   "cell_type": "markdown",
   "id": "c4b734b6",
   "metadata": {},
   "source": [
    "Объединили все таблицы в одно целое, размер таблицы совпадает с размером таблицы о поездках, так как объединение происходило именно по этим данным. Теперь создадим еще 2 датафрейма: поездки пользователей с подпиской и без."
   ]
  },
  {
   "cell_type": "code",
   "execution_count": 18,
   "id": "e03a32a7",
   "metadata": {},
   "outputs": [],
   "source": [
    "# Создаем 2 новых датафрейма по подпискам\n",
    "\n",
    "data_u = data.query('subscription_type == \"ultra\"')\n",
    "data_f = data.query('subscription_type == \"free\"')"
   ]
  },
  {
   "cell_type": "markdown",
   "id": "a57f9788",
   "metadata": {},
   "source": [
    "Теперь посмотрим, как пройденное расстояние зависит от длительности поездки (очевидно что при увеличении длительности возрастет и расстояние)"
   ]
  },
  {
   "cell_type": "code",
   "execution_count": 19,
   "id": "3205d1d1",
   "metadata": {},
   "outputs": [
    {
     "name": "stdout",
     "output_type": "stream",
     "text": [
      "Коэффициент корреляции Пирсона в таблице с подпиской равен 0.4933405982485452\n",
      "Коэффициент корреляции Пирсона в таблице без подписки равен 0.602061594449847\n"
     ]
    },
    {
     "data": {
      "image/png": "[encoded data removed]",
      "text/plain": [
       "<Figure size 432x288 with 1 Axes>"
      ]
     },
     "metadata": {
      "needs_background": "light"
     },
     "output_type": "display_data"
    },
    {
     "data": {
      "image/png": "[encoded data removed]",
      "text/plain": [
       "<Figure size 432x288 with 1 Axes>"
      ]
     },
     "metadata": {
      "needs_background": "light"
     },
     "output_type": "display_data"
    }
   ],
   "source": [
    "# Строим графики рассеяния и считаем коэффициент корреляции Пирсона\n",
    "\n",
    "data_u.plot(x='duration',\n",
    "            y='distance',\n",
    "            kind='scatter',\n",
    "            alpha=0.3)\n",
    "print('Коэффициент корреляции Пирсона в таблице с подпиской равен', data_u['distance'].corr(data_u['duration']))\n",
    "\n",
    "data_f.plot(x='duration',\n",
    "            y='distance',\n",
    "            kind='scatter',\n",
    "            alpha=0.3)\n",
    "print('Коэффициент корреляции Пирсона в таблице без подписки равен', data_f['distance'].corr(data_f['duration']))"
   ]
  },
  {
   "cell_type": "markdown",
   "id": "8304e66a",
   "metadata": {},
   "source": [
    "Эти два графика очень похожи друг на друга, причем и там и там есть тот самый \"бугорок\", описанный на предыдущем этапе, здесь он выглядит так, как будто отрезает часть графика. Коэффициенты корреляции Пирсона говорят о том, что пройденная дистанция у пользователей без подписки сильнее зависит от длительности поездки, чем у пользователей с подпиской. Пользователи без подписки в целом проезжают более далекие расстояния. Теперь взглянем на гистограммы:"
   ]
  },
  {
   "cell_type": "code",
   "execution_count": 20,
   "id": "f3a936c6",
   "metadata": {},
   "outputs": [
    {
     "data": {
      "image/png": "[encoded data removed]",
      "text/plain": [
       "<Figure size 432x288 with 1 Axes>"
      ]
     },
     "metadata": {
      "needs_background": "light"
     },
     "output_type": "display_data"
    },
    {
     "data": {
      "image/png": "[encoded data removed]",
      "text/plain": [
       "<Figure size 432x288 with 1 Axes>"
      ]
     },
     "metadata": {
      "needs_background": "light"
     },
     "output_type": "display_data"
    }
   ],
   "source": [
    "ax = data_u.hist('distance', bins=30, alpha=0.7, histtype='step', linewidth=4)\n",
    "data_f.hist('distance', bins=30, alpha=0.7, histtype='step', ax=ax, linewidth=4)\n",
    "plt.legend(['ultra', 'free'])\n",
    "plt.title('Пройденная дистанция')\n",
    "plt.xlabel('Расстояние, м')\n",
    "plt.ylabel('Кол-во пользователей')\n",
    "\n",
    "ax = data_u.hist('duration', bins=30, histtype='step', alpha=0.7, linewidth=4)\n",
    "data_f.hist('duration', bins=30, alpha=0.7, histtype='step', ax=ax, linewidth=4)\n",
    "plt.legend(['ultra', 'free'])\n",
    "plt.title('Длительность поездки')\n",
    "plt.xlabel('Время, мин')\n",
    "plt.ylabel('Кол-во пользователей');"
   ]
  },
  {
   "cell_type": "markdown",
   "id": "203983d2",
   "metadata": {},
   "source": [
    "Снова виден \"бугорок\", среднее расстояние, которое проезжают пользователи с подпиской, находится в пределах от 2200 до 4400 м, но в основном длина пути равняется ~3 км, а длительность от 10 до 27 минут. \n",
    "\n",
    "Среднее расстояние, которое проезжают пользователи без подписки, находится в пределах от 2 до 5 км, но в основном длина пути также равняется ~3 км, а длительность от 8 до 27 минут."
   ]
  },
  {
   "cell_type": "markdown",
   "id": "80aa07d4",
   "metadata": {},
   "source": [
    "### Промежуточный вывод по этапу объединения данных\n",
    "\n",
    "Данные из всех таблиц были объединены по таблице с поездками, затем эти данные были разделены на два датафрейма: пользователи с подпиской и без. Были построенны графики для длительности поездок и их расстояния. По значениям коэффициента Пирсона можно предположить, что люди без подписки перемещаются на самокатах с чуть большей скоростью, потому что пройденное расстояние сильнее зависит от длительности поездки у пользователей без подписки, и в целом люди без подписки проезжают бо́льшее расстояние."
   ]
  },
  {
   "cell_type": "markdown",
   "id": "402d620f",
   "metadata": {},
   "source": [
    "## Подсчёт выручки"
   ]
  },
  {
   "cell_type": "markdown",
   "id": "27fea286",
   "metadata": {},
   "source": [
    "Теперь посчитаем выручку с каждого пользователя за каждый месяц и заодно создадим новый столбец с выручкой за этот месяц."
   ]
  },
  {
   "cell_type": "code",
   "execution_count": 21,
   "id": "53049e0a",
   "metadata": {},
   "outputs": [
    {
     "data": {
      "text/html": [
       "<div>\n",
       "<style scoped>\n",
       "    .dataframe tbody tr th:only-of-type {\n",
       "        vertical-align: middle;\n",
       "    }\n",
       "\n",
       "    .dataframe tbody tr th {\n",
       "        vertical-align: top;\n",
       "    }\n",
       "\n",
       "    .dataframe thead th {\n",
       "        text-align: right;\n",
       "    }\n",
       "</style>\n",
       "<table border=\"1\" class=\"dataframe\">\n",
       "  <thead>\n",
       "    <tr style=\"text-align: right;\">\n",
       "      <th></th>\n",
       "      <th></th>\n",
       "      <th>rides</th>\n",
       "      <th>total_distance</th>\n",
       "      <th>total_time</th>\n",
       "      <th>minute_price</th>\n",
       "      <th>start_ride_price</th>\n",
       "      <th>subscription_fee</th>\n",
       "      <th>subscription_type</th>\n",
       "      <th>income</th>\n",
       "    </tr>\n",
       "    <tr>\n",
       "      <th>user_id</th>\n",
       "      <th>month</th>\n",
       "      <th></th>\n",
       "      <th></th>\n",
       "      <th></th>\n",
       "      <th></th>\n",
       "      <th></th>\n",
       "      <th></th>\n",
       "      <th></th>\n",
       "      <th></th>\n",
       "    </tr>\n",
       "  </thead>\n",
       "  <tbody>\n",
       "    <tr>\n",
       "      <th rowspan=\"5\" valign=\"top\">1</th>\n",
       "      <th>1</th>\n",
       "      <td>2</td>\n",
       "      <td>7027.511294</td>\n",
       "      <td>41.0</td>\n",
       "      <td>6</td>\n",
       "      <td>0</td>\n",
       "      <td>199</td>\n",
       "      <td>ultra</td>\n",
       "      <td>445.0</td>\n",
       "    </tr>\n",
       "    <tr>\n",
       "      <th>4</th>\n",
       "      <td>1</td>\n",
       "      <td>754.159807</td>\n",
       "      <td>6.0</td>\n",
       "      <td>6</td>\n",
       "      <td>0</td>\n",
       "      <td>199</td>\n",
       "      <td>ultra</td>\n",
       "      <td>235.0</td>\n",
       "    </tr>\n",
       "    <tr>\n",
       "      <th>8</th>\n",
       "      <td>2</td>\n",
       "      <td>6723.470560</td>\n",
       "      <td>45.0</td>\n",
       "      <td>6</td>\n",
       "      <td>0</td>\n",
       "      <td>199</td>\n",
       "      <td>ultra</td>\n",
       "      <td>469.0</td>\n",
       "    </tr>\n",
       "    <tr>\n",
       "      <th>10</th>\n",
       "      <td>2</td>\n",
       "      <td>5809.911100</td>\n",
       "      <td>32.0</td>\n",
       "      <td>6</td>\n",
       "      <td>0</td>\n",
       "      <td>199</td>\n",
       "      <td>ultra</td>\n",
       "      <td>391.0</td>\n",
       "    </tr>\n",
       "    <tr>\n",
       "      <th>11</th>\n",
       "      <td>3</td>\n",
       "      <td>7003.499363</td>\n",
       "      <td>53.0</td>\n",
       "      <td>6</td>\n",
       "      <td>0</td>\n",
       "      <td>199</td>\n",
       "      <td>ultra</td>\n",
       "      <td>517.0</td>\n",
       "    </tr>\n",
       "  </tbody>\n",
       "</table>\n",
       "</div>"
      ],
      "text/plain": [
       "               rides  total_distance  total_time  minute_price  \\\n",
       "user_id month                                                    \n",
       "1       1          2     7027.511294        41.0             6   \n",
       "        4          1      754.159807         6.0             6   \n",
       "        8          2     6723.470560        45.0             6   \n",
       "        10         2     5809.911100        32.0             6   \n",
       "        11         3     7003.499363        53.0             6   \n",
       "\n",
       "               start_ride_price  subscription_fee subscription_type  income  \n",
       "user_id month                                                                \n",
       "1       1                     0               199             ultra   445.0  \n",
       "        4                     0               199             ultra   235.0  \n",
       "        8                     0               199             ultra   469.0  \n",
       "        10                    0               199             ultra   391.0  \n",
       "        11                    0               199             ultra   517.0  "
      ]
     },
     "execution_count": 21,
     "metadata": {},
     "output_type": "execute_result"
    }
   ],
   "source": [
    "# Определим функцию, которая считает выручку с каждого пользователя за каждый месяц\n",
    "\n",
    "def income(row):\n",
    "    if row['subscription_type'] == 'ultra':\n",
    "        return row['subscription_fee'] + row['minute_price']*row['total_time']\n",
    "    else:\n",
    "        return row['start_ride_price']*row['rides'] + row['minute_price']*row['total_time']\n",
    "\n",
    "# Создадим сводную таблицу по пользователям и месяцам, посчитаем общее пройденное расстояние и общее время, \n",
    "# а также укажем тип подписки, затем переименуем столбцы\n",
    "    \n",
    "data_pivot = data.pivot_table(index=['user_id', 'month'], \n",
    "                              values=['distance', 'duration', 'subscription_type', 'subscription_fee', 'minute_price',\n",
    "                                      'start_ride_price'],\n",
    "                              aggfunc={'distance': ['sum', 'count'], 'duration': 'sum', 'subscription_type': 'min', \n",
    "                                       'subscription_fee': 'min', 'minute_price': 'min', 'start_ride_price': 'min'})\n",
    "data_pivot.columns = ['rides', 'total_distance', 'total_time', 'minute_price', 'start_ride_price', 'subscription_fee',\n",
    "                      'subscription_type']\n",
    "data_pivot['total_time'] = round(data_pivot['total_time'])\n",
    "data_pivot['income'] = data_pivot.apply(income, axis=1)\n",
    "\n",
    "data_pivot.head() # Смотрим как выглядит таблица"
   ]
  },
  {
   "cell_type": "markdown",
   "id": "16fa1f11",
   "metadata": {},
   "source": [
    "### Промежуточный вывод по этапу подсчета выручки\n",
    "\n",
    "Был создан новый датафрейм, произошло объединение по столбцам с id пользователя и месяцу, были рассчитаны общее пройденное расстояние, общее время, количество поездок и указан тип подписки в каждый месяц пользования сервисом. После этого был создан новый столбец, в котором была посчитана выручка за данный месяц."
   ]
  },
  {
   "cell_type": "markdown",
   "id": "41545ac0",
   "metadata": {},
   "source": [
    "## Проверка гипотез"
   ]
  },
  {
   "cell_type": "markdown",
   "id": "ef673eb3",
   "metadata": {},
   "source": [
    "Проверим гипотезу о том, что пользователи с подпиской тратят на поездки больше времени.\n",
    "\n",
    "- **Нулевая гипотеза:** средняя длительность поездки у пользователей с подпиской и без одинакова\n",
    "- **Альтернативная гипотеза:** средняя длительность поездки у пользователей с подпиской больше"
   ]
  },
  {
   "cell_type": "code",
   "execution_count": 23,
   "id": "23ea867b",
   "metadata": {},
   "outputs": [
    {
     "name": "stdout",
     "output_type": "stream",
     "text": [
      "Среднее время с подпиской: 18.54198516280583 минут\n",
      "Среднее время без подписки: 17.671426075019415 минут \n",
      "\n",
      "p-значение: 1.4786520876299893e-21\n",
      "Отвергаем нулевую гипотезу\n"
     ]
    }
   ],
   "source": [
    "# Проводим Т-тест с двумя независимыми выборками с уровнем статистической значимости 1%\n",
    "\n",
    "print('Среднее время с подпиской:', data_u['duration'].mean(), 'минут')\n",
    "print('Среднее время без подписки:', data_f['duration'].mean(), 'минут', '\\n')\n",
    "\n",
    "alpha = 0.01\n",
    "\n",
    "results = st.ttest_ind(data_u['duration'], data_f['duration'], alternative='greater')\n",
    "\n",
    "print('p-значение:', results.pvalue)\n",
    "\n",
    "if results.pvalue < alpha:\n",
    "    print('Отвергаем нулевую гипотезу')\n",
    "else:\n",
    "    print('Не получилось отвергнуть нулевую гипотезу')"
   ]
  },
  {
   "cell_type": "markdown",
   "id": "fd03b273",
   "metadata": {},
   "source": [
    "Действительно, значение p-value говорит о том, что нулевая гипотеза о равенстве средних двух выборок отвергается, они различаются, хоть и ненамного. Пользователи с подпиской тратят на поездки больше времени, чем пользователи без подписки."
   ]
  },
  {
   "cell_type": "markdown",
   "id": "23ae4ab4",
   "metadata": {},
   "source": [
    "Теперь проверим гипотезу о том, что расстояние, которое проезжают пользователи с подпиской за одну поездку, меньше 3130 метров.\n",
    "\n",
    "- **Нулевая гипотеза:** среднее расстояние, пройденное пользователями с подпиской, равно 3130 м\n",
    "- **Альтернативная гипотеза:** среднее расстояние, пройденное пользователями с подпиской, меньше 3130 м"
   ]
  },
  {
   "cell_type": "code",
   "execution_count": 24,
   "id": "e7962e0f",
   "metadata": {},
   "outputs": [
    {
     "name": "stdout",
     "output_type": "stream",
     "text": [
      "Среднее расстояние с подпиской: 3115.4453880370247 \n",
      "\n",
      "p-значение: 0.08046311521502146\n",
      "Не отвергаем нулевую гипотезу\n"
     ]
    }
   ],
   "source": [
    "# Проводим Т-тест с одной выборкой с уровнем статистической значимости 1%\n",
    "\n",
    "print('Среднее расстояние с подпиской:', data_u['distance'].mean(), '\\n')\n",
    "\n",
    "avg_dist = 3130\n",
    "\n",
    "alpha = 0.01\n",
    "\n",
    "results = st.ttest_1samp(data_u['distance'], avg_dist, alternative='less')\n",
    "\n",
    "print('p-значение:', results.pvalue)\n",
    "\n",
    "if (results.pvalue < alpha):\n",
    "    print('Отвергаем нулевую гипотезу')\n",
    "else:\n",
    "    print('Не отвергаем нулевую гипотезу')"
   ]
  },
  {
   "cell_type": "markdown",
   "id": "cd5415c8",
   "metadata": {},
   "source": [
    "Значение p-value говорит о том, что наша гипотеза возможно неверна, но ее нельзя отвергать, пользователи с подпиской в среднем за одну поездку проезжают 3115 м. Можно сказать, что износ самокатов будет происходить оптимально."
   ]
  },
  {
   "cell_type": "markdown",
   "id": "7977d3e4",
   "metadata": {},
   "source": [
    "Теперь проверим гипотезу о том, будет ли выручка от пользователей с подпиской выше, чем выручка от пользователей без подписки."
   ]
  },
  {
   "cell_type": "code",
   "execution_count": 25,
   "id": "7fc229e5",
   "metadata": {},
   "outputs": [
    {
     "name": "stdout",
     "output_type": "stream",
     "text": [
      "Средняя выручка с подпиской: 359 руб./месяц\n",
      "Средняя выручка без подписки: 322 руб./месяц \n",
      "\n",
      "p-значение: 2.8328384289170743e-37\n",
      "Отвергаем нулевую гипотезу\n"
     ]
    }
   ],
   "source": [
    "# Проводим Т-тест с двумя независимыми выборками с уровнем статистической значимости 1%\n",
    "\n",
    "print('Средняя выручка с подпиской:', \n",
    "      round(data_pivot.query('subscription_type == \"ultra\"')['income'].mean()), 'руб./месяц')\n",
    "print('Средняя выручка без подписки:', \n",
    "      round(data_pivot.query('subscription_type == \"free\"')['income'].mean()), 'руб./месяц', '\\n')\n",
    "\n",
    "alpha = 0.01\n",
    "\n",
    "results = st.ttest_ind(data_pivot.query('subscription_type == \"ultra\"')['income'], \n",
    "                       data_pivot.query('subscription_type == \"free\"')['income'],\n",
    "                       alternative='greater')\n",
    "\n",
    "print('p-значение:', results.pvalue)\n",
    "\n",
    "if results.pvalue < alpha:\n",
    "    print('Отвергаем нулевую гипотезу')\n",
    "else:\n",
    "    print('Не получилось отвергнуть нулевую гипотезу')"
   ]
  },
  {
   "cell_type": "markdown",
   "id": "f2e79e29",
   "metadata": {},
   "source": [
    "Действительно, значение p-value говорит о том, что нулевую гипотезу о равенстве средних двух независимых выборок можно отвергнуть. Средняя выручка с подпиской - 359 руб./месяц, очевидно больше, чем без подписки - 322 руб./месяц."
   ]
  },
  {
   "cell_type": "markdown",
   "id": "a6e8654c",
   "metadata": {},
   "source": [
    "Теперь представим, что техническая команда сервиса обновила сервера, с которыми взаимодействует мобильное приложение. Она надеется, что из-за этого количество обращений в техподдержку значительно снизится. Некоторый файл содержит для каждого пользователя данные о количестве обращений до обновления и после него. Здесь для проверки гипотезы о том, что после обновления серверов количество обращений в поддержку сократится, нам бы понадобился метод scipy.stats.ttest_rel() для проверки гипотезы о равенстве средних двух зависимых выборок."
   ]
  },
  {
   "cell_type": "markdown",
   "id": "4a534f82",
   "metadata": {},
   "source": [
    "### Промежуточный вывод по этапу проверки гипотез\n",
    "\n",
    "Были проверены три гипотезы и описан метод проверки четвертой гипотезы, а также сделаны следующие выводы:\n",
    "\n",
    "- Пользователи с подпиской приносят больше выручки: в среднем с каждого пользователя 359 руб/месяц\n",
    "- Они также больше пользуются самокатами: в среднем на 1 минуту больше\n",
    "- Износ самокатов будет происходить оптимально: среднее пройденное расстояние равно 3115 м"
   ]
  },
  {
   "cell_type": "markdown",
   "id": "61213c5e",
   "metadata": {},
   "source": [
    "## Распределения"
   ]
  },
  {
   "cell_type": "markdown",
   "id": "0c856ae3",
   "metadata": {},
   "source": [
    "Теперь с помощью распределения определим, какое количество промокодов с бесплатной подпиской на один месяц нужно разослать пользователям, чтобы вероятность не выполнить план была примерно 5%."
   ]
  },
  {
   "cell_type": "code",
   "execution_count": 26,
   "id": "1575e76c",
   "metadata": {},
   "outputs": [
    {
     "name": "stderr",
     "output_type": "stream",
     "text": [
      "/opt/conda/lib/python3.9/site-packages/scipy/stats/_discrete_distns.py:78: RuntimeWarning: divide by zero encountered in _binom_pdf\n",
      "  return _boost._binom_pdf(x, n, p)\n"
     ]
    },
    {
     "name": "stdout",
     "output_type": "stream",
     "text": [
      "Искомое количество промокодов: 1172\n",
      "Вероятность не выполнить план: 0.04954795210203071 %\n"
     ]
    },
    {
     "data": {
      "image/png": "[encoded data removed]",
      "text/plain": [
       "<Figure size 432x288 with 1 Axes>"
      ]
     },
     "metadata": {
      "needs_background": "light"
     },
     "output_type": "display_data"
    }
   ],
   "source": [
    "# Перебираем все n, начиная со 100, так как нас интересует минимум 100 успехов, затем строим график\n",
    "\n",
    "n = 100\n",
    "p = 0.1\n",
    "    \n",
    "while st.binom.cdf(100, n, p) > 0.05:\n",
    "    n += 1\n",
    "\n",
    "distr = []\n",
    "\n",
    "# Заполняем пустой список значениями вероятности\n",
    "\n",
    "for k in range(0, n + 1):\n",
    "    current_value = st.binom.pmf(k, n, p)\n",
    "    distr.append(current_value)\n",
    "    \n",
    "plt.bar(range(0, n + 1), distr)\n",
    "plt.xlim(80, 150)\n",
    "\n",
    "print('Искомое количество промокодов:', n)    \n",
    "print('Вероятность не выполнить план:', st.binom.cdf(100, n, p), '%')"
   ]
  },
  {
   "cell_type": "markdown",
   "id": "37d300c1",
   "metadata": {},
   "source": [
    "Чтобы вероятность выполнить план была больше 95%, нужно разослать минимум 1172 промокода."
   ]
  },
  {
   "cell_type": "markdown",
   "id": "54bd63dd",
   "metadata": {},
   "source": [
    "Теперь посмотрим, с какой вероятностью 399500 пользователей не откроют push-уведомление, если будут разосланы 1 млн. таких уведомлений."
   ]
  },
  {
   "cell_type": "code",
   "execution_count": 27,
   "id": "eb51a2bb",
   "metadata": {
    "scrolled": false
   },
   "outputs": [
    {
     "data": {
      "image/png": "[encoded data removed]",
      "text/plain": [
       "<Figure size 432x288 with 1 Axes>"
      ]
     },
     "metadata": {
      "needs_background": "light"
     },
     "output_type": "display_data"
    },
    {
     "name": "stdout",
     "output_type": "stream",
     "text": [
      "Условие аппроксимации выполняется\n",
      "Вероятность того, что уведомление откроют менее 399500 пользователей: 15.37 %\n"
     ]
    }
   ],
   "source": [
    "# зададим функцию, которая выдаёт <num> чисел,\n",
    "# равномерно распределённых от <start> до <stop>\n",
    "# (понадобится для визуализации нормального распределения)\n",
    "def linspace(start, stop, num):\n",
    "    step = (stop - start) / (num - 1)\n",
    "    result = []\n",
    "    for i in range(num):\n",
    "        result.append(start + step * i)\n",
    "    return result\n",
    " \n",
    "# задаём параметры биномиального распределения\n",
    "n = 1000000\n",
    "p = 0.4\n",
    "\n",
    "# границы промежутка, в котором будем строить аппроксимацию -\n",
    "# от n*p минус 4 ст.отклонения бином.распределения\n",
    "# до n*p плюс 4 ст.отклонения бином.распределения\n",
    "# (там, где вероятности значений почти не равны нулю)\n",
    "left = int(n * p - 4 * sqrt(n * p * (1 - p)))\n",
    "right = int(n * p + 4 * sqrt(n * p * (1 - p)))\n",
    " \n",
    "# зададим набор значений биномиальной величины на выбранном промежутке:\n",
    "# все неотрицательные целые числа от left до right\n",
    "x = list(range(max(0, left), right))\n",
    "# рисуем график биномиального распределения\n",
    "ax = plt.subplot()\n",
    "\n",
    "# зададим параметры нормального распределения равными\n",
    "# мат.ожиданию и дисперсии биномиального распределения\n",
    "mu = n * p\n",
    "sigma = sqrt(n * p * (1 - p))\n",
    " \n",
    "# рисуем график нормального распределения:\n",
    "# получим список из 100 чисел от left до right\n",
    "x = linspace(left, right, 100)\n",
    "# используем красную линию ширины 3 и прозрачности 0.3\n",
    "ax.plot(x, st.norm.pdf(x, mu, sigma), 'b-', lw=3, label='нормальное распределение')\n",
    "\n",
    "# настраиваем оптимальное расположение легенды и выводим график\n",
    "ax.legend(loc='lower center')\n",
    "plt.show()\n",
    "\n",
    "# выводим, выполняется ли наше условие аппроксимации:\n",
    "# лежит ли mu ± 3 sigma в промежутке от 0 до n:\n",
    "if (mu - (3 * sigma) >= 0) and ((mu + (3 * sigma) <= n)):\n",
    "    print('Условие аппроксимации выполняется')\n",
    "else:\n",
    "    print('Условие аппроксимации не выполняется')\n",
    "\n",
    "distr = st.norm(mu, sigma) # задаем нормальное распределение\n",
    "\n",
    "print('Вероятность того, что уведомление откроют менее 399500 пользователей:', round(distr.cdf(399500)*100, 2), '%')"
   ]
  },
  {
   "cell_type": "markdown",
   "id": "2e8cda46",
   "metadata": {},
   "source": [
    "### Промежуточный вывод по этапу распределений\n",
    "\n",
    "Для исследования было построено два распределения, оба биномиальных, но второе было аппроксимированно нормальным распределением, были сделаны следующие выводы:\n",
    "\n",
    "- Для того, чтобы как минимум 100 пользователей с вероятностью 95% продлили подписку, нужно разослать минимум 1172 промокода;\n",
    "- Если разослать 1 млн. push-уведомлений, то с вероятностью 15.37% их откроют менее 399500 пользователей."
   ]
  },
  {
   "cell_type": "markdown",
   "id": "75ba02f0",
   "metadata": {},
   "source": [
    "## Общий вывод\n",
    "\n",
    "Было проведено исследование данных из сервиса по прокату самокатов **\"GoFast\"**\n",
    "\n",
    "Пропусков в данных не было обнаружено, были выявлены явные дубликаты в количестве 31 строки в таблице с пользователями, которые затем были удалены, а также неявные  в столбце с именами, но их устранение никак не повлияло на исследование. \n",
    "\n",
    "Были обнаружены аномальные значения в таблице с поездками: \n",
    "люди проезжали менее 10 м в течение 30 секунд, скорее всего эти люди с непривычки или из-за боязни нанести своему здоровью вред отказались пользоваться самокатом, который может двигаться с достаточно большой скоростью. \n",
    "\n",
    "Поэтому эти данные были нерелевантны для нашего исследования и таблица была отфильтрована: \n",
    "было удалено 268 строк из 18068.\n",
    "\n",
    "После проведения исследовательского анализа данных было выявлено следующее:\n",
    "\n",
    "- Больше всего пользователей в Пятигорске\n",
    "- Пользователи без подписки составляют 54% от общего числа\n",
    "- В основном дистанция одной поездки лежит в области от 2 до 5 км, ее средняя продолжительность лежит в диапазоне от 7 до 27 минут.\n",
    "- Самокатами в основном пользуется молодежь от 20 до 28 лет\n",
    "\n",
    "Для удобства были объединены все таблицы: таблица с пользователями, поездками и подписками. Затем из этих же таблиц было получено еще два датафрейма о пользователях с подпиской и без.\n",
    "\n",
    "Затем была создана новая таблица для подсчета выручки, для каждого клиента было посчитано пройденное им расстояние и общее время пользования самокатом за каждый месяц с учетом наличия подписки.\n",
    "\n",
    "Далее были проверены три гипотезы и возможной вариант проверки четвертой:\n",
    "\n",
    "- Гипотеза о том, что пользователи с подпиской тратят на поездки больше времени: был проведен т-тест с двумя независимыми выборками, и , действительно, пользователи с подпиской тратят на поездку больше времени - больше на 1 минуту.\n",
    "- Гипотеза о том, что расстояние, которое проезжают пользователи с подпиской за одну поездку, меньше 3130 метров: полученное значение p-value говорит о том, что эта гипотеза возможно неверна, но ее все равно нельзя отвергать, пользователи с подпиской в среднем за одну поездку проезжают 3115 м. Можно сказать, что износ самокатов будет происходить оптимально.\n",
    "- Гипотеза о том, будет ли выручка от пользователей с подпиской выше, чем выручка от пользователей без подписки: значение p-value говорит о том, что нулевую гипотезу о равенстве средних двух независимых выборок можно отвергнуть. Средняя выручка с подпиской - 359 руб./месяц, очевидно больше, чем без подписки - 322 руб./месяц.\n",
    "- Для проверки гипотезы о том, что после обновления серверов количество обращений в поддержку сократится, нам бы понадобился метод scipy.stats.ttest_rel() для проверки гипотезы о равенстве средних двух зависимых выборок.\n",
    "\n",
    "Далее были построены биномиальные распределения для ответа на 2 вопроса:\n",
    "- Для того, чтобы как минимум 100 пользователей с вероятностью 95% продлили подписку, нужно разослать минимум 1172 промокода;\n",
    "- Если разослать 1 млн. push-уведомлений, то с вероятностью 15.37% их откроют менее 399500 пользователей.\n",
    "\n",
    "Общие рекомендации: стоит продвигать платную подписку, так как такие пользователи приносят больше выручки, но, даже не смотря на бесплатный старт поездки и уменьшенную плату за 1 минуту, самокаты изнашиваюся оптимально и не стоит переживать по поводу покупки экстренной партии новых самокатов. Для привлечения интереса к подписке можно разослать примерно 1200 промокодов, и практически со 100% вероятностью можно рассчитывать на 100 новых подписчиков. Но такие предложения стоит отправлять в основном людям с возрастной категорией от 20 до 28 лет."
   ]
  }
 ],
 "metadata": {
  "ExecuteTimeLog": [
   {
    "duration": 63,
    "start_time": "2023-04-26T07:41:30.060Z"
   },
   {
    "duration": 871,
    "start_time": "2023-04-26T07:41:32.582Z"
   },
   {
    "duration": 330,
    "start_time": "2023-04-26T07:41:34.312Z"
   },
   {
    "duration": 82,
    "start_time": "2023-04-26T07:41:58.884Z"
   },
   {
    "duration": 88,
    "start_time": "2023-04-26T07:42:32.526Z"
   },
   {
    "duration": 95,
    "start_time": "2023-04-26T07:42:59.176Z"
   },
   {
    "duration": 99,
    "start_time": "2023-04-26T07:43:25.335Z"
   },
   {
    "duration": 85,
    "start_time": "2023-04-26T07:43:30.452Z"
   },
   {
    "duration": 90,
    "start_time": "2023-04-26T07:43:53.321Z"
   },
   {
    "duration": 98,
    "start_time": "2023-04-26T07:43:59.933Z"
   },
   {
    "duration": 88,
    "start_time": "2023-04-26T07:44:23.210Z"
   },
   {
    "duration": 106,
    "start_time": "2023-04-26T07:47:22.779Z"
   },
   {
    "duration": 81,
    "start_time": "2023-04-26T07:57:12.585Z"
   },
   {
    "duration": 37,
    "start_time": "2023-04-26T07:58:09.346Z"
   },
   {
    "duration": 11,
    "start_time": "2023-04-26T07:58:16.619Z"
   },
   {
    "duration": 22,
    "start_time": "2023-04-26T07:58:25.955Z"
   },
   {
    "duration": 19,
    "start_time": "2023-04-26T08:00:09.855Z"
   },
   {
    "duration": 25,
    "start_time": "2023-04-26T08:02:07.605Z"
   },
   {
    "duration": 15,
    "start_time": "2023-04-26T08:02:26.425Z"
   },
   {
    "duration": 5,
    "start_time": "2023-04-26T08:13:00.382Z"
   },
   {
    "duration": 113,
    "start_time": "2023-04-26T08:13:00.389Z"
   },
   {
    "duration": 22,
    "start_time": "2023-04-26T08:13:00.504Z"
   },
   {
    "duration": 16,
    "start_time": "2023-04-26T08:13:03.834Z"
   },
   {
    "duration": 9,
    "start_time": "2023-04-26T08:21:38.982Z"
   },
   {
    "duration": 12,
    "start_time": "2023-04-26T08:21:53.654Z"
   },
   {
    "duration": 8,
    "start_time": "2023-04-26T08:22:09.466Z"
   },
   {
    "duration": 7,
    "start_time": "2023-04-26T08:22:22.996Z"
   },
   {
    "duration": 640,
    "start_time": "2023-04-26T08:22:38.099Z"
   },
   {
    "duration": 88,
    "start_time": "2023-04-26T08:22:38.741Z"
   },
   {
    "duration": 22,
    "start_time": "2023-04-26T08:22:38.831Z"
   },
   {
    "duration": 16,
    "start_time": "2023-04-26T08:22:38.855Z"
   },
   {
    "duration": 7,
    "start_time": "2023-04-26T08:22:43.622Z"
   },
   {
    "duration": 8,
    "start_time": "2023-04-26T08:24:15.293Z"
   },
   {
    "duration": 76,
    "start_time": "2023-04-26T08:30:40.541Z"
   },
   {
    "duration": 11,
    "start_time": "2023-04-26T08:30:51.202Z"
   },
   {
    "duration": 15,
    "start_time": "2023-04-26T08:32:25.538Z"
   },
   {
    "duration": 12,
    "start_time": "2023-04-26T08:32:38.170Z"
   },
   {
    "duration": 10,
    "start_time": "2023-04-26T08:32:43.346Z"
   },
   {
    "duration": 11,
    "start_time": "2023-04-26T08:33:51.609Z"
   },
   {
    "duration": 5,
    "start_time": "2023-04-26T08:35:31.280Z"
   },
   {
    "duration": 11,
    "start_time": "2023-04-26T08:35:33.231Z"
   },
   {
    "duration": 16,
    "start_time": "2023-04-26T08:39:40.011Z"
   },
   {
    "duration": 40,
    "start_time": "2023-04-26T08:39:49.204Z"
   },
   {
    "duration": 37,
    "start_time": "2023-04-26T08:41:44.304Z"
   },
   {
    "duration": 22,
    "start_time": "2023-04-26T08:42:26.231Z"
   },
   {
    "duration": 112,
    "start_time": "2023-04-26T08:45:06.824Z"
   },
   {
    "duration": 258,
    "start_time": "2023-04-26T08:48:54.917Z"
   },
   {
    "duration": 390,
    "start_time": "2023-04-26T08:49:23.458Z"
   },
   {
    "duration": 347,
    "start_time": "2023-04-26T08:50:36.775Z"
   },
   {
    "duration": 355,
    "start_time": "2023-04-26T08:51:09.769Z"
   },
   {
    "duration": 432,
    "start_time": "2023-04-26T08:54:17.053Z"
   },
   {
    "duration": 398,
    "start_time": "2023-04-26T08:54:25.134Z"
   },
   {
    "duration": 18,
    "start_time": "2023-04-26T09:04:54.428Z"
   },
   {
    "duration": 10,
    "start_time": "2023-04-26T09:11:12.563Z"
   },
   {
    "duration": 14,
    "start_time": "2023-04-26T09:15:40.507Z"
   },
   {
    "duration": 696,
    "start_time": "2023-04-26T09:31:37.051Z"
   },
   {
    "duration": 94,
    "start_time": "2023-04-26T09:31:37.749Z"
   },
   {
    "duration": 19,
    "start_time": "2023-04-26T09:31:37.844Z"
   },
   {
    "duration": 30,
    "start_time": "2023-04-26T09:31:37.865Z"
   },
   {
    "duration": 21,
    "start_time": "2023-04-26T09:31:37.897Z"
   },
   {
    "duration": 33,
    "start_time": "2023-04-26T09:31:37.920Z"
   },
   {
    "duration": 7,
    "start_time": "2023-04-26T09:31:37.955Z"
   },
   {
    "duration": 64,
    "start_time": "2023-04-26T09:31:37.964Z"
   },
   {
    "duration": 449,
    "start_time": "2023-04-26T09:31:38.030Z"
   },
   {
    "duration": 56,
    "start_time": "2023-04-26T09:31:38.482Z"
   },
   {
    "duration": 141,
    "start_time": "2023-04-26T09:36:26.239Z"
   },
   {
    "duration": 91,
    "start_time": "2023-04-26T09:41:18.206Z"
   },
   {
    "duration": 5,
    "start_time": "2023-04-26T09:43:03.963Z"
   },
   {
    "duration": 20,
    "start_time": "2023-04-26T09:43:10.045Z"
   },
   {
    "duration": 179,
    "start_time": "2023-04-26T09:43:31.604Z"
   },
   {
    "duration": 176,
    "start_time": "2023-04-26T09:43:47.917Z"
   },
   {
    "duration": 175,
    "start_time": "2023-04-26T09:43:50.632Z"
   },
   {
    "duration": 18,
    "start_time": "2023-04-26T09:45:32.216Z"
   },
   {
    "duration": 19,
    "start_time": "2023-04-26T09:45:57.040Z"
   },
   {
    "duration": 16,
    "start_time": "2023-04-26T09:46:02.680Z"
   },
   {
    "duration": 16,
    "start_time": "2023-04-26T09:46:05.912Z"
   },
   {
    "duration": 327,
    "start_time": "2023-04-26T09:46:53.903Z"
   },
   {
    "duration": 632,
    "start_time": "2023-04-26T09:47:26.006Z"
   },
   {
    "duration": 87,
    "start_time": "2023-04-26T09:47:26.640Z"
   },
   {
    "duration": 18,
    "start_time": "2023-04-26T09:47:26.729Z"
   },
   {
    "duration": 17,
    "start_time": "2023-04-26T09:47:26.749Z"
   },
   {
    "duration": 26,
    "start_time": "2023-04-26T09:47:26.767Z"
   },
   {
    "duration": 11,
    "start_time": "2023-04-26T09:47:26.795Z"
   },
   {
    "duration": 23,
    "start_time": "2023-04-26T09:47:26.808Z"
   },
   {
    "duration": 22,
    "start_time": "2023-04-26T09:47:26.833Z"
   },
   {
    "duration": 413,
    "start_time": "2023-04-26T09:47:26.856Z"
   },
   {
    "duration": 25,
    "start_time": "2023-04-26T09:47:27.272Z"
   },
   {
    "duration": 175,
    "start_time": "2023-04-26T09:47:27.299Z"
   },
   {
    "duration": 199,
    "start_time": "2023-04-26T09:47:27.477Z"
   },
   {
    "duration": 19286,
    "start_time": "2023-04-26T09:48:06.234Z"
   },
   {
    "duration": 19408,
    "start_time": "2023-04-26T09:49:43.406Z"
   },
   {
    "duration": 50,
    "start_time": "2023-04-26T09:50:20.020Z"
   },
   {
    "duration": 20435,
    "start_time": "2023-04-26T09:50:29.730Z"
   },
   {
    "duration": 265,
    "start_time": "2023-04-26T09:51:32.121Z"
   },
   {
    "duration": 179,
    "start_time": "2023-04-26T09:52:53.409Z"
   },
   {
    "duration": 556,
    "start_time": "2023-04-26T09:53:00.440Z"
   },
   {
    "duration": 195,
    "start_time": "2023-04-26T10:00:59.219Z"
   },
   {
    "duration": 193,
    "start_time": "2023-04-26T10:07:01.047Z"
   },
   {
    "duration": 196,
    "start_time": "2023-04-26T10:07:53.611Z"
   },
   {
    "duration": 178,
    "start_time": "2023-04-26T10:08:00.006Z"
   },
   {
    "duration": 177,
    "start_time": "2023-04-26T10:08:04.132Z"
   },
   {
    "duration": 188,
    "start_time": "2023-04-26T10:08:40.942Z"
   },
   {
    "duration": 184,
    "start_time": "2023-04-26T10:08:46.571Z"
   },
   {
    "duration": 182,
    "start_time": "2023-04-26T10:08:56.480Z"
   },
   {
    "duration": 256,
    "start_time": "2023-04-26T10:09:04.947Z"
   },
   {
    "duration": 190,
    "start_time": "2023-04-26T10:09:08.739Z"
   },
   {
    "duration": 77,
    "start_time": "2023-04-26T22:31:51.360Z"
   },
   {
    "duration": 44,
    "start_time": "2023-04-26T22:32:02.838Z"
   },
   {
    "duration": 765,
    "start_time": "2023-04-26T22:32:17.174Z"
   },
   {
    "duration": 239,
    "start_time": "2023-04-26T22:32:17.941Z"
   },
   {
    "duration": 19,
    "start_time": "2023-04-26T22:32:18.182Z"
   },
   {
    "duration": 16,
    "start_time": "2023-04-26T22:32:18.203Z"
   },
   {
    "duration": 12,
    "start_time": "2023-04-26T22:32:18.221Z"
   },
   {
    "duration": 15,
    "start_time": "2023-04-26T22:32:18.235Z"
   },
   {
    "duration": 16,
    "start_time": "2023-04-26T22:32:18.252Z"
   },
   {
    "duration": 28,
    "start_time": "2023-04-26T22:32:18.270Z"
   },
   {
    "duration": 392,
    "start_time": "2023-04-26T22:32:18.300Z"
   },
   {
    "duration": 29,
    "start_time": "2023-04-26T22:32:18.694Z"
   },
   {
    "duration": 158,
    "start_time": "2023-04-26T22:32:18.725Z"
   },
   {
    "duration": 177,
    "start_time": "2023-04-26T22:32:18.884Z"
   },
   {
    "duration": 183,
    "start_time": "2023-04-26T22:32:19.062Z"
   },
   {
    "duration": 211,
    "start_time": "2023-04-26T22:32:19.247Z"
   },
   {
    "duration": 197,
    "start_time": "2023-04-26T22:32:19.459Z"
   },
   {
    "duration": 17,
    "start_time": "2023-04-26T22:32:22.274Z"
   },
   {
    "duration": 17,
    "start_time": "2023-04-26T22:32:28.615Z"
   },
   {
    "duration": 18,
    "start_time": "2023-04-26T22:33:06.286Z"
   },
   {
    "duration": 23,
    "start_time": "2023-04-26T22:33:42.096Z"
   },
   {
    "duration": 20,
    "start_time": "2023-04-26T22:33:50.827Z"
   },
   {
    "duration": 26,
    "start_time": "2023-04-26T22:34:37.692Z"
   },
   {
    "duration": 64,
    "start_time": "2023-04-26T22:40:09.645Z"
   },
   {
    "duration": 31,
    "start_time": "2023-04-26T22:40:14.186Z"
   },
   {
    "duration": 31,
    "start_time": "2023-04-26T22:40:16.606Z"
   },
   {
    "duration": 28,
    "start_time": "2023-04-26T22:40:28.649Z"
   },
   {
    "duration": 36,
    "start_time": "2023-04-26T22:41:19.022Z"
   },
   {
    "duration": 30,
    "start_time": "2023-04-26T22:43:06.843Z"
   },
   {
    "duration": 36,
    "start_time": "2023-04-26T22:43:13.335Z"
   },
   {
    "duration": 36,
    "start_time": "2023-04-26T22:43:23.419Z"
   },
   {
    "duration": 27,
    "start_time": "2023-04-26T22:43:41.416Z"
   },
   {
    "duration": 28,
    "start_time": "2023-04-26T22:43:46.620Z"
   },
   {
    "duration": 28,
    "start_time": "2023-04-26T22:43:51.699Z"
   },
   {
    "duration": 13,
    "start_time": "2023-04-26T22:44:29.645Z"
   },
   {
    "duration": 16,
    "start_time": "2023-04-26T22:44:37.173Z"
   },
   {
    "duration": 3,
    "start_time": "2023-04-26T22:44:43.650Z"
   },
   {
    "duration": 103,
    "start_time": "2023-04-26T22:44:43.656Z"
   },
   {
    "duration": 17,
    "start_time": "2023-04-26T22:44:43.761Z"
   },
   {
    "duration": 15,
    "start_time": "2023-04-26T22:44:43.780Z"
   },
   {
    "duration": 8,
    "start_time": "2023-04-26T22:44:43.797Z"
   },
   {
    "duration": 20,
    "start_time": "2023-04-26T22:44:43.807Z"
   },
   {
    "duration": 10,
    "start_time": "2023-04-26T22:44:43.830Z"
   },
   {
    "duration": 24,
    "start_time": "2023-04-26T22:44:43.841Z"
   },
   {
    "duration": 382,
    "start_time": "2023-04-26T22:44:43.867Z"
   },
   {
    "duration": 12,
    "start_time": "2023-04-26T22:44:44.250Z"
   },
   {
    "duration": 164,
    "start_time": "2023-04-26T22:44:44.263Z"
   },
   {
    "duration": 132,
    "start_time": "2023-04-26T22:44:44.429Z"
   },
   {
    "duration": 188,
    "start_time": "2023-04-26T22:44:44.563Z"
   },
   {
    "duration": 198,
    "start_time": "2023-04-26T22:44:44.754Z"
   },
   {
    "duration": 286,
    "start_time": "2023-04-26T22:44:44.955Z"
   },
   {
    "duration": 26,
    "start_time": "2023-04-26T22:44:50.191Z"
   },
   {
    "duration": 29,
    "start_time": "2023-04-26T22:44:53.928Z"
   },
   {
    "duration": 25,
    "start_time": "2023-04-26T22:45:28.450Z"
   },
   {
    "duration": 12,
    "start_time": "2023-04-26T22:46:26.373Z"
   },
   {
    "duration": 35,
    "start_time": "2023-04-26T22:46:42.394Z"
   },
   {
    "duration": 9,
    "start_time": "2023-04-26T22:47:26.503Z"
   },
   {
    "duration": 210,
    "start_time": "2023-04-26T22:53:21.501Z"
   },
   {
    "duration": 340,
    "start_time": "2023-04-26T22:55:03.902Z"
   },
   {
    "duration": 346,
    "start_time": "2023-04-26T23:02:45.684Z"
   },
   {
    "duration": 322,
    "start_time": "2023-04-26T23:10:16.213Z"
   },
   {
    "duration": 326,
    "start_time": "2023-04-26T23:14:07.927Z"
   },
   {
    "duration": 48,
    "start_time": "2023-04-27T08:05:44.363Z"
   },
   {
    "duration": 829,
    "start_time": "2023-04-27T08:05:47.285Z"
   },
   {
    "duration": 343,
    "start_time": "2023-04-27T08:05:48.116Z"
   },
   {
    "duration": 18,
    "start_time": "2023-04-27T08:05:48.460Z"
   },
   {
    "duration": 15,
    "start_time": "2023-04-27T08:05:48.481Z"
   },
   {
    "duration": 14,
    "start_time": "2023-04-27T08:05:48.499Z"
   },
   {
    "duration": 11,
    "start_time": "2023-04-27T08:05:48.515Z"
   },
   {
    "duration": 5,
    "start_time": "2023-04-27T08:05:48.528Z"
   },
   {
    "duration": 16,
    "start_time": "2023-04-27T08:05:48.535Z"
   },
   {
    "duration": 385,
    "start_time": "2023-04-27T08:05:48.553Z"
   },
   {
    "duration": 11,
    "start_time": "2023-04-27T08:05:48.941Z"
   },
   {
    "duration": 149,
    "start_time": "2023-04-27T08:05:48.954Z"
   },
   {
    "duration": 174,
    "start_time": "2023-04-27T08:05:49.105Z"
   },
   {
    "duration": 183,
    "start_time": "2023-04-27T08:05:49.282Z"
   },
   {
    "duration": 174,
    "start_time": "2023-04-27T08:05:49.467Z"
   },
   {
    "duration": 188,
    "start_time": "2023-04-27T08:05:49.643Z"
   },
   {
    "duration": 27,
    "start_time": "2023-04-27T08:05:49.832Z"
   },
   {
    "duration": 20,
    "start_time": "2023-04-27T08:05:49.861Z"
   },
   {
    "duration": 398,
    "start_time": "2023-04-27T08:05:49.892Z"
   },
   {
    "duration": 363,
    "start_time": "2023-04-27T08:05:50.292Z"
   },
   {
    "duration": 345,
    "start_time": "2023-04-27T08:05:50.656Z"
   },
   {
    "duration": 27,
    "start_time": "2023-04-27T08:05:52.788Z"
   },
   {
    "duration": 42,
    "start_time": "2023-04-27T08:06:17.524Z"
   },
   {
    "duration": 618,
    "start_time": "2023-04-27T08:07:08.610Z"
   },
   {
    "duration": 86,
    "start_time": "2023-04-27T08:07:09.230Z"
   },
   {
    "duration": 22,
    "start_time": "2023-04-27T08:07:09.318Z"
   },
   {
    "duration": 14,
    "start_time": "2023-04-27T08:07:09.343Z"
   },
   {
    "duration": 11,
    "start_time": "2023-04-27T08:07:09.359Z"
   },
   {
    "duration": 32,
    "start_time": "2023-04-27T08:07:09.372Z"
   },
   {
    "duration": 6,
    "start_time": "2023-04-27T08:07:09.406Z"
   },
   {
    "duration": 18,
    "start_time": "2023-04-27T08:07:09.413Z"
   },
   {
    "duration": 404,
    "start_time": "2023-04-27T08:07:09.432Z"
   },
   {
    "duration": 12,
    "start_time": "2023-04-27T08:07:09.839Z"
   },
   {
    "duration": 158,
    "start_time": "2023-04-27T08:07:09.853Z"
   },
   {
    "duration": 174,
    "start_time": "2023-04-27T08:07:10.012Z"
   },
   {
    "duration": 194,
    "start_time": "2023-04-27T08:07:10.187Z"
   },
   {
    "duration": 189,
    "start_time": "2023-04-27T08:07:10.383Z"
   },
   {
    "duration": 197,
    "start_time": "2023-04-27T08:07:10.574Z"
   },
   {
    "duration": 31,
    "start_time": "2023-04-27T08:07:10.773Z"
   },
   {
    "duration": 15,
    "start_time": "2023-04-27T08:07:10.806Z"
   },
   {
    "duration": 396,
    "start_time": "2023-04-27T08:07:10.823Z"
   },
   {
    "duration": 339,
    "start_time": "2023-04-27T08:07:11.221Z"
   },
   {
    "duration": 344,
    "start_time": "2023-04-27T08:07:11.562Z"
   },
   {
    "duration": 21,
    "start_time": "2023-04-27T08:17:03.042Z"
   },
   {
    "duration": 28,
    "start_time": "2023-04-27T08:17:11.149Z"
   },
   {
    "duration": 31,
    "start_time": "2023-04-27T08:17:27.064Z"
   },
   {
    "duration": 27,
    "start_time": "2023-04-27T08:18:50.081Z"
   },
   {
    "duration": 279,
    "start_time": "2023-04-27T08:29:11.341Z"
   },
   {
    "duration": 29,
    "start_time": "2023-04-27T08:29:57.333Z"
   },
   {
    "duration": 21,
    "start_time": "2023-04-27T08:30:06.299Z"
   },
   {
    "duration": 17,
    "start_time": "2023-04-27T08:31:30.786Z"
   },
   {
    "duration": 1058,
    "start_time": "2023-04-27T08:31:48.741Z"
   },
   {
    "duration": 875,
    "start_time": "2023-04-27T08:32:02.109Z"
   },
   {
    "duration": 988,
    "start_time": "2023-04-27T08:32:08.338Z"
   },
   {
    "duration": 224,
    "start_time": "2023-04-27T08:33:24.197Z"
   },
   {
    "duration": 28,
    "start_time": "2023-04-27T08:33:35.395Z"
   },
   {
    "duration": 855,
    "start_time": "2023-04-27T08:35:20.086Z"
   },
   {
    "duration": 881,
    "start_time": "2023-04-27T08:35:24.698Z"
   },
   {
    "duration": 815,
    "start_time": "2023-04-27T08:35:32.685Z"
   },
   {
    "duration": 862,
    "start_time": "2023-04-27T08:36:02.653Z"
   },
   {
    "duration": 963,
    "start_time": "2023-04-27T08:49:01.956Z"
   },
   {
    "duration": 1081,
    "start_time": "2023-04-27T08:49:13.798Z"
   },
   {
    "duration": 953,
    "start_time": "2023-04-27T08:49:23.824Z"
   },
   {
    "duration": 621,
    "start_time": "2023-04-27T08:51:24.411Z"
   },
   {
    "duration": 87,
    "start_time": "2023-04-27T08:51:25.034Z"
   },
   {
    "duration": 17,
    "start_time": "2023-04-27T08:51:25.123Z"
   },
   {
    "duration": 16,
    "start_time": "2023-04-27T08:51:25.141Z"
   },
   {
    "duration": 11,
    "start_time": "2023-04-27T08:51:25.160Z"
   },
   {
    "duration": 24,
    "start_time": "2023-04-27T08:51:25.172Z"
   },
   {
    "duration": 10,
    "start_time": "2023-04-27T08:51:25.198Z"
   },
   {
    "duration": 28,
    "start_time": "2023-04-27T08:51:25.210Z"
   },
   {
    "duration": 360,
    "start_time": "2023-04-27T08:51:25.240Z"
   },
   {
    "duration": 11,
    "start_time": "2023-04-27T08:51:25.602Z"
   },
   {
    "duration": 145,
    "start_time": "2023-04-27T08:51:25.615Z"
   },
   {
    "duration": 166,
    "start_time": "2023-04-27T08:51:25.762Z"
   },
   {
    "duration": 181,
    "start_time": "2023-04-27T08:51:25.929Z"
   },
   {
    "duration": 180,
    "start_time": "2023-04-27T08:51:26.113Z"
   },
   {
    "duration": 184,
    "start_time": "2023-04-27T08:51:26.294Z"
   },
   {
    "duration": 32,
    "start_time": "2023-04-27T08:51:26.480Z"
   },
   {
    "duration": 11,
    "start_time": "2023-04-27T08:51:26.514Z"
   },
   {
    "duration": 363,
    "start_time": "2023-04-27T08:51:26.526Z"
   },
   {
    "duration": 311,
    "start_time": "2023-04-27T08:51:26.891Z"
   },
   {
    "duration": 330,
    "start_time": "2023-04-27T08:51:27.204Z"
   },
   {
    "duration": 973,
    "start_time": "2023-04-27T08:51:33.293Z"
   },
   {
    "duration": 1117,
    "start_time": "2023-04-27T08:54:16.598Z"
   },
   {
    "duration": 973,
    "start_time": "2023-04-27T08:55:52.276Z"
   },
   {
    "duration": 1072,
    "start_time": "2023-04-27T08:56:09.388Z"
   },
   {
    "duration": 628,
    "start_time": "2023-04-27T08:56:22.752Z"
   },
   {
    "duration": 86,
    "start_time": "2023-04-27T08:56:23.382Z"
   },
   {
    "duration": 16,
    "start_time": "2023-04-27T08:56:23.470Z"
   },
   {
    "duration": 13,
    "start_time": "2023-04-27T08:56:23.488Z"
   },
   {
    "duration": 10,
    "start_time": "2023-04-27T08:56:23.503Z"
   },
   {
    "duration": 13,
    "start_time": "2023-04-27T08:56:23.514Z"
   },
   {
    "duration": 5,
    "start_time": "2023-04-27T08:56:23.528Z"
   },
   {
    "duration": 24,
    "start_time": "2023-04-27T08:56:23.534Z"
   },
   {
    "duration": 373,
    "start_time": "2023-04-27T08:56:23.560Z"
   },
   {
    "duration": 12,
    "start_time": "2023-04-27T08:56:23.936Z"
   },
   {
    "duration": 152,
    "start_time": "2023-04-27T08:56:23.949Z"
   },
   {
    "duration": 173,
    "start_time": "2023-04-27T08:56:24.103Z"
   },
   {
    "duration": 189,
    "start_time": "2023-04-27T08:56:24.278Z"
   },
   {
    "duration": 190,
    "start_time": "2023-04-27T08:56:24.471Z"
   },
   {
    "duration": 185,
    "start_time": "2023-04-27T08:56:24.663Z"
   },
   {
    "duration": 26,
    "start_time": "2023-04-27T08:56:24.850Z"
   },
   {
    "duration": 23,
    "start_time": "2023-04-27T08:56:24.877Z"
   },
   {
    "duration": 382,
    "start_time": "2023-04-27T08:56:24.902Z"
   },
   {
    "duration": 332,
    "start_time": "2023-04-27T08:56:25.286Z"
   },
   {
    "duration": 331,
    "start_time": "2023-04-27T08:56:25.620Z"
   },
   {
    "duration": 1121,
    "start_time": "2023-04-27T08:56:32.245Z"
   },
   {
    "duration": 1151,
    "start_time": "2023-04-27T08:59:16.500Z"
   },
   {
    "duration": 1009,
    "start_time": "2023-04-27T09:32:53.637Z"
   },
   {
    "duration": 81,
    "start_time": "2023-04-27T10:10:42.448Z"
   },
   {
    "duration": 499,
    "start_time": "2023-04-27T10:10:47.704Z"
   },
   {
    "duration": 8,
    "start_time": "2023-04-27T10:10:52.114Z"
   },
   {
    "duration": 8,
    "start_time": "2023-04-27T10:12:27.946Z"
   },
   {
    "duration": 7,
    "start_time": "2023-04-27T10:12:52.350Z"
   },
   {
    "duration": 7,
    "start_time": "2023-04-27T10:19:48.510Z"
   },
   {
    "duration": 12,
    "start_time": "2023-04-27T10:19:52.004Z"
   },
   {
    "duration": 73,
    "start_time": "2023-04-27T10:20:02.488Z"
   },
   {
    "duration": 22,
    "start_time": "2023-04-27T10:20:09.389Z"
   },
   {
    "duration": 8,
    "start_time": "2023-04-27T10:20:14.458Z"
   },
   {
    "duration": 13,
    "start_time": "2023-04-27T10:20:38.288Z"
   },
   {
    "duration": 1397,
    "start_time": "2023-04-27T10:20:59.860Z"
   },
   {
    "duration": 117,
    "start_time": "2023-04-27T10:21:01.260Z"
   },
   {
    "duration": 31,
    "start_time": "2023-04-27T10:21:01.379Z"
   },
   {
    "duration": 57,
    "start_time": "2023-04-27T10:21:01.412Z"
   },
   {
    "duration": 50,
    "start_time": "2023-04-27T10:21:01.472Z"
   },
   {
    "duration": 35,
    "start_time": "2023-04-27T10:21:01.524Z"
   },
   {
    "duration": 23,
    "start_time": "2023-04-27T10:21:01.562Z"
   },
   {
    "duration": 54,
    "start_time": "2023-04-27T10:21:01.587Z"
   },
   {
    "duration": 707,
    "start_time": "2023-04-27T10:21:01.643Z"
   },
   {
    "duration": 18,
    "start_time": "2023-04-27T10:21:02.353Z"
   },
   {
    "duration": 213,
    "start_time": "2023-04-27T10:21:02.374Z"
   },
   {
    "duration": 142,
    "start_time": "2023-04-27T10:21:02.589Z"
   },
   {
    "duration": 211,
    "start_time": "2023-04-27T10:21:02.733Z"
   },
   {
    "duration": 211,
    "start_time": "2023-04-27T10:21:02.948Z"
   },
   {
    "duration": 274,
    "start_time": "2023-04-27T10:21:03.161Z"
   },
   {
    "duration": 38,
    "start_time": "2023-04-27T10:21:03.437Z"
   },
   {
    "duration": 33,
    "start_time": "2023-04-27T10:21:03.478Z"
   },
   {
    "duration": 450,
    "start_time": "2023-04-27T10:21:03.513Z"
   },
   {
    "duration": 470,
    "start_time": "2023-04-27T10:21:03.965Z"
   },
   {
    "duration": 513,
    "start_time": "2023-04-27T10:21:04.437Z"
   },
   {
    "duration": 1272,
    "start_time": "2023-04-27T10:21:04.952Z"
   },
   {
    "duration": 10,
    "start_time": "2023-04-27T10:21:06.226Z"
   },
   {
    "duration": 9,
    "start_time": "2023-04-27T10:23:00.392Z"
   },
   {
    "duration": 232,
    "start_time": "2023-04-27T10:33:35.731Z"
   },
   {
    "duration": 7,
    "start_time": "2023-04-27T10:34:19.159Z"
   },
   {
    "duration": 7,
    "start_time": "2023-04-27T10:35:09.471Z"
   },
   {
    "duration": 7,
    "start_time": "2023-04-27T10:35:23.939Z"
   },
   {
    "duration": 9,
    "start_time": "2023-04-27T10:36:39.315Z"
   },
   {
    "duration": 7,
    "start_time": "2023-04-27T10:36:52.482Z"
   },
   {
    "duration": 8,
    "start_time": "2023-04-27T10:39:33.410Z"
   },
   {
    "duration": 23,
    "start_time": "2023-04-27T10:50:03.816Z"
   },
   {
    "duration": 18,
    "start_time": "2023-04-27T10:52:08.365Z"
   },
   {
    "duration": 28,
    "start_time": "2023-04-27T11:08:18.515Z"
   },
   {
    "duration": 25,
    "start_time": "2023-04-27T11:09:04.584Z"
   },
   {
    "duration": 9,
    "start_time": "2023-04-27T11:09:46.342Z"
   },
   {
    "duration": 1254,
    "start_time": "2023-04-27T18:46:59.738Z"
   },
   {
    "duration": 564,
    "start_time": "2023-04-27T18:47:00.994Z"
   },
   {
    "duration": 18,
    "start_time": "2023-04-27T18:47:01.559Z"
   },
   {
    "duration": 52,
    "start_time": "2023-04-27T18:47:01.579Z"
   },
   {
    "duration": 37,
    "start_time": "2023-04-27T18:47:01.633Z"
   },
   {
    "duration": 40,
    "start_time": "2023-04-27T18:47:01.671Z"
   },
   {
    "duration": 16,
    "start_time": "2023-04-27T18:47:01.713Z"
   },
   {
    "duration": 35,
    "start_time": "2023-04-27T18:47:01.731Z"
   },
   {
    "duration": 377,
    "start_time": "2023-04-27T18:47:01.768Z"
   },
   {
    "duration": 13,
    "start_time": "2023-04-27T18:47:02.147Z"
   },
   {
    "duration": 152,
    "start_time": "2023-04-27T18:47:02.162Z"
   },
   {
    "duration": 128,
    "start_time": "2023-04-27T18:47:02.316Z"
   },
   {
    "duration": 208,
    "start_time": "2023-04-27T18:47:02.446Z"
   },
   {
    "duration": 196,
    "start_time": "2023-04-27T18:47:02.657Z"
   },
   {
    "duration": 197,
    "start_time": "2023-04-27T18:47:02.854Z"
   },
   {
    "duration": 26,
    "start_time": "2023-04-27T18:47:03.052Z"
   },
   {
    "duration": 17,
    "start_time": "2023-04-27T18:47:03.092Z"
   },
   {
    "duration": 388,
    "start_time": "2023-04-27T18:47:03.111Z"
   },
   {
    "duration": 397,
    "start_time": "2023-04-27T18:47:03.501Z"
   },
   {
    "duration": 316,
    "start_time": "2023-04-27T18:47:03.900Z"
   },
   {
    "duration": 989,
    "start_time": "2023-04-27T18:47:04.217Z"
   },
   {
    "duration": 8,
    "start_time": "2023-04-27T18:47:05.207Z"
   },
   {
    "duration": 28,
    "start_time": "2023-04-27T18:47:05.216Z"
   },
   {
    "duration": 29,
    "start_time": "2023-04-27T18:47:05.246Z"
   },
   {
    "duration": 131,
    "start_time": "2023-04-27T18:47:07.839Z"
   },
   {
    "duration": 579,
    "start_time": "2023-04-27T18:47:54.353Z"
   },
   {
    "duration": 632,
    "start_time": "2023-04-27T18:48:04.747Z"
   },
   {
    "duration": 632,
    "start_time": "2023-04-27T18:50:37.605Z"
   },
   {
    "duration": 1577,
    "start_time": "2023-04-27T18:54:25.101Z"
   },
   {
    "duration": 259,
    "start_time": "2023-04-27T18:54:35.620Z"
   },
   {
    "duration": 415,
    "start_time": "2023-04-27T18:55:35.304Z"
   },
   {
    "duration": 11,
    "start_time": "2023-04-27T18:56:53.424Z"
   },
   {
    "duration": 252,
    "start_time": "2023-04-27T18:57:00.104Z"
   },
   {
    "duration": 256,
    "start_time": "2023-04-27T18:57:10.667Z"
   },
   {
    "duration": 283,
    "start_time": "2023-04-27T18:57:24.181Z"
   },
   {
    "duration": 19,
    "start_time": "2023-04-27T18:58:17.181Z"
   },
   {
    "duration": 28,
    "start_time": "2023-04-27T18:58:40.337Z"
   },
   {
    "duration": 271,
    "start_time": "2023-04-27T18:58:48.080Z"
   },
   {
    "duration": 254,
    "start_time": "2023-04-27T18:59:03.419Z"
   },
   {
    "duration": 1788,
    "start_time": "2023-04-27T19:02:48.841Z"
   },
   {
    "duration": 1170,
    "start_time": "2023-04-27T19:03:03.910Z"
   },
   {
    "duration": 85,
    "start_time": "2023-04-27T19:03:05.082Z"
   },
   {
    "duration": 17,
    "start_time": "2023-04-27T19:03:05.169Z"
   },
   {
    "duration": 17,
    "start_time": "2023-04-27T19:03:05.188Z"
   },
   {
    "duration": 7,
    "start_time": "2023-04-27T19:03:05.207Z"
   },
   {
    "duration": 15,
    "start_time": "2023-04-27T19:03:05.215Z"
   },
   {
    "duration": 5,
    "start_time": "2023-04-27T19:03:05.232Z"
   },
   {
    "duration": 28,
    "start_time": "2023-04-27T19:03:05.238Z"
   },
   {
    "duration": 361,
    "start_time": "2023-04-27T19:03:05.267Z"
   },
   {
    "duration": 11,
    "start_time": "2023-04-27T19:03:05.629Z"
   },
   {
    "duration": 137,
    "start_time": "2023-04-27T19:03:05.642Z"
   },
   {
    "duration": 119,
    "start_time": "2023-04-27T19:03:05.780Z"
   },
   {
    "duration": 176,
    "start_time": "2023-04-27T19:03:05.900Z"
   },
   {
    "duration": 179,
    "start_time": "2023-04-27T19:03:06.078Z"
   },
   {
    "duration": 194,
    "start_time": "2023-04-27T19:03:06.259Z"
   },
   {
    "duration": 38,
    "start_time": "2023-04-27T19:03:06.456Z"
   },
   {
    "duration": 13,
    "start_time": "2023-04-27T19:03:06.496Z"
   },
   {
    "duration": 384,
    "start_time": "2023-04-27T19:03:06.511Z"
   },
   {
    "duration": 419,
    "start_time": "2023-04-27T19:03:06.897Z"
   },
   {
    "duration": 429,
    "start_time": "2023-04-27T19:03:07.318Z"
   },
   {
    "duration": 1005,
    "start_time": "2023-04-27T19:03:07.748Z"
   },
   {
    "duration": 8,
    "start_time": "2023-04-27T19:03:08.755Z"
   },
   {
    "duration": 7,
    "start_time": "2023-04-27T19:03:08.764Z"
   },
   {
    "duration": 39,
    "start_time": "2023-04-27T19:03:08.772Z"
   },
   {
    "duration": 1526,
    "start_time": "2023-04-27T19:03:13.906Z"
   },
   {
    "duration": 355,
    "start_time": "2023-04-27T19:05:11.824Z"
   },
   {
    "duration": 353,
    "start_time": "2023-04-27T19:05:27.207Z"
   },
   {
    "duration": 1617,
    "start_time": "2023-04-27T19:05:41.051Z"
   },
   {
    "duration": 285,
    "start_time": "2023-04-27T19:07:17.196Z"
   },
   {
    "duration": 115,
    "start_time": "2023-04-27T19:15:21.945Z"
   },
   {
    "duration": 397,
    "start_time": "2023-04-27T19:15:35.862Z"
   },
   {
    "duration": 3,
    "start_time": "2023-04-27T19:17:27.874Z"
   },
   {
    "duration": 232,
    "start_time": "2023-04-27T19:19:08.802Z"
   },
   {
    "duration": 14683,
    "start_time": "2023-04-27T19:19:18.496Z"
   },
   {
    "duration": 2583,
    "start_time": "2023-04-27T19:20:26.352Z"
   },
   {
    "duration": 23551,
    "start_time": "2023-04-27T19:20:46.723Z"
   },
   {
    "duration": 327,
    "start_time": "2023-04-27T19:21:31.733Z"
   },
   {
    "duration": 5242,
    "start_time": "2023-04-27T19:21:44.700Z"
   },
   {
    "duration": 7508,
    "start_time": "2023-04-27T19:21:54.061Z"
   },
   {
    "duration": 1986,
    "start_time": "2023-04-27T19:25:19.518Z"
   },
   {
    "duration": 1310,
    "start_time": "2023-04-27T19:27:50.722Z"
   },
   {
    "duration": 1864,
    "start_time": "2023-04-27T19:28:02.668Z"
   },
   {
    "duration": 1797,
    "start_time": "2023-04-27T19:28:13.502Z"
   },
   {
    "duration": 1701,
    "start_time": "2023-04-27T19:28:19.401Z"
   },
   {
    "duration": 1561,
    "start_time": "2023-04-27T19:28:27.365Z"
   },
   {
    "duration": 1597,
    "start_time": "2023-04-27T19:28:32.033Z"
   },
   {
    "duration": 1647,
    "start_time": "2023-04-27T19:28:36.353Z"
   },
   {
    "duration": 267,
    "start_time": "2023-04-27T19:29:31.954Z"
   },
   {
    "duration": 1509,
    "start_time": "2023-04-27T19:29:39.501Z"
   },
   {
    "duration": 264,
    "start_time": "2023-04-27T19:30:26.340Z"
   },
   {
    "duration": 235,
    "start_time": "2023-04-27T19:36:41.637Z"
   },
   {
    "duration": 2973,
    "start_time": "2023-04-27T19:36:51.397Z"
   },
   {
    "duration": 239,
    "start_time": "2023-04-27T20:19:11.143Z"
   },
   {
    "duration": 4,
    "start_time": "2023-04-27T20:19:27.405Z"
   },
   {
    "duration": 14,
    "start_time": "2023-04-27T20:19:30.826Z"
   },
   {
    "duration": 104,
    "start_time": "2023-04-27T20:20:42.149Z"
   },
   {
    "duration": 33578,
    "start_time": "2023-04-27T20:21:01.183Z"
   },
   {
    "duration": 33863,
    "start_time": "2023-04-27T20:28:46.592Z"
   },
   {
    "duration": 8756,
    "start_time": "2023-04-27T20:30:02.692Z"
   },
   {
    "duration": 34092,
    "start_time": "2023-04-27T20:30:17.986Z"
   },
   {
    "duration": 35290,
    "start_time": "2023-04-27T20:31:59.390Z"
   },
   {
    "duration": 35006,
    "start_time": "2023-04-27T20:33:57.310Z"
   },
   {
    "duration": 34105,
    "start_time": "2023-04-27T20:34:52.105Z"
   },
   {
    "duration": 184,
    "start_time": "2023-04-27T20:35:53.167Z"
   },
   {
    "duration": 169,
    "start_time": "2023-04-27T20:37:02.830Z"
   },
   {
    "duration": 156,
    "start_time": "2023-04-27T20:37:22.464Z"
   },
   {
    "duration": 164,
    "start_time": "2023-04-27T20:37:34.425Z"
   },
   {
    "duration": 164,
    "start_time": "2023-04-27T20:39:32.671Z"
   },
   {
    "duration": 169,
    "start_time": "2023-04-27T20:41:00.041Z"
   },
   {
    "duration": 156,
    "start_time": "2023-04-27T20:46:40.171Z"
   },
   {
    "duration": 54,
    "start_time": "2023-04-27T20:49:43.471Z"
   },
   {
    "duration": 161,
    "start_time": "2023-04-27T20:49:47.736Z"
   },
   {
    "duration": 165,
    "start_time": "2023-04-27T20:50:25.432Z"
   },
   {
    "duration": 151,
    "start_time": "2023-04-27T20:50:41.628Z"
   },
   {
    "duration": 150,
    "start_time": "2023-04-27T20:50:56.072Z"
   },
   {
    "duration": 172,
    "start_time": "2023-04-27T21:02:53.728Z"
   },
   {
    "duration": 127,
    "start_time": "2023-04-27T21:03:02.150Z"
   },
   {
    "duration": 153,
    "start_time": "2023-04-27T21:03:05.803Z"
   },
   {
    "duration": 151,
    "start_time": "2023-04-27T21:03:15.320Z"
   },
   {
    "duration": 174,
    "start_time": "2023-04-27T21:03:36.977Z"
   },
   {
    "duration": 190,
    "start_time": "2023-04-27T21:03:47.375Z"
   },
   {
    "duration": 185,
    "start_time": "2023-04-27T21:03:54.317Z"
   },
   {
    "duration": 154,
    "start_time": "2023-04-27T21:05:39.768Z"
   },
   {
    "duration": 158,
    "start_time": "2023-04-27T21:05:49.415Z"
   },
   {
    "duration": 205,
    "start_time": "2023-04-27T21:05:54.488Z"
   },
   {
    "duration": 486,
    "start_time": "2023-04-27T21:06:01.115Z"
   },
   {
    "duration": 161,
    "start_time": "2023-04-27T21:06:04.109Z"
   },
   {
    "duration": 166,
    "start_time": "2023-04-27T21:06:08.114Z"
   },
   {
    "duration": 125,
    "start_time": "2023-04-27T21:06:15.361Z"
   },
   {
    "duration": 167,
    "start_time": "2023-04-27T21:06:25.805Z"
   },
   {
    "duration": 169,
    "start_time": "2023-04-27T21:06:45.555Z"
   },
   {
    "duration": 172,
    "start_time": "2023-04-27T21:06:52.566Z"
   },
   {
    "duration": 1089,
    "start_time": "2023-04-27T21:34:34.854Z"
   },
   {
    "duration": 83,
    "start_time": "2023-04-27T21:34:35.945Z"
   },
   {
    "duration": 17,
    "start_time": "2023-04-27T21:34:36.030Z"
   },
   {
    "duration": 23,
    "start_time": "2023-04-27T21:34:36.049Z"
   },
   {
    "duration": 17,
    "start_time": "2023-04-27T21:34:36.075Z"
   },
   {
    "duration": 10,
    "start_time": "2023-04-27T21:34:36.093Z"
   },
   {
    "duration": 5,
    "start_time": "2023-04-27T21:34:36.105Z"
   },
   {
    "duration": 16,
    "start_time": "2023-04-27T21:34:36.111Z"
   },
   {
    "duration": 350,
    "start_time": "2023-04-27T21:34:36.128Z"
   },
   {
    "duration": 23,
    "start_time": "2023-04-27T21:34:36.479Z"
   },
   {
    "duration": 135,
    "start_time": "2023-04-27T21:34:36.503Z"
   },
   {
    "duration": 132,
    "start_time": "2023-04-27T21:34:36.640Z"
   },
   {
    "duration": 168,
    "start_time": "2023-04-27T21:34:36.774Z"
   },
   {
    "duration": 185,
    "start_time": "2023-04-27T21:34:36.945Z"
   },
   {
    "duration": 193,
    "start_time": "2023-04-27T21:34:37.132Z"
   },
   {
    "duration": 29,
    "start_time": "2023-04-27T21:34:37.327Z"
   },
   {
    "duration": 13,
    "start_time": "2023-04-27T21:34:37.358Z"
   },
   {
    "duration": 405,
    "start_time": "2023-04-27T21:34:37.373Z"
   },
   {
    "duration": 397,
    "start_time": "2023-04-27T21:34:37.780Z"
   },
   {
    "duration": 344,
    "start_time": "2023-04-27T21:34:38.178Z"
   },
   {
    "duration": 848,
    "start_time": "2023-04-27T21:34:38.524Z"
   },
   {
    "duration": 7,
    "start_time": "2023-04-27T21:34:39.373Z"
   },
   {
    "duration": 5,
    "start_time": "2023-04-27T21:34:39.392Z"
   },
   {
    "duration": 17,
    "start_time": "2023-04-27T21:34:39.399Z"
   },
   {
    "duration": 164,
    "start_time": "2023-04-27T21:34:39.418Z"
   },
   {
    "duration": 8,
    "start_time": "2023-04-27T21:37:40.116Z"
   },
   {
    "duration": 9,
    "start_time": "2023-04-27T21:37:43.774Z"
   },
   {
    "duration": 8,
    "start_time": "2023-04-27T21:37:47.040Z"
   },
   {
    "duration": 7,
    "start_time": "2023-04-27T21:37:54.300Z"
   },
   {
    "duration": 74,
    "start_time": "2023-04-28T09:40:11.486Z"
   },
   {
    "duration": 1440,
    "start_time": "2023-04-28T09:40:19.823Z"
   },
   {
    "duration": 391,
    "start_time": "2023-04-28T09:40:21.266Z"
   },
   {
    "duration": 20,
    "start_time": "2023-04-28T09:40:21.659Z"
   },
   {
    "duration": 24,
    "start_time": "2023-04-28T09:40:21.681Z"
   },
   {
    "duration": 13,
    "start_time": "2023-04-28T09:40:21.707Z"
   },
   {
    "duration": 14,
    "start_time": "2023-04-28T09:40:21.722Z"
   },
   {
    "duration": 6,
    "start_time": "2023-04-28T09:40:21.738Z"
   },
   {
    "duration": 58,
    "start_time": "2023-04-28T09:40:21.746Z"
   },
   {
    "duration": 426,
    "start_time": "2023-04-28T09:40:21.811Z"
   },
   {
    "duration": 13,
    "start_time": "2023-04-28T09:40:22.240Z"
   },
   {
    "duration": 184,
    "start_time": "2023-04-28T09:40:22.255Z"
   },
   {
    "duration": 159,
    "start_time": "2023-04-28T09:40:22.442Z"
   },
   {
    "duration": 217,
    "start_time": "2023-04-28T09:40:22.602Z"
   },
   {
    "duration": 241,
    "start_time": "2023-04-28T09:40:22.822Z"
   },
   {
    "duration": 233,
    "start_time": "2023-04-28T09:40:23.065Z"
   },
   {
    "duration": 40,
    "start_time": "2023-04-28T09:40:23.299Z"
   },
   {
    "duration": 16,
    "start_time": "2023-04-28T09:40:23.341Z"
   },
   {
    "duration": 592,
    "start_time": "2023-04-28T09:40:23.360Z"
   },
   {
    "duration": 425,
    "start_time": "2023-04-28T09:40:23.954Z"
   },
   {
    "duration": 470,
    "start_time": "2023-04-28T09:40:24.381Z"
   },
   {
    "duration": 1129,
    "start_time": "2023-04-28T09:40:24.853Z"
   },
   {
    "duration": 22,
    "start_time": "2023-04-28T09:40:25.984Z"
   },
   {
    "duration": 8,
    "start_time": "2023-04-28T09:40:26.013Z"
   },
   {
    "duration": 25,
    "start_time": "2023-04-28T09:40:26.023Z"
   },
   {
    "duration": 4068,
    "start_time": "2023-04-28T09:40:26.049Z"
   },
   {
    "duration": 4225,
    "start_time": "2023-04-28T09:46:37.914Z"
   },
   {
    "duration": 3750,
    "start_time": "2023-04-28T09:48:25.515Z"
   },
   {
    "duration": 11,
    "start_time": "2023-04-28T09:50:34.920Z"
   },
   {
    "duration": 4,
    "start_time": "2023-04-28T09:50:52.171Z"
   },
   {
    "duration": 14,
    "start_time": "2023-04-28T09:50:59.118Z"
   },
   {
    "duration": 3901,
    "start_time": "2023-04-28T09:51:15.560Z"
   },
   {
    "duration": 4,
    "start_time": "2023-04-28T09:51:33.376Z"
   },
   {
    "duration": 3872,
    "start_time": "2023-04-28T09:51:41.758Z"
   },
   {
    "duration": 628,
    "start_time": "2023-04-28T09:52:12.956Z"
   },
   {
    "duration": 4316,
    "start_time": "2023-04-28T09:52:19.016Z"
   },
   {
    "duration": 5144,
    "start_time": "2023-04-28T09:52:30.765Z"
   },
   {
    "duration": 5582,
    "start_time": "2023-04-28T09:52:37.439Z"
   },
   {
    "duration": 2,
    "start_time": "2023-04-28T09:54:49.839Z"
   },
   {
    "duration": 144,
    "start_time": "2023-04-28T09:54:57.688Z"
   },
   {
    "duration": 379,
    "start_time": "2023-04-28T09:55:19.066Z"
   },
   {
    "duration": 2009,
    "start_time": "2023-04-28T09:55:27.062Z"
   },
   {
    "duration": 1815,
    "start_time": "2023-04-28T09:55:45.008Z"
   },
   {
    "duration": 1704,
    "start_time": "2023-04-28T09:56:04.016Z"
   },
   {
    "duration": 1679,
    "start_time": "2023-04-28T09:56:32.330Z"
   },
   {
    "duration": 122,
    "start_time": "2023-04-28T09:56:37.884Z"
   },
   {
    "duration": 4012,
    "start_time": "2023-04-28T09:57:16.241Z"
   },
   {
    "duration": 2534,
    "start_time": "2023-04-28T09:57:31.030Z"
   },
   {
    "duration": 2429,
    "start_time": "2023-04-28T09:57:59.570Z"
   },
   {
    "duration": 2205,
    "start_time": "2023-04-28T09:58:29.782Z"
   },
   {
    "duration": 2919,
    "start_time": "2023-04-28T09:58:35.892Z"
   },
   {
    "duration": 2257,
    "start_time": "2023-04-28T09:58:42.395Z"
   },
   {
    "duration": 2230,
    "start_time": "2023-04-28T09:58:49.919Z"
   },
   {
    "duration": 2046,
    "start_time": "2023-04-28T09:58:54.349Z"
   },
   {
    "duration": 2166,
    "start_time": "2023-04-28T09:58:57.358Z"
   },
   {
    "duration": 2328,
    "start_time": "2023-04-28T09:59:00.704Z"
   },
   {
    "duration": 2337,
    "start_time": "2023-04-28T09:59:06.593Z"
   },
   {
    "duration": 72,
    "start_time": "2023-04-28T09:59:54.723Z"
   },
   {
    "duration": 2202,
    "start_time": "2023-04-28T09:59:59.060Z"
   },
   {
    "duration": 2134,
    "start_time": "2023-04-28T10:00:08.977Z"
   },
   {
    "duration": 2238,
    "start_time": "2023-04-28T10:00:15.299Z"
   },
   {
    "duration": 2095,
    "start_time": "2023-04-28T10:00:41.839Z"
   },
   {
    "duration": 2126,
    "start_time": "2023-04-28T10:00:51.477Z"
   },
   {
    "duration": 2252,
    "start_time": "2023-04-28T10:02:36.042Z"
   },
   {
    "duration": 2253,
    "start_time": "2023-04-28T10:02:40.192Z"
   },
   {
    "duration": 375,
    "start_time": "2023-04-28T10:03:54.727Z"
   },
   {
    "duration": 315,
    "start_time": "2023-04-28T10:04:04.080Z"
   },
   {
    "duration": 354,
    "start_time": "2023-04-28T10:04:14.850Z"
   },
   {
    "duration": 312,
    "start_time": "2023-04-28T10:04:36.042Z"
   },
   {
    "duration": 2363,
    "start_time": "2023-04-28T10:04:42.185Z"
   },
   {
    "duration": 1120,
    "start_time": "2023-04-28T11:00:14.039Z"
   },
   {
    "duration": 101,
    "start_time": "2023-04-28T11:00:15.161Z"
   },
   {
    "duration": 21,
    "start_time": "2023-04-28T11:00:15.264Z"
   },
   {
    "duration": 26,
    "start_time": "2023-04-28T11:00:15.287Z"
   },
   {
    "duration": 15,
    "start_time": "2023-04-28T11:00:15.315Z"
   },
   {
    "duration": 15,
    "start_time": "2023-04-28T11:00:15.332Z"
   },
   {
    "duration": 5,
    "start_time": "2023-04-28T11:00:15.349Z"
   },
   {
    "duration": 18,
    "start_time": "2023-04-28T11:00:15.355Z"
   },
   {
    "duration": 449,
    "start_time": "2023-04-28T11:00:15.374Z"
   },
   {
    "duration": 14,
    "start_time": "2023-04-28T11:00:15.827Z"
   },
   {
    "duration": 169,
    "start_time": "2023-04-28T11:00:15.843Z"
   },
   {
    "duration": 138,
    "start_time": "2023-04-28T11:00:16.014Z"
   },
   {
    "duration": 204,
    "start_time": "2023-04-28T11:00:16.154Z"
   },
   {
    "duration": 212,
    "start_time": "2023-04-28T11:00:16.360Z"
   },
   {
    "duration": 211,
    "start_time": "2023-04-28T11:00:16.574Z"
   },
   {
    "duration": 42,
    "start_time": "2023-04-28T11:00:16.791Z"
   },
   {
    "duration": 37,
    "start_time": "2023-04-28T11:00:16.835Z"
   },
   {
    "duration": 389,
    "start_time": "2023-04-28T11:00:16.874Z"
   },
   {
    "duration": 496,
    "start_time": "2023-04-28T11:00:17.266Z"
   },
   {
    "duration": 464,
    "start_time": "2023-04-28T11:00:17.763Z"
   },
   {
    "duration": 1075,
    "start_time": "2023-04-28T11:00:18.230Z"
   },
   {
    "duration": 10,
    "start_time": "2023-04-28T11:00:19.307Z"
   },
   {
    "duration": 11,
    "start_time": "2023-04-28T11:00:19.319Z"
   },
   {
    "duration": 19,
    "start_time": "2023-04-28T11:00:19.332Z"
   },
   {
    "duration": 2102,
    "start_time": "2023-04-28T11:00:19.352Z"
   },
   {
    "duration": 190,
    "start_time": "2023-04-28T11:00:21.456Z"
   },
   {
    "duration": 1233,
    "start_time": "2023-04-29T06:22:10.900Z"
   },
   {
    "duration": 196,
    "start_time": "2023-04-29T06:22:12.135Z"
   },
   {
    "duration": 20,
    "start_time": "2023-04-29T06:22:12.333Z"
   },
   {
    "duration": 15,
    "start_time": "2023-04-29T06:22:12.357Z"
   },
   {
    "duration": 10,
    "start_time": "2023-04-29T06:22:12.374Z"
   },
   {
    "duration": 11,
    "start_time": "2023-04-29T06:22:12.386Z"
   },
   {
    "duration": 5,
    "start_time": "2023-04-29T06:22:12.399Z"
   },
   {
    "duration": 22,
    "start_time": "2023-04-29T06:22:12.406Z"
   },
   {
    "duration": 359,
    "start_time": "2023-04-29T06:22:12.430Z"
   },
   {
    "duration": 11,
    "start_time": "2023-04-29T06:22:12.791Z"
   },
   {
    "duration": 140,
    "start_time": "2023-04-29T06:22:12.803Z"
   },
   {
    "duration": 118,
    "start_time": "2023-04-29T06:22:12.945Z"
   },
   {
    "duration": 188,
    "start_time": "2023-04-29T06:22:13.065Z"
   },
   {
    "duration": 184,
    "start_time": "2023-04-29T06:22:13.255Z"
   },
   {
    "duration": 186,
    "start_time": "2023-04-29T06:22:13.440Z"
   },
   {
    "duration": 24,
    "start_time": "2023-04-29T06:22:13.627Z"
   },
   {
    "duration": 12,
    "start_time": "2023-04-29T06:22:13.653Z"
   },
   {
    "duration": 375,
    "start_time": "2023-04-29T06:22:13.683Z"
   },
   {
    "duration": 378,
    "start_time": "2023-04-29T06:22:14.060Z"
   },
   {
    "duration": 309,
    "start_time": "2023-04-29T06:22:14.440Z"
   },
   {
    "duration": 916,
    "start_time": "2023-04-29T06:22:14.752Z"
   },
   {
    "duration": 15,
    "start_time": "2023-04-29T06:22:15.670Z"
   },
   {
    "duration": 6,
    "start_time": "2023-04-29T06:22:15.688Z"
   },
   {
    "duration": 18,
    "start_time": "2023-04-29T06:22:15.696Z"
   },
   {
    "duration": 1662,
    "start_time": "2023-04-29T06:22:15.716Z"
   },
   {
    "duration": 159,
    "start_time": "2023-04-29T06:22:17.384Z"
   },
   {
    "duration": 5,
    "start_time": "2023-04-29T06:30:09.112Z"
   },
   {
    "duration": 119,
    "start_time": "2023-04-29T06:30:31.508Z"
   },
   {
    "duration": 8,
    "start_time": "2023-04-29T06:32:10.992Z"
   },
   {
    "duration": 62,
    "start_time": "2023-04-29T12:21:40.064Z"
   },
   {
    "duration": 1388,
    "start_time": "2023-04-29T12:21:45.547Z"
   },
   {
    "duration": 341,
    "start_time": "2023-04-29T12:21:46.938Z"
   },
   {
    "duration": 26,
    "start_time": "2023-04-29T12:21:47.281Z"
   },
   {
    "duration": 18,
    "start_time": "2023-04-29T12:21:47.310Z"
   },
   {
    "duration": 11,
    "start_time": "2023-04-29T12:21:47.330Z"
   },
   {
    "duration": 15,
    "start_time": "2023-04-29T12:21:47.343Z"
   },
   {
    "duration": 16,
    "start_time": "2023-04-29T12:21:47.392Z"
   },
   {
    "duration": 32,
    "start_time": "2023-04-29T12:21:47.410Z"
   },
   {
    "duration": 32,
    "start_time": "2023-04-29T12:22:21.923Z"
   },
   {
    "duration": 26,
    "start_time": "2023-04-29T12:23:15.956Z"
   },
   {
    "duration": 47,
    "start_time": "2023-04-29T12:23:19.929Z"
   },
   {
    "duration": 32,
    "start_time": "2023-04-29T12:23:24.567Z"
   },
   {
    "duration": 21,
    "start_time": "2023-04-29T12:23:34.017Z"
   },
   {
    "duration": 30,
    "start_time": "2023-04-29T12:26:02.771Z"
   },
   {
    "duration": 31,
    "start_time": "2023-04-29T12:26:25.911Z"
   },
   {
    "duration": 73,
    "start_time": "2023-04-29T12:30:59.706Z"
   },
   {
    "duration": 9,
    "start_time": "2023-04-29T12:35:23.837Z"
   },
   {
    "duration": 1278,
    "start_time": "2023-04-29T12:35:28.017Z"
   },
   {
    "duration": 108,
    "start_time": "2023-04-29T12:35:29.298Z"
   },
   {
    "duration": 25,
    "start_time": "2023-04-29T12:35:29.408Z"
   },
   {
    "duration": 22,
    "start_time": "2023-04-29T12:35:29.436Z"
   },
   {
    "duration": 14,
    "start_time": "2023-04-29T12:35:29.461Z"
   },
   {
    "duration": 25,
    "start_time": "2023-04-29T12:35:29.491Z"
   },
   {
    "duration": 7,
    "start_time": "2023-04-29T12:35:29.526Z"
   },
   {
    "duration": 23,
    "start_time": "2023-04-29T12:35:29.535Z"
   },
   {
    "duration": 482,
    "start_time": "2023-04-29T12:35:29.560Z"
   },
   {
    "duration": 18,
    "start_time": "2023-04-29T12:35:30.045Z"
   },
   {
    "duration": 194,
    "start_time": "2023-04-29T12:35:30.066Z"
   },
   {
    "duration": 48,
    "start_time": "2023-04-29T12:37:31.412Z"
   },
   {
    "duration": 170,
    "start_time": "2023-04-29T12:40:04.143Z"
   },
   {
    "duration": 146,
    "start_time": "2023-04-29T12:40:12.634Z"
   },
   {
    "duration": 150,
    "start_time": "2023-04-29T12:40:19.965Z"
   },
   {
    "duration": 152,
    "start_time": "2023-04-29T12:40:21.916Z"
   },
   {
    "duration": 90,
    "start_time": "2023-04-29T12:42:55.479Z"
   },
   {
    "duration": 63,
    "start_time": "2023-04-29T12:43:23.180Z"
   },
   {
    "duration": 111,
    "start_time": "2023-04-29T12:44:06.912Z"
   },
   {
    "duration": 67,
    "start_time": "2023-04-29T12:44:19.403Z"
   },
   {
    "duration": 155,
    "start_time": "2023-04-29T12:44:26.023Z"
   },
   {
    "duration": 78,
    "start_time": "2023-04-29T12:45:24.980Z"
   },
   {
    "duration": 51,
    "start_time": "2023-04-29T12:47:45.740Z"
   },
   {
    "duration": 56,
    "start_time": "2023-04-29T12:47:49.062Z"
   },
   {
    "duration": 10,
    "start_time": "2023-04-29T12:53:36.055Z"
   },
   {
    "duration": 3,
    "start_time": "2023-04-29T12:53:40.693Z"
   },
   {
    "duration": 80,
    "start_time": "2023-04-29T12:53:40.716Z"
   },
   {
    "duration": 17,
    "start_time": "2023-04-29T12:53:40.798Z"
   },
   {
    "duration": 15,
    "start_time": "2023-04-29T12:53:40.817Z"
   },
   {
    "duration": 42,
    "start_time": "2023-04-29T12:53:40.834Z"
   },
   {
    "duration": 21,
    "start_time": "2023-04-29T12:53:40.880Z"
   },
   {
    "duration": 10,
    "start_time": "2023-04-29T12:53:40.903Z"
   },
   {
    "duration": 33,
    "start_time": "2023-04-29T12:53:40.915Z"
   },
   {
    "duration": 365,
    "start_time": "2023-04-29T12:53:40.950Z"
   },
   {
    "duration": 11,
    "start_time": "2023-04-29T12:53:41.316Z"
   },
   {
    "duration": 162,
    "start_time": "2023-04-29T12:53:41.329Z"
   },
   {
    "duration": 77,
    "start_time": "2023-04-29T12:53:41.493Z"
   },
   {
    "duration": 217,
    "start_time": "2023-04-29T12:53:41.572Z"
   },
   {
    "duration": 211,
    "start_time": "2023-04-29T12:53:41.791Z"
   },
   {
    "duration": 199,
    "start_time": "2023-04-29T12:53:42.004Z"
   },
   {
    "duration": 28,
    "start_time": "2023-04-29T12:53:42.205Z"
   },
   {
    "duration": 3,
    "start_time": "2023-04-29T12:53:42.235Z"
   },
   {
    "duration": 22,
    "start_time": "2023-04-29T12:53:42.239Z"
   },
   {
    "duration": 404,
    "start_time": "2023-04-29T12:53:42.263Z"
   },
   {
    "duration": 417,
    "start_time": "2023-04-29T12:53:42.668Z"
   },
   {
    "duration": 55,
    "start_time": "2023-04-29T12:54:39.021Z"
   },
   {
    "duration": 381,
    "start_time": "2023-04-29T12:54:43.921Z"
   },
   {
    "duration": 417,
    "start_time": "2023-04-29T12:55:02.761Z"
   },
   {
    "duration": 450,
    "start_time": "2023-04-29T12:56:46.482Z"
   },
   {
    "duration": 634,
    "start_time": "2023-04-29T12:58:29.660Z"
   },
   {
    "duration": 521,
    "start_time": "2023-04-29T12:58:58.917Z"
   },
   {
    "duration": 512,
    "start_time": "2023-04-29T13:01:04.218Z"
   },
   {
    "duration": 573,
    "start_time": "2023-04-29T13:01:10.330Z"
   },
   {
    "duration": 655,
    "start_time": "2023-04-29T13:01:17.730Z"
   },
   {
    "duration": 290,
    "start_time": "2023-04-29T13:02:13.362Z"
   },
   {
    "duration": 495,
    "start_time": "2023-04-29T13:02:39.537Z"
   },
   {
    "duration": 327,
    "start_time": "2023-04-29T13:02:56.101Z"
   },
   {
    "duration": 329,
    "start_time": "2023-04-29T13:03:47.435Z"
   },
   {
    "duration": 342,
    "start_time": "2023-04-29T13:03:53.189Z"
   },
   {
    "duration": 345,
    "start_time": "2023-04-29T13:04:25.205Z"
   },
   {
    "duration": 464,
    "start_time": "2023-04-29T13:05:34.658Z"
   },
   {
    "duration": 369,
    "start_time": "2023-04-29T13:06:31.861Z"
   },
   {
    "duration": 27,
    "start_time": "2023-04-29T13:12:53.011Z"
   },
   {
    "duration": 28,
    "start_time": "2023-04-29T13:12:59.425Z"
   },
   {
    "duration": 1127,
    "start_time": "2023-04-29T13:24:32.049Z"
   },
   {
    "duration": 96,
    "start_time": "2023-04-29T13:24:33.178Z"
   },
   {
    "duration": 19,
    "start_time": "2023-04-29T13:24:33.276Z"
   },
   {
    "duration": 18,
    "start_time": "2023-04-29T13:24:33.298Z"
   },
   {
    "duration": 8,
    "start_time": "2023-04-29T13:24:33.319Z"
   },
   {
    "duration": 13,
    "start_time": "2023-04-29T13:24:33.329Z"
   },
   {
    "duration": 11,
    "start_time": "2023-04-29T13:24:33.343Z"
   },
   {
    "duration": 48,
    "start_time": "2023-04-29T13:24:33.356Z"
   },
   {
    "duration": 413,
    "start_time": "2023-04-29T13:24:33.406Z"
   },
   {
    "duration": 13,
    "start_time": "2023-04-29T13:24:33.821Z"
   },
   {
    "duration": 172,
    "start_time": "2023-04-29T13:24:33.835Z"
   },
   {
    "duration": 91,
    "start_time": "2023-04-29T13:24:34.009Z"
   },
   {
    "duration": 203,
    "start_time": "2023-04-29T13:24:34.103Z"
   },
   {
    "duration": 203,
    "start_time": "2023-04-29T13:24:34.309Z"
   },
   {
    "duration": 225,
    "start_time": "2023-04-29T13:24:34.516Z"
   },
   {
    "duration": 49,
    "start_time": "2023-04-29T13:24:34.742Z"
   },
   {
    "duration": 10,
    "start_time": "2023-04-29T13:24:34.792Z"
   },
   {
    "duration": 41,
    "start_time": "2023-04-29T13:24:34.804Z"
   },
   {
    "duration": 405,
    "start_time": "2023-04-29T13:24:34.847Z"
   },
   {
    "duration": 471,
    "start_time": "2023-04-29T13:24:35.255Z"
   },
   {
    "duration": 1186,
    "start_time": "2023-04-29T13:24:35.728Z"
   },
   {
    "duration": 1105,
    "start_time": "2023-04-29T13:34:15.254Z"
   },
   {
    "duration": 1152,
    "start_time": "2023-04-29T13:34:25.147Z"
   },
   {
    "duration": 1315,
    "start_time": "2023-04-29T13:35:09.288Z"
   },
   {
    "duration": 1236,
    "start_time": "2023-04-29T13:37:20.442Z"
   },
   {
    "duration": 1170,
    "start_time": "2023-04-29T13:37:36.659Z"
   },
   {
    "duration": 1185,
    "start_time": "2023-04-29T13:38:45.776Z"
   },
   {
    "duration": 1272,
    "start_time": "2023-04-29T13:38:52.834Z"
   },
   {
    "duration": 8,
    "start_time": "2023-04-29T13:39:00.493Z"
   },
   {
    "duration": 115,
    "start_time": "2023-04-29T13:47:09.624Z"
   },
   {
    "duration": 9,
    "start_time": "2023-04-29T13:47:20.254Z"
   },
   {
    "duration": 16,
    "start_time": "2023-04-29T13:49:13.530Z"
   },
   {
    "duration": 10,
    "start_time": "2023-04-29T13:49:23.106Z"
   },
   {
    "duration": 22,
    "start_time": "2023-04-29T13:53:48.537Z"
   },
   {
    "duration": 21,
    "start_time": "2023-04-29T13:54:22.235Z"
   },
   {
    "duration": 22,
    "start_time": "2023-04-29T13:54:29.925Z"
   },
   {
    "duration": 19,
    "start_time": "2023-04-29T13:54:37.753Z"
   },
   {
    "duration": 24,
    "start_time": "2023-04-29T13:56:42.543Z"
   },
   {
    "duration": 525,
    "start_time": "2023-04-29T14:01:18.022Z"
   },
   {
    "duration": 437,
    "start_time": "2023-04-29T14:02:09.922Z"
   },
   {
    "duration": 403,
    "start_time": "2023-04-29T14:03:00.242Z"
   },
   {
    "duration": 533,
    "start_time": "2023-04-29T14:04:31.019Z"
   },
   {
    "duration": 379,
    "start_time": "2023-04-29T14:04:50.673Z"
   },
   {
    "duration": 58,
    "start_time": "2023-04-29T14:06:13.524Z"
   },
   {
    "duration": 317,
    "start_time": "2023-04-29T14:06:17.764Z"
   },
   {
    "duration": 329,
    "start_time": "2023-04-29T14:06:52.325Z"
   },
   {
    "duration": 525,
    "start_time": "2023-04-29T14:07:29.214Z"
   },
   {
    "duration": 1203,
    "start_time": "2023-04-29T14:09:32.758Z"
   },
   {
    "duration": 125,
    "start_time": "2023-04-29T14:09:33.963Z"
   },
   {
    "duration": 27,
    "start_time": "2023-04-29T14:09:34.090Z"
   },
   {
    "duration": 18,
    "start_time": "2023-04-29T14:09:34.119Z"
   },
   {
    "duration": 7,
    "start_time": "2023-04-29T14:09:34.139Z"
   },
   {
    "duration": 12,
    "start_time": "2023-04-29T14:09:34.148Z"
   },
   {
    "duration": 36,
    "start_time": "2023-04-29T14:09:34.162Z"
   },
   {
    "duration": 29,
    "start_time": "2023-04-29T14:09:34.200Z"
   },
   {
    "duration": 429,
    "start_time": "2023-04-29T14:09:34.231Z"
   },
   {
    "duration": 14,
    "start_time": "2023-04-29T14:09:34.661Z"
   },
   {
    "duration": 195,
    "start_time": "2023-04-29T14:09:34.677Z"
   },
   {
    "duration": 96,
    "start_time": "2023-04-29T14:09:34.874Z"
   },
   {
    "duration": 210,
    "start_time": "2023-04-29T14:09:34.972Z"
   },
   {
    "duration": 217,
    "start_time": "2023-04-29T14:09:35.191Z"
   },
   {
    "duration": 215,
    "start_time": "2023-04-29T14:09:35.410Z"
   },
   {
    "duration": 29,
    "start_time": "2023-04-29T14:09:35.626Z"
   },
   {
    "duration": 5,
    "start_time": "2023-04-29T14:09:35.657Z"
   },
   {
    "duration": 34,
    "start_time": "2023-04-29T14:09:35.664Z"
   },
   {
    "duration": 454,
    "start_time": "2023-04-29T14:09:35.701Z"
   },
   {
    "duration": 503,
    "start_time": "2023-04-29T14:09:36.156Z"
   },
   {
    "duration": 1293,
    "start_time": "2023-04-29T14:09:36.661Z"
   },
   {
    "duration": 9,
    "start_time": "2023-04-29T14:09:37.957Z"
   },
   {
    "duration": 26,
    "start_time": "2023-04-29T14:09:37.967Z"
   },
   {
    "duration": 27,
    "start_time": "2023-04-29T14:09:37.994Z"
   },
   {
    "duration": 22,
    "start_time": "2023-04-29T14:09:38.022Z"
   },
   {
    "duration": 629,
    "start_time": "2023-04-29T14:09:38.046Z"
   },
   {
    "duration": 2437,
    "start_time": "2023-04-29T14:11:20.186Z"
   },
   {
    "duration": 572,
    "start_time": "2023-04-29T14:12:00.833Z"
   },
   {
    "duration": 2270,
    "start_time": "2023-04-29T14:12:04.163Z"
   },
   {
    "duration": 2350,
    "start_time": "2023-04-29T14:12:24.622Z"
   },
   {
    "duration": 2217,
    "start_time": "2023-04-29T14:12:32.048Z"
   },
   {
    "duration": 511,
    "start_time": "2023-04-29T14:13:03.480Z"
   },
   {
    "duration": 2170,
    "start_time": "2023-04-29T14:13:12.241Z"
   },
   {
    "duration": 2148,
    "start_time": "2023-04-29T14:13:48.553Z"
   },
   {
    "duration": 2115,
    "start_time": "2023-04-29T14:14:07.721Z"
   },
   {
    "duration": 2119,
    "start_time": "2023-04-29T14:14:13.920Z"
   },
   {
    "duration": 2596,
    "start_time": "2023-04-29T14:14:43.831Z"
   },
   {
    "duration": 2347,
    "start_time": "2023-04-29T14:14:55.634Z"
   },
   {
    "duration": 514,
    "start_time": "2023-04-29T14:15:23.448Z"
   },
   {
    "duration": 2292,
    "start_time": "2023-04-29T14:15:28.230Z"
   },
   {
    "duration": 131,
    "start_time": "2023-04-29T14:16:54.578Z"
   },
   {
    "duration": 2262,
    "start_time": "2023-04-29T14:17:04.842Z"
   },
   {
    "duration": 2179,
    "start_time": "2023-04-29T14:17:55.450Z"
   },
   {
    "duration": 2095,
    "start_time": "2023-04-29T14:18:55.638Z"
   },
   {
    "duration": 2125,
    "start_time": "2023-04-29T14:19:19.887Z"
   },
   {
    "duration": 2127,
    "start_time": "2023-04-29T14:19:25.235Z"
   },
   {
    "duration": 1987,
    "start_time": "2023-04-29T14:19:34.266Z"
   },
   {
    "duration": 1953,
    "start_time": "2023-04-29T14:19:41.978Z"
   },
   {
    "duration": 2068,
    "start_time": "2023-04-29T14:19:47.234Z"
   },
   {
    "duration": 467,
    "start_time": "2023-04-29T14:20:06.832Z"
   },
   {
    "duration": 2043,
    "start_time": "2023-04-29T14:20:22.434Z"
   },
   {
    "duration": 170,
    "start_time": "2023-04-29T14:20:50.446Z"
   },
   {
    "duration": 2122,
    "start_time": "2023-04-29T14:20:56.086Z"
   },
   {
    "duration": 2148,
    "start_time": "2023-04-29T14:24:34.262Z"
   },
   {
    "duration": 2156,
    "start_time": "2023-04-29T14:26:56.947Z"
   },
   {
    "duration": 2062,
    "start_time": "2023-04-29T14:27:52.167Z"
   },
   {
    "duration": 2095,
    "start_time": "2023-04-29T14:27:57.326Z"
   },
   {
    "duration": 2065,
    "start_time": "2023-04-29T14:28:14.417Z"
   },
   {
    "duration": 2052,
    "start_time": "2023-04-29T14:28:47.884Z"
   },
   {
    "duration": 2095,
    "start_time": "2023-04-29T14:28:58.337Z"
   },
   {
    "duration": 67,
    "start_time": "2023-04-29T14:29:33.589Z"
   },
   {
    "duration": 2143,
    "start_time": "2023-04-29T14:29:38.186Z"
   },
   {
    "duration": 2047,
    "start_time": "2023-04-29T14:29:54.057Z"
   },
   {
    "duration": 1955,
    "start_time": "2023-04-29T14:30:26.046Z"
   },
   {
    "duration": 2188,
    "start_time": "2023-04-29T14:30:55.965Z"
   },
   {
    "duration": 2021,
    "start_time": "2023-04-29T14:31:03.181Z"
   },
   {
    "duration": 1976,
    "start_time": "2023-04-29T14:31:24.159Z"
   },
   {
    "duration": 1988,
    "start_time": "2023-04-29T14:31:41.389Z"
   },
   {
    "duration": 2022,
    "start_time": "2023-04-29T14:31:52.789Z"
   },
   {
    "duration": 1948,
    "start_time": "2023-04-29T14:31:57.336Z"
   },
   {
    "duration": 2002,
    "start_time": "2023-04-29T14:32:13.102Z"
   },
   {
    "duration": 2005,
    "start_time": "2023-04-29T14:32:18.664Z"
   },
   {
    "duration": 1930,
    "start_time": "2023-04-29T14:32:32.702Z"
   },
   {
    "duration": 1974,
    "start_time": "2023-04-29T14:32:37.366Z"
   },
   {
    "duration": 2140,
    "start_time": "2023-04-29T14:33:00.932Z"
   },
   {
    "duration": 2105,
    "start_time": "2023-04-29T14:33:29.467Z"
   },
   {
    "duration": 61,
    "start_time": "2023-04-29T14:34:24.772Z"
   },
   {
    "duration": 1962,
    "start_time": "2023-04-29T14:34:27.903Z"
   },
   {
    "duration": 1991,
    "start_time": "2023-04-29T14:34:44.161Z"
   },
   {
    "duration": 2126,
    "start_time": "2023-04-29T14:34:51.051Z"
   },
   {
    "duration": 2040,
    "start_time": "2023-04-29T14:34:55.395Z"
   },
   {
    "duration": 2065,
    "start_time": "2023-04-29T14:35:44.341Z"
   },
   {
    "duration": 2212,
    "start_time": "2023-04-29T14:37:37.549Z"
   },
   {
    "duration": 2540,
    "start_time": "2023-04-29T14:38:05.533Z"
   },
   {
    "duration": 2410,
    "start_time": "2023-04-29T14:38:30.836Z"
   },
   {
    "duration": 2337,
    "start_time": "2023-04-29T14:38:44.473Z"
   },
   {
    "duration": 2617,
    "start_time": "2023-04-29T14:39:52.831Z"
   },
   {
    "duration": 2867,
    "start_time": "2023-04-29T14:39:59.382Z"
   },
   {
    "duration": 2583,
    "start_time": "2023-04-29T14:40:13.729Z"
   },
   {
    "duration": 2470,
    "start_time": "2023-04-29T14:41:10.447Z"
   },
   {
    "duration": 2425,
    "start_time": "2023-04-29T14:47:40.044Z"
   },
   {
    "duration": 2415,
    "start_time": "2023-04-29T14:47:45.914Z"
   },
   {
    "duration": 2378,
    "start_time": "2023-04-29T14:48:18.218Z"
   },
   {
    "duration": 2276,
    "start_time": "2023-04-29T14:48:27.688Z"
   },
   {
    "duration": 38,
    "start_time": "2023-04-29T15:11:22.563Z"
   },
   {
    "duration": 24,
    "start_time": "2023-04-29T15:13:46.187Z"
   },
   {
    "duration": 10,
    "start_time": "2023-04-29T15:14:11.055Z"
   },
   {
    "duration": 1348,
    "start_time": "2023-04-30T11:54:47.420Z"
   },
   {
    "duration": 520,
    "start_time": "2023-04-30T11:54:48.771Z"
   },
   {
    "duration": 35,
    "start_time": "2023-04-30T11:54:49.293Z"
   },
   {
    "duration": 17,
    "start_time": "2023-04-30T11:54:49.330Z"
   },
   {
    "duration": 15,
    "start_time": "2023-04-30T11:54:49.349Z"
   },
   {
    "duration": 20,
    "start_time": "2023-04-30T11:54:49.366Z"
   },
   {
    "duration": 6,
    "start_time": "2023-04-30T11:54:49.387Z"
   },
   {
    "duration": 26,
    "start_time": "2023-04-30T11:54:49.401Z"
   },
   {
    "duration": 471,
    "start_time": "2023-04-30T11:54:49.429Z"
   },
   {
    "duration": 23,
    "start_time": "2023-04-30T11:54:49.906Z"
   },
   {
    "duration": 185,
    "start_time": "2023-04-30T11:54:49.931Z"
   },
   {
    "duration": 98,
    "start_time": "2023-04-30T11:54:50.118Z"
   },
   {
    "duration": 209,
    "start_time": "2023-04-30T11:54:50.219Z"
   },
   {
    "duration": 244,
    "start_time": "2023-04-30T11:54:50.433Z"
   },
   {
    "duration": 241,
    "start_time": "2023-04-30T11:54:50.679Z"
   },
   {
    "duration": 38,
    "start_time": "2023-04-30T11:54:50.922Z"
   },
   {
    "duration": 4,
    "start_time": "2023-04-30T11:54:50.962Z"
   },
   {
    "duration": 34,
    "start_time": "2023-04-30T11:54:50.968Z"
   },
   {
    "duration": 477,
    "start_time": "2023-04-30T11:54:51.004Z"
   },
   {
    "duration": 596,
    "start_time": "2023-04-30T11:54:51.483Z"
   },
   {
    "duration": 1394,
    "start_time": "2023-04-30T11:54:52.090Z"
   },
   {
    "duration": 6,
    "start_time": "2023-04-30T11:54:53.486Z"
   },
   {
    "duration": 27,
    "start_time": "2023-04-30T11:54:53.508Z"
   },
   {
    "duration": 28,
    "start_time": "2023-04-30T11:54:53.537Z"
   },
   {
    "duration": 59,
    "start_time": "2023-04-30T11:54:53.567Z"
   },
   {
    "duration": 2345,
    "start_time": "2023-04-30T11:54:53.633Z"
   },
   {
    "duration": 230,
    "start_time": "2023-04-30T11:54:55.980Z"
   },
   {
    "duration": 276,
    "start_time": "2023-04-30T11:59:22.853Z"
   },
   {
    "duration": 84,
    "start_time": "2023-04-30T11:59:34.633Z"
   },
   {
    "duration": 119,
    "start_time": "2023-04-30T12:00:32.124Z"
   },
   {
    "duration": 109,
    "start_time": "2023-04-30T12:00:42.882Z"
   },
   {
    "duration": 97,
    "start_time": "2023-04-30T12:00:49.257Z"
   }
  ],
  "kernelspec": {
   "display_name": "Python 3 (ipykernel)",
   "language": "python",
   "name": "python3"
  },
  "language_info": {
   "codemirror_mode": {
    "name": "ipython",
    "version": 3
   },
   "file_extension": ".py",
   "mimetype": "text/x-python",
   "name": "python",
   "nbconvert_exporter": "python",
   "pygments_lexer": "ipython3",
   "version": "3.9.5"
  },
  "toc": {
   "base_numbering": 1,
   "nav_menu": {},
   "number_sections": true,
   "sideBar": true,
   "skip_h1_title": true,
   "title_cell": "Table of Contents",
   "title_sidebar": "Contents",
   "toc_cell": false,
   "toc_position": {},
   "toc_section_display": true,
   "toc_window_display": true
  }
 },
 "nbformat": 4,
 "nbformat_minor": 5
}
