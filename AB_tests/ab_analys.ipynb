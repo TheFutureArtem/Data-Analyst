{
 "cells": [
  {
   "cell_type": "markdown",
   "metadata": {},
   "source": [
    "# Анализ результатов А/В-теста\n",
    "\n",
    "В нашем распоряжении данные о гипотезах, заказах и группах A/B тестирования во все дни проведения теста\n",
    "\n",
    "Вместе с отделом маркетинга был подготовлен список гипотез для увеличения выручки.\n",
    "Нужно приоритизировать гипотезы, запустить A/B-тест и проанализировать результаты.\n",
    "\n",
    "**Цели исследования:**\n",
    "\n",
    "- приоритизировать гипотезы\n",
    "\n",
    "- провести анализ A/B тестирования\n",
    "\n",
    "**Ход исследования:**\n",
    "\n",
    "1. Обзор данных\n",
    "2. Предобработка данных\n",
    "3. Приоритизация гипотез\n",
    "4. Анализ A/B теста\n",
    "5. Общий вывод"
   ]
  },
  {
   "cell_type": "code",
   "execution_count": 1,
   "metadata": {},
   "outputs": [],
   "source": [
    "# Импортируем нужные нам библиотеки\n",
    "\n",
    "import pandas as pd\n",
    "import scipy.stats as st\n",
    "import numpy as np\n",
    "import matplotlib.pyplot as plt"
   ]
  },
  {
   "cell_type": "markdown",
   "metadata": {},
   "source": [
    "## Обзор данных"
   ]
  },
  {
   "cell_type": "code",
   "execution_count": 2,
   "metadata": {},
   "outputs": [],
   "source": [
    "# Записываем данные из файлов в переменные\n",
    "\n",
    "hypothesis = pd.read_csv('/datasets/hypothesis.csv')\n",
    "orders = pd.read_csv('/datasets/orders.csv')\n",
    "visitors = pd.read_csv('/datasets/visitors.csv')"
   ]
  },
  {
   "cell_type": "code",
   "execution_count": 3,
   "metadata": {},
   "outputs": [
    {
     "name": "stdout",
     "output_type": "stream",
     "text": [
      "<class 'pandas.core.frame.DataFrame'>\n",
      "RangeIndex: 9 entries, 0 to 8\n",
      "Data columns (total 5 columns):\n",
      " #   Column      Non-Null Count  Dtype \n",
      "---  ------      --------------  ----- \n",
      " 0   Hypothesis  9 non-null      object\n",
      " 1   Reach       9 non-null      int64 \n",
      " 2   Impact      9 non-null      int64 \n",
      " 3   Confidence  9 non-null      int64 \n",
      " 4   Efforts     9 non-null      int64 \n",
      "dtypes: int64(4), object(1)\n",
      "memory usage: 488.0+ bytes\n"
     ]
    },
    {
     "data": {
      "text/html": [
       "<div>\n",
       "<style scoped>\n",
       "    .dataframe tbody tr th:only-of-type {\n",
       "        vertical-align: middle;\n",
       "    }\n",
       "\n",
       "    .dataframe tbody tr th {\n",
       "        vertical-align: top;\n",
       "    }\n",
       "\n",
       "    .dataframe thead th {\n",
       "        text-align: right;\n",
       "    }\n",
       "</style>\n",
       "<table border=\"1\" class=\"dataframe\">\n",
       "  <thead>\n",
       "    <tr style=\"text-align: right;\">\n",
       "      <th></th>\n",
       "      <th>Hypothesis</th>\n",
       "      <th>Reach</th>\n",
       "      <th>Impact</th>\n",
       "      <th>Confidence</th>\n",
       "      <th>Efforts</th>\n",
       "    </tr>\n",
       "  </thead>\n",
       "  <tbody>\n",
       "    <tr>\n",
       "      <th>0</th>\n",
       "      <td>Добавить два новых канала привлечения трафика,...</td>\n",
       "      <td>3</td>\n",
       "      <td>10</td>\n",
       "      <td>8</td>\n",
       "      <td>6</td>\n",
       "    </tr>\n",
       "    <tr>\n",
       "      <th>1</th>\n",
       "      <td>Запустить собственную службу доставки, что сок...</td>\n",
       "      <td>2</td>\n",
       "      <td>5</td>\n",
       "      <td>4</td>\n",
       "      <td>10</td>\n",
       "    </tr>\n",
       "    <tr>\n",
       "      <th>2</th>\n",
       "      <td>Добавить блоки рекомендаций товаров на сайт ин...</td>\n",
       "      <td>8</td>\n",
       "      <td>3</td>\n",
       "      <td>7</td>\n",
       "      <td>3</td>\n",
       "    </tr>\n",
       "    <tr>\n",
       "      <th>3</th>\n",
       "      <td>Изменить структура категорий, что увеличит кон...</td>\n",
       "      <td>8</td>\n",
       "      <td>3</td>\n",
       "      <td>3</td>\n",
       "      <td>8</td>\n",
       "    </tr>\n",
       "    <tr>\n",
       "      <th>4</th>\n",
       "      <td>Изменить цвет фона главной страницы, чтобы уве...</td>\n",
       "      <td>3</td>\n",
       "      <td>1</td>\n",
       "      <td>1</td>\n",
       "      <td>1</td>\n",
       "    </tr>\n",
       "    <tr>\n",
       "      <th>5</th>\n",
       "      <td>Добавить страницу отзывов клиентов о магазине,...</td>\n",
       "      <td>3</td>\n",
       "      <td>2</td>\n",
       "      <td>2</td>\n",
       "      <td>3</td>\n",
       "    </tr>\n",
       "    <tr>\n",
       "      <th>6</th>\n",
       "      <td>Показать на главной странице баннеры с актуаль...</td>\n",
       "      <td>5</td>\n",
       "      <td>3</td>\n",
       "      <td>8</td>\n",
       "      <td>3</td>\n",
       "    </tr>\n",
       "    <tr>\n",
       "      <th>7</th>\n",
       "      <td>Добавить форму подписки на все основные страни...</td>\n",
       "      <td>10</td>\n",
       "      <td>7</td>\n",
       "      <td>8</td>\n",
       "      <td>5</td>\n",
       "    </tr>\n",
       "    <tr>\n",
       "      <th>8</th>\n",
       "      <td>Запустить акцию, дающую скидку на товар в день...</td>\n",
       "      <td>1</td>\n",
       "      <td>9</td>\n",
       "      <td>9</td>\n",
       "      <td>5</td>\n",
       "    </tr>\n",
       "  </tbody>\n",
       "</table>\n",
       "</div>"
      ],
      "text/plain": [
       "                                          Hypothesis  Reach  Impact  \\\n",
       "0  Добавить два новых канала привлечения трафика,...      3      10   \n",
       "1  Запустить собственную службу доставки, что сок...      2       5   \n",
       "2  Добавить блоки рекомендаций товаров на сайт ин...      8       3   \n",
       "3  Изменить структура категорий, что увеличит кон...      8       3   \n",
       "4  Изменить цвет фона главной страницы, чтобы уве...      3       1   \n",
       "5  Добавить страницу отзывов клиентов о магазине,...      3       2   \n",
       "6  Показать на главной странице баннеры с актуаль...      5       3   \n",
       "7  Добавить форму подписки на все основные страни...     10       7   \n",
       "8  Запустить акцию, дающую скидку на товар в день...      1       9   \n",
       "\n",
       "   Confidence  Efforts  \n",
       "0           8        6  \n",
       "1           4       10  \n",
       "2           7        3  \n",
       "3           3        8  \n",
       "4           1        1  \n",
       "5           2        3  \n",
       "6           8        3  \n",
       "7           8        5  \n",
       "8           9        5  "
      ]
     },
     "execution_count": 3,
     "metadata": {},
     "output_type": "execute_result"
    }
   ],
   "source": [
    "hypothesis.info()\n",
    "hypothesis"
   ]
  },
  {
   "cell_type": "markdown",
   "metadata": {},
   "source": [
    "Всего в таблице 9 строк (в нашем случае гипотез), пропущенных значений нет, нужно привести названия столбцов к нижнему регистру."
   ]
  },
  {
   "cell_type": "code",
   "execution_count": 4,
   "metadata": {},
   "outputs": [
    {
     "name": "stdout",
     "output_type": "stream",
     "text": [
      "<class 'pandas.core.frame.DataFrame'>\n",
      "RangeIndex: 1197 entries, 0 to 1196\n",
      "Data columns (total 5 columns):\n",
      " #   Column         Non-Null Count  Dtype \n",
      "---  ------         --------------  ----- \n",
      " 0   transactionId  1197 non-null   int64 \n",
      " 1   visitorId      1197 non-null   int64 \n",
      " 2   date           1197 non-null   object\n",
      " 3   revenue        1197 non-null   int64 \n",
      " 4   group          1197 non-null   object\n",
      "dtypes: int64(3), object(2)\n",
      "memory usage: 46.9+ KB\n"
     ]
    },
    {
     "data": {
      "text/html": [
       "<div>\n",
       "<style scoped>\n",
       "    .dataframe tbody tr th:only-of-type {\n",
       "        vertical-align: middle;\n",
       "    }\n",
       "\n",
       "    .dataframe tbody tr th {\n",
       "        vertical-align: top;\n",
       "    }\n",
       "\n",
       "    .dataframe thead th {\n",
       "        text-align: right;\n",
       "    }\n",
       "</style>\n",
       "<table border=\"1\" class=\"dataframe\">\n",
       "  <thead>\n",
       "    <tr style=\"text-align: right;\">\n",
       "      <th></th>\n",
       "      <th>transactionId</th>\n",
       "      <th>visitorId</th>\n",
       "      <th>date</th>\n",
       "      <th>revenue</th>\n",
       "      <th>group</th>\n",
       "    </tr>\n",
       "  </thead>\n",
       "  <tbody>\n",
       "    <tr>\n",
       "      <th>0</th>\n",
       "      <td>3667963787</td>\n",
       "      <td>3312258926</td>\n",
       "      <td>2019-08-15</td>\n",
       "      <td>1650</td>\n",
       "      <td>B</td>\n",
       "    </tr>\n",
       "    <tr>\n",
       "      <th>1</th>\n",
       "      <td>2804400009</td>\n",
       "      <td>3642806036</td>\n",
       "      <td>2019-08-15</td>\n",
       "      <td>730</td>\n",
       "      <td>B</td>\n",
       "    </tr>\n",
       "    <tr>\n",
       "      <th>2</th>\n",
       "      <td>2961555356</td>\n",
       "      <td>4069496402</td>\n",
       "      <td>2019-08-15</td>\n",
       "      <td>400</td>\n",
       "      <td>A</td>\n",
       "    </tr>\n",
       "    <tr>\n",
       "      <th>3</th>\n",
       "      <td>3797467345</td>\n",
       "      <td>1196621759</td>\n",
       "      <td>2019-08-15</td>\n",
       "      <td>9759</td>\n",
       "      <td>B</td>\n",
       "    </tr>\n",
       "    <tr>\n",
       "      <th>4</th>\n",
       "      <td>2282983706</td>\n",
       "      <td>2322279887</td>\n",
       "      <td>2019-08-15</td>\n",
       "      <td>2308</td>\n",
       "      <td>B</td>\n",
       "    </tr>\n",
       "  </tbody>\n",
       "</table>\n",
       "</div>"
      ],
      "text/plain": [
       "   transactionId   visitorId        date  revenue group\n",
       "0     3667963787  3312258926  2019-08-15     1650     B\n",
       "1     2804400009  3642806036  2019-08-15      730     B\n",
       "2     2961555356  4069496402  2019-08-15      400     A\n",
       "3     3797467345  1196621759  2019-08-15     9759     B\n",
       "4     2282983706  2322279887  2019-08-15     2308     B"
      ]
     },
     "execution_count": 4,
     "metadata": {},
     "output_type": "execute_result"
    }
   ],
   "source": [
    "orders.info()\n",
    "orders.head()"
   ]
  },
  {
   "cell_type": "markdown",
   "metadata": {},
   "source": [
    "В таблице 1197 строк, пропусков нет, для удобства на этапе предобработки изменим названия столбцов, также нужно изменить тип данных в столбце с датой."
   ]
  },
  {
   "cell_type": "code",
   "execution_count": 5,
   "metadata": {},
   "outputs": [
    {
     "name": "stdout",
     "output_type": "stream",
     "text": [
      "<class 'pandas.core.frame.DataFrame'>\n",
      "RangeIndex: 62 entries, 0 to 61\n",
      "Data columns (total 3 columns):\n",
      " #   Column    Non-Null Count  Dtype \n",
      "---  ------    --------------  ----- \n",
      " 0   date      62 non-null     object\n",
      " 1   group     62 non-null     object\n",
      " 2   visitors  62 non-null     int64 \n",
      "dtypes: int64(1), object(2)\n",
      "memory usage: 1.6+ KB\n"
     ]
    },
    {
     "data": {
      "text/html": [
       "<div>\n",
       "<style scoped>\n",
       "    .dataframe tbody tr th:only-of-type {\n",
       "        vertical-align: middle;\n",
       "    }\n",
       "\n",
       "    .dataframe tbody tr th {\n",
       "        vertical-align: top;\n",
       "    }\n",
       "\n",
       "    .dataframe thead th {\n",
       "        text-align: right;\n",
       "    }\n",
       "</style>\n",
       "<table border=\"1\" class=\"dataframe\">\n",
       "  <thead>\n",
       "    <tr style=\"text-align: right;\">\n",
       "      <th></th>\n",
       "      <th>date</th>\n",
       "      <th>group</th>\n",
       "      <th>visitors</th>\n",
       "    </tr>\n",
       "  </thead>\n",
       "  <tbody>\n",
       "    <tr>\n",
       "      <th>57</th>\n",
       "      <td>2019-08-27</td>\n",
       "      <td>B</td>\n",
       "      <td>720</td>\n",
       "    </tr>\n",
       "    <tr>\n",
       "      <th>58</th>\n",
       "      <td>2019-08-28</td>\n",
       "      <td>B</td>\n",
       "      <td>654</td>\n",
       "    </tr>\n",
       "    <tr>\n",
       "      <th>59</th>\n",
       "      <td>2019-08-29</td>\n",
       "      <td>B</td>\n",
       "      <td>531</td>\n",
       "    </tr>\n",
       "    <tr>\n",
       "      <th>60</th>\n",
       "      <td>2019-08-30</td>\n",
       "      <td>B</td>\n",
       "      <td>490</td>\n",
       "    </tr>\n",
       "    <tr>\n",
       "      <th>61</th>\n",
       "      <td>2019-08-31</td>\n",
       "      <td>B</td>\n",
       "      <td>718</td>\n",
       "    </tr>\n",
       "  </tbody>\n",
       "</table>\n",
       "</div>"
      ],
      "text/plain": [
       "          date group  visitors\n",
       "57  2019-08-27     B       720\n",
       "58  2019-08-28     B       654\n",
       "59  2019-08-29     B       531\n",
       "60  2019-08-30     B       490\n",
       "61  2019-08-31     B       718"
      ]
     },
     "execution_count": 5,
     "metadata": {},
     "output_type": "execute_result"
    }
   ],
   "source": [
    "visitors.info()\n",
    "visitors.tail()"
   ]
  },
  {
   "cell_type": "markdown",
   "metadata": {},
   "source": [
    "В таблице 62 строки, пропусков нет. Нужно изменить тип данных в столбце с датой."
   ]
  },
  {
   "cell_type": "markdown",
   "metadata": {},
   "source": [
    "### Промежуточный вывод по этапу обзора данных\n",
    "\n",
    "В полученных таблицах отсутствуют пропущенные значения. В некоторых таблицах стоит изменить названия столбцов, а также привести столбцы с датой к типу datetime."
   ]
  },
  {
   "cell_type": "markdown",
   "metadata": {},
   "source": [
    "## Предобработка данных"
   ]
  },
  {
   "cell_type": "markdown",
   "metadata": {},
   "source": [
    "Для начала приведем названия столбцов к змеиному регистру"
   ]
  },
  {
   "cell_type": "code",
   "execution_count": 6,
   "metadata": {},
   "outputs": [],
   "source": [
    "# С помощью цикла проходимся по трем таблицам\n",
    "\n",
    "for x in [hypothesis, orders, visitors]:\n",
    "    x.columns = x.columns.str.lower()\n",
    "orders.columns = orders.columns.str.replace('id', '_id')"
   ]
  },
  {
   "cell_type": "markdown",
   "metadata": {},
   "source": [
    "Теперь изменим типы данных"
   ]
  },
  {
   "cell_type": "code",
   "execution_count": 7,
   "metadata": {},
   "outputs": [],
   "source": [
    "for x in [orders, visitors]:\n",
    "    x['date'] = pd.to_datetime(x['date'])"
   ]
  },
  {
   "cell_type": "markdown",
   "metadata": {},
   "source": [
    "Поверим данные на наличие пропусков"
   ]
  },
  {
   "cell_type": "code",
   "execution_count": 8,
   "metadata": {},
   "outputs": [
    {
     "name": "stdout",
     "output_type": "stream",
     "text": [
      "hypothesis    0\n",
      "reach         0\n",
      "impact        0\n",
      "confidence    0\n",
      "efforts       0\n",
      "dtype: int64 \n",
      "\n",
      "transaction_id    0\n",
      "visitor_id        0\n",
      "date              0\n",
      "revenue           0\n",
      "group             0\n",
      "dtype: int64 \n",
      "\n",
      "date        0\n",
      "group       0\n",
      "visitors    0\n",
      "dtype: int64 \n",
      "\n"
     ]
    }
   ],
   "source": [
    "for x in [hypothesis, orders, visitors]:\n",
    "    print(x.isna().sum(), '\\n')"
   ]
  },
  {
   "cell_type": "markdown",
   "metadata": {},
   "source": [
    "Теперь проверим данные на наличие явных дубликатов"
   ]
  },
  {
   "cell_type": "code",
   "execution_count": 9,
   "metadata": {},
   "outputs": [
    {
     "name": "stdout",
     "output_type": "stream",
     "text": [
      "0 \n",
      "\n",
      "0 \n",
      "\n",
      "0 \n",
      "\n"
     ]
    }
   ],
   "source": [
    "for x in [hypothesis, orders, visitors]:\n",
    "    print(x.duplicated().sum(), '\\n')"
   ]
  },
  {
   "cell_type": "markdown",
   "metadata": {},
   "source": [
    "Возможно некоторые пользователи попали и в группу А и в группу В, стоит это проверить"
   ]
  },
  {
   "cell_type": "code",
   "execution_count": 10,
   "metadata": {},
   "outputs": [
    {
     "data": {
      "text/plain": [
       "58"
      ]
     },
     "execution_count": 10,
     "metadata": {},
     "output_type": "execute_result"
    }
   ],
   "source": [
    "# С помощью метода isin() проверяем группы на наличие одних и тех же пользователей\n",
    "\n",
    "orders.query('group == \"A\"')['visitor_id'].drop_duplicates()\\\n",
    ".isin(orders.query('group == \"B\"')['visitor_id'].drop_duplicates()).sum()"
   ]
  },
  {
   "cell_type": "markdown",
   "metadata": {},
   "source": [
    "Так и есть, 58 пользователей попали в обе группы, наблюдения таких пользователей теперь не являются независимыми, так как им сначала показывается один вариант, потом другой. Поэтому они могут по-разному реагировать. По-хорошему их нужно удалить , но данные в таблице с визитами являются агрегированными, так что эти пользователи в любом случае будут учавствовать в анализе. Если бы таблица по визитам была неагрегированная, то такие пользователи были бы удалены."
   ]
  },
  {
   "cell_type": "markdown",
   "metadata": {},
   "source": [
    "Посмотрим на таблицы после всех изменений"
   ]
  },
  {
   "cell_type": "code",
   "execution_count": 11,
   "metadata": {},
   "outputs": [
    {
     "name": "stdout",
     "output_type": "stream",
     "text": [
      "<class 'pandas.core.frame.DataFrame'>\n",
      "RangeIndex: 9 entries, 0 to 8\n",
      "Data columns (total 5 columns):\n",
      " #   Column      Non-Null Count  Dtype \n",
      "---  ------      --------------  ----- \n",
      " 0   hypothesis  9 non-null      object\n",
      " 1   reach       9 non-null      int64 \n",
      " 2   impact      9 non-null      int64 \n",
      " 3   confidence  9 non-null      int64 \n",
      " 4   efforts     9 non-null      int64 \n",
      "dtypes: int64(4), object(1)\n",
      "memory usage: 488.0+ bytes\n",
      "<class 'pandas.core.frame.DataFrame'>\n",
      "RangeIndex: 1197 entries, 0 to 1196\n",
      "Data columns (total 5 columns):\n",
      " #   Column          Non-Null Count  Dtype         \n",
      "---  ------          --------------  -----         \n",
      " 0   transaction_id  1197 non-null   int64         \n",
      " 1   visitor_id      1197 non-null   int64         \n",
      " 2   date            1197 non-null   datetime64[ns]\n",
      " 3   revenue         1197 non-null   int64         \n",
      " 4   group           1197 non-null   object        \n",
      "dtypes: datetime64[ns](1), int64(3), object(1)\n",
      "memory usage: 46.9+ KB\n",
      "<class 'pandas.core.frame.DataFrame'>\n",
      "RangeIndex: 62 entries, 0 to 61\n",
      "Data columns (total 3 columns):\n",
      " #   Column    Non-Null Count  Dtype         \n",
      "---  ------    --------------  -----         \n",
      " 0   date      62 non-null     datetime64[ns]\n",
      " 1   group     62 non-null     object        \n",
      " 2   visitors  62 non-null     int64         \n",
      "dtypes: datetime64[ns](1), int64(1), object(1)\n",
      "memory usage: 1.6+ KB\n"
     ]
    }
   ],
   "source": [
    "hypothesis.info()\n",
    "orders.info()\n",
    "visitors.info()"
   ]
  },
  {
   "cell_type": "markdown",
   "metadata": {},
   "source": [
    "### Промежуточный вывод по этапу предобработки данных\n",
    "\n",
    "**Пропуски:** пропуски отсутствуют во всех таблицах\n",
    "\n",
    "**Дупликаты:** дупликатов также нет\n",
    "\n",
    "**Аномальные значения:** для наглядной оценки влияния аномальных значений на исследование сначала проанализируем результаты A/B тестирования с аномальными значениями, потом без них.\n",
    "\n",
    "**Типы данных:** был изменени тип даннных в столбцах с датой на datetime \n",
    "\n",
    "Также было найдено 58 пользователей, которые попали в обе группы, было принято решение не удалять данные этих пользователей. Ведь так или иначе они будут принимать участие в анализе из-за наличия таких пользователей в таблице с визитами, в которой данные являются агрегированными, и поэтому их нельзя оттуда удалить."
   ]
  },
  {
   "cell_type": "markdown",
   "metadata": {},
   "source": [
    "## Приоритизация гипотез"
   ]
  },
  {
   "cell_type": "markdown",
   "metadata": {},
   "source": [
    "Теперь расставим гипотезы в порядке приоритета с помощью двух фрейворков: ICE и RICE"
   ]
  },
  {
   "cell_type": "code",
   "execution_count": 12,
   "metadata": {
    "scrolled": true
   },
   "outputs": [
    {
     "data": {
      "text/html": [
       "<div>\n",
       "<style scoped>\n",
       "    .dataframe tbody tr th:only-of-type {\n",
       "        vertical-align: middle;\n",
       "    }\n",
       "\n",
       "    .dataframe tbody tr th {\n",
       "        vertical-align: top;\n",
       "    }\n",
       "\n",
       "    .dataframe thead th {\n",
       "        text-align: right;\n",
       "    }\n",
       "</style>\n",
       "<table border=\"1\" class=\"dataframe\">\n",
       "  <thead>\n",
       "    <tr style=\"text-align: right;\">\n",
       "      <th></th>\n",
       "      <th>hypothesis</th>\n",
       "      <th>ICE</th>\n",
       "    </tr>\n",
       "  </thead>\n",
       "  <tbody>\n",
       "    <tr>\n",
       "      <th>8</th>\n",
       "      <td>Запустить акцию, дающую скидку на товар в день рождения</td>\n",
       "      <td>16.2</td>\n",
       "    </tr>\n",
       "    <tr>\n",
       "      <th>0</th>\n",
       "      <td>Добавить два новых канала привлечения трафика, что позволит привлекать на 30% больше пользователей</td>\n",
       "      <td>13.3</td>\n",
       "    </tr>\n",
       "    <tr>\n",
       "      <th>7</th>\n",
       "      <td>Добавить форму подписки на все основные страницы, чтобы собрать базу клиентов для email-рассылок</td>\n",
       "      <td>11.2</td>\n",
       "    </tr>\n",
       "    <tr>\n",
       "      <th>6</th>\n",
       "      <td>Показать на главной странице баннеры с актуальными акциями и распродажами, чтобы увеличить конверсию</td>\n",
       "      <td>8.0</td>\n",
       "    </tr>\n",
       "    <tr>\n",
       "      <th>2</th>\n",
       "      <td>Добавить блоки рекомендаций товаров на сайт интернет магазина, чтобы повысить конверсию и средний чек заказа</td>\n",
       "      <td>7.0</td>\n",
       "    </tr>\n",
       "    <tr>\n",
       "      <th>1</th>\n",
       "      <td>Запустить собственную службу доставки, что сократит срок доставки заказов</td>\n",
       "      <td>2.0</td>\n",
       "    </tr>\n",
       "    <tr>\n",
       "      <th>5</th>\n",
       "      <td>Добавить страницу отзывов клиентов о магазине, что позволит увеличить количество заказов</td>\n",
       "      <td>1.3</td>\n",
       "    </tr>\n",
       "    <tr>\n",
       "      <th>3</th>\n",
       "      <td>Изменить структура категорий, что увеличит конверсию, т.к. пользователи быстрее найдут нужный товар</td>\n",
       "      <td>1.1</td>\n",
       "    </tr>\n",
       "    <tr>\n",
       "      <th>4</th>\n",
       "      <td>Изменить цвет фона главной страницы, чтобы увеличить вовлеченность пользователей</td>\n",
       "      <td>1.0</td>\n",
       "    </tr>\n",
       "  </tbody>\n",
       "</table>\n",
       "</div>"
      ],
      "text/plain": [
       "                                                                                                     hypothesis  \\\n",
       "8  Запустить акцию, дающую скидку на товар в день рождения                                                        \n",
       "0  Добавить два новых канала привлечения трафика, что позволит привлекать на 30% больше пользователей             \n",
       "7  Добавить форму подписки на все основные страницы, чтобы собрать базу клиентов для email-рассылок               \n",
       "6  Показать на главной странице баннеры с актуальными акциями и распродажами, чтобы увеличить конверсию           \n",
       "2  Добавить блоки рекомендаций товаров на сайт интернет магазина, чтобы повысить конверсию и средний чек заказа   \n",
       "1  Запустить собственную службу доставки, что сократит срок доставки заказов                                      \n",
       "5  Добавить страницу отзывов клиентов о магазине, что позволит увеличить количество заказов                       \n",
       "3  Изменить структура категорий, что увеличит конверсию, т.к. пользователи быстрее найдут нужный товар            \n",
       "4  Изменить цвет фона главной страницы, чтобы увеличить вовлеченность пользователей                               \n",
       "\n",
       "    ICE  \n",
       "8  16.2  \n",
       "0  13.3  \n",
       "7  11.2  \n",
       "6  8.0   \n",
       "2  7.0   \n",
       "1  2.0   \n",
       "5  1.3   \n",
       "3  1.1   \n",
       "4  1.0   "
      ]
     },
     "execution_count": 12,
     "metadata": {},
     "output_type": "execute_result"
    }
   ],
   "source": [
    "# Считаем ICE и выводим отсортированный результат\n",
    "\n",
    "pd.set_option('display.max_colwidth', 0)\n",
    "\n",
    "hypothesis['ICE'] = round(hypothesis['impact']*hypothesis['confidence']/hypothesis['efforts'], 1)\n",
    "\n",
    "hypothesis[['hypothesis', 'ICE']].sort_values(by='ICE', ascending=False)"
   ]
  },
  {
   "cell_type": "markdown",
   "metadata": {},
   "source": [
    "Здесь гипотеза под номером 8 имеет наивысший приоритет (из-за высоких показателей impact и confidence), номер 4 - низший./"
   ]
  },
  {
   "cell_type": "code",
   "execution_count": 13,
   "metadata": {
    "scrolled": true
   },
   "outputs": [
    {
     "data": {
      "text/html": [
       "<div>\n",
       "<style scoped>\n",
       "    .dataframe tbody tr th:only-of-type {\n",
       "        vertical-align: middle;\n",
       "    }\n",
       "\n",
       "    .dataframe tbody tr th {\n",
       "        vertical-align: top;\n",
       "    }\n",
       "\n",
       "    .dataframe thead th {\n",
       "        text-align: right;\n",
       "    }\n",
       "</style>\n",
       "<table border=\"1\" class=\"dataframe\">\n",
       "  <thead>\n",
       "    <tr style=\"text-align: right;\">\n",
       "      <th></th>\n",
       "      <th>hypothesis</th>\n",
       "      <th>RICE</th>\n",
       "    </tr>\n",
       "  </thead>\n",
       "  <tbody>\n",
       "    <tr>\n",
       "      <th>7</th>\n",
       "      <td>Добавить форму подписки на все основные страницы, чтобы собрать базу клиентов для email-рассылок</td>\n",
       "      <td>112.0</td>\n",
       "    </tr>\n",
       "    <tr>\n",
       "      <th>2</th>\n",
       "      <td>Добавить блоки рекомендаций товаров на сайт интернет магазина, чтобы повысить конверсию и средний чек заказа</td>\n",
       "      <td>56.0</td>\n",
       "    </tr>\n",
       "    <tr>\n",
       "      <th>6</th>\n",
       "      <td>Показать на главной странице баннеры с актуальными акциями и распродажами, чтобы увеличить конверсию</td>\n",
       "      <td>40.0</td>\n",
       "    </tr>\n",
       "    <tr>\n",
       "      <th>0</th>\n",
       "      <td>Добавить два новых канала привлечения трафика, что позволит привлекать на 30% больше пользователей</td>\n",
       "      <td>39.9</td>\n",
       "    </tr>\n",
       "    <tr>\n",
       "      <th>8</th>\n",
       "      <td>Запустить акцию, дающую скидку на товар в день рождения</td>\n",
       "      <td>16.2</td>\n",
       "    </tr>\n",
       "    <tr>\n",
       "      <th>3</th>\n",
       "      <td>Изменить структура категорий, что увеличит конверсию, т.к. пользователи быстрее найдут нужный товар</td>\n",
       "      <td>8.8</td>\n",
       "    </tr>\n",
       "    <tr>\n",
       "      <th>1</th>\n",
       "      <td>Запустить собственную службу доставки, что сократит срок доставки заказов</td>\n",
       "      <td>4.0</td>\n",
       "    </tr>\n",
       "    <tr>\n",
       "      <th>5</th>\n",
       "      <td>Добавить страницу отзывов клиентов о магазине, что позволит увеличить количество заказов</td>\n",
       "      <td>3.9</td>\n",
       "    </tr>\n",
       "    <tr>\n",
       "      <th>4</th>\n",
       "      <td>Изменить цвет фона главной страницы, чтобы увеличить вовлеченность пользователей</td>\n",
       "      <td>3.0</td>\n",
       "    </tr>\n",
       "  </tbody>\n",
       "</table>\n",
       "</div>"
      ],
      "text/plain": [
       "                                                                                                     hypothesis  \\\n",
       "7  Добавить форму подписки на все основные страницы, чтобы собрать базу клиентов для email-рассылок               \n",
       "2  Добавить блоки рекомендаций товаров на сайт интернет магазина, чтобы повысить конверсию и средний чек заказа   \n",
       "6  Показать на главной странице баннеры с актуальными акциями и распродажами, чтобы увеличить конверсию           \n",
       "0  Добавить два новых канала привлечения трафика, что позволит привлекать на 30% больше пользователей             \n",
       "8  Запустить акцию, дающую скидку на товар в день рождения                                                        \n",
       "3  Изменить структура категорий, что увеличит конверсию, т.к. пользователи быстрее найдут нужный товар            \n",
       "1  Запустить собственную службу доставки, что сократит срок доставки заказов                                      \n",
       "5  Добавить страницу отзывов клиентов о магазине, что позволит увеличить количество заказов                       \n",
       "4  Изменить цвет фона главной страницы, чтобы увеличить вовлеченность пользователей                               \n",
       "\n",
       "    RICE  \n",
       "7  112.0  \n",
       "2  56.0   \n",
       "6  40.0   \n",
       "0  39.9   \n",
       "8  16.2   \n",
       "3  8.8    \n",
       "1  4.0    \n",
       "5  3.9    \n",
       "4  3.0    "
      ]
     },
     "execution_count": 13,
     "metadata": {},
     "output_type": "execute_result"
    }
   ],
   "source": [
    "# Считаем RICE и выводим отсортированный результат\n",
    "\n",
    "hypothesis['RICE'] = hypothesis['reach']*hypothesis['ICE']\n",
    "\n",
    "hypothesis[['hypothesis', 'RICE']].sort_values(by='RICE', ascending=False)"
   ]
  },
  {
   "cell_type": "markdown",
   "metadata": {},
   "source": [
    "Теперь гипотеза под номером 7 имеет высший приоритет, также заметим, что гипотезы 7 и 0 в обоих случаях находятся в топ-3."
   ]
  },
  {
   "cell_type": "markdown",
   "metadata": {},
   "source": [
    "### Промежуточный вывод по этапу приоритизации гипотез\n",
    "\n",
    "При расчете ICE и RICE наблюдаются немного разные картины. Такое изменение связано с тем, что между RICE и ICE есть прямо-пропорциональная зависимость с коэффициентом R (Reach), который показывает охват пользователей. Грубо говоря, результаты, полученные при расчете ICE, просто домнажаются на Reach. Но это не говорит о том, что гипотеза под номером 7 охватывает наибольшее количество пользователей, ведь при расчете учитываются и другие показатели."
   ]
  },
  {
   "cell_type": "markdown",
   "metadata": {},
   "source": [
    "## Анализ A/B теста"
   ]
  },
  {
   "cell_type": "markdown",
   "metadata": {},
   "source": [
    "Для начала создадим таблицу, из которй потом будем брать данные для построения графиков"
   ]
  },
  {
   "cell_type": "code",
   "execution_count": 14,
   "metadata": {},
   "outputs": [
    {
     "data": {
      "text/html": [
       "<div>\n",
       "<style scoped>\n",
       "    .dataframe tbody tr th:only-of-type {\n",
       "        vertical-align: middle;\n",
       "    }\n",
       "\n",
       "    .dataframe tbody tr th {\n",
       "        vertical-align: top;\n",
       "    }\n",
       "\n",
       "    .dataframe thead th {\n",
       "        text-align: right;\n",
       "    }\n",
       "</style>\n",
       "<table border=\"1\" class=\"dataframe\">\n",
       "  <thead>\n",
       "    <tr style=\"text-align: right;\">\n",
       "      <th></th>\n",
       "      <th>date</th>\n",
       "      <th>group</th>\n",
       "      <th>orders</th>\n",
       "      <th>buyers</th>\n",
       "      <th>revenue</th>\n",
       "      <th>visitors</th>\n",
       "    </tr>\n",
       "  </thead>\n",
       "  <tbody>\n",
       "    <tr>\n",
       "      <th>0</th>\n",
       "      <td>2019-08-01</td>\n",
       "      <td>A</td>\n",
       "      <td>24</td>\n",
       "      <td>20</td>\n",
       "      <td>148579</td>\n",
       "      <td>719</td>\n",
       "    </tr>\n",
       "    <tr>\n",
       "      <th>1</th>\n",
       "      <td>2019-08-01</td>\n",
       "      <td>B</td>\n",
       "      <td>21</td>\n",
       "      <td>20</td>\n",
       "      <td>101217</td>\n",
       "      <td>713</td>\n",
       "    </tr>\n",
       "    <tr>\n",
       "      <th>2</th>\n",
       "      <td>2019-08-02</td>\n",
       "      <td>A</td>\n",
       "      <td>44</td>\n",
       "      <td>38</td>\n",
       "      <td>242401</td>\n",
       "      <td>1338</td>\n",
       "    </tr>\n",
       "    <tr>\n",
       "      <th>3</th>\n",
       "      <td>2019-08-02</td>\n",
       "      <td>B</td>\n",
       "      <td>45</td>\n",
       "      <td>43</td>\n",
       "      <td>266748</td>\n",
       "      <td>1294</td>\n",
       "    </tr>\n",
       "    <tr>\n",
       "      <th>4</th>\n",
       "      <td>2019-08-03</td>\n",
       "      <td>A</td>\n",
       "      <td>68</td>\n",
       "      <td>62</td>\n",
       "      <td>354874</td>\n",
       "      <td>1845</td>\n",
       "    </tr>\n",
       "  </tbody>\n",
       "</table>\n",
       "</div>"
      ],
      "text/plain": [
       "        date group  orders  buyers  revenue  visitors\n",
       "0 2019-08-01  A     24      20      148579   719     \n",
       "1 2019-08-01  B     21      20      101217   713     \n",
       "2 2019-08-02  A     44      38      242401   1338    \n",
       "3 2019-08-02  B     45      43      266748   1294    \n",
       "4 2019-08-03  A     68      62      354874   1845    "
      ]
     },
     "execution_count": 14,
     "metadata": {},
     "output_type": "execute_result"
    }
   ],
   "source": [
    "# Для создания уникальных пар \"дата-группа\" убираем дупликаты\n",
    "\n",
    "datesGroups = orders[['date','group']].drop_duplicates()\n",
    "\n",
    "# Применяем лямбда функцию для подсчета кумулятивных метрик, используя при этом метод np.logical_and,\n",
    "# чтобы применять нашу функцию только к определенным данным\n",
    "\n",
    "ordersAggregated = datesGroups.apply(lambda x: orders[np.logical_and(orders['date'] <= x['date'], orders['group'] == x['group'])]\\\n",
    ".agg({'date' : 'max', 'group' : 'max', 'transaction_id' : 'nunique', 'visitor_id' : 'nunique', 'revenue' : 'sum'}), axis=1).sort_values(by=['date','group'])\n",
    "\n",
    "visitorsAggregated = datesGroups.apply(lambda x: visitors[np.logical_and(visitors['date'] <= x['date'], visitors['group']==x['group'])].agg({'date' : 'max', 'group' : 'max', 'visitors' : 'sum'}), axis=1).sort_values(by=['date','group'])\n",
    "\n",
    "# С помощтю метода .merge() соединяем полученные таблицы и получаем кумулятивные данные\n",
    "\n",
    "cumulativeData = ordersAggregated.merge(visitorsAggregated, left_on=['date', 'group'], right_on=['date', 'group'])\n",
    "cumulativeData.columns = ['date', 'group', 'orders', 'buyers', 'revenue', 'visitors']\n",
    "\n",
    "cumulativeData.head()"
   ]
  },
  {
   "cell_type": "markdown",
   "metadata": {},
   "source": [
    "### Построение графиков"
   ]
  },
  {
   "cell_type": "markdown",
   "metadata": {},
   "source": [
    "Теперь построим график кумулятивной выручки по группам"
   ]
  },
  {
   "cell_type": "code",
   "execution_count": 15,
   "metadata": {},
   "outputs": [
    {
     "data": {
      "image/png": "[encoded data removed]",
      "text/plain": [
       "<Figure size 936x720 with 1 Axes>"
      ]
     },
     "metadata": {
      "needs_background": "light"
     },
     "output_type": "display_data"
    }
   ],
   "source": [
    "# Делаем срезы по группам А и В\n",
    "\n",
    "cumulativeRevenueA = cumulativeData[cumulativeData['group']=='A'][['date','revenue', 'orders']]\n",
    "\n",
    "cumulativeRevenueB = cumulativeData[cumulativeData['group']=='B'][['date','revenue', 'orders']]\n",
    "\n",
    "# Задаем параметры для построения графика\n",
    "\n",
    "plt.figure(figsize=(13,10))\n",
    "plt.grid(True)\n",
    "\n",
    "plt.plot(cumulativeRevenueA['date'], cumulativeRevenueA['revenue']/1000, label='A')\n",
    "\n",
    "plt.plot(cumulativeRevenueB['date'], cumulativeRevenueB['revenue']/1000, label='B')\n",
    "\n",
    "plt.legend()\n",
    "plt.title('График кумулятивной выручки по группам')\n",
    "plt.xlabel('Дата')\n",
    "plt.ylabel('Выручка, тыс. руб.');"
   ]
  },
  {
   "cell_type": "markdown",
   "metadata": {},
   "source": [
    "С самого начала тестирования в группе В стабильно больше выручка, а 19 августа виден резкий скачок в этой группе, скорее всего это дорогой заказ, в дальнейшем мы удалим такие аномальные значения, но для начала поработаем с \"сырыми\" данными."
   ]
  },
  {
   "cell_type": "markdown",
   "metadata": {},
   "source": [
    "Построим график кумулятивного среднего чека"
   ]
  },
  {
   "cell_type": "code",
   "execution_count": 16,
   "metadata": {},
   "outputs": [
    {
     "data": {
      "image/png": "[encoded data removed]",
      "text/plain": [
       "<Figure size 936x720 with 1 Axes>"
      ]
     },
     "metadata": {
      "needs_background": "light"
     },
     "output_type": "display_data"
    }
   ],
   "source": [
    "plt.figure(figsize=(13,10))\n",
    "plt.grid(True)\n",
    "\n",
    "plt.plot(cumulativeRevenueA['date'], cumulativeRevenueA['revenue']/cumulativeRevenueA['orders'], label='A')\n",
    "plt.plot(cumulativeRevenueB['date'], cumulativeRevenueB['revenue']/cumulativeRevenueB['orders'], label='B')\n",
    "plt.title('График кумулятивного среднего чека по группам')\n",
    "plt.xlabel('Дата')\n",
    "plt.ylabel('Кумулятивный средний чек, руб.')\n",
    "plt.legend();"
   ]
  },
  {
   "cell_type": "markdown",
   "metadata": {},
   "source": [
    "Опять же виден резкий скачок 19 августа у группы В. В начале тестирования группа В лидировала, затем 8 августа группа А вышла вперед и при этом стабилизировалась, но из-за дорогого заказа группа В скакнула вверх, тоже стабилизировавшись, но если не учитывать эту покупку, то скорее всего группа А в конце теста была бы выше."
   ]
  },
  {
   "cell_type": "markdown",
   "metadata": {},
   "source": [
    "Построим график относительного изменения кумулятивного среднего чека группы B к группе A."
   ]
  },
  {
   "cell_type": "code",
   "execution_count": 17,
   "metadata": {},
   "outputs": [
    {
     "data": {
      "image/png": "[encoded data removed]",
      "text/plain": [
       "<Figure size 936x720 with 1 Axes>"
      ]
     },
     "metadata": {
      "needs_background": "light"
     },
     "output_type": "display_data"
    }
   ],
   "source": [
    "plt.figure(figsize=(13,10))\n",
    "plt.grid(True)\n",
    "\n",
    "# собираем данные в одном датафрейме\n",
    "mergedCumulativeRevenue = cumulativeRevenueA.merge(cumulativeRevenueB, left_on='date', right_on='date', how='left', suffixes=['A', 'B'])\n",
    "\n",
    "# cтроим отношение средних чеков\n",
    "plt.plot(mergedCumulativeRevenue['date'], (mergedCumulativeRevenue['revenueB']/mergedCumulativeRevenue['ordersB'])/(mergedCumulativeRevenue['revenueA']/mergedCumulativeRevenue['ordersA'])-1, label='Относительный прирост среднего чека')\n",
    "\n",
    "# добавляем ось X\n",
    "plt.axhline(y=0, color='black', linestyle='--')\n",
    "plt.title('График относительного изменения кумулятивного среднего чека группы B к группе A')\n",
    "plt.xlabel('Дата')\n",
    "plt.ylabel('Относительное изменение')\n",
    "plt.legend(loc='lower right');"
   ]
  },
  {
   "cell_type": "markdown",
   "metadata": {},
   "source": [
    "Очень много резких скачков, кумулятивный средний чек группы В практически всегда выше группы А, кроме периода с 12 по 15 августа."
   ]
  },
  {
   "cell_type": "markdown",
   "metadata": {},
   "source": [
    "Построим график кумулятивного среднего количества заказов на посетителя по группам"
   ]
  },
  {
   "cell_type": "code",
   "execution_count": 18,
   "metadata": {},
   "outputs": [
    {
     "data": {
      "image/png": "[encoded data removed]",
      "text/plain": [
       "<Figure size 936x720 with 1 Axes>"
      ]
     },
     "metadata": {
      "needs_background": "light"
     },
     "output_type": "display_data"
    }
   ],
   "source": [
    "plt.figure(figsize=(13,10))\n",
    "plt.grid(True)\n",
    "\n",
    "# считаем кумулятивную конверсию\n",
    "cumulativeData['conversion'] = cumulativeData['orders']/cumulativeData['visitors']\n",
    "\n",
    "# отделяем данные по группе A\n",
    "cumulativeDataA = cumulativeData[cumulativeData['group']=='A']\n",
    "\n",
    "# отделяем данные по группе B\n",
    "cumulativeDataB = cumulativeData[cumulativeData['group']=='B']\n",
    "\n",
    "# строим графики\n",
    "plt.plot(cumulativeDataA['date'], cumulativeDataA['conversion'], label='A')\n",
    "plt.plot(cumulativeDataB['date'], cumulativeDataB['conversion'], label='B')\n",
    "plt.legend()\n",
    "plt.title('График кумулятивного среднего количества заказов')\n",
    "plt.xlabel('Дата')\n",
    "plt.ylabel('Количество заказов');"
   ]
  },
  {
   "cell_type": "markdown",
   "metadata": {},
   "source": [
    "Начиная с 6 августа кумулятивное среднее количество заказов группы В стабильно выше группы А, после 9 августа показатели стабилизировались."
   ]
  },
  {
   "cell_type": "markdown",
   "metadata": {},
   "source": [
    "Построим график относительного изменения кумулятивного среднего количества заказов на посетителя группы B к группе A."
   ]
  },
  {
   "cell_type": "code",
   "execution_count": 19,
   "metadata": {},
   "outputs": [
    {
     "data": {
      "image/png": "[encoded data removed]",
      "text/plain": [
       "<Figure size 936x720 with 1 Axes>"
      ]
     },
     "metadata": {
      "needs_background": "light"
     },
     "output_type": "display_data"
    }
   ],
   "source": [
    "plt.figure(figsize=(13,10))\n",
    "plt.grid(True)\n",
    "\n",
    "mergedCumulativeConversions = cumulativeDataA[['date','conversion']].merge(cumulativeDataB[['date','conversion']], left_on='date', right_on='date', how='left', suffixes=['A', 'B'])\n",
    "\n",
    "plt.plot(mergedCumulativeConversions['date'], mergedCumulativeConversions['conversionB']/mergedCumulativeConversions['conversionA']-1, label = 'Относительный прирост конверсии')\n",
    "plt.legend(loc='lower right')\n",
    "\n",
    "plt.axhline(y=0, color='black', linestyle='--')\n",
    "plt.axhline(y=0.1, color='grey', linestyle='--')\n",
    "plt.title('График относительного изменения кумулятивного среднего количества заказов группы В относительно группы А')\n",
    "plt.xlabel('Дата')\n",
    "plt.ylabel('Относительное изменение кумулятивного среднего количества заказов'); "
   ]
  },
  {
   "cell_type": "markdown",
   "metadata": {},
   "source": [
    "Начиная с 6 августа количество заказов группы В стабильно выше, а начиная с 9 августа количество заказов группы В стабильно превышает группу А минимум в 1.1 раза."
   ]
  },
  {
   "cell_type": "markdown",
   "metadata": {},
   "source": [
    "### Определение аномальных значений "
   ]
  },
  {
   "cell_type": "markdown",
   "metadata": {},
   "source": [
    "Теперь построим точечный график количества заказов по пользователям"
   ]
  },
  {
   "cell_type": "code",
   "execution_count": 20,
   "metadata": {},
   "outputs": [
    {
     "data": {
      "image/png": "[encoded data removed]",
      "text/plain": [
       "<Figure size 576x432 with 1 Axes>"
      ]
     },
     "metadata": {
      "needs_background": "light"
     },
     "output_type": "display_data"
    }
   ],
   "source": [
    "plt.figure(figsize=(8, 6))\n",
    "\n",
    "# Группируем данные по столбцу visitor_id и считаем количество заказов и его группу\n",
    "\n",
    "ordersByUsers = (\n",
    "    orders.groupby('visitor_id', as_index=False)\n",
    "    .agg({'transaction_id': 'nunique', 'group': 'max'})\n",
    ")\n",
    "\n",
    "ordersByUsers.columns = ['user_id', 'orders', 'group']\n",
    "\n",
    "# Искусственно создаем нумерацию пользователей, чтобы график был более наглядный и без лишних чисел\n",
    "x_values = pd.Series(range(0, len(ordersByUsers)))\n",
    "\n",
    "plt.scatter(x = x_values, y = ordersByUsers['orders'])\n",
    "plt.title('Диаграмма рассения количества заказов на пользователя')\n",
    "plt.xlabel('Пользователи')\n",
    "plt.ylabel('Количество заказов');"
   ]
  },
  {
   "cell_type": "markdown",
   "metadata": {},
   "source": [
    "Большинство пользователей совершают только одну покупку, так же есть достаточно большое количество пользователей с 2-3 покупками."
   ]
  },
  {
   "cell_type": "markdown",
   "metadata": {},
   "source": [
    "Посчитаем 95-й и 99-й перцентили количества заказов на пользователя и выберем границу для определения аномальных пользователей."
   ]
  },
  {
   "cell_type": "code",
   "execution_count": 21,
   "metadata": {},
   "outputs": [
    {
     "data": {
      "text/plain": [
       "array([2., 4.])"
      ]
     },
     "execution_count": 21,
     "metadata": {},
     "output_type": "execute_result"
    }
   ],
   "source": [
    "# Считаем перцентили\n",
    "\n",
    "np.percentile(ordersByUsers['orders'], [95, 99])"
   ]
  },
  {
   "cell_type": "markdown",
   "metadata": {},
   "source": [
    "Пользователи с 4-мя заказами и выше будут считаться выбросами"
   ]
  },
  {
   "cell_type": "markdown",
   "metadata": {},
   "source": [
    "Посмотрим теперь на стоимость заказов"
   ]
  },
  {
   "cell_type": "code",
   "execution_count": 22,
   "metadata": {},
   "outputs": [
    {
     "data": {
      "image/png": "[encoded data removed]",
      "text/plain": [
       "<Figure size 576x432 with 1 Axes>"
      ]
     },
     "metadata": {
      "needs_background": "light"
     },
     "output_type": "display_data"
    }
   ],
   "source": [
    "plt.figure(figsize=(8, 6))\n",
    "\n",
    "x_values = pd.Series(range(0,len(orders['revenue'])))\n",
    "plt.scatter(x_values, orders['revenue'])\n",
    "plt.title('Диаграмма рассеяния стоимости заказов')\n",
    "plt.xlabel('Заказы')\n",
    "plt.ylabel('Стоимость, млн. руб.');"
   ]
  },
  {
   "cell_type": "markdown",
   "metadata": {},
   "source": [
    "Из-за слишком дорогого заказа не видно общей картины, изменим масштаб по оси у."
   ]
  },
  {
   "cell_type": "code",
   "execution_count": 23,
   "metadata": {},
   "outputs": [
    {
     "data": {
      "image/png": "[encoded data removed]",
      "text/plain": [
       "<Figure size 576x432 with 1 Axes>"
      ]
     },
     "metadata": {
      "needs_background": "light"
     },
     "output_type": "display_data"
    }
   ],
   "source": [
    "plt.figure(figsize=(8, 6))\n",
    "plt.ylim(0, 200000)\n",
    "\n",
    "x_values = pd.Series(range(0,len(orders['revenue'])))\n",
    "plt.scatter(x_values, orders['revenue'])\n",
    "plt.title('Диаграмма рассеяния стоимости заказов')\n",
    "plt.xlabel('Заказы')\n",
    "plt.ylabel('Стоимость, руб.');"
   ]
  },
  {
   "cell_type": "markdown",
   "metadata": {},
   "source": [
    "Можно сказать, что большинство заказов стоят не выше 50000 рублей, что примерно совпадает с 99-ым перцентилем - 58233 рубля."
   ]
  },
  {
   "cell_type": "markdown",
   "metadata": {},
   "source": [
    "Посчитаем 95-й и 99-й перцентили стоимости заказов и выберем границу для определения аномальных значений."
   ]
  },
  {
   "cell_type": "code",
   "execution_count": 24,
   "metadata": {},
   "outputs": [
    {
     "data": {
      "text/plain": [
       "array([28000. , 58233.2])"
      ]
     },
     "execution_count": 24,
     "metadata": {},
     "output_type": "execute_result"
    }
   ],
   "source": [
    "np.percentile(orders['revenue'], [95, 99])"
   ]
  },
  {
   "cell_type": "markdown",
   "metadata": {},
   "source": [
    "Определим за верхнюю границу стоимости заказа 99-ый перцентиль - 58233 рубля."
   ]
  },
  {
   "cell_type": "markdown",
   "metadata": {},
   "source": [
    "### Проверка на статистическую значимость различий с помощью теста Манна-Уитни"
   ]
  },
  {
   "cell_type": "markdown",
   "metadata": {},
   "source": [
    "Теперь посчитаем статистическую значимость различий в среднем количестве заказов на посетителя между группами по «сырым» данным. Для более удобного расчета составим новую таблицу."
   ]
  },
  {
   "cell_type": "code",
   "execution_count": 25,
   "metadata": {
    "scrolled": true
   },
   "outputs": [
    {
     "data": {
      "text/html": [
       "<div>\n",
       "<style scoped>\n",
       "    .dataframe tbody tr th:only-of-type {\n",
       "        vertical-align: middle;\n",
       "    }\n",
       "\n",
       "    .dataframe tbody tr th {\n",
       "        vertical-align: top;\n",
       "    }\n",
       "\n",
       "    .dataframe thead th {\n",
       "        text-align: right;\n",
       "    }\n",
       "</style>\n",
       "<table border=\"1\" class=\"dataframe\">\n",
       "  <thead>\n",
       "    <tr style=\"text-align: right;\">\n",
       "      <th></th>\n",
       "      <th>date</th>\n",
       "      <th>orders_per_date_A</th>\n",
       "      <th>revenue_per_date_A</th>\n",
       "      <th>orders_per_date_B</th>\n",
       "      <th>revenue_per_date_B</th>\n",
       "      <th>orders_cummulative_A</th>\n",
       "      <th>revenue_cummulative_A</th>\n",
       "      <th>orders_cummulative_B</th>\n",
       "      <th>revenue_cummulative_B</th>\n",
       "      <th>visitors_per_date_A</th>\n",
       "      <th>visitors_per_date_B</th>\n",
       "      <th>visitors_cummulative_A</th>\n",
       "      <th>visitors_cummulative_B</th>\n",
       "    </tr>\n",
       "  </thead>\n",
       "  <tbody>\n",
       "    <tr>\n",
       "      <th>0</th>\n",
       "      <td>2019-08-01</td>\n",
       "      <td>24</td>\n",
       "      <td>148579</td>\n",
       "      <td>21</td>\n",
       "      <td>101217</td>\n",
       "      <td>24</td>\n",
       "      <td>148579</td>\n",
       "      <td>21</td>\n",
       "      <td>101217</td>\n",
       "      <td>719</td>\n",
       "      <td>713</td>\n",
       "      <td>719</td>\n",
       "      <td>713</td>\n",
       "    </tr>\n",
       "    <tr>\n",
       "      <th>1</th>\n",
       "      <td>2019-08-02</td>\n",
       "      <td>20</td>\n",
       "      <td>93822</td>\n",
       "      <td>24</td>\n",
       "      <td>165531</td>\n",
       "      <td>44</td>\n",
       "      <td>242401</td>\n",
       "      <td>45</td>\n",
       "      <td>266748</td>\n",
       "      <td>619</td>\n",
       "      <td>581</td>\n",
       "      <td>1338</td>\n",
       "      <td>1294</td>\n",
       "    </tr>\n",
       "    <tr>\n",
       "      <th>2</th>\n",
       "      <td>2019-08-03</td>\n",
       "      <td>24</td>\n",
       "      <td>112473</td>\n",
       "      <td>16</td>\n",
       "      <td>114248</td>\n",
       "      <td>68</td>\n",
       "      <td>354874</td>\n",
       "      <td>61</td>\n",
       "      <td>380996</td>\n",
       "      <td>507</td>\n",
       "      <td>509</td>\n",
       "      <td>1845</td>\n",
       "      <td>1803</td>\n",
       "    </tr>\n",
       "    <tr>\n",
       "      <th>3</th>\n",
       "      <td>2019-08-04</td>\n",
       "      <td>16</td>\n",
       "      <td>70825</td>\n",
       "      <td>17</td>\n",
       "      <td>108571</td>\n",
       "      <td>84</td>\n",
       "      <td>425699</td>\n",
       "      <td>78</td>\n",
       "      <td>489567</td>\n",
       "      <td>717</td>\n",
       "      <td>770</td>\n",
       "      <td>2562</td>\n",
       "      <td>2573</td>\n",
       "    </tr>\n",
       "    <tr>\n",
       "      <th>4</th>\n",
       "      <td>2019-08-05</td>\n",
       "      <td>25</td>\n",
       "      <td>124218</td>\n",
       "      <td>23</td>\n",
       "      <td>92428</td>\n",
       "      <td>109</td>\n",
       "      <td>549917</td>\n",
       "      <td>101</td>\n",
       "      <td>581995</td>\n",
       "      <td>756</td>\n",
       "      <td>707</td>\n",
       "      <td>3318</td>\n",
       "      <td>3280</td>\n",
       "    </tr>\n",
       "  </tbody>\n",
       "</table>\n",
       "</div>"
      ],
      "text/plain": [
       "        date  orders_per_date_A  revenue_per_date_A  orders_per_date_B  \\\n",
       "0 2019-08-01  24                 148579              21                  \n",
       "1 2019-08-02  20                 93822               24                  \n",
       "2 2019-08-03  24                 112473              16                  \n",
       "3 2019-08-04  16                 70825               17                  \n",
       "4 2019-08-05  25                 124218              23                  \n",
       "\n",
       "   revenue_per_date_B  orders_cummulative_A  revenue_cummulative_A  \\\n",
       "0  101217              24                    148579                  \n",
       "1  165531              44                    242401                  \n",
       "2  114248              68                    354874                  \n",
       "3  108571              84                    425699                  \n",
       "4  92428               109                   549917                  \n",
       "\n",
       "   orders_cummulative_B  revenue_cummulative_B  visitors_per_date_A  \\\n",
       "0  21                    101217                 719                   \n",
       "1  45                    266748                 619                   \n",
       "2  61                    380996                 507                   \n",
       "3  78                    489567                 717                   \n",
       "4  101                   581995                 756                   \n",
       "\n",
       "   visitors_per_date_B  visitors_cummulative_A  visitors_cummulative_B  \n",
       "0  713                  719                     713                     \n",
       "1  581                  1338                    1294                    \n",
       "2  509                  1845                    1803                    \n",
       "3  770                  2562                    2573                    \n",
       "4  707                  3318                    3280                    "
      ]
     },
     "metadata": {},
     "output_type": "display_data"
    }
   ],
   "source": [
    "# Делаем срез по группам чтобы посчитать кол-во пользователей в день исследования\n",
    "\n",
    "visitorsADaily = visitors[visitors['group'] == 'A'][['date', 'visitors']]\n",
    "visitorsADaily.columns = ['date', 'visitors_per_date_A']\n",
    "\n",
    "# С помощью лямбда-функции считаем кумулятивное количество посетителей\n",
    "\n",
    "visitorsACummulative = visitorsADaily.apply(\n",
    "    lambda x: visitorsADaily[visitorsADaily['date'] <= x['date']].agg(\n",
    "        {'date': 'max', 'visitors_per_date_A': 'sum'}\n",
    "    ),\n",
    "    axis=1,\n",
    ")\n",
    "visitorsACummulative.columns = ['date', 'visitors_cummulative_A']\n",
    "\n",
    "visitorsBDaily = visitors[visitors['group'] == 'B'][['date', 'visitors']]\n",
    "visitorsBDaily.columns = ['date', 'visitors_per_date_B']\n",
    "\n",
    "visitorsBCummulative = visitorsBDaily.apply(\n",
    "    lambda x: visitorsBDaily[visitorsBDaily['date'] <= x['date']].agg(\n",
    "        {'date': 'max', 'visitors_per_date_B': 'sum'}\n",
    "    ),\n",
    "    axis=1,\n",
    ")\n",
    "visitorsBCummulative.columns = ['date', 'visitors_cummulative_B']\n",
    "\n",
    "# Делаем то же самое, но теперь для стоимости и количества заказов\n",
    "\n",
    "ordersADaily = (\n",
    "    orders[orders['group'] == 'A'][['date', 'transaction_id', 'visitor_id', 'revenue']]\n",
    "    .groupby('date', as_index=False)\n",
    "    .agg({'transaction_id': pd.Series.nunique, 'revenue': 'sum'})\n",
    ")\n",
    "ordersADaily.columns = ['date', 'orders_per_date_A', 'revenue_per_date_A']\n",
    "\n",
    "ordersACummulative = ordersADaily.apply(\n",
    "    lambda x: ordersADaily[ordersADaily['date'] <= x['date']].agg(\n",
    "        {'date': 'max', 'orders_per_date_A': 'sum', 'revenue_per_date_A': 'sum'}\n",
    "    ),\n",
    "    axis=1,\n",
    ").sort_values(by=['date'])\n",
    "ordersACummulative.columns = [\n",
    "    'date',\n",
    "    'orders_cummulative_A',\n",
    "    'revenue_cummulative_A',\n",
    "]\n",
    "\n",
    "ordersBDaily = (\n",
    "    orders[orders['group'] == 'B'][['date', 'transaction_id', 'visitor_id', 'revenue']]\n",
    "    .groupby('date', as_index=False)\n",
    "    .agg({'transaction_id': pd.Series.nunique, 'revenue': 'sum'})\n",
    ")\n",
    "ordersBDaily.columns = ['date', 'orders_per_date_B', 'revenue_per_date_B']\n",
    "\n",
    "ordersBCummulative = ordersBDaily.apply(\n",
    "    lambda x: ordersBDaily[ordersBDaily['date'] <= x['date']].agg(\n",
    "        {'date': 'max', 'orders_per_date_B': 'sum', 'revenue_per_date_B': 'sum'}\n",
    "    ),\n",
    "    axis=1,\n",
    ").sort_values(by=['date'])\n",
    "ordersBCummulative.columns = [\n",
    "    'date',\n",
    "    'orders_cummulative_B',\n",
    "    'revenue_cummulative_B',\n",
    "]\n",
    "\n",
    "# Объединяем полученные выше таблицы с помощью метода .merge()\n",
    "\n",
    "data = (\n",
    "    ordersADaily.merge(\n",
    "        ordersBDaily, left_on='date', right_on='date', how='left'\n",
    "    )\n",
    "    .merge(ordersACummulative, left_on='date', right_on='date', how='left')\n",
    "    .merge(ordersBCummulative, left_on='date', right_on='date', how='left')\n",
    "    .merge(visitorsADaily, left_on='date', right_on='date', how='left')\n",
    "    .merge(visitorsBDaily, left_on='date', right_on='date', how='left')\n",
    "    .merge(visitorsACummulative, left_on='date', right_on='date', how='left')\n",
    "    .merge(visitorsBCummulative, left_on='date', right_on='date', how='left')\n",
    ")\n",
    "\n",
    "display(data.head(5))"
   ]
  },
  {
   "cell_type": "markdown",
   "metadata": {},
   "source": [
    "Теперь у нас есть подробная информация по каждой группе."
   ]
  },
  {
   "cell_type": "markdown",
   "metadata": {},
   "source": [
    "Применим тест Манна-Уитни для подсчета статистической значимости различия среднего количества заказов по результатам месячного теста. Тест будем проводить на \"сырых\" данных. Уровень статистической значимости установим на 5%.\n",
    "\n",
    "- **Нулевая гипотеза:** различий в среднем количестве заказов нет\n",
    "\n",
    "- **Альтернативная гипотеза:** различия в среднем количестве заказов есть"
   ]
  },
  {
   "cell_type": "code",
   "execution_count": 26,
   "metadata": {},
   "outputs": [
    {
     "name": "stdout",
     "output_type": "stream",
     "text": [
      "p-значение: 0.017\n",
      "Отвергаем нулевую гипотезу: между группами есть разница\n",
      "Относительный прирост В к А: 13.808%\n"
     ]
    }
   ],
   "source": [
    "# Группируем данные по группам А и В считая количество заказов\n",
    "\n",
    "ordersByUsersA = (\n",
    "    orders[orders['group'] == 'A']\n",
    "    .groupby('visitor_id', as_index=False)\n",
    "    .agg({'transaction_id': pd.Series.nunique})\n",
    ")\n",
    "ordersByUsersA.columns = ['visitor_id', 'orders']\n",
    "\n",
    "ordersByUsersB = (\n",
    "    orders[orders['group'] == 'B']\n",
    "    .groupby('visitor_id', as_index=False)\n",
    "    .agg({'transaction_id': pd.Series.nunique})\n",
    ")\n",
    "ordersByUsersB.columns = ['visitor_id', 'orders'] \n",
    "\n",
    "# Создаем два датафрейма для проведения теста Манна-Уитни\n",
    "\n",
    "sampleA = pd.concat([ordersByUsersA['orders'],pd.Series(0, index=np.arange(data['visitors_per_date_A'].sum() - len(ordersByUsersA['orders'])), name='orders')],axis=0)\n",
    "\n",
    "sampleB = pd.concat([ordersByUsersB['orders'],pd.Series(0, index=np.arange(data['visitors_per_date_B'].sum() - len(ordersByUsersB['orders'])), name='orders')],axis=0)\n",
    "\n",
    "alpha = 0.05\n",
    "p_value = st.mannwhitneyu(sampleA, sampleB)[1]\n",
    "print(\"p-значение: {0:.3f}\".format(p_value))\n",
    "\n",
    "if (p_value < alpha):\n",
    "    print(\"Отвергаем нулевую гипотезу: между группами есть разница\")\n",
    "else:\n",
    "    print(\"Не получилось отвергнуть нулевую гипотезу, нет оснований считать группы разными\")\n",
    "    \n",
    "print(\"Относительный прирост В к А: {0:.3%}\".format(sampleB.mean() / sampleA.mean()-1))"
   ]
  },
  {
   "cell_type": "markdown",
   "metadata": {},
   "source": [
    "P-value меньше уровня статистической значимости, значит нулевую гипотезу можно отвергнуть, между группами есть различия в среднем количестве заказов. Относительный прирост группы В к А: 13.808%"
   ]
  },
  {
   "cell_type": "markdown",
   "metadata": {},
   "source": [
    "Теперь применим тест Манна-Уитни для подсчета статистической значимости различия среднего чека заказа по результатам месячного теста. Тест будем проводить на \"сырых\" данных. Уровень статистической значимости установим на 5%.\n",
    "\n",
    "- **Нулевая гипотеза:** различий в среднем чеке нет\n",
    "\n",
    "- **Альтернативная гипотеза:** различия в среднем чеке есть"
   ]
  },
  {
   "cell_type": "code",
   "execution_count": 27,
   "metadata": {},
   "outputs": [
    {
     "name": "stdout",
     "output_type": "stream",
     "text": [
      "p-значение: 0.729\n",
      "Не получилось отвергнуть нулевую гипотезу, нет оснований считать группы разными\n",
      "Относительный прирост В к А: 25.871%\n"
     ]
    }
   ],
   "source": [
    "alpha = 0.05\n",
    "p_value = st.mannwhitneyu(orders[orders['group']=='A']['revenue'], orders[orders['group']=='B']['revenue'])[1]\n",
    "\n",
    "print(\"p-значение: {0:.3f}\".format(p_value))\n",
    "\n",
    "if (p_value < alpha):\n",
    "    print(\"Отвергаем нулевую гипотезу: между группами есть разница\")\n",
    "else:\n",
    "    print(\"Не получилось отвергнуть нулевую гипотезу, нет оснований считать группы разными\")\n",
    "print('Относительный прирост В к А: {0:.3%}'.format(orders[orders['group']=='B']['revenue'].mean()/orders[orders['group']=='A']['revenue'].mean()-1))"
   ]
  },
  {
   "cell_type": "markdown",
   "metadata": {},
   "source": [
    "P-value сильно больше 5%, поэтому нет оснований считать группы разными даже при наличии аномальных значений. Относительный прирост В к А: 25.871%."
   ]
  },
  {
   "cell_type": "markdown",
   "metadata": {},
   "source": [
    "Теперь очистим данные от аномальных значений"
   ]
  },
  {
   "cell_type": "code",
   "execution_count": 28,
   "metadata": {},
   "outputs": [
    {
     "name": "stdout",
     "output_type": "stream",
     "text": [
      "1099    148427295\n",
      "18      199603092\n",
      "23      237748145\n",
      "949     887908475\n",
      "744     888512513\n",
      "Name: visitor_id, dtype: int64\n",
      "20\n"
     ]
    }
   ],
   "source": [
    "# С помощью метода pd.concat объединяем списки аномальных пользователей по кол-ву заказов и их стоимости из двух групп\n",
    "\n",
    "usersWithManyOrders = pd.concat(\n",
    "    [\n",
    "        ordersByUsersA[ordersByUsersA['orders'] >= 4]['visitor_id'],\n",
    "        ordersByUsersB[ordersByUsersB['orders'] >= 4]['visitor_id'],\n",
    "    ],\n",
    "    axis=0,\n",
    ")\n",
    "usersWithExpensiveOrders = orders[orders['revenue'] >= 58233]['visitor_id']\n",
    "abnormalUsers = (\n",
    "    pd.concat([usersWithManyOrders, usersWithExpensiveOrders], axis=0)\n",
    "    .drop_duplicates()\n",
    "    .sort_values()\n",
    ")\n",
    "print(abnormalUsers.head(5))\n",
    "print(abnormalUsers.shape[0])"
   ]
  },
  {
   "cell_type": "markdown",
   "metadata": {},
   "source": [
    "Всего 20 аномальных пользователей, посмотрим как они повлияли на анализ. Уровень статистической значимости установим на 5%.\n",
    "\n",
    "- **Нулевая гипотеза:** различий в среднем количестве заказов нет\n",
    "\n",
    "- **Альтернативная гипотеза:** различия в среднем количестве заказов есть"
   ]
  },
  {
   "cell_type": "code",
   "execution_count": 29,
   "metadata": {},
   "outputs": [
    {
     "name": "stdout",
     "output_type": "stream",
     "text": [
      "p-значение: 0.014\n",
      "Отвергаем нулевую гипотезу: между группами есть разница\n",
      "Относительный прирост В к А: 15.103%\n"
     ]
    }
   ],
   "source": [
    "# Фильтруем два датайрема, с помощью метода isin() ищем пользоватлей,\n",
    "# которые есть среди аномальных и не учитываем их при построении датафрейма\n",
    "\n",
    "sampleA_filtered = pd.concat(\n",
    "    [\n",
    "        ordersByUsersA[\n",
    "            np.logical_not(ordersByUsersA['visitor_id'].isin(abnormalUsers))\n",
    "        ]['orders'],\n",
    "        pd.Series(\n",
    "            0,\n",
    "            index=np.arange(\n",
    "                data['visitors_per_date_A'].sum() - len(ordersByUsersA['orders'])\n",
    "            ),\n",
    "            name='orders',\n",
    "        ),\n",
    "    ],\n",
    "    axis=0,\n",
    ")\n",
    "\n",
    "sampleB_filtered = pd.concat(\n",
    "    [\n",
    "        ordersByUsersB[\n",
    "            np.logical_not(ordersByUsersB['visitor_id'].isin(abnormalUsers))\n",
    "        ]['orders'],\n",
    "        pd.Series(\n",
    "            0,\n",
    "            index=np.arange(\n",
    "                data['visitors_per_date_B'].sum() - len(ordersByUsersB['orders'])\n",
    "            ),\n",
    "            name='orders',\n",
    "        ),\n",
    "    ],\n",
    "    axis=0,\n",
    ") \n",
    "\n",
    "alpha = 0.05\n",
    "p_value = st.mannwhitneyu(sampleA_filtered, sampleB_filtered)[1]\n",
    "print(\"p-значение: {0:.3f}\".format(p_value))\n",
    "\n",
    "if (p_value < alpha):\n",
    "    print(\"Отвергаем нулевую гипотезу: между группами есть разница\")\n",
    "else:\n",
    "    print(\"Не получилось отвергнуть нулевую гипотезу, нет оснований считать группы разными\")\n",
    "    \n",
    "print(\"Относительный прирост В к А: {0:.3%}\".format(sampleB_filtered.mean() / sampleA_filtered.mean()-1))"
   ]
  },
  {
   "cell_type": "markdown",
   "metadata": {},
   "source": [
    "Р-value все также больше 5%, но все-таки меньше на 0.3% чем в \"сырых\" данных, зато относительный прирост в среднем количестве заказов группы В к группе А повысился на 1.3% по сравнению с \"сырыми\" данными."
   ]
  },
  {
   "cell_type": "markdown",
   "metadata": {},
   "source": [
    "Теперь взглянем на средний чек. Уровень статистической значимости установим на 5%.\n",
    "\n",
    "- **Нулевая гипотеза:** различий в среднем чеке нет\n",
    "\n",
    "- **Альтернативная гипотеза:** различия в среднем чеке есть"
   ]
  },
  {
   "cell_type": "code",
   "execution_count": 30,
   "metadata": {},
   "outputs": [
    {
     "name": "stdout",
     "output_type": "stream",
     "text": [
      "p-значение: 0.959\n",
      "Не получилось отвергнуть нулевую гипотезу, нет оснований считать группы разными\n",
      "Относительный прирост В к А: -1.385%\n"
     ]
    }
   ],
   "source": [
    "# Фильтруем два датайрема, с помощью метода isin() ищем пользоватлей,\n",
    "# которые есть среди аномальных и не учитываем их при построении датафрейма\n",
    "\n",
    "alpha = 0.05\n",
    "p_value = st.mannwhitneyu(\n",
    "            orders[\n",
    "                np.logical_and(\n",
    "                    orders['group'] == 'A',\n",
    "                    np.logical_not(orders['visitor_id'].isin(abnormalUsers)),\n",
    "                )\n",
    "            ]['revenue'],\n",
    "            orders[\n",
    "                np.logical_and(\n",
    "                    orders['group'] == 'B',\n",
    "                    np.logical_not(orders['visitor_id'].isin(abnormalUsers)),\n",
    "                )\n",
    "            ]['revenue'],\n",
    "        )[1]\n",
    "print(\"p-значение: {0:.3f}\".format(p_value))\n",
    "\n",
    "if (p_value < alpha):\n",
    "    print(\"Отвергаем нулевую гипотезу: между группами есть разница\")\n",
    "else:\n",
    "    print(\"Не получилось отвергнуть нулевую гипотезу, нет оснований считать группы разными\")\n",
    "    \n",
    "print(\"Относительный прирост В к А: {0:.3%}\".format(\n",
    "        orders[\n",
    "            np.logical_and(\n",
    "                orders['group'] == 'B',\n",
    "                np.logical_not(orders['visitor_id'].isin(abnormalUsers)),\n",
    "            )\n",
    "        ]['revenue'].mean()\n",
    "        / orders[\n",
    "            np.logical_and(\n",
    "                orders['group'] == 'A',\n",
    "                np.logical_not(orders['visitor_id'].isin(abnormalUsers)),\n",
    "            )\n",
    "        ]['revenue'].mean()\n",
    "        - 1\n",
    "    ))"
   ]
  },
  {
   "cell_type": "markdown",
   "metadata": {},
   "source": [
    "P-value сильно вырос, все также нет оснований считать группы разными, а вот относительный прирост среднего чека группы В к группе А теперь отрицательный (-1.4%)."
   ]
  },
  {
   "cell_type": "markdown",
   "metadata": {},
   "source": [
    "### Промежуточный вывод по этапу анализа А/В теста\n",
    "\n",
    "Был проведен анализ А/В теста, который длился ровно месяц с 1 августа 2019 года по 31 августа 2019 года. \n",
    "\n",
    "- Построены графики кумулятивной выручки, кумулятивного среднего чека и кумулятивного среднего количества заказов в разделении по группам. Также были построены графики относительного изменения кумулятивного среденго чека и кумулятивного среднего количества заказов группы В к группе А.\n",
    "\n",
    "- Для определение нижней границы аномальных значений были посчитаны 95-ые и 99-ые перцентили. Для количество заказов на покупателя граница была в 4 заказа, для стоимости заказа - в 58233 руб.\n",
    "\n",
    "- При помощи теста Манна-Уитни были проведены тесты статистической значимости различий по разным метрикам в разделении по группам. Наличие или отсутствие аномальных значений не изменило результат исследования."
   ]
  },
  {
   "cell_type": "markdown",
   "metadata": {},
   "source": [
    "## Общий вывод"
   ]
  },
  {
   "cell_type": "markdown",
   "metadata": {},
   "source": [
    "В нашем распоряжении данные о гипотезах, заказах и группах A/B тестирования во все дни проведения теста\n",
    "\n",
    "Вместе с отделом маркетинга был подготовлен список гипотез для увеличения выручки. Нужно было приоритизировать гипотезы, запустить A/B-тест и проанализировать результаты.\n",
    "\n",
    "Все цели исследования были достигнуты:\n",
    "\n",
    "- гипотезы приоритизированы\n",
    "\n",
    "- А/В тест проанализирован\n",
    "\n",
    "На этапе предобработки данных особых проблем не возникло: \n",
    "\n",
    "**Пропуски:** пропуски отсутствуют во всех таблицах\n",
    "\n",
    "**Дупликаты:** дупликатов также нет\n",
    "\n",
    "**Аномальные значения:** для наглядной оценки влияния аномальных значений на исследование удаление таких данных произошло на этапе проверки стаистической значимости различия между группами А и В.\n",
    "\n",
    "**Типы данных:** был изменени тип даннных в столбцах с датой на datetime \n",
    "\n",
    "Также было найдено 58 пользователей, которые попали в обе группы, было принято решение не удалять данные этих пользователей. Ведь так или иначе они принимали участие в анализе из-за наличия таких пользователей в таблице с визитами, в которой данные являются агрегированными, и поэтому их нельзя оттуда удалить. Если бы таблица по визитам была неагрегированная, то такие пользователи были бы удалены.\n",
    "\n",
    "При приоритизации гипотез наилучшим образом показали себя гипотезы под номерами 7 и 0, так как при расчете ICE и RICE они обе входили в топ-3.\n",
    "\n",
    "Был проведен анализ А/В теста, который длился ровно месяц с 1 августа 2019 года по 31 августа 2019 года. \n",
    "\n",
    "- Построены графики кумулятивной выручки, кумулятивного среднего чека и кумулятивного среднего количества заказов в разделении по группам. Также были построены графики относительного изменения кумулятивного среднего чека и кумулятивного среднего количества заказов группы В к группе А.\n",
    "\n",
    "- Для определение нижней границы аномальных значений были посчитаны 95-ые и 99-ые перцентили. Для количество заказов на покупателя граница была в 4 заказа, для стоимости заказа - в 58233 руб.\n",
    "\n",
    "- При помощи теста Манна-Уитни были проведены тесты статистической значимости различий по разным метрикам в разделении по группам. Наличие или отсутствие аномальных значений не изменило результат исследования.\n",
    "\n",
    "По результатам исследования было принято решение остановить проведение А/В теста и признать группу В победителем, так как относительный прирост кумулятивного среднего количества заказов группы В к группе А стабильно выше 10%, причем даже без учета аномальных значений группа В вырывается вперед при расчете кумулятивной выручки."
   ]
  }
 ],
 "metadata": {
  "ExecuteTimeLog": [
   {
    "duration": 777,
    "start_time": "2023-07-04T16:38:44.424Z"
   },
   {
    "duration": 122,
    "start_time": "2023-07-04T16:48:31.635Z"
   },
   {
    "duration": 12,
    "start_time": "2023-07-04T16:48:38.507Z"
   },
   {
    "duration": 8,
    "start_time": "2023-07-04T17:07:53.187Z"
   },
   {
    "duration": 4,
    "start_time": "2023-07-04T17:08:15.833Z"
   },
   {
    "duration": 14,
    "start_time": "2023-07-04T17:08:24.597Z"
   },
   {
    "duration": 90,
    "start_time": "2023-07-04T17:11:30.403Z"
   },
   {
    "duration": 10,
    "start_time": "2023-07-04T17:11:45.312Z"
   },
   {
    "duration": 11,
    "start_time": "2023-07-04T17:11:58.657Z"
   },
   {
    "duration": 13,
    "start_time": "2023-07-04T17:12:32.857Z"
   },
   {
    "duration": 14,
    "start_time": "2023-07-04T17:17:32.412Z"
   },
   {
    "duration": 54,
    "start_time": "2023-07-05T15:00:08.099Z"
   },
   {
    "duration": 1152,
    "start_time": "2023-07-05T15:00:10.148Z"
   },
   {
    "duration": 227,
    "start_time": "2023-07-05T15:00:11.769Z"
   },
   {
    "duration": 18,
    "start_time": "2023-07-05T15:00:29.606Z"
   },
   {
    "duration": 15,
    "start_time": "2023-07-05T15:00:45.617Z"
   },
   {
    "duration": 19,
    "start_time": "2023-07-05T15:02:33.890Z"
   },
   {
    "duration": 17,
    "start_time": "2023-07-05T15:27:53.741Z"
   },
   {
    "duration": 19,
    "start_time": "2023-07-05T15:27:57.123Z"
   },
   {
    "duration": 14,
    "start_time": "2023-07-05T15:28:00.002Z"
   },
   {
    "duration": 3,
    "start_time": "2023-07-05T17:49:29.143Z"
   },
   {
    "duration": 1410,
    "start_time": "2023-07-06T15:16:07.691Z"
   },
   {
    "duration": 273,
    "start_time": "2023-07-06T15:16:09.103Z"
   },
   {
    "duration": 40,
    "start_time": "2023-07-06T15:16:09.379Z"
   },
   {
    "duration": 20,
    "start_time": "2023-07-06T15:16:09.421Z"
   },
   {
    "duration": 18,
    "start_time": "2023-07-06T15:16:09.443Z"
   },
   {
    "duration": 5,
    "start_time": "2023-07-06T15:16:09.463Z"
   },
   {
    "duration": 23,
    "start_time": "2023-07-06T15:16:09.470Z"
   },
   {
    "duration": 25,
    "start_time": "2023-07-06T15:16:09.512Z"
   },
   {
    "duration": 169,
    "start_time": "2023-07-06T15:17:23.895Z"
   },
   {
    "duration": 8,
    "start_time": "2023-07-06T15:17:31.134Z"
   },
   {
    "duration": 13,
    "start_time": "2023-07-06T15:17:35.783Z"
   },
   {
    "duration": 4,
    "start_time": "2023-07-06T15:22:43.102Z"
   },
   {
    "duration": 106,
    "start_time": "2023-07-06T15:22:43.109Z"
   },
   {
    "duration": 22,
    "start_time": "2023-07-06T15:22:43.223Z"
   },
   {
    "duration": 32,
    "start_time": "2023-07-06T15:22:43.247Z"
   },
   {
    "duration": 40,
    "start_time": "2023-07-06T15:22:43.282Z"
   },
   {
    "duration": 7,
    "start_time": "2023-07-06T15:31:45.510Z"
   },
   {
    "duration": 12,
    "start_time": "2023-07-06T15:36:33.768Z"
   },
   {
    "duration": 10,
    "start_time": "2023-07-06T15:40:56.097Z"
   },
   {
    "duration": 12,
    "start_time": "2023-07-06T15:41:00.231Z"
   },
   {
    "duration": 15,
    "start_time": "2023-07-06T15:41:19.524Z"
   },
   {
    "duration": 13,
    "start_time": "2023-07-06T15:41:36.208Z"
   },
   {
    "duration": 26,
    "start_time": "2023-07-06T15:42:58.857Z"
   },
   {
    "duration": 21,
    "start_time": "2023-07-06T15:43:25.769Z"
   },
   {
    "duration": 39,
    "start_time": "2023-07-06T15:43:51.719Z"
   },
   {
    "duration": 12,
    "start_time": "2023-07-06T15:44:24.296Z"
   },
   {
    "duration": 24,
    "start_time": "2023-07-06T15:50:10.943Z"
   },
   {
    "duration": 29,
    "start_time": "2023-07-06T15:50:39.307Z"
   },
   {
    "duration": 36,
    "start_time": "2023-07-06T15:51:01.920Z"
   },
   {
    "duration": 27,
    "start_time": "2023-07-06T15:51:12.540Z"
   },
   {
    "duration": 5,
    "start_time": "2023-07-06T15:51:21.012Z"
   },
   {
    "duration": 110,
    "start_time": "2023-07-06T15:51:21.023Z"
   },
   {
    "duration": 23,
    "start_time": "2023-07-06T15:51:21.135Z"
   },
   {
    "duration": 42,
    "start_time": "2023-07-06T15:51:21.160Z"
   },
   {
    "duration": 27,
    "start_time": "2023-07-06T15:51:21.205Z"
   },
   {
    "duration": 10,
    "start_time": "2023-07-06T15:51:21.233Z"
   },
   {
    "duration": 23,
    "start_time": "2023-07-06T15:51:21.245Z"
   },
   {
    "duration": 24,
    "start_time": "2023-07-06T15:51:21.270Z"
   },
   {
    "duration": 29,
    "start_time": "2023-07-06T15:51:21.296Z"
   },
   {
    "duration": 38,
    "start_time": "2023-07-06T15:51:21.331Z"
   },
   {
    "duration": 13,
    "start_time": "2023-07-06T15:51:21.371Z"
   },
   {
    "duration": 45,
    "start_time": "2023-07-06T15:51:21.386Z"
   },
   {
    "duration": 9,
    "start_time": "2023-07-06T15:51:50.530Z"
   },
   {
    "duration": 6,
    "start_time": "2023-07-06T15:51:54.626Z"
   },
   {
    "duration": 118,
    "start_time": "2023-07-06T15:51:54.634Z"
   },
   {
    "duration": 18,
    "start_time": "2023-07-06T15:51:54.753Z"
   },
   {
    "duration": 42,
    "start_time": "2023-07-06T15:51:54.773Z"
   },
   {
    "duration": 32,
    "start_time": "2023-07-06T15:51:54.824Z"
   },
   {
    "duration": 19,
    "start_time": "2023-07-06T15:51:54.858Z"
   },
   {
    "duration": 16,
    "start_time": "2023-07-06T15:51:54.879Z"
   },
   {
    "duration": 15,
    "start_time": "2023-07-06T15:51:54.897Z"
   },
   {
    "duration": 27,
    "start_time": "2023-07-06T15:51:54.920Z"
   },
   {
    "duration": 44,
    "start_time": "2023-07-06T15:51:54.949Z"
   },
   {
    "duration": 1161,
    "start_time": "2023-07-06T15:51:54.995Z"
   },
   {
    "duration": 0,
    "start_time": "2023-07-06T15:51:56.159Z"
   },
   {
    "duration": 5,
    "start_time": "2023-07-06T15:53:10.354Z"
   },
   {
    "duration": 9,
    "start_time": "2023-07-06T15:53:16.648Z"
   },
   {
    "duration": 3,
    "start_time": "2023-07-06T15:53:18.362Z"
   },
   {
    "duration": 112,
    "start_time": "2023-07-06T15:53:18.368Z"
   },
   {
    "duration": 23,
    "start_time": "2023-07-06T15:53:18.483Z"
   },
   {
    "duration": 48,
    "start_time": "2023-07-06T15:53:18.508Z"
   },
   {
    "duration": 52,
    "start_time": "2023-07-06T15:53:18.559Z"
   },
   {
    "duration": 13,
    "start_time": "2023-07-06T15:53:18.613Z"
   },
   {
    "duration": 18,
    "start_time": "2023-07-06T15:53:18.628Z"
   },
   {
    "duration": 16,
    "start_time": "2023-07-06T15:53:18.648Z"
   },
   {
    "duration": 19,
    "start_time": "2023-07-06T15:53:18.666Z"
   },
   {
    "duration": 48,
    "start_time": "2023-07-06T15:53:18.687Z"
   },
   {
    "duration": 17,
    "start_time": "2023-07-06T15:53:18.737Z"
   },
   {
    "duration": 15,
    "start_time": "2023-07-06T15:53:18.756Z"
   },
   {
    "duration": 38,
    "start_time": "2023-07-06T15:54:14.019Z"
   },
   {
    "duration": 31,
    "start_time": "2023-07-06T15:54:43.933Z"
   },
   {
    "duration": 6,
    "start_time": "2023-07-06T18:02:43.871Z"
   },
   {
    "duration": 114,
    "start_time": "2023-07-06T18:02:43.880Z"
   },
   {
    "duration": 16,
    "start_time": "2023-07-06T18:02:43.996Z"
   },
   {
    "duration": 35,
    "start_time": "2023-07-06T18:02:44.014Z"
   },
   {
    "duration": 20,
    "start_time": "2023-07-06T18:02:44.051Z"
   },
   {
    "duration": 6,
    "start_time": "2023-07-06T18:02:44.072Z"
   },
   {
    "duration": 12,
    "start_time": "2023-07-06T18:02:44.080Z"
   },
   {
    "duration": 11,
    "start_time": "2023-07-06T18:02:44.093Z"
   },
   {
    "duration": 34,
    "start_time": "2023-07-06T18:02:44.106Z"
   },
   {
    "duration": 32,
    "start_time": "2023-07-06T18:02:44.142Z"
   },
   {
    "duration": 10,
    "start_time": "2023-07-06T18:02:44.176Z"
   },
   {
    "duration": 26,
    "start_time": "2023-07-06T18:02:44.188Z"
   },
   {
    "duration": 37,
    "start_time": "2023-07-06T18:10:13.210Z"
   },
   {
    "duration": 132,
    "start_time": "2023-07-07T16:05:16.496Z"
   },
   {
    "duration": 1254,
    "start_time": "2023-07-07T16:05:21.456Z"
   },
   {
    "duration": 316,
    "start_time": "2023-07-07T16:05:22.712Z"
   },
   {
    "duration": 22,
    "start_time": "2023-07-07T16:05:23.030Z"
   },
   {
    "duration": 35,
    "start_time": "2023-07-07T16:05:23.053Z"
   },
   {
    "duration": 33,
    "start_time": "2023-07-07T16:05:23.090Z"
   },
   {
    "duration": 15,
    "start_time": "2023-07-07T16:05:23.125Z"
   },
   {
    "duration": 21,
    "start_time": "2023-07-07T16:05:23.142Z"
   },
   {
    "duration": 14,
    "start_time": "2023-07-07T16:05:23.165Z"
   },
   {
    "duration": 10,
    "start_time": "2023-07-07T16:05:23.181Z"
   },
   {
    "duration": 40,
    "start_time": "2023-07-07T16:05:23.193Z"
   },
   {
    "duration": 29,
    "start_time": "2023-07-07T16:05:23.235Z"
   },
   {
    "duration": 17,
    "start_time": "2023-07-07T16:05:23.266Z"
   },
   {
    "duration": 207,
    "start_time": "2023-07-07T16:05:23.285Z"
   },
   {
    "duration": 272,
    "start_time": "2023-07-07T16:05:33.600Z"
   },
   {
    "duration": 115,
    "start_time": "2023-07-07T16:07:21.727Z"
   },
   {
    "duration": 31,
    "start_time": "2023-07-07T16:07:41.953Z"
   },
   {
    "duration": 178,
    "start_time": "2023-07-07T16:08:23.337Z"
   },
   {
    "duration": 170,
    "start_time": "2023-07-07T16:12:11.491Z"
   },
   {
    "duration": 4,
    "start_time": "2023-07-07T16:12:19.275Z"
   },
   {
    "duration": 84,
    "start_time": "2023-07-07T16:12:19.281Z"
   },
   {
    "duration": 15,
    "start_time": "2023-07-07T16:12:19.367Z"
   },
   {
    "duration": 18,
    "start_time": "2023-07-07T16:12:19.384Z"
   },
   {
    "duration": 16,
    "start_time": "2023-07-07T16:12:19.404Z"
   },
   {
    "duration": 7,
    "start_time": "2023-07-07T16:12:19.422Z"
   },
   {
    "duration": 7,
    "start_time": "2023-07-07T16:12:19.430Z"
   },
   {
    "duration": 16,
    "start_time": "2023-07-07T16:12:19.439Z"
   },
   {
    "duration": 8,
    "start_time": "2023-07-07T16:12:19.457Z"
   },
   {
    "duration": 26,
    "start_time": "2023-07-07T16:12:19.467Z"
   },
   {
    "duration": 10,
    "start_time": "2023-07-07T16:12:19.495Z"
   },
   {
    "duration": 17,
    "start_time": "2023-07-07T16:12:19.508Z"
   },
   {
    "duration": 461,
    "start_time": "2023-07-07T16:12:19.527Z"
   },
   {
    "duration": 16,
    "start_time": "2023-07-07T16:13:43.653Z"
   },
   {
    "duration": 664,
    "start_time": "2023-07-07T16:13:52.041Z"
   },
   {
    "duration": 29,
    "start_time": "2023-07-07T16:15:15.474Z"
   },
   {
    "duration": 273,
    "start_time": "2023-07-07T16:15:44.551Z"
   },
   {
    "duration": 477,
    "start_time": "2023-07-07T16:17:43.163Z"
   },
   {
    "duration": 425,
    "start_time": "2023-07-07T16:17:59.067Z"
   },
   {
    "duration": 449,
    "start_time": "2023-07-07T16:18:54.754Z"
   },
   {
    "duration": 547,
    "start_time": "2023-07-07T16:19:18.227Z"
   },
   {
    "duration": 436,
    "start_time": "2023-07-07T16:19:36.460Z"
   },
   {
    "duration": 499,
    "start_time": "2023-07-07T16:19:42.354Z"
   },
   {
    "duration": 416,
    "start_time": "2023-07-07T16:19:49.518Z"
   },
   {
    "duration": 465,
    "start_time": "2023-07-07T16:20:46.510Z"
   },
   {
    "duration": 436,
    "start_time": "2023-07-07T16:20:57.360Z"
   },
   {
    "duration": 415,
    "start_time": "2023-07-07T16:21:04.421Z"
   },
   {
    "duration": 414,
    "start_time": "2023-07-07T16:21:11.169Z"
   },
   {
    "duration": 191,
    "start_time": "2023-07-07T16:24:00.565Z"
   },
   {
    "duration": 430,
    "start_time": "2023-07-07T16:24:04.759Z"
   },
   {
    "duration": 407,
    "start_time": "2023-07-07T16:24:17.622Z"
   },
   {
    "duration": 521,
    "start_time": "2023-07-07T16:24:24.971Z"
   },
   {
    "duration": 431,
    "start_time": "2023-07-07T16:24:46.051Z"
   },
   {
    "duration": 505,
    "start_time": "2023-07-07T16:26:59.798Z"
   },
   {
    "duration": 557,
    "start_time": "2023-07-07T16:28:14.024Z"
   },
   {
    "duration": 343,
    "start_time": "2023-07-07T16:29:00.911Z"
   },
   {
    "duration": 314,
    "start_time": "2023-07-07T16:29:12.369Z"
   },
   {
    "duration": 239,
    "start_time": "2023-07-07T16:33:05.378Z"
   },
   {
    "duration": 166,
    "start_time": "2023-07-07T16:43:35.581Z"
   },
   {
    "duration": 183,
    "start_time": "2023-07-07T16:43:38.920Z"
   },
   {
    "duration": 250,
    "start_time": "2023-07-07T16:44:30.386Z"
   },
   {
    "duration": 249,
    "start_time": "2023-07-07T16:44:34.883Z"
   },
   {
    "duration": 181,
    "start_time": "2023-07-07T16:50:12.466Z"
   },
   {
    "duration": 212,
    "start_time": "2023-07-07T16:50:28.591Z"
   },
   {
    "duration": 221,
    "start_time": "2023-07-07T16:50:44.607Z"
   },
   {
    "duration": 196,
    "start_time": "2023-07-07T16:51:36.138Z"
   },
   {
    "duration": 229,
    "start_time": "2023-07-07T16:51:45.225Z"
   },
   {
    "duration": 297,
    "start_time": "2023-07-07T16:51:52.337Z"
   },
   {
    "duration": 311,
    "start_time": "2023-07-07T16:54:13.464Z"
   },
   {
    "duration": 341,
    "start_time": "2023-07-07T16:54:23.146Z"
   },
   {
    "duration": 181,
    "start_time": "2023-07-07T16:57:20.841Z"
   },
   {
    "duration": 293,
    "start_time": "2023-07-07T17:19:53.664Z"
   },
   {
    "duration": 291,
    "start_time": "2023-07-07T17:21:19.927Z"
   },
   {
    "duration": 1063,
    "start_time": "2023-07-07T19:19:19.723Z"
   },
   {
    "duration": 131,
    "start_time": "2023-07-07T19:19:20.788Z"
   },
   {
    "duration": 19,
    "start_time": "2023-07-07T19:19:20.920Z"
   },
   {
    "duration": 14,
    "start_time": "2023-07-07T19:19:20.940Z"
   },
   {
    "duration": 15,
    "start_time": "2023-07-07T19:19:20.956Z"
   },
   {
    "duration": 3,
    "start_time": "2023-07-07T19:19:20.973Z"
   },
   {
    "duration": 5,
    "start_time": "2023-07-07T19:19:20.978Z"
   },
   {
    "duration": 18,
    "start_time": "2023-07-07T19:19:20.985Z"
   },
   {
    "duration": 9,
    "start_time": "2023-07-07T19:19:21.004Z"
   },
   {
    "duration": 38,
    "start_time": "2023-07-07T19:19:21.014Z"
   },
   {
    "duration": 11,
    "start_time": "2023-07-07T19:19:21.053Z"
   },
   {
    "duration": 11,
    "start_time": "2023-07-07T19:19:21.066Z"
   },
   {
    "duration": 281,
    "start_time": "2023-07-07T19:19:21.079Z"
   },
   {
    "duration": 279,
    "start_time": "2023-07-07T19:19:21.362Z"
   },
   {
    "duration": 239,
    "start_time": "2023-07-07T19:19:21.642Z"
   },
   {
    "duration": 320,
    "start_time": "2023-07-07T19:19:21.883Z"
   },
   {
    "duration": 257,
    "start_time": "2023-07-07T19:19:22.205Z"
   },
   {
    "duration": 355,
    "start_time": "2023-07-07T19:19:22.463Z"
   },
   {
    "duration": 378,
    "start_time": "2023-07-07T19:20:27.428Z"
   },
   {
    "duration": 311,
    "start_time": "2023-07-07T19:20:41.711Z"
   },
   {
    "duration": 7,
    "start_time": "2023-07-07T19:20:49.586Z"
   },
   {
    "duration": 305,
    "start_time": "2023-07-07T19:20:56.367Z"
   },
   {
    "duration": 3,
    "start_time": "2023-07-07T19:21:01.205Z"
   },
   {
    "duration": 93,
    "start_time": "2023-07-07T19:21:01.210Z"
   },
   {
    "duration": 17,
    "start_time": "2023-07-07T19:21:01.305Z"
   },
   {
    "duration": 31,
    "start_time": "2023-07-07T19:21:01.324Z"
   },
   {
    "duration": 39,
    "start_time": "2023-07-07T19:21:01.357Z"
   },
   {
    "duration": 34,
    "start_time": "2023-07-07T19:21:01.397Z"
   },
   {
    "duration": 31,
    "start_time": "2023-07-07T19:21:01.433Z"
   },
   {
    "duration": 49,
    "start_time": "2023-07-07T19:21:01.466Z"
   },
   {
    "duration": 44,
    "start_time": "2023-07-07T19:21:01.517Z"
   },
   {
    "duration": 36,
    "start_time": "2023-07-07T19:21:01.564Z"
   },
   {
    "duration": 19,
    "start_time": "2023-07-07T19:21:01.601Z"
   },
   {
    "duration": 26,
    "start_time": "2023-07-07T19:21:01.622Z"
   },
   {
    "duration": 279,
    "start_time": "2023-07-07T19:21:01.650Z"
   },
   {
    "duration": 249,
    "start_time": "2023-07-07T19:21:01.933Z"
   },
   {
    "duration": 271,
    "start_time": "2023-07-07T19:21:02.184Z"
   },
   {
    "duration": 269,
    "start_time": "2023-07-07T19:21:02.457Z"
   },
   {
    "duration": 180,
    "start_time": "2023-07-07T19:21:02.728Z"
   },
   {
    "duration": 319,
    "start_time": "2023-07-07T19:21:02.911Z"
   },
   {
    "duration": 228,
    "start_time": "2023-07-07T19:23:50.801Z"
   },
   {
    "duration": 245,
    "start_time": "2023-07-07T19:24:34.026Z"
   },
   {
    "duration": 214,
    "start_time": "2023-07-07T19:24:43.932Z"
   },
   {
    "duration": 229,
    "start_time": "2023-07-07T19:25:11.106Z"
   },
   {
    "duration": 153,
    "start_time": "2023-07-07T19:25:16.040Z"
   },
   {
    "duration": 1236,
    "start_time": "2023-07-09T06:46:13.347Z"
   },
   {
    "duration": 268,
    "start_time": "2023-07-09T06:46:14.586Z"
   },
   {
    "duration": 18,
    "start_time": "2023-07-09T06:46:14.855Z"
   },
   {
    "duration": 14,
    "start_time": "2023-07-09T06:46:14.874Z"
   },
   {
    "duration": 13,
    "start_time": "2023-07-09T06:46:14.890Z"
   },
   {
    "duration": 8,
    "start_time": "2023-07-09T06:46:14.904Z"
   },
   {
    "duration": 9,
    "start_time": "2023-07-09T06:46:14.913Z"
   },
   {
    "duration": 15,
    "start_time": "2023-07-09T06:46:14.924Z"
   },
   {
    "duration": 11,
    "start_time": "2023-07-09T06:46:14.940Z"
   },
   {
    "duration": 20,
    "start_time": "2023-07-09T06:46:14.952Z"
   },
   {
    "duration": 9,
    "start_time": "2023-07-09T06:46:14.974Z"
   },
   {
    "duration": 9,
    "start_time": "2023-07-09T06:46:14.985Z"
   },
   {
    "duration": 294,
    "start_time": "2023-07-09T06:46:14.995Z"
   },
   {
    "duration": 318,
    "start_time": "2023-07-09T06:46:15.291Z"
   },
   {
    "duration": 172,
    "start_time": "2023-07-09T06:46:15.611Z"
   },
   {
    "duration": 289,
    "start_time": "2023-07-09T06:46:15.785Z"
   },
   {
    "duration": 180,
    "start_time": "2023-07-09T06:46:16.076Z"
   },
   {
    "duration": 289,
    "start_time": "2023-07-09T06:46:16.257Z"
   },
   {
    "duration": 102,
    "start_time": "2023-07-09T06:48:47.640Z"
   },
   {
    "duration": 21,
    "start_time": "2023-07-09T06:48:53.180Z"
   },
   {
    "duration": 10,
    "start_time": "2023-07-09T07:06:46.689Z"
   },
   {
    "duration": 9,
    "start_time": "2023-07-09T07:06:51.359Z"
   },
   {
    "duration": 9,
    "start_time": "2023-07-09T07:07:00.089Z"
   },
   {
    "duration": 9,
    "start_time": "2023-07-09T07:07:41.004Z"
   },
   {
    "duration": 163,
    "start_time": "2023-07-09T07:12:51.233Z"
   },
   {
    "duration": 312,
    "start_time": "2023-07-09T07:13:02.329Z"
   },
   {
    "duration": 291,
    "start_time": "2023-07-09T07:13:49.401Z"
   },
   {
    "duration": 296,
    "start_time": "2023-07-09T07:14:05.830Z"
   },
   {
    "duration": 247,
    "start_time": "2023-07-09T07:14:16.798Z"
   },
   {
    "duration": 256,
    "start_time": "2023-07-09T07:14:33.858Z"
   },
   {
    "duration": 319,
    "start_time": "2023-07-09T07:14:54.434Z"
   },
   {
    "duration": 295,
    "start_time": "2023-07-09T07:15:01.130Z"
   },
   {
    "duration": 258,
    "start_time": "2023-07-09T07:15:06.273Z"
   },
   {
    "duration": 300,
    "start_time": "2023-07-09T07:15:11.419Z"
   },
   {
    "duration": 203,
    "start_time": "2023-07-09T07:25:02.936Z"
   },
   {
    "duration": 215,
    "start_time": "2023-07-09T07:26:12.238Z"
   },
   {
    "duration": 216,
    "start_time": "2023-07-09T07:26:41.457Z"
   },
   {
    "duration": 243,
    "start_time": "2023-07-09T08:00:52.250Z"
   },
   {
    "duration": 373,
    "start_time": "2023-07-09T08:03:18.148Z"
   },
   {
    "duration": 325,
    "start_time": "2023-07-09T08:08:36.911Z"
   },
   {
    "duration": 242,
    "start_time": "2023-07-09T08:11:30.861Z"
   },
   {
    "duration": 316,
    "start_time": "2023-07-09T08:14:35.359Z"
   },
   {
    "duration": 309,
    "start_time": "2023-07-09T08:16:13.999Z"
   },
   {
    "duration": 316,
    "start_time": "2023-07-09T08:16:35.964Z"
   },
   {
    "duration": 14,
    "start_time": "2023-07-09T08:32:59.632Z"
   },
   {
    "duration": 13,
    "start_time": "2023-07-09T08:33:43.090Z"
   },
   {
    "duration": 142,
    "start_time": "2023-07-09T08:33:53.997Z"
   },
   {
    "duration": 119,
    "start_time": "2023-07-09T08:33:59.304Z"
   },
   {
    "duration": 112,
    "start_time": "2023-07-09T08:34:14.198Z"
   },
   {
    "duration": 122,
    "start_time": "2023-07-09T08:34:29.327Z"
   },
   {
    "duration": 122,
    "start_time": "2023-07-09T08:34:55.513Z"
   },
   {
    "duration": 185,
    "start_time": "2023-07-09T08:45:45.087Z"
   },
   {
    "duration": 108,
    "start_time": "2023-07-09T08:45:53.044Z"
   },
   {
    "duration": 205,
    "start_time": "2023-07-09T08:46:13.839Z"
   },
   {
    "duration": 123,
    "start_time": "2023-07-09T08:46:18.015Z"
   },
   {
    "duration": 141,
    "start_time": "2023-07-09T08:46:54.995Z"
   },
   {
    "duration": 159,
    "start_time": "2023-07-09T08:47:44.026Z"
   },
   {
    "duration": 6,
    "start_time": "2023-07-09T08:57:17.502Z"
   },
   {
    "duration": 125,
    "start_time": "2023-07-09T09:01:36.692Z"
   },
   {
    "duration": 195,
    "start_time": "2023-07-09T09:01:59.674Z"
   },
   {
    "duration": 138,
    "start_time": "2023-07-09T09:02:09.055Z"
   },
   {
    "duration": 151,
    "start_time": "2023-07-09T09:50:58.105Z"
   },
   {
    "duration": 5,
    "start_time": "2023-07-09T09:51:46.201Z"
   },
   {
    "duration": 150,
    "start_time": "2023-07-09T09:52:25.303Z"
   },
   {
    "duration": 161,
    "start_time": "2023-07-09T09:52:43.482Z"
   },
   {
    "duration": 180,
    "start_time": "2023-07-09T09:53:33.298Z"
   },
   {
    "duration": 14,
    "start_time": "2023-07-09T09:54:01.853Z"
   },
   {
    "duration": 196,
    "start_time": "2023-07-09T09:54:07.756Z"
   },
   {
    "duration": 175,
    "start_time": "2023-07-09T09:54:15.411Z"
   },
   {
    "duration": 288,
    "start_time": "2023-07-09T09:54:32.113Z"
   },
   {
    "duration": 147,
    "start_time": "2023-07-09T09:54:42.873Z"
   },
   {
    "duration": 176,
    "start_time": "2023-07-09T09:54:50.434Z"
   },
   {
    "duration": 14,
    "start_time": "2023-07-09T09:55:45.660Z"
   },
   {
    "duration": 18,
    "start_time": "2023-07-09T09:56:27.601Z"
   },
   {
    "duration": 174,
    "start_time": "2023-07-09T09:56:41.650Z"
   },
   {
    "duration": 14,
    "start_time": "2023-07-09T09:56:49.779Z"
   },
   {
    "duration": 171,
    "start_time": "2023-07-09T09:58:25.296Z"
   },
   {
    "duration": 14,
    "start_time": "2023-07-09T09:59:25.564Z"
   },
   {
    "duration": 158,
    "start_time": "2023-07-09T09:59:39.434Z"
   },
   {
    "duration": 161,
    "start_time": "2023-07-09T09:59:55.549Z"
   },
   {
    "duration": 177,
    "start_time": "2023-07-09T10:00:03.508Z"
   },
   {
    "duration": 158,
    "start_time": "2023-07-09T10:00:09.949Z"
   },
   {
    "duration": 209,
    "start_time": "2023-07-09T10:00:15.953Z"
   },
   {
    "duration": 191,
    "start_time": "2023-07-09T10:00:19.932Z"
   },
   {
    "duration": 6,
    "start_time": "2023-07-09T10:02:07.396Z"
   },
   {
    "duration": 221,
    "start_time": "2023-07-09T10:06:56.061Z"
   },
   {
    "duration": 10,
    "start_time": "2023-07-09T10:41:16.930Z"
   },
   {
    "duration": 10,
    "start_time": "2023-07-09T10:42:09.765Z"
   },
   {
    "duration": 3,
    "start_time": "2023-07-09T10:42:30.556Z"
   },
   {
    "duration": 3,
    "start_time": "2023-07-09T10:42:33.216Z"
   },
   {
    "duration": 41,
    "start_time": "2023-07-09T10:42:36.886Z"
   },
   {
    "duration": 18,
    "start_time": "2023-07-09T10:43:53.668Z"
   },
   {
    "duration": 11,
    "start_time": "2023-07-09T10:44:07.862Z"
   },
   {
    "duration": 187,
    "start_time": "2023-07-09T10:45:02.461Z"
   },
   {
    "duration": 9,
    "start_time": "2023-07-09T10:45:05.214Z"
   },
   {
    "duration": 11,
    "start_time": "2023-07-09T10:45:21.500Z"
   },
   {
    "duration": 11,
    "start_time": "2023-07-09T10:45:23.802Z"
   },
   {
    "duration": 20,
    "start_time": "2023-07-09T10:45:28.025Z"
   },
   {
    "duration": 12,
    "start_time": "2023-07-09T10:45:31.659Z"
   },
   {
    "duration": 11,
    "start_time": "2023-07-09T10:45:34.401Z"
   },
   {
    "duration": 11,
    "start_time": "2023-07-09T10:46:29.213Z"
   },
   {
    "duration": 77,
    "start_time": "2023-07-09T10:46:51.362Z"
   },
   {
    "duration": 11,
    "start_time": "2023-07-09T10:46:54.502Z"
   },
   {
    "duration": 10,
    "start_time": "2023-07-09T10:47:06.056Z"
   },
   {
    "duration": 12,
    "start_time": "2023-07-09T10:48:57.370Z"
   },
   {
    "duration": 9,
    "start_time": "2023-07-09T10:56:35.063Z"
   },
   {
    "duration": 1461,
    "start_time": "2023-07-09T10:59:23.004Z"
   },
   {
    "duration": 379,
    "start_time": "2023-07-09T11:00:24.210Z"
   },
   {
    "duration": 8,
    "start_time": "2023-07-09T11:01:01.299Z"
   },
   {
    "duration": 104,
    "start_time": "2023-07-09T11:03:46.941Z"
   },
   {
    "duration": 99,
    "start_time": "2023-07-09T11:04:11.751Z"
   },
   {
    "duration": 115,
    "start_time": "2023-07-09T11:05:18.569Z"
   },
   {
    "duration": 262,
    "start_time": "2023-07-09T11:05:50.828Z"
   },
   {
    "duration": 244,
    "start_time": "2023-07-09T11:07:06.640Z"
   },
   {
    "duration": 352,
    "start_time": "2023-07-09T11:07:19.921Z"
   },
   {
    "duration": 325,
    "start_time": "2023-07-09T11:08:08.436Z"
   },
   {
    "duration": 334,
    "start_time": "2023-07-09T11:09:07.226Z"
   },
   {
    "duration": 363,
    "start_time": "2023-07-09T11:12:58.113Z"
   },
   {
    "duration": 410,
    "start_time": "2023-07-09T11:14:24.364Z"
   },
   {
    "duration": 342,
    "start_time": "2023-07-09T11:16:06.303Z"
   },
   {
    "duration": 365,
    "start_time": "2023-07-09T11:16:35.393Z"
   },
   {
    "duration": 351,
    "start_time": "2023-07-09T11:16:52.165Z"
   },
   {
    "duration": 327,
    "start_time": "2023-07-09T11:17:10.294Z"
   },
   {
    "duration": 24,
    "start_time": "2023-07-09T11:17:18.402Z"
   },
   {
    "duration": 13,
    "start_time": "2023-07-09T11:18:06.807Z"
   },
   {
    "duration": 24,
    "start_time": "2023-07-09T11:18:52.401Z"
   },
   {
    "duration": 24,
    "start_time": "2023-07-09T11:19:50.809Z"
   },
   {
    "duration": 11,
    "start_time": "2023-07-09T11:20:32.350Z"
   },
   {
    "duration": 11,
    "start_time": "2023-07-09T11:24:06.237Z"
   },
   {
    "duration": 10,
    "start_time": "2023-07-09T11:29:19.617Z"
   },
   {
    "duration": 11,
    "start_time": "2023-07-09T11:29:40.359Z"
   },
   {
    "duration": 30,
    "start_time": "2023-07-09T11:29:55.218Z"
   },
   {
    "duration": 24,
    "start_time": "2023-07-09T11:30:01.301Z"
   },
   {
    "duration": 25,
    "start_time": "2023-07-09T11:30:07.003Z"
   },
   {
    "duration": 24,
    "start_time": "2023-07-09T11:30:17.638Z"
   },
   {
    "duration": 11,
    "start_time": "2023-07-09T11:30:27.030Z"
   },
   {
    "duration": 11,
    "start_time": "2023-07-09T11:34:13.848Z"
   },
   {
    "duration": 11,
    "start_time": "2023-07-09T11:34:18.061Z"
   },
   {
    "duration": 11,
    "start_time": "2023-07-09T11:34:22.428Z"
   },
   {
    "duration": 1289,
    "start_time": "2023-07-09T12:32:15.278Z"
   },
   {
    "duration": 9,
    "start_time": "2023-07-09T12:32:49.758Z"
   },
   {
    "duration": 1810,
    "start_time": "2023-07-09T12:33:24.413Z"
   },
   {
    "duration": 6,
    "start_time": "2023-07-09T12:34:23.693Z"
   },
   {
    "duration": 322,
    "start_time": "2023-07-09T12:34:52.630Z"
   },
   {
    "duration": 9,
    "start_time": "2023-07-09T12:34:58.836Z"
   },
   {
    "duration": 10,
    "start_time": "2023-07-09T12:35:27.757Z"
   },
   {
    "duration": 27,
    "start_time": "2023-07-09T12:38:49.497Z"
   },
   {
    "duration": 27,
    "start_time": "2023-07-09T12:39:46.569Z"
   },
   {
    "duration": 27,
    "start_time": "2023-07-09T12:40:12.696Z"
   },
   {
    "duration": 31,
    "start_time": "2023-07-09T12:41:14.525Z"
   },
   {
    "duration": 27,
    "start_time": "2023-07-09T12:41:19.781Z"
   },
   {
    "duration": 1501,
    "start_time": "2023-07-09T12:44:17.487Z"
   },
   {
    "duration": 12,
    "start_time": "2023-07-09T12:45:23.976Z"
   },
   {
    "duration": 24,
    "start_time": "2023-07-09T12:46:48.392Z"
   },
   {
    "duration": 13,
    "start_time": "2023-07-09T12:46:58.540Z"
   },
   {
    "duration": 8,
    "start_time": "2023-07-09T13:38:17.942Z"
   },
   {
    "duration": 3,
    "start_time": "2023-07-09T13:45:17.688Z"
   },
   {
    "duration": 3,
    "start_time": "2023-07-09T13:45:22.626Z"
   },
   {
    "duration": 89,
    "start_time": "2023-07-09T13:45:22.630Z"
   },
   {
    "duration": 14,
    "start_time": "2023-07-09T13:45:22.721Z"
   },
   {
    "duration": 15,
    "start_time": "2023-07-09T13:45:22.737Z"
   },
   {
    "duration": 14,
    "start_time": "2023-07-09T13:45:22.755Z"
   },
   {
    "duration": 10,
    "start_time": "2023-07-09T13:45:22.770Z"
   },
   {
    "duration": 9,
    "start_time": "2023-07-09T13:45:22.782Z"
   },
   {
    "duration": 12,
    "start_time": "2023-07-09T13:45:22.793Z"
   },
   {
    "duration": 30,
    "start_time": "2023-07-09T13:45:22.807Z"
   },
   {
    "duration": 11,
    "start_time": "2023-07-09T13:45:22.839Z"
   },
   {
    "duration": 23,
    "start_time": "2023-07-09T13:45:22.852Z"
   },
   {
    "duration": 10,
    "start_time": "2023-07-09T13:45:22.877Z"
   },
   {
    "duration": 11,
    "start_time": "2023-07-09T13:45:22.889Z"
   },
   {
    "duration": 259,
    "start_time": "2023-07-09T13:45:22.932Z"
   },
   {
    "duration": 244,
    "start_time": "2023-07-09T13:45:23.193Z"
   },
   {
    "duration": 218,
    "start_time": "2023-07-09T13:45:23.439Z"
   },
   {
    "duration": 330,
    "start_time": "2023-07-09T13:45:23.659Z"
   },
   {
    "duration": 234,
    "start_time": "2023-07-09T13:45:23.991Z"
   },
   {
    "duration": 355,
    "start_time": "2023-07-09T13:45:24.231Z"
   },
   {
    "duration": 253,
    "start_time": "2023-07-09T13:45:24.589Z"
   },
   {
    "duration": 5,
    "start_time": "2023-07-09T13:45:24.843Z"
   },
   {
    "duration": 151,
    "start_time": "2023-07-09T13:45:24.849Z"
   },
   {
    "duration": 8,
    "start_time": "2023-07-09T13:45:25.001Z"
   },
   {
    "duration": 490,
    "start_time": "2023-07-09T13:45:25.011Z"
   },
   {
    "duration": 37,
    "start_time": "2023-07-09T13:45:25.502Z"
   },
   {
    "duration": 12,
    "start_time": "2023-07-09T13:45:25.542Z"
   },
   {
    "duration": 31,
    "start_time": "2023-07-09T13:45:25.555Z"
   },
   {
    "duration": 48,
    "start_time": "2023-07-09T13:45:25.588Z"
   },
   {
    "duration": 24,
    "start_time": "2023-07-09T13:45:25.638Z"
   },
   {
    "duration": 5,
    "start_time": "2023-07-09T13:56:28.142Z"
   },
   {
    "duration": 228,
    "start_time": "2023-07-09T13:59:56.316Z"
   },
   {
    "duration": 1073,
    "start_time": "2023-07-09T14:04:25.533Z"
   },
   {
    "duration": 136,
    "start_time": "2023-07-09T14:04:26.608Z"
   },
   {
    "duration": 18,
    "start_time": "2023-07-09T14:04:26.746Z"
   },
   {
    "duration": 19,
    "start_time": "2023-07-09T14:04:26.766Z"
   },
   {
    "duration": 22,
    "start_time": "2023-07-09T14:04:26.788Z"
   },
   {
    "duration": 12,
    "start_time": "2023-07-09T14:04:26.812Z"
   },
   {
    "duration": 12,
    "start_time": "2023-07-09T14:04:26.825Z"
   },
   {
    "duration": 15,
    "start_time": "2023-07-09T14:04:26.839Z"
   },
   {
    "duration": 32,
    "start_time": "2023-07-09T14:04:26.856Z"
   },
   {
    "duration": 38,
    "start_time": "2023-07-09T14:04:26.889Z"
   },
   {
    "duration": 62,
    "start_time": "2023-07-09T14:04:26.929Z"
   },
   {
    "duration": 45,
    "start_time": "2023-07-09T14:04:26.992Z"
   },
   {
    "duration": 35,
    "start_time": "2023-07-09T14:04:27.039Z"
   },
   {
    "duration": 321,
    "start_time": "2023-07-09T14:04:27.077Z"
   },
   {
    "duration": 292,
    "start_time": "2023-07-09T14:04:27.400Z"
   },
   {
    "duration": 241,
    "start_time": "2023-07-09T14:04:27.693Z"
   },
   {
    "duration": 357,
    "start_time": "2023-07-09T14:04:27.936Z"
   },
   {
    "duration": 269,
    "start_time": "2023-07-09T14:04:28.295Z"
   },
   {
    "duration": 325,
    "start_time": "2023-07-09T14:04:28.566Z"
   },
   {
    "duration": 222,
    "start_time": "2023-07-09T14:04:28.892Z"
   },
   {
    "duration": 5,
    "start_time": "2023-07-09T14:04:29.115Z"
   },
   {
    "duration": 141,
    "start_time": "2023-07-09T14:04:29.131Z"
   },
   {
    "duration": 4,
    "start_time": "2023-07-09T14:04:29.274Z"
   },
   {
    "duration": 213,
    "start_time": "2023-07-09T14:04:29.280Z"
   },
   {
    "duration": 187,
    "start_time": "2023-07-09T14:04:29.495Z"
   },
   {
    "duration": 10,
    "start_time": "2023-07-09T14:04:29.684Z"
   },
   {
    "duration": 19,
    "start_time": "2023-07-09T14:04:29.696Z"
   },
   {
    "duration": 37,
    "start_time": "2023-07-09T14:04:29.717Z"
   },
   {
    "duration": 14,
    "start_time": "2023-07-09T14:04:29.755Z"
   },
   {
    "duration": 1955,
    "start_time": "2023-07-09T15:01:20.787Z"
   },
   {
    "duration": 443,
    "start_time": "2023-07-09T15:01:22.745Z"
   },
   {
    "duration": 51,
    "start_time": "2023-07-09T15:01:23.190Z"
   },
   {
    "duration": 41,
    "start_time": "2023-07-09T15:01:23.249Z"
   },
   {
    "duration": 78,
    "start_time": "2023-07-09T15:01:23.293Z"
   },
   {
    "duration": 7,
    "start_time": "2023-07-09T15:01:23.374Z"
   },
   {
    "duration": 11,
    "start_time": "2023-07-09T15:01:23.383Z"
   },
   {
    "duration": 15,
    "start_time": "2023-07-09T15:01:23.396Z"
   },
   {
    "duration": 75,
    "start_time": "2023-07-09T15:01:23.415Z"
   },
   {
    "duration": 12,
    "start_time": "2023-07-09T15:01:23.493Z"
   },
   {
    "duration": 70,
    "start_time": "2023-07-09T15:01:23.507Z"
   },
   {
    "duration": 14,
    "start_time": "2023-07-09T15:01:23.579Z"
   },
   {
    "duration": 27,
    "start_time": "2023-07-09T15:01:23.594Z"
   },
   {
    "duration": 443,
    "start_time": "2023-07-09T15:01:23.622Z"
   },
   {
    "duration": 451,
    "start_time": "2023-07-09T15:01:24.071Z"
   },
   {
    "duration": 327,
    "start_time": "2023-07-09T15:01:24.523Z"
   },
   {
    "duration": 429,
    "start_time": "2023-07-09T15:01:24.853Z"
   },
   {
    "duration": 358,
    "start_time": "2023-07-09T15:01:25.284Z"
   },
   {
    "duration": 452,
    "start_time": "2023-07-09T15:01:25.647Z"
   },
   {
    "duration": 317,
    "start_time": "2023-07-09T15:01:26.101Z"
   },
   {
    "duration": 12,
    "start_time": "2023-07-09T15:01:26.420Z"
   },
   {
    "duration": 367,
    "start_time": "2023-07-09T15:01:26.438Z"
   },
   {
    "duration": 7,
    "start_time": "2023-07-09T15:01:26.816Z"
   },
   {
    "duration": 391,
    "start_time": "2023-07-09T15:01:26.826Z"
   },
   {
    "duration": 214,
    "start_time": "2023-07-09T15:01:27.222Z"
   },
   {
    "duration": 19,
    "start_time": "2023-07-09T15:01:27.441Z"
   },
   {
    "duration": 35,
    "start_time": "2023-07-09T15:01:27.463Z"
   },
   {
    "duration": 185,
    "start_time": "2023-07-09T15:01:27.502Z"
   },
   {
    "duration": 194,
    "start_time": "2023-07-09T15:01:27.689Z"
   },
   {
    "duration": 1340,
    "start_time": "2023-07-09T21:41:03.926Z"
   },
   {
    "duration": 284,
    "start_time": "2023-07-09T21:41:05.268Z"
   },
   {
    "duration": 23,
    "start_time": "2023-07-09T21:41:05.554Z"
   },
   {
    "duration": 18,
    "start_time": "2023-07-09T21:41:05.578Z"
   },
   {
    "duration": 30,
    "start_time": "2023-07-09T21:41:05.599Z"
   },
   {
    "duration": 42,
    "start_time": "2023-07-09T21:41:05.631Z"
   },
   {
    "duration": 15,
    "start_time": "2023-07-09T21:41:05.675Z"
   },
   {
    "duration": 15,
    "start_time": "2023-07-09T21:41:05.691Z"
   },
   {
    "duration": 9,
    "start_time": "2023-07-09T21:41:05.708Z"
   },
   {
    "duration": 11,
    "start_time": "2023-07-09T21:41:05.719Z"
   },
   {
    "duration": 30,
    "start_time": "2023-07-09T21:41:05.732Z"
   },
   {
    "duration": 12,
    "start_time": "2023-07-09T21:41:05.764Z"
   },
   {
    "duration": 13,
    "start_time": "2023-07-09T21:41:05.778Z"
   },
   {
    "duration": 296,
    "start_time": "2023-07-09T21:41:05.794Z"
   },
   {
    "duration": 327,
    "start_time": "2023-07-09T21:41:06.092Z"
   },
   {
    "duration": 243,
    "start_time": "2023-07-09T21:41:06.421Z"
   },
   {
    "duration": 427,
    "start_time": "2023-07-09T21:41:06.666Z"
   },
   {
    "duration": 299,
    "start_time": "2023-07-09T21:41:07.095Z"
   },
   {
    "duration": 324,
    "start_time": "2023-07-09T21:41:07.396Z"
   },
   {
    "duration": 234,
    "start_time": "2023-07-09T21:41:07.722Z"
   },
   {
    "duration": 6,
    "start_time": "2023-07-09T21:41:07.957Z"
   },
   {
    "duration": 161,
    "start_time": "2023-07-09T21:41:07.964Z"
   },
   {
    "duration": 5,
    "start_time": "2023-07-09T21:41:08.128Z"
   },
   {
    "duration": 298,
    "start_time": "2023-07-09T21:41:08.135Z"
   },
   {
    "duration": 203,
    "start_time": "2023-07-09T21:41:08.435Z"
   },
   {
    "duration": 19,
    "start_time": "2023-07-09T21:41:08.640Z"
   },
   {
    "duration": 44,
    "start_time": "2023-07-09T21:41:08.661Z"
   },
   {
    "duration": 27,
    "start_time": "2023-07-09T21:41:08.707Z"
   },
   {
    "duration": 14,
    "start_time": "2023-07-09T21:41:08.736Z"
   },
   {
    "duration": 63,
    "start_time": "2023-07-10T15:11:00.673Z"
   },
   {
    "duration": 1451,
    "start_time": "2023-07-10T15:11:02.938Z"
   },
   {
    "duration": 345,
    "start_time": "2023-07-10T15:11:04.391Z"
   },
   {
    "duration": 35,
    "start_time": "2023-07-10T15:11:04.738Z"
   },
   {
    "duration": 22,
    "start_time": "2023-07-10T15:11:04.781Z"
   },
   {
    "duration": 22,
    "start_time": "2023-07-10T15:11:04.806Z"
   },
   {
    "duration": 22,
    "start_time": "2023-07-10T15:11:04.830Z"
   },
   {
    "duration": 25,
    "start_time": "2023-07-10T15:11:04.865Z"
   },
   {
    "duration": 33,
    "start_time": "2023-07-10T15:11:04.894Z"
   },
   {
    "duration": 46,
    "start_time": "2023-07-10T15:11:04.929Z"
   },
   {
    "duration": 23,
    "start_time": "2023-07-10T15:11:04.977Z"
   },
   {
    "duration": 40,
    "start_time": "2023-07-10T15:11:05.001Z"
   },
   {
    "duration": 49,
    "start_time": "2023-07-10T15:11:05.043Z"
   },
   {
    "duration": 60,
    "start_time": "2023-07-10T15:11:05.094Z"
   },
   {
    "duration": 368,
    "start_time": "2023-07-10T15:11:05.160Z"
   },
   {
    "duration": 420,
    "start_time": "2023-07-10T15:11:05.530Z"
   },
   {
    "duration": 298,
    "start_time": "2023-07-10T15:11:05.954Z"
   },
   {
    "duration": 440,
    "start_time": "2023-07-10T15:11:06.258Z"
   },
   {
    "duration": 336,
    "start_time": "2023-07-10T15:11:06.699Z"
   },
   {
    "duration": 454,
    "start_time": "2023-07-10T15:11:07.037Z"
   },
   {
    "duration": 284,
    "start_time": "2023-07-10T15:11:07.493Z"
   },
   {
    "duration": 7,
    "start_time": "2023-07-10T15:11:07.779Z"
   },
   {
    "duration": 231,
    "start_time": "2023-07-10T15:11:07.793Z"
   },
   {
    "duration": 6,
    "start_time": "2023-07-10T15:11:08.025Z"
   },
   {
    "duration": 267,
    "start_time": "2023-07-10T15:11:08.032Z"
   },
   {
    "duration": 217,
    "start_time": "2023-07-10T15:11:08.300Z"
   },
   {
    "duration": 11,
    "start_time": "2023-07-10T15:11:08.519Z"
   },
   {
    "duration": 17,
    "start_time": "2023-07-10T15:11:08.532Z"
   },
   {
    "duration": 54,
    "start_time": "2023-07-10T15:11:08.554Z"
   },
   {
    "duration": 27,
    "start_time": "2023-07-10T15:11:08.611Z"
   },
   {
    "duration": 15,
    "start_time": "2023-07-10T15:11:34.686Z"
   },
   {
    "duration": 1455,
    "start_time": "2023-07-10T15:15:14.193Z"
   },
   {
    "duration": 3,
    "start_time": "2023-07-10T15:15:22.199Z"
   },
   {
    "duration": 112,
    "start_time": "2023-07-10T15:15:22.204Z"
   },
   {
    "duration": 16,
    "start_time": "2023-07-10T15:15:22.318Z"
   },
   {
    "duration": 36,
    "start_time": "2023-07-10T15:15:22.336Z"
   },
   {
    "duration": 22,
    "start_time": "2023-07-10T15:15:22.382Z"
   },
   {
    "duration": 6,
    "start_time": "2023-07-10T15:15:22.406Z"
   },
   {
    "duration": 11,
    "start_time": "2023-07-10T15:15:22.414Z"
   },
   {
    "duration": 23,
    "start_time": "2023-07-10T15:15:22.427Z"
   },
   {
    "duration": 46,
    "start_time": "2023-07-10T15:15:22.452Z"
   },
   {
    "duration": 16,
    "start_time": "2023-07-10T15:15:22.500Z"
   },
   {
    "duration": 33,
    "start_time": "2023-07-10T15:15:22.518Z"
   },
   {
    "duration": 25,
    "start_time": "2023-07-10T15:15:22.553Z"
   },
   {
    "duration": 25,
    "start_time": "2023-07-10T15:15:22.580Z"
   },
   {
    "duration": 331,
    "start_time": "2023-07-10T15:15:22.610Z"
   },
   {
    "duration": 307,
    "start_time": "2023-07-10T15:15:22.943Z"
   },
   {
    "duration": 389,
    "start_time": "2023-07-10T15:15:23.252Z"
   },
   {
    "duration": 449,
    "start_time": "2023-07-10T15:15:23.643Z"
   },
   {
    "duration": 315,
    "start_time": "2023-07-10T15:15:24.095Z"
   },
   {
    "duration": 427,
    "start_time": "2023-07-10T15:15:24.412Z"
   },
   {
    "duration": 320,
    "start_time": "2023-07-10T15:15:24.841Z"
   },
   {
    "duration": 9,
    "start_time": "2023-07-10T15:15:25.165Z"
   },
   {
    "duration": 183,
    "start_time": "2023-07-10T15:15:25.176Z"
   },
   {
    "duration": 9,
    "start_time": "2023-07-10T15:15:25.362Z"
   },
   {
    "duration": 301,
    "start_time": "2023-07-10T15:15:25.373Z"
   },
   {
    "duration": 213,
    "start_time": "2023-07-10T15:15:25.682Z"
   },
   {
    "duration": 16,
    "start_time": "2023-07-10T15:15:25.897Z"
   },
   {
    "duration": 47,
    "start_time": "2023-07-10T15:15:25.914Z"
   },
   {
    "duration": 45,
    "start_time": "2023-07-10T15:15:25.978Z"
   },
   {
    "duration": 17,
    "start_time": "2023-07-10T15:15:26.025Z"
   },
   {
    "duration": 349,
    "start_time": "2023-07-10T15:26:20.851Z"
   },
   {
    "duration": 410,
    "start_time": "2023-07-10T15:33:16.000Z"
   },
   {
    "duration": 459,
    "start_time": "2023-07-10T15:34:45.230Z"
   },
   {
    "duration": 95,
    "start_time": "2023-07-10T15:52:08.097Z"
   },
   {
    "duration": 225,
    "start_time": "2023-07-10T15:53:28.106Z"
   },
   {
    "duration": 194,
    "start_time": "2023-07-10T15:53:51.626Z"
   },
   {
    "duration": 314,
    "start_time": "2023-07-10T15:54:00.533Z"
   },
   {
    "duration": 241,
    "start_time": "2023-07-10T15:54:57.382Z"
   },
   {
    "duration": 8,
    "start_time": "2023-07-10T15:58:37.418Z"
   },
   {
    "duration": 164,
    "start_time": "2023-07-10T15:58:37.428Z"
   },
   {
    "duration": 29,
    "start_time": "2023-07-10T15:58:37.598Z"
   },
   {
    "duration": 19,
    "start_time": "2023-07-10T15:58:37.629Z"
   },
   {
    "duration": 64,
    "start_time": "2023-07-10T15:58:37.651Z"
   },
   {
    "duration": 7,
    "start_time": "2023-07-10T15:58:37.719Z"
   },
   {
    "duration": 19,
    "start_time": "2023-07-10T15:58:37.729Z"
   },
   {
    "duration": 49,
    "start_time": "2023-07-10T15:58:37.750Z"
   },
   {
    "duration": 40,
    "start_time": "2023-07-10T15:58:37.801Z"
   },
   {
    "duration": 37,
    "start_time": "2023-07-10T15:58:37.844Z"
   },
   {
    "duration": 52,
    "start_time": "2023-07-10T15:58:37.883Z"
   },
   {
    "duration": 35,
    "start_time": "2023-07-10T15:58:37.938Z"
   },
   {
    "duration": 22,
    "start_time": "2023-07-10T15:58:37.979Z"
   },
   {
    "duration": 375,
    "start_time": "2023-07-10T15:58:38.004Z"
   },
   {
    "duration": 342,
    "start_time": "2023-07-10T15:58:38.382Z"
   },
   {
    "duration": 325,
    "start_time": "2023-07-10T15:58:38.726Z"
   },
   {
    "duration": 448,
    "start_time": "2023-07-10T15:58:39.058Z"
   },
   {
    "duration": 336,
    "start_time": "2023-07-10T15:58:39.508Z"
   },
   {
    "duration": 477,
    "start_time": "2023-07-10T15:58:39.846Z"
   },
   {
    "duration": 311,
    "start_time": "2023-07-10T15:58:40.326Z"
   },
   {
    "duration": 5,
    "start_time": "2023-07-10T15:58:40.639Z"
   },
   {
    "duration": 198,
    "start_time": "2023-07-10T15:58:40.646Z"
   },
   {
    "duration": 214,
    "start_time": "2023-07-10T15:58:40.846Z"
   },
   {
    "duration": 19,
    "start_time": "2023-07-10T15:58:41.062Z"
   },
   {
    "duration": 320,
    "start_time": "2023-07-10T15:58:41.093Z"
   },
   {
    "duration": 226,
    "start_time": "2023-07-10T15:58:41.416Z"
   },
   {
    "duration": 49,
    "start_time": "2023-07-10T15:58:41.644Z"
   },
   {
    "duration": 14,
    "start_time": "2023-07-10T15:58:41.699Z"
   },
   {
    "duration": 33,
    "start_time": "2023-07-10T15:58:41.716Z"
   },
   {
    "duration": 41,
    "start_time": "2023-07-10T15:58:41.752Z"
   },
   {
    "duration": 12,
    "start_time": "2023-07-10T15:59:30.340Z"
   },
   {
    "duration": 216,
    "start_time": "2023-07-10T16:02:05.938Z"
   },
   {
    "duration": 1497,
    "start_time": "2023-07-11T15:04:05.836Z"
   },
   {
    "duration": 286,
    "start_time": "2023-07-11T15:04:07.335Z"
   },
   {
    "duration": 22,
    "start_time": "2023-07-11T15:04:07.622Z"
   },
   {
    "duration": 16,
    "start_time": "2023-07-11T15:04:07.646Z"
   },
   {
    "duration": 52,
    "start_time": "2023-07-11T15:04:07.664Z"
   },
   {
    "duration": 134,
    "start_time": "2023-07-11T15:04:07.718Z"
   },
   {
    "duration": 33,
    "start_time": "2023-07-11T15:04:07.853Z"
   },
   {
    "duration": 65,
    "start_time": "2023-07-11T15:04:07.887Z"
   },
   {
    "duration": 35,
    "start_time": "2023-07-11T15:04:07.954Z"
   },
   {
    "duration": 9,
    "start_time": "2023-07-11T15:04:07.991Z"
   },
   {
    "duration": 22,
    "start_time": "2023-07-11T15:04:08.001Z"
   },
   {
    "duration": 10,
    "start_time": "2023-07-11T15:04:08.024Z"
   },
   {
    "duration": 22,
    "start_time": "2023-07-11T15:04:08.036Z"
   },
   {
    "duration": 274,
    "start_time": "2023-07-11T15:04:08.060Z"
   },
   {
    "duration": 301,
    "start_time": "2023-07-11T15:04:08.335Z"
   },
   {
    "duration": 234,
    "start_time": "2023-07-11T15:04:08.638Z"
   },
   {
    "duration": 391,
    "start_time": "2023-07-11T15:04:08.874Z"
   },
   {
    "duration": 258,
    "start_time": "2023-07-11T15:04:09.274Z"
   },
   {
    "duration": 325,
    "start_time": "2023-07-11T15:04:09.533Z"
   },
   {
    "duration": 229,
    "start_time": "2023-07-11T15:04:09.859Z"
   },
   {
    "duration": 5,
    "start_time": "2023-07-11T15:04:10.089Z"
   },
   {
    "duration": 162,
    "start_time": "2023-07-11T15:04:10.095Z"
   },
   {
    "duration": 144,
    "start_time": "2023-07-11T15:04:10.259Z"
   },
   {
    "duration": 5,
    "start_time": "2023-07-11T15:04:10.404Z"
   },
   {
    "duration": 216,
    "start_time": "2023-07-11T15:04:10.411Z"
   },
   {
    "duration": 172,
    "start_time": "2023-07-11T15:04:10.628Z"
   },
   {
    "duration": 11,
    "start_time": "2023-07-11T15:04:10.801Z"
   },
   {
    "duration": 24,
    "start_time": "2023-07-11T15:04:10.813Z"
   },
   {
    "duration": 36,
    "start_time": "2023-07-11T15:04:10.839Z"
   },
   {
    "duration": 14,
    "start_time": "2023-07-11T15:04:10.877Z"
   },
   {
    "duration": 1036,
    "start_time": "2023-09-08T13:21:15.845Z"
   },
   {
    "duration": 235,
    "start_time": "2023-09-08T13:21:16.883Z"
   },
   {
    "duration": 18,
    "start_time": "2023-09-08T13:21:17.119Z"
   },
   {
    "duration": 20,
    "start_time": "2023-09-08T13:21:17.138Z"
   },
   {
    "duration": 27,
    "start_time": "2023-09-08T13:21:17.160Z"
   },
   {
    "duration": 14,
    "start_time": "2023-09-08T13:21:17.189Z"
   },
   {
    "duration": 8,
    "start_time": "2023-09-08T13:21:17.205Z"
   },
   {
    "duration": 11,
    "start_time": "2023-09-08T13:21:17.214Z"
   },
   {
    "duration": 8,
    "start_time": "2023-09-08T13:21:17.226Z"
   },
   {
    "duration": 17,
    "start_time": "2023-09-08T13:21:17.235Z"
   },
   {
    "duration": 20,
    "start_time": "2023-09-08T13:21:17.253Z"
   },
   {
    "duration": 10,
    "start_time": "2023-09-08T13:21:17.274Z"
   },
   {
    "duration": 9,
    "start_time": "2023-09-08T13:21:17.286Z"
   },
   {
    "duration": 273,
    "start_time": "2023-09-08T13:21:17.298Z"
   },
   {
    "duration": 289,
    "start_time": "2023-09-08T13:21:17.572Z"
   },
   {
    "duration": 213,
    "start_time": "2023-09-08T13:21:17.863Z"
   },
   {
    "duration": 335,
    "start_time": "2023-09-08T13:21:18.077Z"
   },
   {
    "duration": 262,
    "start_time": "2023-09-08T13:21:18.414Z"
   },
   {
    "duration": 324,
    "start_time": "2023-09-08T13:21:18.678Z"
   },
   {
    "duration": 230,
    "start_time": "2023-09-08T13:21:19.004Z"
   },
   {
    "duration": 5,
    "start_time": "2023-09-08T13:21:19.236Z"
   },
   {
    "duration": 132,
    "start_time": "2023-09-08T13:21:19.250Z"
   },
   {
    "duration": 147,
    "start_time": "2023-09-08T13:21:19.383Z"
   },
   {
    "duration": 5,
    "start_time": "2023-09-08T13:21:19.531Z"
   },
   {
    "duration": 213,
    "start_time": "2023-09-08T13:21:19.537Z"
   },
   {
    "duration": 150,
    "start_time": "2023-09-08T13:21:19.752Z"
   },
   {
    "duration": 9,
    "start_time": "2023-09-08T13:21:19.903Z"
   },
   {
    "duration": 50,
    "start_time": "2023-09-08T13:21:19.914Z"
   },
   {
    "duration": 35,
    "start_time": "2023-09-08T13:21:19.965Z"
   },
   {
    "duration": 12,
    "start_time": "2023-09-08T13:21:20.002Z"
   }
  ],
  "kernelspec": {
   "display_name": "Python 3 (ipykernel)",
   "language": "python",
   "name": "python3"
  },
  "language_info": {
   "codemirror_mode": {
    "name": "ipython",
    "version": 3
   },
   "file_extension": ".py",
   "mimetype": "text/x-python",
   "name": "python",
   "nbconvert_exporter": "python",
   "pygments_lexer": "ipython3",
   "version": "3.9.5"
  },
  "toc": {
   "base_numbering": 1,
   "nav_menu": {
    "height": "273px",
    "width": "226px"
   },
   "number_sections": true,
   "sideBar": true,
   "skip_h1_title": true,
   "title_cell": "Table of Contents",
   "title_sidebar": "Contents",
   "toc_cell": false,
   "toc_position": {
    "height": "calc(100% - 180px)",
    "left": "10px",
    "top": "150px",
    "width": "371px"
   },
   "toc_section_display": true,
   "toc_window_display": true
  }
 },
 "nbformat": 4,
 "nbformat_minor": 2
}
