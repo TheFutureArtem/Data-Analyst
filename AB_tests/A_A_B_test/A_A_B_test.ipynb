{
 "cells": [
  {
   "cell_type": "markdown",
   "metadata": {},
   "source": [
    "# Анализ поведения пользователей мобильного приложения "
   ]
  },
  {
   "cell_type": "markdown",
   "metadata": {},
   "source": [
    "В нашем распоряжении данные стартапа, который продаёт продукты питания. Нужно разобраться, как ведут себя пользователи этого мобильного приложения. Для этого проведем А/А/В-тест. Узнаем, как изменилось поведение пользователей при изменении шрифта во всем приложении. Сначала сравним контрольные группы, т.е. проведем А/А-тест, далее при успешном проведении этого теста приступим к А/В-тесту.\n",
    "\n",
    "**Цели исследования:**\n",
    "\n",
    "- Изучить воронку продаж\n",
    "- Провести анализ результатов A/A/B-эксперимента\n",
    "\n",
    "**Ход исследования:** \n",
    "\n",
    "1. Обзор данных\n",
    "2. Предобработка данных\n",
    "3. Изучение и проверка данных\n",
    "4. Изучение воронки событий\n",
    "5. Изучение результатов А/А/В-эксперимента\n",
    "6. Общий вывод"
   ]
  },
  {
   "cell_type": "code",
   "execution_count": 30,
   "metadata": {},
   "outputs": [],
   "source": [
    "# Импортируем нужные нам библиотеки\n",
    "\n",
    "import pandas as pd\n",
    "import matplotlib.pyplot as plt\n",
    "import math as mth\n",
    "from scipy import stats as st\n",
    "import numpy as np\n",
    "import plotly.express as px"
   ]
  },
  {
   "cell_type": "markdown",
   "metadata": {},
   "source": [
    "## Обзор данных"
   ]
  },
  {
   "cell_type": "code",
   "execution_count": 31,
   "metadata": {},
   "outputs": [],
   "source": [
    "# Считываем данные\n",
    "\n",
    "data = pd.read_csv('/datasets/logs_exp.csv', sep='\\t')"
   ]
  },
  {
   "cell_type": "code",
   "execution_count": 32,
   "metadata": {},
   "outputs": [
    {
     "name": "stdout",
     "output_type": "stream",
     "text": [
      "<class 'pandas.core.frame.DataFrame'>\n",
      "RangeIndex: 244126 entries, 0 to 244125\n",
      "Data columns (total 4 columns):\n",
      " #   Column          Non-Null Count   Dtype \n",
      "---  ------          --------------   ----- \n",
      " 0   EventName       244126 non-null  object\n",
      " 1   DeviceIDHash    244126 non-null  int64 \n",
      " 2   EventTimestamp  244126 non-null  int64 \n",
      " 3   ExpId           244126 non-null  int64 \n",
      "dtypes: int64(3), object(1)\n",
      "memory usage: 7.5+ MB\n"
     ]
    },
    {
     "data": {
      "text/html": [
       "<div>\n",
       "<style scoped>\n",
       "    .dataframe tbody tr th:only-of-type {\n",
       "        vertical-align: middle;\n",
       "    }\n",
       "\n",
       "    .dataframe tbody tr th {\n",
       "        vertical-align: top;\n",
       "    }\n",
       "\n",
       "    .dataframe thead th {\n",
       "        text-align: right;\n",
       "    }\n",
       "</style>\n",
       "<table border=\"1\" class=\"dataframe\">\n",
       "  <thead>\n",
       "    <tr style=\"text-align: right;\">\n",
       "      <th></th>\n",
       "      <th>EventName</th>\n",
       "      <th>DeviceIDHash</th>\n",
       "      <th>EventTimestamp</th>\n",
       "      <th>ExpId</th>\n",
       "    </tr>\n",
       "  </thead>\n",
       "  <tbody>\n",
       "    <tr>\n",
       "      <th>0</th>\n",
       "      <td>MainScreenAppear</td>\n",
       "      <td>4575588528974610257</td>\n",
       "      <td>1564029816</td>\n",
       "      <td>246</td>\n",
       "    </tr>\n",
       "    <tr>\n",
       "      <th>1</th>\n",
       "      <td>MainScreenAppear</td>\n",
       "      <td>7416695313311560658</td>\n",
       "      <td>1564053102</td>\n",
       "      <td>246</td>\n",
       "    </tr>\n",
       "    <tr>\n",
       "      <th>2</th>\n",
       "      <td>PaymentScreenSuccessful</td>\n",
       "      <td>3518123091307005509</td>\n",
       "      <td>1564054127</td>\n",
       "      <td>248</td>\n",
       "    </tr>\n",
       "    <tr>\n",
       "      <th>3</th>\n",
       "      <td>CartScreenAppear</td>\n",
       "      <td>3518123091307005509</td>\n",
       "      <td>1564054127</td>\n",
       "      <td>248</td>\n",
       "    </tr>\n",
       "    <tr>\n",
       "      <th>4</th>\n",
       "      <td>PaymentScreenSuccessful</td>\n",
       "      <td>6217807653094995999</td>\n",
       "      <td>1564055322</td>\n",
       "      <td>248</td>\n",
       "    </tr>\n",
       "  </tbody>\n",
       "</table>\n",
       "</div>"
      ],
      "text/plain": [
       "                 EventName         DeviceIDHash  EventTimestamp  ExpId\n",
       "0         MainScreenAppear  4575588528974610257      1564029816    246\n",
       "1         MainScreenAppear  7416695313311560658      1564053102    246\n",
       "2  PaymentScreenSuccessful  3518123091307005509      1564054127    248\n",
       "3         CartScreenAppear  3518123091307005509      1564054127    248\n",
       "4  PaymentScreenSuccessful  6217807653094995999      1564055322    248"
      ]
     },
     "execution_count": 32,
     "metadata": {},
     "output_type": "execute_result"
    }
   ],
   "source": [
    "# Выводим общую информацию о датафрейме\n",
    "\n",
    "data.info()\n",
    "data.head()"
   ]
  },
  {
   "cell_type": "markdown",
   "metadata": {},
   "source": [
    "### Промежуточный вывод по этапу обзора данных\n",
    "\n",
    "В таблице с логами 244126 строк и 4 столбца: название события, уникальный id пользователя, дата и время события и группа эксперимента. Названия столбцов не соответствуют змеиному регистру, на этапе предобработки нужно будет изменить тип данных столбца со временем. "
   ]
  },
  {
   "cell_type": "markdown",
   "metadata": {},
   "source": [
    "## Предобработка данных"
   ]
  },
  {
   "cell_type": "markdown",
   "metadata": {},
   "source": [
    "Для начала изменим названия столбцов"
   ]
  },
  {
   "cell_type": "code",
   "execution_count": 33,
   "metadata": {},
   "outputs": [
    {
     "data": {
      "text/html": [
       "<div>\n",
       "<style scoped>\n",
       "    .dataframe tbody tr th:only-of-type {\n",
       "        vertical-align: middle;\n",
       "    }\n",
       "\n",
       "    .dataframe tbody tr th {\n",
       "        vertical-align: top;\n",
       "    }\n",
       "\n",
       "    .dataframe thead th {\n",
       "        text-align: right;\n",
       "    }\n",
       "</style>\n",
       "<table border=\"1\" class=\"dataframe\">\n",
       "  <thead>\n",
       "    <tr style=\"text-align: right;\">\n",
       "      <th></th>\n",
       "      <th>event_name</th>\n",
       "      <th>user_id</th>\n",
       "      <th>event_timestamp</th>\n",
       "      <th>exp_id</th>\n",
       "    </tr>\n",
       "  </thead>\n",
       "  <tbody>\n",
       "    <tr>\n",
       "      <th>0</th>\n",
       "      <td>MainScreenAppear</td>\n",
       "      <td>4575588528974610257</td>\n",
       "      <td>1564029816</td>\n",
       "      <td>246</td>\n",
       "    </tr>\n",
       "  </tbody>\n",
       "</table>\n",
       "</div>"
      ],
      "text/plain": [
       "         event_name              user_id  event_timestamp  exp_id\n",
       "0  MainScreenAppear  4575588528974610257       1564029816     246"
      ]
     },
     "execution_count": 33,
     "metadata": {},
     "output_type": "execute_result"
    }
   ],
   "source": [
    "# Меняем названия столбцов\n",
    "\n",
    "data.columns = ['event_name', 'user_id', 'event_timestamp', 'exp_id']\n",
    "data.head(1)"
   ]
  },
  {
   "cell_type": "markdown",
   "metadata": {},
   "source": [
    "Теперь проверим данные на наличие явных и неявных дубликатов"
   ]
  },
  {
   "cell_type": "code",
   "execution_count": 34,
   "metadata": {},
   "outputs": [
    {
     "name": "stdout",
     "output_type": "stream",
     "text": [
      "Количество явных дупликатов: 413\n"
     ]
    }
   ],
   "source": [
    "print('Количество явных дупликатов:', data.duplicated().sum())"
   ]
  },
  {
   "cell_type": "markdown",
   "metadata": {},
   "source": [
    "Обнаружено 413 полностью одинаковых строк, удалим их"
   ]
  },
  {
   "cell_type": "code",
   "execution_count": 35,
   "metadata": {},
   "outputs": [
    {
     "data": {
      "text/plain": [
       "0"
      ]
     },
     "execution_count": 35,
     "metadata": {},
     "output_type": "execute_result"
    }
   ],
   "source": [
    "# Удаляем дупликаты\n",
    "\n",
    "data = data.drop_duplicates()\n",
    "data.duplicated().sum()"
   ]
  },
  {
   "cell_type": "markdown",
   "metadata": {},
   "source": [
    "Проверим столбец с событиями на неявные дупликаты"
   ]
  },
  {
   "cell_type": "code",
   "execution_count": 36,
   "metadata": {},
   "outputs": [
    {
     "data": {
      "text/plain": [
       "array(['MainScreenAppear', 'PaymentScreenSuccessful', 'CartScreenAppear',\n",
       "       'OffersScreenAppear', 'Tutorial'], dtype=object)"
      ]
     },
     "execution_count": 36,
     "metadata": {},
     "output_type": "execute_result"
    }
   ],
   "source": [
    "# Выводим уникальные значения столбца\n",
    "\n",
    "data['event_name'].unique()"
   ]
  },
  {
   "cell_type": "markdown",
   "metadata": {},
   "source": [
    "Неявных дупликатов нет"
   ]
  },
  {
   "cell_type": "markdown",
   "metadata": {},
   "source": [
    "Теперь исследуем датафрейм на наличие пропущенных значений"
   ]
  },
  {
   "cell_type": "code",
   "execution_count": 37,
   "metadata": {},
   "outputs": [
    {
     "data": {
      "text/plain": [
       "event_name         0\n",
       "user_id            0\n",
       "event_timestamp    0\n",
       "exp_id             0\n",
       "dtype: int64"
      ]
     },
     "execution_count": 37,
     "metadata": {},
     "output_type": "execute_result"
    }
   ],
   "source": [
    "data.isna().sum()"
   ]
  },
  {
   "cell_type": "markdown",
   "metadata": {},
   "source": [
    "Пропусков нет"
   ]
  },
  {
   "cell_type": "markdown",
   "metadata": {},
   "source": [
    "Вместо изменения типа данных в столбце со временем события, добавим два новых столбца с датой и временем - один будет с датой и временм, другой только с датой."
   ]
  },
  {
   "cell_type": "code",
   "execution_count": 38,
   "metadata": {},
   "outputs": [
    {
     "data": {
      "text/html": [
       "<div>\n",
       "<style scoped>\n",
       "    .dataframe tbody tr th:only-of-type {\n",
       "        vertical-align: middle;\n",
       "    }\n",
       "\n",
       "    .dataframe tbody tr th {\n",
       "        vertical-align: top;\n",
       "    }\n",
       "\n",
       "    .dataframe thead th {\n",
       "        text-align: right;\n",
       "    }\n",
       "</style>\n",
       "<table border=\"1\" class=\"dataframe\">\n",
       "  <thead>\n",
       "    <tr style=\"text-align: right;\">\n",
       "      <th></th>\n",
       "      <th>event_name</th>\n",
       "      <th>user_id</th>\n",
       "      <th>event_timestamp</th>\n",
       "      <th>exp_id</th>\n",
       "      <th>datetime</th>\n",
       "      <th>date</th>\n",
       "    </tr>\n",
       "  </thead>\n",
       "  <tbody>\n",
       "    <tr>\n",
       "      <th>0</th>\n",
       "      <td>MainScreenAppear</td>\n",
       "      <td>4575588528974610257</td>\n",
       "      <td>1564029816</td>\n",
       "      <td>246</td>\n",
       "      <td>2019-07-25 04:43:36</td>\n",
       "      <td>2019-07-25</td>\n",
       "    </tr>\n",
       "    <tr>\n",
       "      <th>1</th>\n",
       "      <td>MainScreenAppear</td>\n",
       "      <td>7416695313311560658</td>\n",
       "      <td>1564053102</td>\n",
       "      <td>246</td>\n",
       "      <td>2019-07-25 11:11:42</td>\n",
       "      <td>2019-07-25</td>\n",
       "    </tr>\n",
       "    <tr>\n",
       "      <th>2</th>\n",
       "      <td>PaymentScreenSuccessful</td>\n",
       "      <td>3518123091307005509</td>\n",
       "      <td>1564054127</td>\n",
       "      <td>248</td>\n",
       "      <td>2019-07-25 11:28:47</td>\n",
       "      <td>2019-07-25</td>\n",
       "    </tr>\n",
       "    <tr>\n",
       "      <th>3</th>\n",
       "      <td>CartScreenAppear</td>\n",
       "      <td>3518123091307005509</td>\n",
       "      <td>1564054127</td>\n",
       "      <td>248</td>\n",
       "      <td>2019-07-25 11:28:47</td>\n",
       "      <td>2019-07-25</td>\n",
       "    </tr>\n",
       "    <tr>\n",
       "      <th>4</th>\n",
       "      <td>PaymentScreenSuccessful</td>\n",
       "      <td>6217807653094995999</td>\n",
       "      <td>1564055322</td>\n",
       "      <td>248</td>\n",
       "      <td>2019-07-25 11:48:42</td>\n",
       "      <td>2019-07-25</td>\n",
       "    </tr>\n",
       "  </tbody>\n",
       "</table>\n",
       "</div>"
      ],
      "text/plain": [
       "                event_name              user_id  event_timestamp  exp_id  \\\n",
       "0         MainScreenAppear  4575588528974610257       1564029816     246   \n",
       "1         MainScreenAppear  7416695313311560658       1564053102     246   \n",
       "2  PaymentScreenSuccessful  3518123091307005509       1564054127     248   \n",
       "3         CartScreenAppear  3518123091307005509       1564054127     248   \n",
       "4  PaymentScreenSuccessful  6217807653094995999       1564055322     248   \n",
       "\n",
       "             datetime        date  \n",
       "0 2019-07-25 04:43:36  2019-07-25  \n",
       "1 2019-07-25 11:11:42  2019-07-25  \n",
       "2 2019-07-25 11:28:47  2019-07-25  \n",
       "3 2019-07-25 11:28:47  2019-07-25  \n",
       "4 2019-07-25 11:48:42  2019-07-25  "
      ]
     },
     "execution_count": 38,
     "metadata": {},
     "output_type": "execute_result"
    }
   ],
   "source": [
    "data['datetime'] = pd.to_datetime(data['event_timestamp'], unit='s')\n",
    "data['date'] = data['datetime'].dt.date\n",
    "data.head()"
   ]
  },
  {
   "cell_type": "markdown",
   "metadata": {},
   "source": [
    "### Промежуточный вывод по этапу предобработки данных\n",
    "\n",
    "- **Пропуски:** пропущенных значений нет\n",
    "- **Дупликаты:** было удалено 413 явных дупликатов, неявных обнаружено не было\n",
    "- **Типы данных:** вместо изменения типа данных было добавлено 2 новых столбца"
   ]
  },
  {
   "cell_type": "markdown",
   "metadata": {},
   "source": [
    "## Изучение и проверка данных"
   ]
  },
  {
   "cell_type": "markdown",
   "metadata": {},
   "source": [
    "Проверим, сколько всего пользователей и событий в логе"
   ]
  },
  {
   "cell_type": "code",
   "execution_count": 39,
   "metadata": {},
   "outputs": [
    {
     "name": "stdout",
     "output_type": "stream",
     "text": [
      "Общее число пользователей: 7551 \n",
      "Общее количество событий: 243713\n"
     ]
    }
   ],
   "source": [
    "print('Общее число пользователей:', data['user_id'].nunique(), '\\n'\n",
    "      'Общее количество событий:', data.shape[0])"
   ]
  },
  {
   "cell_type": "code",
   "execution_count": 40,
   "metadata": {},
   "outputs": [
    {
     "data": {
      "text/plain": [
       "array(['MainScreenAppear', 'PaymentScreenSuccessful', 'CartScreenAppear',\n",
       "       'OffersScreenAppear', 'Tutorial'], dtype=object)"
      ]
     },
     "execution_count": 40,
     "metadata": {},
     "output_type": "execute_result"
    }
   ],
   "source": [
    "data['event_name'].unique()"
   ]
  },
  {
   "cell_type": "markdown",
   "metadata": {},
   "source": [
    "В логе 7551 уникальных пользователей и 243713 событий, из которых 5 являются уникальными."
   ]
  },
  {
   "cell_type": "code",
   "execution_count": 41,
   "metadata": {},
   "outputs": [
    {
     "data": {
      "text/plain": [
       "32"
      ]
     },
     "execution_count": 41,
     "metadata": {},
     "output_type": "execute_result"
    }
   ],
   "source": [
    "round(data.shape[0]/data['user_id'].nunique())"
   ]
  },
  {
   "cell_type": "markdown",
   "metadata": {},
   "source": [
    "В среднем на пользователя приходится около 32 событий. Теперь нужно узнать, данными за какой период мы располагаем, а также определить минимальную и максимальную дату"
   ]
  },
  {
   "cell_type": "code",
   "execution_count": 42,
   "metadata": {},
   "outputs": [
    {
     "data": {
      "image/png": "[encoded data removed]",
      "text/plain": [
       "<Figure size 720x360 with 1 Axes>"
      ]
     },
     "metadata": {
      "needs_background": "light"
     },
     "output_type": "display_data"
    }
   ],
   "source": [
    "plt.figure(figsize=(10, 5))\n",
    "\n",
    "data['date'].hist(bins=15)\n",
    "plt.title('Гистограмма по дате')\n",
    "plt.xlabel('Даты')\n",
    "plt.ylabel('Количество событий')\n",
    "plt.xticks(rotation=55);"
   ]
  },
  {
   "cell_type": "markdown",
   "metadata": {},
   "source": [
    "По гистограмме видно, что в нашем распоряжении данные с 25 июля по 7 августа 2019 года, ровно 2 недели, но данные за июль - неполные, поэтому на самом деле мы располагаем данными только за август, очистим датафрейм от июльских событий."
   ]
  },
  {
   "cell_type": "code",
   "execution_count": 43,
   "metadata": {},
   "outputs": [
    {
     "name": "stdout",
     "output_type": "stream",
     "text": [
      "<class 'pandas.core.frame.DataFrame'>\n",
      "Int64Index: 240887 entries, 2828 to 244125\n",
      "Data columns (total 6 columns):\n",
      " #   Column           Non-Null Count   Dtype         \n",
      "---  ------           --------------   -----         \n",
      " 0   event_name       240887 non-null  object        \n",
      " 1   user_id          240887 non-null  int64         \n",
      " 2   event_timestamp  240887 non-null  int64         \n",
      " 3   exp_id           240887 non-null  int64         \n",
      " 4   datetime         240887 non-null  datetime64[ns]\n",
      " 5   date             240887 non-null  object        \n",
      "dtypes: datetime64[ns](1), int64(3), object(2)\n",
      "memory usage: 12.9+ MB\n"
     ]
    }
   ],
   "source": [
    "data['date'] = data['date'].astype(str)\n",
    "logs = data.query('date >= \"2019-08-01\"')\n",
    "logs.info()"
   ]
  },
  {
   "cell_type": "code",
   "execution_count": 44,
   "metadata": {},
   "outputs": [
    {
     "name": "stdout",
     "output_type": "stream",
     "text": [
      "Всего пользователей потеряно: 17\n"
     ]
    }
   ],
   "source": [
    "print('Всего пользователей потеряно:', data['user_id'].nunique() - logs['user_id'].nunique())"
   ]
  },
  {
   "cell_type": "code",
   "execution_count": 45,
   "metadata": {},
   "outputs": [
    {
     "name": "stdout",
     "output_type": "stream",
     "text": [
      "Количество удаленных строк: 2826\n"
     ]
    }
   ],
   "source": [
    "print('Количество удаленных строк:', data.shape[0] - logs.shape[0])"
   ]
  },
  {
   "cell_type": "code",
   "execution_count": 46,
   "metadata": {},
   "outputs": [
    {
     "data": {
      "text/html": [
       "<div>\n",
       "<style scoped>\n",
       "    .dataframe tbody tr th:only-of-type {\n",
       "        vertical-align: middle;\n",
       "    }\n",
       "\n",
       "    .dataframe tbody tr th {\n",
       "        vertical-align: top;\n",
       "    }\n",
       "\n",
       "    .dataframe thead th {\n",
       "        text-align: right;\n",
       "    }\n",
       "</style>\n",
       "<table border=\"1\" class=\"dataframe\">\n",
       "  <thead>\n",
       "    <tr style=\"text-align: right;\">\n",
       "      <th></th>\n",
       "      <th>Экспериментальная группа</th>\n",
       "      <th>Количество пользователей</th>\n",
       "    </tr>\n",
       "  </thead>\n",
       "  <tbody>\n",
       "    <tr>\n",
       "      <th>0</th>\n",
       "      <td>246</td>\n",
       "      <td>2484</td>\n",
       "    </tr>\n",
       "    <tr>\n",
       "      <th>1</th>\n",
       "      <td>247</td>\n",
       "      <td>2513</td>\n",
       "    </tr>\n",
       "    <tr>\n",
       "      <th>2</th>\n",
       "      <td>248</td>\n",
       "      <td>2537</td>\n",
       "    </tr>\n",
       "  </tbody>\n",
       "</table>\n",
       "</div>"
      ],
      "text/plain": [
       "   Экспериментальная группа  Количество пользователей\n",
       "0                       246                      2484\n",
       "1                       247                      2513\n",
       "2                       248                      2537"
      ]
     },
     "execution_count": 46,
     "metadata": {},
     "output_type": "execute_result"
    }
   ],
   "source": [
    "logs.groupby('exp_id').agg({'user_id': 'nunique'}).reset_index()\\\n",
    ".rename(columns={'exp_id': 'Экспериментальная группа', 'user_id': 'Количество пользователей'})"
   ]
  },
  {
   "cell_type": "markdown",
   "metadata": {},
   "source": [
    "После фильтрации было удалено всего лишь 17 пользователей и 2826 строк, также по таблцие выше видно, что пользователи равномерно распределены по экспериментальным группам"
   ]
  },
  {
   "cell_type": "markdown",
   "metadata": {},
   "source": [
    "### Промежуточный вывод по этапу изучению и проверке данных\n",
    "\n",
    "За 2 недели наблюдения было выявлено 7551 уникальных пользователей. В среднем на одного пользователя приходится 32 события. С помощью гистограммы был определен актуальный период исследования: первая неделя августа 2019 года. После фильтрации по дате было потеряно всего лишь 17 пользователей и удалено 2826 логов событий. Такие измененеия не повлияли на равномерное распределение пользователей по экспериментальным группам."
   ]
  },
  {
   "cell_type": "markdown",
   "metadata": {},
   "source": [
    "## Изучение воронки событий"
   ]
  },
  {
   "cell_type": "markdown",
   "metadata": {},
   "source": [
    "Сначала посмотрим, как события распределены по количеству"
   ]
  },
  {
   "cell_type": "code",
   "execution_count": 47,
   "metadata": {},
   "outputs": [
    {
     "name": "stdout",
     "output_type": "stream",
     "text": [
      "event_name\n",
      "MainScreenAppear           117328\n",
      "OffersScreenAppear          46333\n",
      "CartScreenAppear            42303\n",
      "PaymentScreenSuccessful     33918\n",
      "Tutorial                     1005\n",
      "Name: event_name, dtype: int64\n"
     ]
    },
    {
     "data": {
      "image/png": "[encoded data removed]",
      "text/plain": [
       "<Figure size 576x360 with 1 Axes>"
      ]
     },
     "metadata": {
      "needs_background": "light"
     },
     "output_type": "display_data"
    }
   ],
   "source": [
    "print(logs.groupby('event_name')['event_name'].count().sort_values(ascending=False))\n",
    "\n",
    "(\n",
    "logs.groupby('event_name')['event_name'].count().sort_values(ascending=False)\n",
    ".plot(kind='bar', \n",
    "          title='Количество событий', \n",
    "          xlabel='События', \n",
    "          ylabel='Количество',\n",
    "          rot=60,\n",
    "          figsize=(8,5),\n",
    "          color='g')\n",
    ");"
   ]
  },
  {
   "cell_type": "markdown",
   "metadata": {},
   "source": [
    "Самое популярное событие - появление основного экрана, за ним идут появления экранов предложений, корзины и упешной оплаты. Экран с обучением был посещен всего 1005 раз."
   ]
  },
  {
   "cell_type": "markdown",
   "metadata": {},
   "source": [
    "Теперь взглянем, как пользователи распределены по событиям:"
   ]
  },
  {
   "cell_type": "code",
   "execution_count": 48,
   "metadata": {},
   "outputs": [
    {
     "name": "stdout",
     "output_type": "stream",
     "text": [
      "event_name\n",
      "MainScreenAppear           7419\n",
      "OffersScreenAppear         4593\n",
      "CartScreenAppear           3734\n",
      "PaymentScreenSuccessful    3539\n",
      "Tutorial                    840\n",
      "Name: user_id, dtype: int64\n"
     ]
    },
    {
     "data": {
      "image/png": "[encoded data removed]",
      "text/plain": [
       "<Figure size 576x360 with 1 Axes>"
      ]
     },
     "metadata": {
      "needs_background": "light"
     },
     "output_type": "display_data"
    }
   ],
   "source": [
    "print(logs.groupby('event_name')['user_id'].nunique().sort_values(ascending=False))\n",
    "\n",
    "(\n",
    "logs.groupby('event_name')['user_id'].nunique().sort_values(ascending=False)\n",
    ".plot(kind='bar', \n",
    "          title='Количество пользователей по событиям', \n",
    "          xlabel='События', \n",
    "          ylabel='Количество человек',\n",
    "          rot=60,\n",
    "          figsize=(8,5),\n",
    "          color='g')\n",
    ");"
   ]
  },
  {
   "cell_type": "markdown",
   "metadata": {},
   "source": [
    "Картина примерно похожая, появление главного экрана также впереди остальных событий, но события корзина и оплата практически одинаковы по частоте, то есть почти все пользователи, зашедшие в корзину, оформляют покупку до конца. Обучением пользователи в большинстве случаев пренебрегают, оно и понятно, ведь управление в мобильном приложении интуитивно понятно для многих, и пользователи чаще всего пропускают туториал."
   ]
  },
  {
   "cell_type": "code",
   "execution_count": 49,
   "metadata": {},
   "outputs": [
    {
     "data": {
      "text/plain": [
       "event_name\n",
       "MainScreenAppear           98.47%\n",
       "OffersScreenAppear         60.96%\n",
       "CartScreenAppear           49.56%\n",
       "PaymentScreenSuccessful    46.97%\n",
       "Tutorial                   11.15%\n",
       "Name: user_id, dtype: object"
      ]
     },
     "metadata": {},
     "output_type": "display_data"
    },
    {
     "data": {
      "image/png": "[encoded data removed]",
      "text/plain": [
       "<Figure size 576x360 with 1 Axes>"
      ]
     },
     "metadata": {
      "needs_background": "light"
     },
     "output_type": "display_data"
    }
   ],
   "source": [
    "display((round(logs.groupby('event_name')['user_id'].nunique()/7534*100, 2).astype(str) + '%').sort_values(ascending=False))\n",
    "\n",
    "(\n",
    "    round(logs.groupby('event_name')['user_id'].nunique()/7534*100, 2).sort_values(ascending=False)\n",
    "    .plot(kind='bar', \n",
    "          title='Доля пользоватлей, которые хоть раз совершали событие.', \n",
    "          xlabel='События', \n",
    "          ylabel='Доля, %',\n",
    "          rot=60,\n",
    "          figsize=(8,5),\n",
    "          color='g')\n",
    ");"
   ]
  },
  {
   "cell_type": "markdown",
   "metadata": {},
   "source": [
    "Если рассматривать доли, то картина никак не поменялась в сравнении с выше описанным графиком, отсюда видно, что доля пользователей, дошедших от первого события до оплаты, равна ~47%, неплохо. Примерно 1.5% пользователей даже не увидели главный экран, возможно они прекратили пользоваться приложением еще на этапе обучения. Можно предположить, что события идут в таком порядке, который изображен в таблице, за исключением обучения, так как его можно просто пропустить или же вернуться позже, поэтому не будем учитывать это событие в исследовании воронки."
   ]
  },
  {
   "cell_type": "code",
   "execution_count": 50,
   "metadata": {},
   "outputs": [
    {
     "data": {
      "text/html": [
       "<div>\n",
       "<style scoped>\n",
       "    .dataframe tbody tr th:only-of-type {\n",
       "        vertical-align: middle;\n",
       "    }\n",
       "\n",
       "    .dataframe tbody tr th {\n",
       "        vertical-align: top;\n",
       "    }\n",
       "\n",
       "    .dataframe thead th {\n",
       "        text-align: right;\n",
       "    }\n",
       "</style>\n",
       "<table border=\"1\" class=\"dataframe\">\n",
       "  <thead>\n",
       "    <tr style=\"text-align: right;\">\n",
       "      <th></th>\n",
       "      <th>event_name</th>\n",
       "      <th>n_users</th>\n",
       "    </tr>\n",
       "  </thead>\n",
       "  <tbody>\n",
       "    <tr>\n",
       "      <th>0</th>\n",
       "      <td>MainScreenAppear</td>\n",
       "      <td>7419</td>\n",
       "    </tr>\n",
       "    <tr>\n",
       "      <th>1</th>\n",
       "      <td>OffersScreenAppear</td>\n",
       "      <td>4593</td>\n",
       "    </tr>\n",
       "    <tr>\n",
       "      <th>2</th>\n",
       "      <td>CartScreenAppear</td>\n",
       "      <td>3734</td>\n",
       "    </tr>\n",
       "    <tr>\n",
       "      <th>3</th>\n",
       "      <td>PaymentScreenSuccessful</td>\n",
       "      <td>3539</td>\n",
       "    </tr>\n",
       "  </tbody>\n",
       "</table>\n",
       "</div>"
      ],
      "text/plain": [
       "                event_name  n_users\n",
       "0         MainScreenAppear     7419\n",
       "1       OffersScreenAppear     4593\n",
       "2         CartScreenAppear     3734\n",
       "3  PaymentScreenSuccessful     3539"
      ]
     },
     "execution_count": 50,
     "metadata": {},
     "output_type": "execute_result"
    }
   ],
   "source": [
    "funnel = (\n",
    "         logs.pivot_table(index='event_name', values='user_id', aggfunc='nunique')\n",
    "         .sort_values(by='user_id', ascending=False).reset_index().rename(columns={'user_id': 'n_users'})\n",
    "         )\n",
    "funnel = funnel.query('event_name != \"Tutorial\"')\n",
    "funnel"
   ]
  },
  {
   "cell_type": "code",
   "execution_count": 51,
   "metadata": {},
   "outputs": [
    {
     "data": {
      "application/vnd.plotly.v1+json": {
       "config": {
        "plotlyServerURL": "https://plot.ly"
       },
       "data": [
        {
         "hovertemplate": "number=%{x}<br>stage=%{y}<extra></extra>",
         "legendgroup": "",
         "marker": {
          "color": "#636efa"
         },
         "name": "",
         "orientation": "h",
         "showlegend": false,
         "type": "funnel",
         "x": [
          7419,
          4593,
          3734,
          3539
         ],
         "xaxis": "x",
         "y": [
          "MainScreenAppear",
          "OffersScreenAppear",
          "CartScreenAppear",
          "PaymentScreenSuccessful"
         ],
         "yaxis": "y"
        }
       ],
       "layout": {
        "legend": {
         "tracegroupgap": 0
        },
        "margin": {
         "t": 60
        },
        "template": {
         "data": {
          "bar": [
           {
            "error_x": {
             "color": "#2a3f5f"
            },
            "error_y": {
             "color": "#2a3f5f"
            },
            "marker": {
             "line": {
              "color": "#E5ECF6",
              "width": 0.5
             },
             "pattern": {
              "fillmode": "overlay",
              "size": 10,
              "solidity": 0.2
             }
            },
            "type": "bar"
           }
          ],
          "barpolar": [
           {
            "marker": {
             "line": {
              "color": "#E5ECF6",
              "width": 0.5
             },
             "pattern": {
              "fillmode": "overlay",
              "size": 10,
              "solidity": 0.2
             }
            },
            "type": "barpolar"
           }
          ],
          "carpet": [
           {
            "aaxis": {
             "endlinecolor": "#2a3f5f",
             "gridcolor": "white",
             "linecolor": "white",
             "minorgridcolor": "white",
             "startlinecolor": "#2a3f5f"
            },
            "baxis": {
             "endlinecolor": "#2a3f5f",
             "gridcolor": "white",
             "linecolor": "white",
             "minorgridcolor": "white",
             "startlinecolor": "#2a3f5f"
            },
            "type": "carpet"
           }
          ],
          "choropleth": [
           {
            "colorbar": {
             "outlinewidth": 0,
             "ticks": ""
            },
            "type": "choropleth"
           }
          ],
          "contour": [
           {
            "colorbar": {
             "outlinewidth": 0,
             "ticks": ""
            },
            "colorscale": [
             [
              0,
              "#0d0887"
             ],
             [
              0.1111111111111111,
              "#46039f"
             ],
             [
              0.2222222222222222,
              "#7201a8"
             ],
             [
              0.3333333333333333,
              "#9c179e"
             ],
             [
              0.4444444444444444,
              "#bd3786"
             ],
             [
              0.5555555555555556,
              "#d8576b"
             ],
             [
              0.6666666666666666,
              "#ed7953"
             ],
             [
              0.7777777777777778,
              "#fb9f3a"
             ],
             [
              0.8888888888888888,
              "#fdca26"
             ],
             [
              1,
              "#f0f921"
             ]
            ],
            "type": "contour"
           }
          ],
          "contourcarpet": [
           {
            "colorbar": {
             "outlinewidth": 0,
             "ticks": ""
            },
            "type": "contourcarpet"
           }
          ],
          "heatmap": [
           {
            "colorbar": {
             "outlinewidth": 0,
             "ticks": ""
            },
            "colorscale": [
             [
              0,
              "#0d0887"
             ],
             [
              0.1111111111111111,
              "#46039f"
             ],
             [
              0.2222222222222222,
              "#7201a8"
             ],
             [
              0.3333333333333333,
              "#9c179e"
             ],
             [
              0.4444444444444444,
              "#bd3786"
             ],
             [
              0.5555555555555556,
              "#d8576b"
             ],
             [
              0.6666666666666666,
              "#ed7953"
             ],
             [
              0.7777777777777778,
              "#fb9f3a"
             ],
             [
              0.8888888888888888,
              "#fdca26"
             ],
             [
              1,
              "#f0f921"
             ]
            ],
            "type": "heatmap"
           }
          ],
          "heatmapgl": [
           {
            "colorbar": {
             "outlinewidth": 0,
             "ticks": ""
            },
            "colorscale": [
             [
              0,
              "#0d0887"
             ],
             [
              0.1111111111111111,
              "#46039f"
             ],
             [
              0.2222222222222222,
              "#7201a8"
             ],
             [
              0.3333333333333333,
              "#9c179e"
             ],
             [
              0.4444444444444444,
              "#bd3786"
             ],
             [
              0.5555555555555556,
              "#d8576b"
             ],
             [
              0.6666666666666666,
              "#ed7953"
             ],
             [
              0.7777777777777778,
              "#fb9f3a"
             ],
             [
              0.8888888888888888,
              "#fdca26"
             ],
             [
              1,
              "#f0f921"
             ]
            ],
            "type": "heatmapgl"
           }
          ],
          "histogram": [
           {
            "marker": {
             "pattern": {
              "fillmode": "overlay",
              "size": 10,
              "solidity": 0.2
             }
            },
            "type": "histogram"
           }
          ],
          "histogram2d": [
           {
            "colorbar": {
             "outlinewidth": 0,
             "ticks": ""
            },
            "colorscale": [
             [
              0,
              "#0d0887"
             ],
             [
              0.1111111111111111,
              "#46039f"
             ],
             [
              0.2222222222222222,
              "#7201a8"
             ],
             [
              0.3333333333333333,
              "#9c179e"
             ],
             [
              0.4444444444444444,
              "#bd3786"
             ],
             [
              0.5555555555555556,
              "#d8576b"
             ],
             [
              0.6666666666666666,
              "#ed7953"
             ],
             [
              0.7777777777777778,
              "#fb9f3a"
             ],
             [
              0.8888888888888888,
              "#fdca26"
             ],
             [
              1,
              "#f0f921"
             ]
            ],
            "type": "histogram2d"
           }
          ],
          "histogram2dcontour": [
           {
            "colorbar": {
             "outlinewidth": 0,
             "ticks": ""
            },
            "colorscale": [
             [
              0,
              "#0d0887"
             ],
             [
              0.1111111111111111,
              "#46039f"
             ],
             [
              0.2222222222222222,
              "#7201a8"
             ],
             [
              0.3333333333333333,
              "#9c179e"
             ],
             [
              0.4444444444444444,
              "#bd3786"
             ],
             [
              0.5555555555555556,
              "#d8576b"
             ],
             [
              0.6666666666666666,
              "#ed7953"
             ],
             [
              0.7777777777777778,
              "#fb9f3a"
             ],
             [
              0.8888888888888888,
              "#fdca26"
             ],
             [
              1,
              "#f0f921"
             ]
            ],
            "type": "histogram2dcontour"
           }
          ],
          "mesh3d": [
           {
            "colorbar": {
             "outlinewidth": 0,
             "ticks": ""
            },
            "type": "mesh3d"
           }
          ],
          "parcoords": [
           {
            "line": {
             "colorbar": {
              "outlinewidth": 0,
              "ticks": ""
             }
            },
            "type": "parcoords"
           }
          ],
          "pie": [
           {
            "automargin": true,
            "type": "pie"
           }
          ],
          "scatter": [
           {
            "marker": {
             "colorbar": {
              "outlinewidth": 0,
              "ticks": ""
             }
            },
            "type": "scatter"
           }
          ],
          "scatter3d": [
           {
            "line": {
             "colorbar": {
              "outlinewidth": 0,
              "ticks": ""
             }
            },
            "marker": {
             "colorbar": {
              "outlinewidth": 0,
              "ticks": ""
             }
            },
            "type": "scatter3d"
           }
          ],
          "scattercarpet": [
           {
            "marker": {
             "colorbar": {
              "outlinewidth": 0,
              "ticks": ""
             }
            },
            "type": "scattercarpet"
           }
          ],
          "scattergeo": [
           {
            "marker": {
             "colorbar": {
              "outlinewidth": 0,
              "ticks": ""
             }
            },
            "type": "scattergeo"
           }
          ],
          "scattergl": [
           {
            "marker": {
             "colorbar": {
              "outlinewidth": 0,
              "ticks": ""
             }
            },
            "type": "scattergl"
           }
          ],
          "scattermapbox": [
           {
            "marker": {
             "colorbar": {
              "outlinewidth": 0,
              "ticks": ""
             }
            },
            "type": "scattermapbox"
           }
          ],
          "scatterpolar": [
           {
            "marker": {
             "colorbar": {
              "outlinewidth": 0,
              "ticks": ""
             }
            },
            "type": "scatterpolar"
           }
          ],
          "scatterpolargl": [
           {
            "marker": {
             "colorbar": {
              "outlinewidth": 0,
              "ticks": ""
             }
            },
            "type": "scatterpolargl"
           }
          ],
          "scatterternary": [
           {
            "marker": {
             "colorbar": {
              "outlinewidth": 0,
              "ticks": ""
             }
            },
            "type": "scatterternary"
           }
          ],
          "surface": [
           {
            "colorbar": {
             "outlinewidth": 0,
             "ticks": ""
            },
            "colorscale": [
             [
              0,
              "#0d0887"
             ],
             [
              0.1111111111111111,
              "#46039f"
             ],
             [
              0.2222222222222222,
              "#7201a8"
             ],
             [
              0.3333333333333333,
              "#9c179e"
             ],
             [
              0.4444444444444444,
              "#bd3786"
             ],
             [
              0.5555555555555556,
              "#d8576b"
             ],
             [
              0.6666666666666666,
              "#ed7953"
             ],
             [
              0.7777777777777778,
              "#fb9f3a"
             ],
             [
              0.8888888888888888,
              "#fdca26"
             ],
             [
              1,
              "#f0f921"
             ]
            ],
            "type": "surface"
           }
          ],
          "table": [
           {
            "cells": {
             "fill": {
              "color": "#EBF0F8"
             },
             "line": {
              "color": "white"
             }
            },
            "header": {
             "fill": {
              "color": "#C8D4E3"
             },
             "line": {
              "color": "white"
             }
            },
            "type": "table"
           }
          ]
         },
         "layout": {
          "annotationdefaults": {
           "arrowcolor": "#2a3f5f",
           "arrowhead": 0,
           "arrowwidth": 1
          },
          "autotypenumbers": "strict",
          "coloraxis": {
           "colorbar": {
            "outlinewidth": 0,
            "ticks": ""
           }
          },
          "colorscale": {
           "diverging": [
            [
             0,
             "#8e0152"
            ],
            [
             0.1,
             "#c51b7d"
            ],
            [
             0.2,
             "#de77ae"
            ],
            [
             0.3,
             "#f1b6da"
            ],
            [
             0.4,
             "#fde0ef"
            ],
            [
             0.5,
             "#f7f7f7"
            ],
            [
             0.6,
             "#e6f5d0"
            ],
            [
             0.7,
             "#b8e186"
            ],
            [
             0.8,
             "#7fbc41"
            ],
            [
             0.9,
             "#4d9221"
            ],
            [
             1,
             "#276419"
            ]
           ],
           "sequential": [
            [
             0,
             "#0d0887"
            ],
            [
             0.1111111111111111,
             "#46039f"
            ],
            [
             0.2222222222222222,
             "#7201a8"
            ],
            [
             0.3333333333333333,
             "#9c179e"
            ],
            [
             0.4444444444444444,
             "#bd3786"
            ],
            [
             0.5555555555555556,
             "#d8576b"
            ],
            [
             0.6666666666666666,
             "#ed7953"
            ],
            [
             0.7777777777777778,
             "#fb9f3a"
            ],
            [
             0.8888888888888888,
             "#fdca26"
            ],
            [
             1,
             "#f0f921"
            ]
           ],
           "sequentialminus": [
            [
             0,
             "#0d0887"
            ],
            [
             0.1111111111111111,
             "#46039f"
            ],
            [
             0.2222222222222222,
             "#7201a8"
            ],
            [
             0.3333333333333333,
             "#9c179e"
            ],
            [
             0.4444444444444444,
             "#bd3786"
            ],
            [
             0.5555555555555556,
             "#d8576b"
            ],
            [
             0.6666666666666666,
             "#ed7953"
            ],
            [
             0.7777777777777778,
             "#fb9f3a"
            ],
            [
             0.8888888888888888,
             "#fdca26"
            ],
            [
             1,
             "#f0f921"
            ]
           ]
          },
          "colorway": [
           "#636efa",
           "#EF553B",
           "#00cc96",
           "#ab63fa",
           "#FFA15A",
           "#19d3f3",
           "#FF6692",
           "#B6E880",
           "#FF97FF",
           "#FECB52"
          ],
          "font": {
           "color": "#2a3f5f"
          },
          "geo": {
           "bgcolor": "white",
           "lakecolor": "white",
           "landcolor": "#E5ECF6",
           "showlakes": true,
           "showland": true,
           "subunitcolor": "white"
          },
          "hoverlabel": {
           "align": "left"
          },
          "hovermode": "closest",
          "mapbox": {
           "style": "light"
          },
          "paper_bgcolor": "white",
          "plot_bgcolor": "#E5ECF6",
          "polar": {
           "angularaxis": {
            "gridcolor": "white",
            "linecolor": "white",
            "ticks": ""
           },
           "bgcolor": "#E5ECF6",
           "radialaxis": {
            "gridcolor": "white",
            "linecolor": "white",
            "ticks": ""
           }
          },
          "scene": {
           "xaxis": {
            "backgroundcolor": "#E5ECF6",
            "gridcolor": "white",
            "gridwidth": 2,
            "linecolor": "white",
            "showbackground": true,
            "ticks": "",
            "zerolinecolor": "white"
           },
           "yaxis": {
            "backgroundcolor": "#E5ECF6",
            "gridcolor": "white",
            "gridwidth": 2,
            "linecolor": "white",
            "showbackground": true,
            "ticks": "",
            "zerolinecolor": "white"
           },
           "zaxis": {
            "backgroundcolor": "#E5ECF6",
            "gridcolor": "white",
            "gridwidth": 2,
            "linecolor": "white",
            "showbackground": true,
            "ticks": "",
            "zerolinecolor": "white"
           }
          },
          "shapedefaults": {
           "line": {
            "color": "#2a3f5f"
           }
          },
          "ternary": {
           "aaxis": {
            "gridcolor": "white",
            "linecolor": "white",
            "ticks": ""
           },
           "baxis": {
            "gridcolor": "white",
            "linecolor": "white",
            "ticks": ""
           },
           "bgcolor": "#E5ECF6",
           "caxis": {
            "gridcolor": "white",
            "linecolor": "white",
            "ticks": ""
           }
          },
          "title": {
           "x": 0.05
          },
          "xaxis": {
           "automargin": true,
           "gridcolor": "white",
           "linecolor": "white",
           "ticks": "",
           "title": {
            "standoff": 15
           },
           "zerolinecolor": "white",
           "zerolinewidth": 2
          },
          "yaxis": {
           "automargin": true,
           "gridcolor": "white",
           "linecolor": "white",
           "ticks": "",
           "title": {
            "standoff": 15
           },
           "zerolinecolor": "white",
           "zerolinewidth": 2
          }
         }
        },
        "xaxis": {
         "anchor": "y",
         "domain": [
          0,
          1
         ],
         "title": {
          "text": "number"
         }
        },
        "yaxis": {
         "anchor": "x",
         "domain": [
          0,
          1
         ],
         "title": {
          "text": "stage"
         }
        }
       }
      },
      "text/html": [
       "<div>                            <div id=\"c73daa6a-3522-44cb-bff6-fb40d4d090b7\" class=\"plotly-graph-div\" style=\"height:525px; width:100%;\"></div>            <script type=\"text/javascript\">                require([\"plotly\"], function(Plotly) {                    window.PLOTLYENV=window.PLOTLYENV || {};                                    if (document.getElementById(\"c73daa6a-3522-44cb-bff6-fb40d4d090b7\")) {                    Plotly.newPlot(                        \"c73daa6a-3522-44cb-bff6-fb40d4d090b7\",                        [{\"hovertemplate\":\"number=%{x}<br>stage=%{y}<extra></extra>\",\"legendgroup\":\"\",\"marker\":{\"color\":\"#636efa\"},\"name\":\"\",\"orientation\":\"h\",\"showlegend\":false,\"x\":[7419,4593,3734,3539],\"xaxis\":\"x\",\"y\":[\"MainScreenAppear\",\"OffersScreenAppear\",\"CartScreenAppear\",\"PaymentScreenSuccessful\"],\"yaxis\":\"y\",\"type\":\"funnel\"}],                        {\"template\":{\"data\":{\"bar\":[{\"error_x\":{\"color\":\"#2a3f5f\"},\"error_y\":{\"color\":\"#2a3f5f\"},\"marker\":{\"line\":{\"color\":\"#E5ECF6\",\"width\":0.5},\"pattern\":{\"fillmode\":\"overlay\",\"size\":10,\"solidity\":0.2}},\"type\":\"bar\"}],\"barpolar\":[{\"marker\":{\"line\":{\"color\":\"#E5ECF6\",\"width\":0.5},\"pattern\":{\"fillmode\":\"overlay\",\"size\":10,\"solidity\":0.2}},\"type\":\"barpolar\"}],\"carpet\":[{\"aaxis\":{\"endlinecolor\":\"#2a3f5f\",\"gridcolor\":\"white\",\"linecolor\":\"white\",\"minorgridcolor\":\"white\",\"startlinecolor\":\"#2a3f5f\"},\"baxis\":{\"endlinecolor\":\"#2a3f5f\",\"gridcolor\":\"white\",\"linecolor\":\"white\",\"minorgridcolor\":\"white\",\"startlinecolor\":\"#2a3f5f\"},\"type\":\"carpet\"}],\"choropleth\":[{\"colorbar\":{\"outlinewidth\":0,\"ticks\":\"\"},\"type\":\"choropleth\"}],\"contour\":[{\"colorbar\":{\"outlinewidth\":0,\"ticks\":\"\"},\"colorscale\":[[0.0,\"#0d0887\"],[0.1111111111111111,\"#46039f\"],[0.2222222222222222,\"#7201a8\"],[0.3333333333333333,\"#9c179e\"],[0.4444444444444444,\"#bd3786\"],[0.5555555555555556,\"#d8576b\"],[0.6666666666666666,\"#ed7953\"],[0.7777777777777778,\"#fb9f3a\"],[0.8888888888888888,\"#fdca26\"],[1.0,\"#f0f921\"]],\"type\":\"contour\"}],\"contourcarpet\":[{\"colorbar\":{\"outlinewidth\":0,\"ticks\":\"\"},\"type\":\"contourcarpet\"}],\"heatmap\":[{\"colorbar\":{\"outlinewidth\":0,\"ticks\":\"\"},\"colorscale\":[[0.0,\"#0d0887\"],[0.1111111111111111,\"#46039f\"],[0.2222222222222222,\"#7201a8\"],[0.3333333333333333,\"#9c179e\"],[0.4444444444444444,\"#bd3786\"],[0.5555555555555556,\"#d8576b\"],[0.6666666666666666,\"#ed7953\"],[0.7777777777777778,\"#fb9f3a\"],[0.8888888888888888,\"#fdca26\"],[1.0,\"#f0f921\"]],\"type\":\"heatmap\"}],\"heatmapgl\":[{\"colorbar\":{\"outlinewidth\":0,\"ticks\":\"\"},\"colorscale\":[[0.0,\"#0d0887\"],[0.1111111111111111,\"#46039f\"],[0.2222222222222222,\"#7201a8\"],[0.3333333333333333,\"#9c179e\"],[0.4444444444444444,\"#bd3786\"],[0.5555555555555556,\"#d8576b\"],[0.6666666666666666,\"#ed7953\"],[0.7777777777777778,\"#fb9f3a\"],[0.8888888888888888,\"#fdca26\"],[1.0,\"#f0f921\"]],\"type\":\"heatmapgl\"}],\"histogram\":[{\"marker\":{\"pattern\":{\"fillmode\":\"overlay\",\"size\":10,\"solidity\":0.2}},\"type\":\"histogram\"}],\"histogram2d\":[{\"colorbar\":{\"outlinewidth\":0,\"ticks\":\"\"},\"colorscale\":[[0.0,\"#0d0887\"],[0.1111111111111111,\"#46039f\"],[0.2222222222222222,\"#7201a8\"],[0.3333333333333333,\"#9c179e\"],[0.4444444444444444,\"#bd3786\"],[0.5555555555555556,\"#d8576b\"],[0.6666666666666666,\"#ed7953\"],[0.7777777777777778,\"#fb9f3a\"],[0.8888888888888888,\"#fdca26\"],[1.0,\"#f0f921\"]],\"type\":\"histogram2d\"}],\"histogram2dcontour\":[{\"colorbar\":{\"outlinewidth\":0,\"ticks\":\"\"},\"colorscale\":[[0.0,\"#0d0887\"],[0.1111111111111111,\"#46039f\"],[0.2222222222222222,\"#7201a8\"],[0.3333333333333333,\"#9c179e\"],[0.4444444444444444,\"#bd3786\"],[0.5555555555555556,\"#d8576b\"],[0.6666666666666666,\"#ed7953\"],[0.7777777777777778,\"#fb9f3a\"],[0.8888888888888888,\"#fdca26\"],[1.0,\"#f0f921\"]],\"type\":\"histogram2dcontour\"}],\"mesh3d\":[{\"colorbar\":{\"outlinewidth\":0,\"ticks\":\"\"},\"type\":\"mesh3d\"}],\"parcoords\":[{\"line\":{\"colorbar\":{\"outlinewidth\":0,\"ticks\":\"\"}},\"type\":\"parcoords\"}],\"pie\":[{\"automargin\":true,\"type\":\"pie\"}],\"scatter\":[{\"marker\":{\"colorbar\":{\"outlinewidth\":0,\"ticks\":\"\"}},\"type\":\"scatter\"}],\"scatter3d\":[{\"line\":{\"colorbar\":{\"outlinewidth\":0,\"ticks\":\"\"}},\"marker\":{\"colorbar\":{\"outlinewidth\":0,\"ticks\":\"\"}},\"type\":\"scatter3d\"}],\"scattercarpet\":[{\"marker\":{\"colorbar\":{\"outlinewidth\":0,\"ticks\":\"\"}},\"type\":\"scattercarpet\"}],\"scattergeo\":[{\"marker\":{\"colorbar\":{\"outlinewidth\":0,\"ticks\":\"\"}},\"type\":\"scattergeo\"}],\"scattergl\":[{\"marker\":{\"colorbar\":{\"outlinewidth\":0,\"ticks\":\"\"}},\"type\":\"scattergl\"}],\"scattermapbox\":[{\"marker\":{\"colorbar\":{\"outlinewidth\":0,\"ticks\":\"\"}},\"type\":\"scattermapbox\"}],\"scatterpolar\":[{\"marker\":{\"colorbar\":{\"outlinewidth\":0,\"ticks\":\"\"}},\"type\":\"scatterpolar\"}],\"scatterpolargl\":[{\"marker\":{\"colorbar\":{\"outlinewidth\":0,\"ticks\":\"\"}},\"type\":\"scatterpolargl\"}],\"scatterternary\":[{\"marker\":{\"colorbar\":{\"outlinewidth\":0,\"ticks\":\"\"}},\"type\":\"scatterternary\"}],\"surface\":[{\"colorbar\":{\"outlinewidth\":0,\"ticks\":\"\"},\"colorscale\":[[0.0,\"#0d0887\"],[0.1111111111111111,\"#46039f\"],[0.2222222222222222,\"#7201a8\"],[0.3333333333333333,\"#9c179e\"],[0.4444444444444444,\"#bd3786\"],[0.5555555555555556,\"#d8576b\"],[0.6666666666666666,\"#ed7953\"],[0.7777777777777778,\"#fb9f3a\"],[0.8888888888888888,\"#fdca26\"],[1.0,\"#f0f921\"]],\"type\":\"surface\"}],\"table\":[{\"cells\":{\"fill\":{\"color\":\"#EBF0F8\"},\"line\":{\"color\":\"white\"}},\"header\":{\"fill\":{\"color\":\"#C8D4E3\"},\"line\":{\"color\":\"white\"}},\"type\":\"table\"}]},\"layout\":{\"annotationdefaults\":{\"arrowcolor\":\"#2a3f5f\",\"arrowhead\":0,\"arrowwidth\":1},\"autotypenumbers\":\"strict\",\"coloraxis\":{\"colorbar\":{\"outlinewidth\":0,\"ticks\":\"\"}},\"colorscale\":{\"diverging\":[[0,\"#8e0152\"],[0.1,\"#c51b7d\"],[0.2,\"#de77ae\"],[0.3,\"#f1b6da\"],[0.4,\"#fde0ef\"],[0.5,\"#f7f7f7\"],[0.6,\"#e6f5d0\"],[0.7,\"#b8e186\"],[0.8,\"#7fbc41\"],[0.9,\"#4d9221\"],[1,\"#276419\"]],\"sequential\":[[0.0,\"#0d0887\"],[0.1111111111111111,\"#46039f\"],[0.2222222222222222,\"#7201a8\"],[0.3333333333333333,\"#9c179e\"],[0.4444444444444444,\"#bd3786\"],[0.5555555555555556,\"#d8576b\"],[0.6666666666666666,\"#ed7953\"],[0.7777777777777778,\"#fb9f3a\"],[0.8888888888888888,\"#fdca26\"],[1.0,\"#f0f921\"]],\"sequentialminus\":[[0.0,\"#0d0887\"],[0.1111111111111111,\"#46039f\"],[0.2222222222222222,\"#7201a8\"],[0.3333333333333333,\"#9c179e\"],[0.4444444444444444,\"#bd3786\"],[0.5555555555555556,\"#d8576b\"],[0.6666666666666666,\"#ed7953\"],[0.7777777777777778,\"#fb9f3a\"],[0.8888888888888888,\"#fdca26\"],[1.0,\"#f0f921\"]]},\"colorway\":[\"#636efa\",\"#EF553B\",\"#00cc96\",\"#ab63fa\",\"#FFA15A\",\"#19d3f3\",\"#FF6692\",\"#B6E880\",\"#FF97FF\",\"#FECB52\"],\"font\":{\"color\":\"#2a3f5f\"},\"geo\":{\"bgcolor\":\"white\",\"lakecolor\":\"white\",\"landcolor\":\"#E5ECF6\",\"showlakes\":true,\"showland\":true,\"subunitcolor\":\"white\"},\"hoverlabel\":{\"align\":\"left\"},\"hovermode\":\"closest\",\"mapbox\":{\"style\":\"light\"},\"paper_bgcolor\":\"white\",\"plot_bgcolor\":\"#E5ECF6\",\"polar\":{\"angularaxis\":{\"gridcolor\":\"white\",\"linecolor\":\"white\",\"ticks\":\"\"},\"bgcolor\":\"#E5ECF6\",\"radialaxis\":{\"gridcolor\":\"white\",\"linecolor\":\"white\",\"ticks\":\"\"}},\"scene\":{\"xaxis\":{\"backgroundcolor\":\"#E5ECF6\",\"gridcolor\":\"white\",\"gridwidth\":2,\"linecolor\":\"white\",\"showbackground\":true,\"ticks\":\"\",\"zerolinecolor\":\"white\"},\"yaxis\":{\"backgroundcolor\":\"#E5ECF6\",\"gridcolor\":\"white\",\"gridwidth\":2,\"linecolor\":\"white\",\"showbackground\":true,\"ticks\":\"\",\"zerolinecolor\":\"white\"},\"zaxis\":{\"backgroundcolor\":\"#E5ECF6\",\"gridcolor\":\"white\",\"gridwidth\":2,\"linecolor\":\"white\",\"showbackground\":true,\"ticks\":\"\",\"zerolinecolor\":\"white\"}},\"shapedefaults\":{\"line\":{\"color\":\"#2a3f5f\"}},\"ternary\":{\"aaxis\":{\"gridcolor\":\"white\",\"linecolor\":\"white\",\"ticks\":\"\"},\"baxis\":{\"gridcolor\":\"white\",\"linecolor\":\"white\",\"ticks\":\"\"},\"bgcolor\":\"#E5ECF6\",\"caxis\":{\"gridcolor\":\"white\",\"linecolor\":\"white\",\"ticks\":\"\"}},\"title\":{\"x\":0.05},\"xaxis\":{\"automargin\":true,\"gridcolor\":\"white\",\"linecolor\":\"white\",\"ticks\":\"\",\"title\":{\"standoff\":15},\"zerolinecolor\":\"white\",\"zerolinewidth\":2},\"yaxis\":{\"automargin\":true,\"gridcolor\":\"white\",\"linecolor\":\"white\",\"ticks\":\"\",\"title\":{\"standoff\":15},\"zerolinecolor\":\"white\",\"zerolinewidth\":2}}},\"xaxis\":{\"anchor\":\"y\",\"domain\":[0.0,1.0],\"title\":{\"text\":\"number\"}},\"yaxis\":{\"anchor\":\"x\",\"domain\":[0.0,1.0],\"title\":{\"text\":\"stage\"}},\"legend\":{\"tracegroupgap\":0},\"margin\":{\"t\":60}},                        {\"responsive\": true}                    ).then(function(){\n",
       "                            \n",
       "var gd = document.getElementById('c73daa6a-3522-44cb-bff6-fb40d4d090b7');\n",
       "var x = new MutationObserver(function (mutations, observer) {{\n",
       "        var display = window.getComputedStyle(gd).display;\n",
       "        if (!display || display === 'none') {{\n",
       "            console.log([gd, 'removed!']);\n",
       "            Plotly.purge(gd);\n",
       "            observer.disconnect();\n",
       "        }}\n",
       "}});\n",
       "\n",
       "// Listen for the removal of the full notebook cells\n",
       "var notebookContainer = gd.closest('#notebook-container');\n",
       "if (notebookContainer) {{\n",
       "    x.observe(notebookContainer, {childList: true});\n",
       "}}\n",
       "\n",
       "// Listen for the clearing of the current output cell\n",
       "var outputEl = gd.closest('.output');\n",
       "if (outputEl) {{\n",
       "    x.observe(outputEl, {childList: true});\n",
       "}}\n",
       "\n",
       "                        })                };                });            </script>        </div>"
      ]
     },
     "metadata": {},
     "output_type": "display_data"
    }
   ],
   "source": [
    "fun = dict(\n",
    "    number=funnel['n_users'],\n",
    "    stage=funnel['event_name'])\n",
    "fig = px.funnel(fun, x='number', y='stage')\n",
    "fig.show()"
   ]
  },
  {
   "cell_type": "markdown",
   "metadata": {},
   "source": [
    "Мы визуализировали воронку, сразу же видно, что наибольшая доля пользователей теяктся на этапе \"главный экран\">>>\"экран предложений\", а доля успешно оплативших заказ почти совпадает с долей пользователей, которые зашли в корзину."
   ]
  },
  {
   "cell_type": "code",
   "execution_count": 52,
   "metadata": {},
   "outputs": [
    {
     "data": {
      "text/html": [
       "<div>\n",
       "<style scoped>\n",
       "    .dataframe tbody tr th:only-of-type {\n",
       "        vertical-align: middle;\n",
       "    }\n",
       "\n",
       "    .dataframe tbody tr th {\n",
       "        vertical-align: top;\n",
       "    }\n",
       "\n",
       "    .dataframe thead th {\n",
       "        text-align: right;\n",
       "    }\n",
       "</style>\n",
       "<table border=\"1\" class=\"dataframe\">\n",
       "  <thead>\n",
       "    <tr style=\"text-align: right;\">\n",
       "      <th></th>\n",
       "      <th>event_name</th>\n",
       "      <th>n_users</th>\n",
       "      <th>funnel_ratio</th>\n",
       "    </tr>\n",
       "  </thead>\n",
       "  <tbody>\n",
       "    <tr>\n",
       "      <th>0</th>\n",
       "      <td>MainScreenAppear</td>\n",
       "      <td>7419</td>\n",
       "      <td>100.00%</td>\n",
       "    </tr>\n",
       "    <tr>\n",
       "      <th>1</th>\n",
       "      <td>OffersScreenAppear</td>\n",
       "      <td>4593</td>\n",
       "      <td>61.91%</td>\n",
       "    </tr>\n",
       "    <tr>\n",
       "      <th>2</th>\n",
       "      <td>CartScreenAppear</td>\n",
       "      <td>3734</td>\n",
       "      <td>81.30%</td>\n",
       "    </tr>\n",
       "    <tr>\n",
       "      <th>3</th>\n",
       "      <td>PaymentScreenSuccessful</td>\n",
       "      <td>3539</td>\n",
       "      <td>94.78%</td>\n",
       "    </tr>\n",
       "  </tbody>\n",
       "</table>\n",
       "</div>"
      ],
      "text/plain": [
       "                event_name  n_users funnel_ratio\n",
       "0         MainScreenAppear     7419      100.00%\n",
       "1       OffersScreenAppear     4593       61.91%\n",
       "2         CartScreenAppear     3734       81.30%\n",
       "3  PaymentScreenSuccessful     3539       94.78%"
      ]
     },
     "execution_count": 52,
     "metadata": {},
     "output_type": "execute_result"
    }
   ],
   "source": [
    "funnel.loc[0, 'funnel_ratio'] = '{:.2%}'.format(logs.query('event_name == \"MainScreenAppear\"')['user_id'].nunique()/\\\n",
    "                                logs.query('event_name == \"MainScreenAppear\"')['user_id'].nunique())\n",
    "funnel.loc[1, 'funnel_ratio'] = '{:.2%}'.format(logs.query('event_name == \"OffersScreenAppear\"')['user_id'].nunique()/\\\n",
    "                                logs.query('event_name == \"MainScreenAppear\"')['user_id'].nunique())\n",
    "funnel.loc[2, 'funnel_ratio'] = '{:.2%}'.format(logs.query('event_name == \"CartScreenAppear\"')['user_id'].nunique()/\\\n",
    "                                logs.query('event_name == \"OffersScreenAppear\"')['user_id'].nunique())\n",
    "funnel.loc[3, 'funnel_ratio'] = '{:.2%}'.format(logs.query('event_name == \"PaymentScreenSuccessful\"')['user_id'].nunique()/\\\n",
    "                                logs.query('event_name == \"CartScreenAppear\"')['user_id'].nunique())\n",
    "funnel"
   ]
  },
  {
   "cell_type": "markdown",
   "metadata": {},
   "source": [
    "По таблице видно, что на шаге \"главный экран\">>>\"экран предложений\" теряется больше всего пользователей - 38%. И как было сказано ранее, почти все пользователи, зашедшие в корзину, оформляют покупку до конца - 95%. Доля пользователей, дошедших от первого события до оплаты, равна ~47%. Эти выводы подтверждаются ранее визуализированной воронкой."
   ]
  },
  {
   "cell_type": "markdown",
   "metadata": {},
   "source": [
    "### Промежуточный вывод по этапу изучения воронки событий\n",
    "\n",
    "События идут в следующем порядке: появление главного экрана, появление экрана с предложениями, появление экрана с корзиной и появление экрана об успешной оплате. Наибольшее количество пользоватлей теряется на этапе \"главный экран\">>>\"предложения\" - 38%. Доля пользователей, дошедших от первого события до оплаты, равна ~47%. Событие \"обучение\" не было учтено, так как оно не принадлежит исследуемой воронке."
   ]
  },
  {
   "cell_type": "markdown",
   "metadata": {},
   "source": [
    "## Изучение результатов А/А/В-эксперимента"
   ]
  },
  {
   "cell_type": "markdown",
   "metadata": {},
   "source": [
    "Посмотрим на количество пользователей в экспериментальных группах"
   ]
  },
  {
   "cell_type": "code",
   "execution_count": 53,
   "metadata": {},
   "outputs": [
    {
     "data": {
      "text/html": [
       "<div>\n",
       "<style scoped>\n",
       "    .dataframe tbody tr th:only-of-type {\n",
       "        vertical-align: middle;\n",
       "    }\n",
       "\n",
       "    .dataframe tbody tr th {\n",
       "        vertical-align: top;\n",
       "    }\n",
       "\n",
       "    .dataframe thead th {\n",
       "        text-align: right;\n",
       "    }\n",
       "</style>\n",
       "<table border=\"1\" class=\"dataframe\">\n",
       "  <thead>\n",
       "    <tr style=\"text-align: right;\">\n",
       "      <th></th>\n",
       "      <th>user_id</th>\n",
       "    </tr>\n",
       "    <tr>\n",
       "      <th>exp_id</th>\n",
       "      <th></th>\n",
       "    </tr>\n",
       "  </thead>\n",
       "  <tbody>\n",
       "    <tr>\n",
       "      <th>246</th>\n",
       "      <td>2484</td>\n",
       "    </tr>\n",
       "    <tr>\n",
       "      <th>247</th>\n",
       "      <td>2513</td>\n",
       "    </tr>\n",
       "    <tr>\n",
       "      <th>248</th>\n",
       "      <td>2537</td>\n",
       "    </tr>\n",
       "  </tbody>\n",
       "</table>\n",
       "</div>"
      ],
      "text/plain": [
       "        user_id\n",
       "exp_id         \n",
       "246        2484\n",
       "247        2513\n",
       "248        2537"
      ]
     },
     "execution_count": 53,
     "metadata": {},
     "output_type": "execute_result"
    }
   ],
   "source": [
    "logs.groupby('exp_id').agg({'user_id': 'nunique'})"
   ]
  },
  {
   "cell_type": "markdown",
   "metadata": {},
   "source": [
    "Как и говорилось ранее, пользователи равномерно распределены по группам: вся выборка была поделена на три равные части по ~2500 человек."
   ]
  },
  {
   "cell_type": "markdown",
   "metadata": {},
   "source": [
    "Есть 2 контрольные группы для А/А-эксперимента, которые нужны для проверки корректности всех механизмов и расчётов. Проверим, находят ли статистические критерии разницу между выборками 246 и 247. Для этого напишем функцию, которая будет проводить этот тест. Чтобы снизить вероятность ложнопозитивного результата при множественном тестировании гипотез, сделаем поправку Бонферрони: для групп 246 и 247 n=4, в остальных случаях n=12, где n равно количеству проверяемых гипотез. При сравнении контрольных групп нас интересуют только совпадения по событиям, то есть по 4 событиям идет равенство, а при сравнении с 248 группой нас интересует любой результат: больше, меньше или равно."
   ]
  },
  {
   "cell_type": "code",
   "execution_count": 54,
   "metadata": {},
   "outputs": [],
   "source": [
    "def test(group1, group2, event_name, alpha, n):\n",
    "\n",
    "    # критический уровень статистической значимости c поправкой Бонферрони\n",
    "    alpha = alpha / n\n",
    " \n",
    "    # число пользователей в группе 1 и группе 2:\n",
    "    n_users = np.array([group1['user_id'].nunique(), \n",
    "                        group2['user_id'].nunique()])\n",
    "\n",
    "    # число пользователей, совершивших событие в группе 1 и группе 2\n",
    "    success = np.array([group1[group1['event_name'] == event_name]['user_id'].nunique(), \n",
    "                        group2[group2['event_name'] == event_name]['user_id'].nunique()])\n",
    "\n",
    "    # пропорции успехов в группах:\n",
    "    p1 = success[0]/n_users[0]\n",
    "    p2 = success[1]/n_users[1]\n",
    "    \n",
    "    # пропорция успехов в комбинированном датасете:\n",
    "    p_combined = (success[0] + success[1]) / (n_users[0] + n_users[1])\n",
    "\n",
    "    # разница пропорций в датасетах\n",
    "    difference = p1 - p2 \n",
    "\n",
    "    # считаем статистику в ст.отклонениях стандартного нормального распределения\n",
    "    z_value = difference /  np.sqrt(p_combined * (1 - p_combined) * (1/n_users[0] + 1/n_users[1]))\n",
    "\n",
    "    # задаем стандартное нормальное распределение (среднее 0, ст.отклонение 1)\n",
    "    distr = st.norm(0, 1)  \n",
    "\n",
    "    p_value = (1 - distr.cdf(abs(z_value))) * 2   #тест двусторонний, удваиваем результат\n",
    "    \n",
    "    print('Событие:', event_name)\n",
    "    print('p-значение: ', p_value)\n",
    "\n",
    "    if p_value < alpha:\n",
    "        print('Отвергаем нулевую гипотезу: между долями есть разница')\n",
    "    else:\n",
    "        print(\n",
    "        'Не получилось отвергнуть нулевую гипотезу, нет оснований считать доли разными')"
   ]
  },
  {
   "cell_type": "markdown",
   "metadata": {},
   "source": [
    "Функция готова, можно приступать к проверке.\n",
    "\n",
    "- **Нулевая гипотеза:** доли посетителей на одном и том же этапе воронки в двух разных группах одинаковы\n",
    "- **Альтернативная гипотеза:** доли посетителей на одном и том же этапе воронки в двух разных группах разные"
   ]
  },
  {
   "cell_type": "code",
   "execution_count": 55,
   "metadata": {},
   "outputs": [
    {
     "name": "stdout",
     "output_type": "stream",
     "text": [
      "Событие: MainScreenAppear\n",
      "p-значение:  0.7570597232046099\n",
      "Не получилось отвергнуть нулевую гипотезу, нет оснований считать доли разными\n",
      "\n",
      "\n",
      "Событие: OffersScreenAppear\n",
      "p-значение:  0.2480954578522181\n",
      "Не получилось отвергнуть нулевую гипотезу, нет оснований считать доли разными\n",
      "\n",
      "\n",
      "Событие: CartScreenAppear\n",
      "p-значение:  0.22883372237997213\n",
      "Не получилось отвергнуть нулевую гипотезу, нет оснований считать доли разными\n",
      "\n",
      "\n",
      "Событие: PaymentScreenSuccessful\n",
      "p-значение:  0.11456679313141849\n",
      "Не получилось отвергнуть нулевую гипотезу, нет оснований считать доли разными\n",
      "\n",
      "\n"
     ]
    }
   ],
   "source": [
    "for event_name in funnel['event_name'].unique():\n",
    "    test(logs.query('exp_id == 246'), logs.query('exp_id == 247'), event_name, 0.05, 4)\n",
    "    print('\\n')"
   ]
  },
  {
   "cell_type": "markdown",
   "metadata": {},
   "source": [
    "Две контрольные группы 246 и 247 прошли проверку, можно приступать к А/В-тесту"
   ]
  },
  {
   "cell_type": "code",
   "execution_count": 56,
   "metadata": {},
   "outputs": [
    {
     "name": "stdout",
     "output_type": "stream",
     "text": [
      "Событие: MainScreenAppear\n",
      "p-значение:  0.2949721933554552\n",
      "Не получилось отвергнуть нулевую гипотезу, нет оснований считать доли разными\n",
      "\n",
      "\n",
      "Событие: OffersScreenAppear\n",
      "p-значение:  0.20836205402738917\n",
      "Не получилось отвергнуть нулевую гипотезу, нет оснований считать доли разными\n",
      "\n",
      "\n",
      "Событие: CartScreenAppear\n",
      "p-значение:  0.07842923237520116\n",
      "Не получилось отвергнуть нулевую гипотезу, нет оснований считать доли разными\n",
      "\n",
      "\n",
      "Событие: PaymentScreenSuccessful\n",
      "p-значение:  0.2122553275697796\n",
      "Не получилось отвергнуть нулевую гипотезу, нет оснований считать доли разными\n",
      "\n",
      "\n"
     ]
    }
   ],
   "source": [
    "for event_name in funnel['event_name'].unique():\n",
    "    test(logs.query('exp_id == 246'), logs.query('exp_id == 248'), event_name, 0.05, 12)\n",
    "    print('\\n')"
   ]
  },
  {
   "cell_type": "markdown",
   "metadata": {},
   "source": [
    "Между группами 246 и 248 нет статистически значимых различий."
   ]
  },
  {
   "cell_type": "code",
   "execution_count": 57,
   "metadata": {},
   "outputs": [
    {
     "name": "stdout",
     "output_type": "stream",
     "text": [
      "Событие: MainScreenAppear\n",
      "p-значение:  0.4587053616621515\n",
      "Не получилось отвергнуть нулевую гипотезу, нет оснований считать доли разными\n",
      "\n",
      "\n",
      "Событие: OffersScreenAppear\n",
      "p-значение:  0.9197817830592261\n",
      "Не получилось отвергнуть нулевую гипотезу, нет оснований считать доли разными\n",
      "\n",
      "\n",
      "Событие: CartScreenAppear\n",
      "p-значение:  0.5786197879539783\n",
      "Не получилось отвергнуть нулевую гипотезу, нет оснований считать доли разными\n",
      "\n",
      "\n",
      "Событие: PaymentScreenSuccessful\n",
      "p-значение:  0.7373415053803964\n",
      "Не получилось отвергнуть нулевую гипотезу, нет оснований считать доли разными\n",
      "\n",
      "\n"
     ]
    }
   ],
   "source": [
    "for event_name in funnel['event_name'].unique():\n",
    "    test(logs.query('exp_id == 247'), logs.query('exp_id == 248'), event_name, 0.05, 12)\n",
    "    print('\\n')"
   ]
  },
  {
   "cell_type": "markdown",
   "metadata": {},
   "source": [
    "Между группами 247 и 248 также нет различий."
   ]
  },
  {
   "cell_type": "code",
   "execution_count": 58,
   "metadata": {},
   "outputs": [
    {
     "name": "stdout",
     "output_type": "stream",
     "text": [
      "Событие: MainScreenAppear\n",
      "p-значение:  0.29424526837179577\n",
      "Не получилось отвергнуть нулевую гипотезу, нет оснований считать доли разными\n",
      "\n",
      "\n",
      "Событие: OffersScreenAppear\n",
      "p-значение:  0.43425549655188256\n",
      "Не получилось отвергнуть нулевую гипотезу, нет оснований считать доли разными\n",
      "\n",
      "\n",
      "Событие: CartScreenAppear\n",
      "p-значение:  0.18175875284404386\n",
      "Не получилось отвергнуть нулевую гипотезу, нет оснований считать доли разными\n",
      "\n",
      "\n",
      "Событие: PaymentScreenSuccessful\n",
      "p-значение:  0.6004294282308704\n",
      "Не получилось отвергнуть нулевую гипотезу, нет оснований считать доли разными\n",
      "\n",
      "\n"
     ]
    }
   ],
   "source": [
    "for event_name in funnel['event_name'].unique():\n",
    "    test(logs.query('exp_id != 248'), logs.query('exp_id == 248'), event_name, 0.05, 12)\n",
    "    print('\\n')"
   ]
  },
  {
   "cell_type": "markdown",
   "metadata": {},
   "source": [
    "Между объединенными группами 246 и 247 нет различий с группой 248."
   ]
  },
  {
   "cell_type": "markdown",
   "metadata": {},
   "source": [
    "### Промежуточный вывод по этапу изучения результатов А/А/В-эксперимента\n",
    "\n",
    "Для проверки групп на наличие статистически значимых различий была создана функция test(), которая принимала на вход две выборки, событие, уровень статистической значимости и поправку Бонферрони. Две контрольные группы прошли А/А-тест, значит можно было приступить к А/А/В-тесту. Никаких различий между группами выявлено не было - изменение шрифта никак не повлияло на поведение пользователей."
   ]
  },
  {
   "cell_type": "markdown",
   "metadata": {},
   "source": [
    "## Общий вывод"
   ]
  },
  {
   "cell_type": "markdown",
   "metadata": {},
   "source": [
    "В нашем распоряжении были данные стартапа, который продаёт продукты питания. Нужно было разобраться, как ведут себя пользователи этого мобильного приложения и узнать, как изменится поведение пользователй при изменении шрифта во всем приложении. Все цели исследования были достигнуты:\n",
    "\n",
    "- Изучины воронки продаж\n",
    "- Проведен анализ результатов A/A/B-эксперимента\n",
    "\n",
    "На этапе предобработки данных было выявлено 413 явных дупликатов, пропущенных значений в исходном датафреййме не было обнаружено, вместо изменения типа данных были добавлены новые столбцы с датой и временм события.\n",
    "\n",
    "За 2 недели наблюдения было выявлено 7551 уникальных пользователей. В среднем на одного пользователя приходится 32 события. С помощью гистограммы был определен актуальный период исследования: первая неделя августа 2019 года. После фильтрации по дате было потеряно всего лишь 17 пользователей и удалено 2826 логов событий. Такие измененеия не повлияли на равномерное распределение пользователей по экспериментальным группам.\n",
    "\n",
    "События идут в следующем порядке: появление главного экрана, появление экрана с предложениями, появление экрана с корзиной и появление экрана об успешной оплате. Наибольшее количество пользоватлей теряется на этапе \"главный экран\">>>\"предложения\" - 38%. Доля пользователей, дошедших от первого события до оплаты, равна ~47%. Событие \"обучение\" не было учтено, так как оно не принадлежит исследуемой воронке.\n",
    "\n",
    "Для проверки групп на наличие статистически значимых различий была создана функция test(), которая принимала на вход две выборки, событие, уровень статистической значимости и поправку Бонферрони. Две контрольные группы прошли А/А-тест, значит можно было приступить к А/А/В-тесту. Никаких различий между группами выявлено не было.\n",
    "\n",
    "**Вывод: изменение шрифта никак не повлияло на поведение пользователей.**"
   ]
  }
 ],
 "metadata": {
  "ExecuteTimeLog": [
   {
    "duration": 416,
    "start_time": "2023-07-11T16:31:23.672Z"
   },
   {
    "duration": 888,
    "start_time": "2023-07-11T16:31:52.737Z"
   },
   {
    "duration": 94,
    "start_time": "2023-07-11T16:32:04.306Z"
   },
   {
    "duration": 38,
    "start_time": "2023-07-11T16:32:11.677Z"
   },
   {
    "duration": 250,
    "start_time": "2023-07-11T16:32:29.365Z"
   },
   {
    "duration": 30,
    "start_time": "2023-07-11T16:32:31.148Z"
   },
   {
    "duration": 4,
    "start_time": "2023-07-11T16:34:11.123Z"
   },
   {
    "duration": 9,
    "start_time": "2023-07-11T16:34:18.087Z"
   },
   {
    "duration": 75,
    "start_time": "2023-07-11T16:34:37.672Z"
   },
   {
    "duration": 19,
    "start_time": "2023-07-11T16:37:29.890Z"
   },
   {
    "duration": 142,
    "start_time": "2023-07-11T16:43:27.841Z"
   },
   {
    "duration": 15,
    "start_time": "2023-07-11T16:43:31.893Z"
   },
   {
    "duration": 11,
    "start_time": "2023-07-11T16:46:19.150Z"
   },
   {
    "duration": 9,
    "start_time": "2023-07-11T16:47:30.690Z"
   },
   {
    "duration": 59,
    "start_time": "2023-07-11T17:05:40.684Z"
   },
   {
    "duration": 5,
    "start_time": "2023-07-11T17:06:04.066Z"
   },
   {
    "duration": 259,
    "start_time": "2023-07-11T17:06:04.074Z"
   },
   {
    "duration": 36,
    "start_time": "2023-07-11T17:06:04.336Z"
   },
   {
    "duration": 78,
    "start_time": "2023-07-11T17:06:04.375Z"
   },
   {
    "duration": 80,
    "start_time": "2023-07-11T17:06:04.456Z"
   },
   {
    "duration": 157,
    "start_time": "2023-07-11T17:06:04.538Z"
   },
   {
    "duration": 38,
    "start_time": "2023-07-11T17:06:04.697Z"
   },
   {
    "duration": 9,
    "start_time": "2023-07-11T17:06:14.440Z"
   },
   {
    "duration": 451,
    "start_time": "2023-07-12T15:39:25.438Z"
   },
   {
    "duration": 761,
    "start_time": "2023-07-12T15:39:25.891Z"
   },
   {
    "duration": 41,
    "start_time": "2023-07-12T15:39:26.655Z"
   },
   {
    "duration": 8,
    "start_time": "2023-07-12T15:39:26.699Z"
   },
   {
    "duration": 111,
    "start_time": "2023-07-12T15:39:26.709Z"
   },
   {
    "duration": 166,
    "start_time": "2023-07-12T15:39:26.821Z"
   },
   {
    "duration": 25,
    "start_time": "2023-07-12T15:39:26.989Z"
   },
   {
    "duration": 600,
    "start_time": "2023-07-12T15:39:44.822Z"
   },
   {
    "duration": 79,
    "start_time": "2023-07-12T15:40:54.230Z"
   },
   {
    "duration": 11,
    "start_time": "2023-07-12T15:42:54.938Z"
   },
   {
    "duration": 18,
    "start_time": "2023-07-12T15:42:59.577Z"
   },
   {
    "duration": 30,
    "start_time": "2023-07-12T15:46:10.146Z"
   },
   {
    "duration": 69,
    "start_time": "2023-07-12T15:46:14.517Z"
   },
   {
    "duration": 51,
    "start_time": "2023-07-12T15:47:24.279Z"
   },
   {
    "duration": 418,
    "start_time": "2023-07-12T15:47:27.861Z"
   },
   {
    "duration": 175,
    "start_time": "2023-07-12T15:47:28.281Z"
   },
   {
    "duration": 34,
    "start_time": "2023-07-12T15:47:28.458Z"
   },
   {
    "duration": 9,
    "start_time": "2023-07-12T15:47:28.494Z"
   },
   {
    "duration": 94,
    "start_time": "2023-07-12T15:47:28.504Z"
   },
   {
    "duration": 138,
    "start_time": "2023-07-12T15:47:28.600Z"
   },
   {
    "duration": 19,
    "start_time": "2023-07-12T15:47:28.740Z"
   },
   {
    "duration": 35,
    "start_time": "2023-07-12T15:47:28.761Z"
   },
   {
    "duration": 15,
    "start_time": "2023-07-12T15:50:06.978Z"
   },
   {
    "duration": 65,
    "start_time": "2023-07-12T15:50:27.228Z"
   },
   {
    "duration": 21,
    "start_time": "2023-07-12T15:50:52.144Z"
   },
   {
    "duration": 11,
    "start_time": "2023-07-12T15:51:40.895Z"
   },
   {
    "duration": 81,
    "start_time": "2023-07-12T15:51:56.540Z"
   },
   {
    "duration": 108,
    "start_time": "2023-07-12T15:52:45.007Z"
   },
   {
    "duration": 87,
    "start_time": "2023-07-12T15:52:50.734Z"
   },
   {
    "duration": 258,
    "start_time": "2023-07-12T15:54:13.639Z"
   },
   {
    "duration": 449,
    "start_time": "2023-07-12T15:54:28.524Z"
   },
   {
    "duration": 172,
    "start_time": "2023-07-12T15:54:28.975Z"
   },
   {
    "duration": 37,
    "start_time": "2023-07-12T15:54:29.149Z"
   },
   {
    "duration": 8,
    "start_time": "2023-07-12T15:54:29.187Z"
   },
   {
    "duration": 95,
    "start_time": "2023-07-12T15:54:29.198Z"
   },
   {
    "duration": 153,
    "start_time": "2023-07-12T15:54:29.295Z"
   },
   {
    "duration": 16,
    "start_time": "2023-07-12T15:54:29.454Z"
   },
   {
    "duration": 95,
    "start_time": "2023-07-12T15:54:29.472Z"
   },
   {
    "duration": 67,
    "start_time": "2023-07-12T15:54:29.569Z"
   },
   {
    "duration": 26,
    "start_time": "2023-07-12T15:55:31.306Z"
   },
   {
    "duration": 20,
    "start_time": "2023-07-12T15:57:47.880Z"
   },
   {
    "duration": 7,
    "start_time": "2023-07-12T15:59:28.438Z"
   },
   {
    "duration": 8,
    "start_time": "2023-07-12T15:59:45.962Z"
   },
   {
    "duration": 9,
    "start_time": "2023-07-12T16:01:25.324Z"
   },
   {
    "duration": 758,
    "start_time": "2023-07-12T16:01:48.570Z"
   },
   {
    "duration": 454,
    "start_time": "2023-07-12T16:02:14.491Z"
   },
   {
    "duration": 8,
    "start_time": "2023-07-12T16:02:40.627Z"
   },
   {
    "duration": 8,
    "start_time": "2023-07-12T16:02:44.986Z"
   },
   {
    "duration": 2,
    "start_time": "2023-07-12T16:03:19.927Z"
   },
   {
    "duration": 440,
    "start_time": "2023-07-12T16:03:23.707Z"
   },
   {
    "duration": 66,
    "start_time": "2023-07-12T16:03:38.189Z"
   },
   {
    "duration": 8,
    "start_time": "2023-07-12T16:04:00.829Z"
   },
   {
    "duration": 492,
    "start_time": "2023-07-12T16:04:07.635Z"
   },
   {
    "duration": 532,
    "start_time": "2023-07-12T16:04:22.659Z"
   },
   {
    "duration": 425,
    "start_time": "2023-07-12T16:04:28.670Z"
   },
   {
    "duration": 426,
    "start_time": "2023-07-12T16:04:34.630Z"
   },
   {
    "duration": 429,
    "start_time": "2023-07-12T16:04:39.854Z"
   },
   {
    "duration": 427,
    "start_time": "2023-07-12T16:04:48.586Z"
   },
   {
    "duration": 443,
    "start_time": "2023-07-12T16:05:03.778Z"
   },
   {
    "duration": 470,
    "start_time": "2023-07-12T16:05:26.592Z"
   },
   {
    "duration": 436,
    "start_time": "2023-07-12T16:05:34.210Z"
   },
   {
    "duration": 437,
    "start_time": "2023-07-12T16:05:52.808Z"
   },
   {
    "duration": 21,
    "start_time": "2023-07-12T16:07:05.025Z"
   },
   {
    "duration": 64,
    "start_time": "2023-07-12T16:49:40.161Z"
   },
   {
    "duration": 52,
    "start_time": "2023-07-12T16:49:44.988Z"
   },
   {
    "duration": 260,
    "start_time": "2023-07-12T16:50:42.959Z"
   },
   {
    "duration": 37,
    "start_time": "2023-07-12T16:51:05.269Z"
   },
   {
    "duration": 40,
    "start_time": "2023-07-12T16:55:30.199Z"
   },
   {
    "duration": 271,
    "start_time": "2023-07-12T16:55:37.938Z"
   },
   {
    "duration": 37,
    "start_time": "2023-07-12T16:55:47.197Z"
   },
   {
    "duration": 107,
    "start_time": "2023-07-12T16:56:14.550Z"
   },
   {
    "duration": 287,
    "start_time": "2023-07-12T16:56:48.907Z"
   },
   {
    "duration": 8,
    "start_time": "2023-07-12T17:57:11.188Z"
   },
   {
    "duration": 241,
    "start_time": "2023-07-12T17:57:15.003Z"
   },
   {
    "duration": 77,
    "start_time": "2023-07-12T17:57:22.611Z"
   },
   {
    "duration": 116,
    "start_time": "2023-07-12T17:57:54.687Z"
   },
   {
    "duration": 1057,
    "start_time": "2023-07-12T17:58:13.107Z"
   },
   {
    "duration": 1102,
    "start_time": "2023-07-12T17:58:57.720Z"
   },
   {
    "duration": 1085,
    "start_time": "2023-07-12T17:59:10.129Z"
   },
   {
    "duration": 716,
    "start_time": "2023-07-12T17:59:16.729Z"
   },
   {
    "duration": 174,
    "start_time": "2023-07-12T17:59:17.448Z"
   },
   {
    "duration": 45,
    "start_time": "2023-07-12T17:59:17.624Z"
   },
   {
    "duration": 8,
    "start_time": "2023-07-12T17:59:17.671Z"
   },
   {
    "duration": 89,
    "start_time": "2023-07-12T17:59:17.683Z"
   },
   {
    "duration": 152,
    "start_time": "2023-07-12T17:59:17.774Z"
   },
   {
    "duration": 30,
    "start_time": "2023-07-12T17:59:17.928Z"
   },
   {
    "duration": 116,
    "start_time": "2023-07-12T17:59:17.960Z"
   },
   {
    "duration": 10,
    "start_time": "2023-07-12T17:59:18.078Z"
   },
   {
    "duration": 21,
    "start_time": "2023-07-12T17:59:18.090Z"
   },
   {
    "duration": 50,
    "start_time": "2023-07-12T17:59:18.113Z"
   },
   {
    "duration": 9,
    "start_time": "2023-07-12T17:59:18.164Z"
   },
   {
    "duration": 542,
    "start_time": "2023-07-12T17:59:18.174Z"
   },
   {
    "duration": 351,
    "start_time": "2023-07-12T17:59:18.719Z"
   },
   {
    "duration": 75,
    "start_time": "2023-07-12T18:00:18.182Z"
   },
   {
    "duration": 10,
    "start_time": "2023-07-12T18:06:06.419Z"
   },
   {
    "duration": 74,
    "start_time": "2023-07-12T18:12:37.402Z"
   },
   {
    "duration": 12,
    "start_time": "2023-07-12T18:12:40.733Z"
   },
   {
    "duration": 3,
    "start_time": "2023-07-12T18:13:12.446Z"
   },
   {
    "duration": 43,
    "start_time": "2023-07-12T18:16:04.708Z"
   },
   {
    "duration": 72,
    "start_time": "2023-07-12T18:16:44.374Z"
   },
   {
    "duration": 69,
    "start_time": "2023-07-12T18:16:55.816Z"
   },
   {
    "duration": 4,
    "start_time": "2023-07-12T18:28:37.198Z"
   },
   {
    "duration": 74,
    "start_time": "2023-07-12T18:29:09.873Z"
   },
   {
    "duration": 15,
    "start_time": "2023-07-12T18:29:14.526Z"
   },
   {
    "duration": 43,
    "start_time": "2023-07-12T18:29:33.708Z"
   },
   {
    "duration": 35,
    "start_time": "2023-07-12T18:29:48.520Z"
   },
   {
    "duration": 14,
    "start_time": "2023-07-12T18:30:22.789Z"
   },
   {
    "duration": 50,
    "start_time": "2023-07-12T18:30:57.088Z"
   },
   {
    "duration": 44,
    "start_time": "2023-07-12T18:31:05.313Z"
   },
   {
    "duration": 31,
    "start_time": "2023-07-12T18:32:14.298Z"
   },
   {
    "duration": 34,
    "start_time": "2023-07-12T18:32:21.267Z"
   },
   {
    "duration": 29,
    "start_time": "2023-07-12T18:34:04.234Z"
   },
   {
    "duration": 19,
    "start_time": "2023-07-12T18:34:16.089Z"
   },
   {
    "duration": 24,
    "start_time": "2023-07-12T18:34:20.090Z"
   },
   {
    "duration": 32,
    "start_time": "2023-07-12T18:36:05.488Z"
   },
   {
    "duration": 57,
    "start_time": "2023-07-12T18:36:16.517Z"
   },
   {
    "duration": 84,
    "start_time": "2023-07-12T18:36:41.642Z"
   },
   {
    "duration": 58,
    "start_time": "2023-07-12T19:50:53.559Z"
   },
   {
    "duration": 83,
    "start_time": "2023-07-12T19:52:05.072Z"
   },
   {
    "duration": 75,
    "start_time": "2023-07-12T19:52:26.173Z"
   },
   {
    "duration": 73,
    "start_time": "2023-07-12T19:52:36.949Z"
   },
   {
    "duration": 68,
    "start_time": "2023-07-12T19:52:59.576Z"
   },
   {
    "duration": 57,
    "start_time": "2023-07-12T19:58:42.058Z"
   },
   {
    "duration": 32,
    "start_time": "2023-07-12T19:58:48.783Z"
   },
   {
    "duration": 34,
    "start_time": "2023-07-12T19:59:00.554Z"
   },
   {
    "duration": 81,
    "start_time": "2023-07-12T19:59:06.846Z"
   },
   {
    "duration": 61,
    "start_time": "2023-07-12T20:10:12.243Z"
   },
   {
    "duration": 60,
    "start_time": "2023-07-12T20:10:19.633Z"
   },
   {
    "duration": 59,
    "start_time": "2023-07-13T22:13:34.249Z"
   },
   {
    "duration": 803,
    "start_time": "2023-07-13T22:13:37.773Z"
   },
   {
    "duration": 527,
    "start_time": "2023-07-13T22:13:38.578Z"
   },
   {
    "duration": 30,
    "start_time": "2023-07-13T22:13:39.107Z"
   },
   {
    "duration": 15,
    "start_time": "2023-07-13T22:13:39.140Z"
   },
   {
    "duration": 84,
    "start_time": "2023-07-13T22:13:39.158Z"
   },
   {
    "duration": 131,
    "start_time": "2023-07-13T22:13:39.243Z"
   },
   {
    "duration": 15,
    "start_time": "2023-07-13T22:13:39.376Z"
   },
   {
    "duration": 109,
    "start_time": "2023-07-13T22:13:39.393Z"
   },
   {
    "duration": 8,
    "start_time": "2023-07-13T22:13:39.503Z"
   },
   {
    "duration": 50,
    "start_time": "2023-07-13T22:13:39.513Z"
   },
   {
    "duration": 34,
    "start_time": "2023-07-13T22:13:39.565Z"
   },
   {
    "duration": 8,
    "start_time": "2023-07-13T22:13:39.601Z"
   },
   {
    "duration": 524,
    "start_time": "2023-07-13T22:13:39.610Z"
   },
   {
    "duration": 276,
    "start_time": "2023-07-13T22:13:40.138Z"
   },
   {
    "duration": 27,
    "start_time": "2023-07-13T22:13:40.416Z"
   },
   {
    "duration": 7,
    "start_time": "2023-07-13T22:13:40.445Z"
   },
   {
    "duration": 52,
    "start_time": "2023-07-13T22:13:40.454Z"
   },
   {
    "duration": 39,
    "start_time": "2023-07-13T22:13:40.507Z"
   },
   {
    "duration": 105,
    "start_time": "2023-07-13T22:13:40.548Z"
   },
   {
    "duration": 72,
    "start_time": "2023-07-13T22:13:46.519Z"
   },
   {
    "duration": 55,
    "start_time": "2023-07-13T22:13:50.600Z"
   },
   {
    "duration": 53,
    "start_time": "2023-07-13T22:13:54.472Z"
   },
   {
    "duration": 57,
    "start_time": "2023-07-13T22:14:06.588Z"
   },
   {
    "duration": 55,
    "start_time": "2023-07-13T22:14:44.507Z"
   },
   {
    "duration": 63,
    "start_time": "2023-07-13T22:15:06.502Z"
   },
   {
    "duration": 52,
    "start_time": "2023-07-13T22:15:09.277Z"
   },
   {
    "duration": 53,
    "start_time": "2023-07-13T22:15:26.471Z"
   },
   {
    "duration": 920,
    "start_time": "2023-07-15T15:14:36.078Z"
   },
   {
    "duration": 1068,
    "start_time": "2023-07-15T15:14:37.001Z"
   },
   {
    "duration": 31,
    "start_time": "2023-07-15T15:14:38.071Z"
   },
   {
    "duration": 70,
    "start_time": "2023-07-15T15:14:38.103Z"
   },
   {
    "duration": 73,
    "start_time": "2023-07-15T15:14:38.176Z"
   },
   {
    "duration": 167,
    "start_time": "2023-07-15T15:14:38.251Z"
   },
   {
    "duration": 15,
    "start_time": "2023-07-15T15:14:38.420Z"
   },
   {
    "duration": 101,
    "start_time": "2023-07-15T15:14:38.436Z"
   },
   {
    "duration": 8,
    "start_time": "2023-07-15T15:14:38.539Z"
   },
   {
    "duration": 34,
    "start_time": "2023-07-15T15:14:38.549Z"
   },
   {
    "duration": 27,
    "start_time": "2023-07-15T15:14:38.585Z"
   },
   {
    "duration": 9,
    "start_time": "2023-07-15T15:14:38.614Z"
   },
   {
    "duration": 543,
    "start_time": "2023-07-15T15:14:38.625Z"
   },
   {
    "duration": 278,
    "start_time": "2023-07-15T15:14:39.171Z"
   },
   {
    "duration": 23,
    "start_time": "2023-07-15T15:14:39.451Z"
   },
   {
    "duration": 4,
    "start_time": "2023-07-15T15:14:39.476Z"
   },
   {
    "duration": 56,
    "start_time": "2023-07-15T15:14:39.482Z"
   },
   {
    "duration": 38,
    "start_time": "2023-07-15T15:14:39.541Z"
   },
   {
    "duration": 54,
    "start_time": "2023-07-15T15:14:39.581Z"
   },
   {
    "duration": 79,
    "start_time": "2023-07-15T15:20:27.885Z"
   },
   {
    "duration": 56,
    "start_time": "2023-07-15T15:20:38.449Z"
   },
   {
    "duration": 59,
    "start_time": "2023-07-15T15:20:46.720Z"
   },
   {
    "duration": 58,
    "start_time": "2023-07-15T15:22:27.696Z"
   },
   {
    "duration": 59,
    "start_time": "2023-07-15T15:22:30.394Z"
   },
   {
    "duration": 59,
    "start_time": "2023-07-15T15:22:43.563Z"
   },
   {
    "duration": 67,
    "start_time": "2023-07-15T15:23:19.792Z"
   },
   {
    "duration": 61,
    "start_time": "2023-07-15T15:23:30.949Z"
   },
   {
    "duration": 73,
    "start_time": "2023-07-15T15:24:11.008Z"
   },
   {
    "duration": 191,
    "start_time": "2023-07-15T15:24:25.356Z"
   },
   {
    "duration": 182,
    "start_time": "2023-07-15T15:24:41.362Z"
   },
   {
    "duration": 299,
    "start_time": "2023-07-15T15:25:12.676Z"
   },
   {
    "duration": 190,
    "start_time": "2023-07-15T15:25:25.387Z"
   },
   {
    "duration": 61,
    "start_time": "2023-07-15T15:26:03.419Z"
   },
   {
    "duration": 196,
    "start_time": "2023-07-15T15:26:09.393Z"
   },
   {
    "duration": 191,
    "start_time": "2023-07-15T15:26:40.033Z"
   },
   {
    "duration": 5,
    "start_time": "2023-07-15T15:28:53.040Z"
   },
   {
    "duration": 67,
    "start_time": "2023-07-15T15:28:59.042Z"
   },
   {
    "duration": 5,
    "start_time": "2023-07-15T15:29:28.314Z"
   },
   {
    "duration": 79,
    "start_time": "2023-07-15T15:29:44.942Z"
   },
   {
    "duration": 264,
    "start_time": "2023-07-15T15:29:56.913Z"
   },
   {
    "duration": 77,
    "start_time": "2023-07-15T15:30:12.864Z"
   },
   {
    "duration": 265,
    "start_time": "2023-07-15T15:30:18.909Z"
   },
   {
    "duration": 279,
    "start_time": "2023-07-15T15:30:38.888Z"
   },
   {
    "duration": 288,
    "start_time": "2023-07-15T15:30:49.994Z"
   },
   {
    "duration": 65,
    "start_time": "2023-07-15T15:32:02.971Z"
   },
   {
    "duration": 63,
    "start_time": "2023-07-15T15:32:20.129Z"
   },
   {
    "duration": 68,
    "start_time": "2023-07-15T15:32:53.265Z"
   },
   {
    "duration": 66,
    "start_time": "2023-07-15T15:44:18.196Z"
   },
   {
    "duration": 265,
    "start_time": "2023-07-15T15:44:21.290Z"
   },
   {
    "duration": 268,
    "start_time": "2023-07-15T15:49:37.742Z"
   },
   {
    "duration": 539,
    "start_time": "2023-07-15T15:49:43.276Z"
   },
   {
    "duration": 276,
    "start_time": "2023-07-15T15:50:20.952Z"
   },
   {
    "duration": 273,
    "start_time": "2023-07-15T15:50:27.689Z"
   },
   {
    "duration": 299,
    "start_time": "2023-07-15T15:50:32.505Z"
   },
   {
    "duration": 307,
    "start_time": "2023-07-15T15:52:39.661Z"
   },
   {
    "duration": 219,
    "start_time": "2023-07-15T15:57:37.826Z"
   },
   {
    "duration": 259,
    "start_time": "2023-07-15T16:00:13.825Z"
   },
   {
    "duration": 276,
    "start_time": "2023-07-15T16:01:08.755Z"
   },
   {
    "duration": 310,
    "start_time": "2023-07-15T16:01:34.346Z"
   },
   {
    "duration": 334,
    "start_time": "2023-07-15T16:01:42.339Z"
   },
   {
    "duration": 218,
    "start_time": "2023-07-15T16:08:15.692Z"
   },
   {
    "duration": 193,
    "start_time": "2023-07-15T16:08:46.519Z"
   },
   {
    "duration": 4,
    "start_time": "2023-07-15T17:18:17.432Z"
   },
   {
    "duration": 68,
    "start_time": "2023-07-15T17:18:34.296Z"
   },
   {
    "duration": 66,
    "start_time": "2023-07-15T17:22:07.366Z"
   },
   {
    "duration": 66,
    "start_time": "2023-07-15T17:22:21.536Z"
   },
   {
    "duration": 63,
    "start_time": "2023-07-15T17:22:25.229Z"
   },
   {
    "duration": 83,
    "start_time": "2023-07-15T17:24:59.766Z"
   },
   {
    "duration": 82,
    "start_time": "2023-07-15T17:25:08.197Z"
   },
   {
    "duration": 123,
    "start_time": "2023-07-15T17:25:11.137Z"
   },
   {
    "duration": 78,
    "start_time": "2023-07-15T17:25:15.101Z"
   },
   {
    "duration": 84,
    "start_time": "2023-07-15T17:25:25.492Z"
   },
   {
    "duration": 71,
    "start_time": "2023-07-15T17:25:30.566Z"
   },
   {
    "duration": 86,
    "start_time": "2023-07-15T17:25:35.995Z"
   },
   {
    "duration": 83,
    "start_time": "2023-07-15T17:26:55.277Z"
   },
   {
    "duration": 85,
    "start_time": "2023-07-15T17:27:02.541Z"
   },
   {
    "duration": 78,
    "start_time": "2023-07-15T17:27:23.387Z"
   },
   {
    "duration": 74,
    "start_time": "2023-07-15T17:31:17.040Z"
   },
   {
    "duration": 69,
    "start_time": "2023-07-15T18:11:24.652Z"
   },
   {
    "duration": 46,
    "start_time": "2023-07-16T06:36:36.528Z"
   },
   {
    "duration": 771,
    "start_time": "2023-07-16T06:36:42.974Z"
   },
   {
    "duration": 737,
    "start_time": "2023-07-16T06:36:43.747Z"
   },
   {
    "duration": 30,
    "start_time": "2023-07-16T06:36:44.485Z"
   },
   {
    "duration": 7,
    "start_time": "2023-07-16T06:36:44.517Z"
   },
   {
    "duration": 72,
    "start_time": "2023-07-16T06:36:44.526Z"
   },
   {
    "duration": 147,
    "start_time": "2023-07-16T06:36:44.600Z"
   },
   {
    "duration": 21,
    "start_time": "2023-07-16T06:36:44.749Z"
   },
   {
    "duration": 88,
    "start_time": "2023-07-16T06:36:44.772Z"
   },
   {
    "duration": 7,
    "start_time": "2023-07-16T06:36:44.862Z"
   },
   {
    "duration": 18,
    "start_time": "2023-07-16T06:36:44.871Z"
   },
   {
    "duration": 19,
    "start_time": "2023-07-16T06:36:44.891Z"
   },
   {
    "duration": 9,
    "start_time": "2023-07-16T06:36:44.912Z"
   },
   {
    "duration": 558,
    "start_time": "2023-07-16T06:36:44.923Z"
   },
   {
    "duration": 275,
    "start_time": "2023-07-16T06:36:45.484Z"
   },
   {
    "duration": 16,
    "start_time": "2023-07-16T06:36:45.761Z"
   },
   {
    "duration": 4,
    "start_time": "2023-07-16T06:36:45.778Z"
   },
   {
    "duration": 38,
    "start_time": "2023-07-16T06:36:45.784Z"
   },
   {
    "duration": 201,
    "start_time": "2023-07-16T06:36:45.823Z"
   },
   {
    "duration": 326,
    "start_time": "2023-07-16T06:36:46.026Z"
   },
   {
    "duration": 258,
    "start_time": "2023-07-16T06:36:46.358Z"
   },
   {
    "duration": 76,
    "start_time": "2023-07-16T06:36:46.618Z"
   },
   {
    "duration": 99,
    "start_time": "2023-07-16T06:46:43.141Z"
   },
   {
    "duration": 9,
    "start_time": "2023-07-16T06:48:22.985Z"
   },
   {
    "duration": 9,
    "start_time": "2023-07-16T06:48:56.707Z"
   },
   {
    "duration": 62,
    "start_time": "2023-07-16T06:51:47.525Z"
   },
   {
    "duration": 77,
    "start_time": "2023-07-16T06:53:30.860Z"
   },
   {
    "duration": 604,
    "start_time": "2023-07-16T06:53:42.885Z"
   },
   {
    "duration": 158,
    "start_time": "2023-07-16T06:53:43.492Z"
   },
   {
    "duration": 33,
    "start_time": "2023-07-16T06:53:43.651Z"
   },
   {
    "duration": 7,
    "start_time": "2023-07-16T06:53:43.686Z"
   },
   {
    "duration": 84,
    "start_time": "2023-07-16T06:53:43.696Z"
   },
   {
    "duration": 142,
    "start_time": "2023-07-16T06:53:43.782Z"
   },
   {
    "duration": 14,
    "start_time": "2023-07-16T06:53:43.926Z"
   },
   {
    "duration": 101,
    "start_time": "2023-07-16T06:53:43.942Z"
   },
   {
    "duration": 13,
    "start_time": "2023-07-16T06:53:44.048Z"
   },
   {
    "duration": 23,
    "start_time": "2023-07-16T06:53:44.063Z"
   },
   {
    "duration": 24,
    "start_time": "2023-07-16T06:53:44.088Z"
   },
   {
    "duration": 8,
    "start_time": "2023-07-16T06:53:44.114Z"
   },
   {
    "duration": 544,
    "start_time": "2023-07-16T06:53:44.124Z"
   },
   {
    "duration": 269,
    "start_time": "2023-07-16T06:53:44.671Z"
   },
   {
    "duration": 27,
    "start_time": "2023-07-16T06:53:44.941Z"
   },
   {
    "duration": 4,
    "start_time": "2023-07-16T06:53:44.970Z"
   },
   {
    "duration": 43,
    "start_time": "2023-07-16T06:53:44.975Z"
   },
   {
    "duration": 185,
    "start_time": "2023-07-16T06:53:45.020Z"
   },
   {
    "duration": 267,
    "start_time": "2023-07-16T06:53:45.207Z"
   },
   {
    "duration": 320,
    "start_time": "2023-07-16T06:53:45.476Z"
   },
   {
    "duration": 148,
    "start_time": "2023-07-16T06:53:45.798Z"
   },
   {
    "duration": 0,
    "start_time": "2023-07-16T06:53:45.948Z"
   },
   {
    "duration": 67,
    "start_time": "2023-07-16T06:53:51.447Z"
   },
   {
    "duration": 66,
    "start_time": "2023-07-16T06:55:27.714Z"
   },
   {
    "duration": 61,
    "start_time": "2023-07-16T06:55:33.492Z"
   },
   {
    "duration": 58,
    "start_time": "2023-07-16T06:55:50.868Z"
   },
   {
    "duration": 68,
    "start_time": "2023-07-16T06:56:23.451Z"
   },
   {
    "duration": 3,
    "start_time": "2023-07-16T06:58:15.573Z"
   },
   {
    "duration": 10,
    "start_time": "2023-07-16T06:58:19.057Z"
   },
   {
    "duration": 664,
    "start_time": "2023-07-16T06:58:29.245Z"
   },
   {
    "duration": 161,
    "start_time": "2023-07-16T06:58:29.912Z"
   },
   {
    "duration": 29,
    "start_time": "2023-07-16T06:58:30.075Z"
   },
   {
    "duration": 17,
    "start_time": "2023-07-16T06:58:30.106Z"
   },
   {
    "duration": 87,
    "start_time": "2023-07-16T06:58:30.125Z"
   },
   {
    "duration": 156,
    "start_time": "2023-07-16T06:58:30.214Z"
   },
   {
    "duration": 14,
    "start_time": "2023-07-16T06:58:30.372Z"
   },
   {
    "duration": 113,
    "start_time": "2023-07-16T06:58:30.388Z"
   },
   {
    "duration": 8,
    "start_time": "2023-07-16T06:58:30.503Z"
   },
   {
    "duration": 43,
    "start_time": "2023-07-16T06:58:30.513Z"
   },
   {
    "duration": 47,
    "start_time": "2023-07-16T06:58:30.557Z"
   },
   {
    "duration": 26,
    "start_time": "2023-07-16T06:58:30.606Z"
   },
   {
    "duration": 554,
    "start_time": "2023-07-16T06:58:30.634Z"
   },
   {
    "duration": 274,
    "start_time": "2023-07-16T06:58:31.190Z"
   },
   {
    "duration": 16,
    "start_time": "2023-07-16T06:58:31.465Z"
   },
   {
    "duration": 22,
    "start_time": "2023-07-16T06:58:31.483Z"
   },
   {
    "duration": 59,
    "start_time": "2023-07-16T06:58:31.506Z"
   },
   {
    "duration": 196,
    "start_time": "2023-07-16T06:58:31.567Z"
   },
   {
    "duration": 262,
    "start_time": "2023-07-16T06:58:31.765Z"
   },
   {
    "duration": 332,
    "start_time": "2023-07-16T06:58:32.029Z"
   },
   {
    "duration": 74,
    "start_time": "2023-07-16T06:58:32.362Z"
   },
   {
    "duration": 24,
    "start_time": "2023-07-16T06:58:32.437Z"
   },
   {
    "duration": 73,
    "start_time": "2023-07-16T06:58:56.861Z"
   },
   {
    "duration": 9,
    "start_time": "2023-07-16T06:59:00.209Z"
   },
   {
    "duration": 125,
    "start_time": "2023-07-16T07:00:13.210Z"
   },
   {
    "duration": 29,
    "start_time": "2023-07-16T07:01:17.444Z"
   },
   {
    "duration": 43,
    "start_time": "2023-07-16T07:01:41.667Z"
   },
   {
    "duration": 43,
    "start_time": "2023-07-16T07:02:04.968Z"
   },
   {
    "duration": 52,
    "start_time": "2023-07-16T07:02:08.870Z"
   },
   {
    "duration": 56,
    "start_time": "2023-07-16T07:03:00.004Z"
   },
   {
    "duration": 51,
    "start_time": "2023-07-16T07:03:18.130Z"
   },
   {
    "duration": 81,
    "start_time": "2023-07-16T07:04:23.225Z"
   },
   {
    "duration": 117,
    "start_time": "2023-07-16T07:04:49.785Z"
   },
   {
    "duration": 139,
    "start_time": "2023-07-16T07:05:51.548Z"
   },
   {
    "duration": 141,
    "start_time": "2023-07-16T07:05:55.062Z"
   },
   {
    "duration": 141,
    "start_time": "2023-07-16T07:06:05.919Z"
   },
   {
    "duration": 113,
    "start_time": "2023-07-16T07:06:18.179Z"
   },
   {
    "duration": 58,
    "start_time": "2023-07-16T07:07:29.102Z"
   },
   {
    "duration": 93,
    "start_time": "2023-07-16T07:09:26.585Z"
   },
   {
    "duration": 74,
    "start_time": "2023-07-16T07:11:00.726Z"
   },
   {
    "duration": 95,
    "start_time": "2023-07-16T07:11:03.117Z"
   },
   {
    "duration": 45,
    "start_time": "2023-07-16T07:11:21.175Z"
   },
   {
    "duration": 67,
    "start_time": "2023-07-16T07:11:44.225Z"
   },
   {
    "duration": 48,
    "start_time": "2023-07-16T07:11:48.077Z"
   },
   {
    "duration": 63,
    "start_time": "2023-07-16T07:11:58.653Z"
   },
   {
    "duration": 110,
    "start_time": "2023-07-16T07:12:03.972Z"
   },
   {
    "duration": 61,
    "start_time": "2023-07-16T07:13:01.120Z"
   },
   {
    "duration": 672,
    "start_time": "2023-07-16T07:13:14.043Z"
   },
   {
    "duration": 159,
    "start_time": "2023-07-16T07:13:14.718Z"
   },
   {
    "duration": 36,
    "start_time": "2023-07-16T07:13:14.879Z"
   },
   {
    "duration": 7,
    "start_time": "2023-07-16T07:13:14.917Z"
   },
   {
    "duration": 92,
    "start_time": "2023-07-16T07:13:14.926Z"
   },
   {
    "duration": 162,
    "start_time": "2023-07-16T07:13:15.021Z"
   },
   {
    "duration": 14,
    "start_time": "2023-07-16T07:13:15.185Z"
   },
   {
    "duration": 103,
    "start_time": "2023-07-16T07:13:15.201Z"
   },
   {
    "duration": 11,
    "start_time": "2023-07-16T07:13:15.307Z"
   },
   {
    "duration": 44,
    "start_time": "2023-07-16T07:13:15.320Z"
   },
   {
    "duration": 19,
    "start_time": "2023-07-16T07:13:15.365Z"
   },
   {
    "duration": 9,
    "start_time": "2023-07-16T07:13:15.386Z"
   },
   {
    "duration": 533,
    "start_time": "2023-07-16T07:13:15.396Z"
   },
   {
    "duration": 315,
    "start_time": "2023-07-16T07:13:15.932Z"
   },
   {
    "duration": 24,
    "start_time": "2023-07-16T07:13:16.249Z"
   },
   {
    "duration": 5,
    "start_time": "2023-07-16T07:13:16.274Z"
   },
   {
    "duration": 37,
    "start_time": "2023-07-16T07:13:16.281Z"
   },
   {
    "duration": 205,
    "start_time": "2023-07-16T07:13:16.319Z"
   },
   {
    "duration": 259,
    "start_time": "2023-07-16T07:13:16.526Z"
   },
   {
    "duration": 332,
    "start_time": "2023-07-16T07:13:16.787Z"
   },
   {
    "duration": 84,
    "start_time": "2023-07-16T07:13:17.121Z"
   },
   {
    "duration": 112,
    "start_time": "2023-07-16T07:13:17.206Z"
   },
   {
    "duration": 112,
    "start_time": "2023-07-16T07:16:09.909Z"
   },
   {
    "duration": 79,
    "start_time": "2023-07-16T07:16:17.132Z"
   },
   {
    "duration": 111,
    "start_time": "2023-07-16T07:16:25.477Z"
   },
   {
    "duration": 108,
    "start_time": "2023-07-16T07:16:30.519Z"
   },
   {
    "duration": 97,
    "start_time": "2023-07-16T07:19:23.196Z"
   },
   {
    "duration": 125,
    "start_time": "2023-07-16T07:19:33.781Z"
   },
   {
    "duration": 115,
    "start_time": "2023-07-16T07:19:40.270Z"
   },
   {
    "duration": 120,
    "start_time": "2023-07-16T07:19:46.005Z"
   },
   {
    "duration": 104,
    "start_time": "2023-07-16T07:19:48.956Z"
   },
   {
    "duration": 121,
    "start_time": "2023-07-16T07:19:59.998Z"
   },
   {
    "duration": 137,
    "start_time": "2023-07-16T07:20:05.804Z"
   },
   {
    "duration": 5,
    "start_time": "2023-07-16T07:20:22.599Z"
   },
   {
    "duration": 112,
    "start_time": "2023-07-16T07:20:35.793Z"
   },
   {
    "duration": 35,
    "start_time": "2023-07-16T07:21:43.157Z"
   },
   {
    "duration": 5,
    "start_time": "2023-07-16T07:23:39.935Z"
   },
   {
    "duration": 49,
    "start_time": "2023-07-16T07:25:46.258Z"
   },
   {
    "duration": 36,
    "start_time": "2023-07-16T07:26:08.409Z"
   },
   {
    "duration": 59,
    "start_time": "2023-07-16T07:26:15.159Z"
   },
   {
    "duration": 107,
    "start_time": "2023-07-16T08:45:31.188Z"
   },
   {
    "duration": 132,
    "start_time": "2023-07-16T08:45:47.394Z"
   },
   {
    "duration": 482,
    "start_time": "2023-07-16T09:11:48.788Z"
   },
   {
    "duration": 11,
    "start_time": "2023-07-16T09:13:44.090Z"
   },
   {
    "duration": 75,
    "start_time": "2023-07-16T09:17:26.620Z"
   },
   {
    "duration": 3,
    "start_time": "2023-07-16T09:17:39.041Z"
   },
   {
    "duration": 67,
    "start_time": "2023-07-16T09:17:43.950Z"
   },
   {
    "duration": 72,
    "start_time": "2023-07-16T09:18:02.413Z"
   },
   {
    "duration": 6,
    "start_time": "2023-07-16T09:18:12.492Z"
   },
   {
    "duration": 75,
    "start_time": "2023-07-16T09:18:14.154Z"
   },
   {
    "duration": 6,
    "start_time": "2023-07-16T09:18:20.406Z"
   },
   {
    "duration": 200,
    "start_time": "2023-07-16T09:18:21.774Z"
   },
   {
    "duration": 180,
    "start_time": "2023-07-16T09:20:08.887Z"
   },
   {
    "duration": 176,
    "start_time": "2023-07-16T09:20:16.291Z"
   },
   {
    "duration": 4,
    "start_time": "2023-07-16T09:20:57.934Z"
   },
   {
    "duration": 173,
    "start_time": "2023-07-16T09:20:57.940Z"
   },
   {
    "duration": 23,
    "start_time": "2023-07-16T09:20:58.115Z"
   },
   {
    "duration": 19,
    "start_time": "2023-07-16T09:20:58.141Z"
   },
   {
    "duration": 62,
    "start_time": "2023-07-16T09:20:58.164Z"
   },
   {
    "duration": 142,
    "start_time": "2023-07-16T09:20:58.228Z"
   },
   {
    "duration": 15,
    "start_time": "2023-07-16T09:20:58.371Z"
   },
   {
    "duration": 92,
    "start_time": "2023-07-16T09:20:58.387Z"
   },
   {
    "duration": 9,
    "start_time": "2023-07-16T09:20:58.481Z"
   },
   {
    "duration": 19,
    "start_time": "2023-07-16T09:20:58.491Z"
   },
   {
    "duration": 19,
    "start_time": "2023-07-16T09:20:58.512Z"
   },
   {
    "duration": 8,
    "start_time": "2023-07-16T09:20:58.558Z"
   },
   {
    "duration": 461,
    "start_time": "2023-07-16T09:20:58.568Z"
   },
   {
    "duration": 312,
    "start_time": "2023-07-16T09:20:59.033Z"
   },
   {
    "duration": 21,
    "start_time": "2023-07-16T09:20:59.347Z"
   },
   {
    "duration": 5,
    "start_time": "2023-07-16T09:20:59.370Z"
   },
   {
    "duration": 45,
    "start_time": "2023-07-16T09:20:59.376Z"
   },
   {
    "duration": 182,
    "start_time": "2023-07-16T09:20:59.422Z"
   },
   {
    "duration": 263,
    "start_time": "2023-07-16T09:20:59.606Z"
   },
   {
    "duration": 354,
    "start_time": "2023-07-16T09:20:59.871Z"
   },
   {
    "duration": 84,
    "start_time": "2023-07-16T09:21:00.227Z"
   },
   {
    "duration": 162,
    "start_time": "2023-07-16T09:21:00.313Z"
   },
   {
    "duration": 38,
    "start_time": "2023-07-16T09:21:00.477Z"
   },
   {
    "duration": 8,
    "start_time": "2023-07-16T09:21:00.517Z"
   },
   {
    "duration": 230,
    "start_time": "2023-07-16T09:21:00.527Z"
   },
   {
    "duration": 186,
    "start_time": "2023-07-16T09:21:00.758Z"
   },
   {
    "duration": 186,
    "start_time": "2023-07-16T09:21:00.945Z"
   },
   {
    "duration": 236,
    "start_time": "2023-07-16T09:21:01.133Z"
   },
   {
    "duration": 294,
    "start_time": "2023-07-16T09:39:31.416Z"
   },
   {
    "duration": 1180,
    "start_time": "2023-07-16T09:39:42.716Z"
   },
   {
    "duration": 180,
    "start_time": "2023-07-16T09:39:43.899Z"
   },
   {
    "duration": 42,
    "start_time": "2023-07-16T09:39:44.081Z"
   },
   {
    "duration": 10,
    "start_time": "2023-07-16T09:39:44.125Z"
   },
   {
    "duration": 118,
    "start_time": "2023-07-16T09:39:44.138Z"
   },
   {
    "duration": 183,
    "start_time": "2023-07-16T09:39:44.260Z"
   },
   {
    "duration": 21,
    "start_time": "2023-07-16T09:39:44.445Z"
   },
   {
    "duration": 101,
    "start_time": "2023-07-16T09:39:44.468Z"
   },
   {
    "duration": 11,
    "start_time": "2023-07-16T09:39:44.571Z"
   },
   {
    "duration": 19,
    "start_time": "2023-07-16T09:39:44.583Z"
   },
   {
    "duration": 21,
    "start_time": "2023-07-16T09:39:44.604Z"
   },
   {
    "duration": 39,
    "start_time": "2023-07-16T09:39:44.627Z"
   },
   {
    "duration": 552,
    "start_time": "2023-07-16T09:39:44.668Z"
   },
   {
    "duration": 303,
    "start_time": "2023-07-16T09:39:45.222Z"
   },
   {
    "duration": 15,
    "start_time": "2023-07-16T09:39:45.527Z"
   },
   {
    "duration": 6,
    "start_time": "2023-07-16T09:39:45.558Z"
   },
   {
    "duration": 43,
    "start_time": "2023-07-16T09:39:45.566Z"
   },
   {
    "duration": 200,
    "start_time": "2023-07-16T09:39:45.611Z"
   },
   {
    "duration": 280,
    "start_time": "2023-07-16T09:39:45.813Z"
   },
   {
    "duration": 282,
    "start_time": "2023-07-16T09:39:46.095Z"
   },
   {
    "duration": 86,
    "start_time": "2023-07-16T09:39:46.380Z"
   },
   {
    "duration": 163,
    "start_time": "2023-07-16T09:39:46.467Z"
   },
   {
    "duration": 48,
    "start_time": "2023-07-16T09:39:46.632Z"
   },
   {
    "duration": 6,
    "start_time": "2023-07-16T09:39:46.681Z"
   },
   {
    "duration": 203,
    "start_time": "2023-07-16T09:39:46.689Z"
   },
   {
    "duration": 203,
    "start_time": "2023-07-16T09:39:46.893Z"
   },
   {
    "duration": 199,
    "start_time": "2023-07-16T09:39:47.098Z"
   },
   {
    "duration": 247,
    "start_time": "2023-07-16T09:39:47.299Z"
   },
   {
    "duration": 22,
    "start_time": "2023-07-16T09:41:08.712Z"
   },
   {
    "duration": 20,
    "start_time": "2023-07-16T09:51:50.199Z"
   },
   {
    "duration": 107,
    "start_time": "2023-07-16T10:18:10.622Z"
   },
   {
    "duration": 113,
    "start_time": "2023-07-16T10:18:15.198Z"
   },
   {
    "duration": 20,
    "start_time": "2023-07-16T10:19:00.665Z"
   },
   {
    "duration": 66,
    "start_time": "2023-07-16T10:19:43.392Z"
   },
   {
    "duration": 7,
    "start_time": "2023-07-16T10:19:48.211Z"
   },
   {
    "duration": 22,
    "start_time": "2023-07-16T10:20:57.654Z"
   },
   {
    "duration": 6,
    "start_time": "2023-07-16T10:21:17.179Z"
   },
   {
    "duration": 46,
    "start_time": "2023-07-16T10:34:02.386Z"
   },
   {
    "duration": 212,
    "start_time": "2023-07-16T10:59:21.353Z"
   },
   {
    "duration": 16,
    "start_time": "2023-07-16T11:12:48.646Z"
   },
   {
    "duration": 293,
    "start_time": "2023-07-16T11:16:22.111Z"
   },
   {
    "duration": 380,
    "start_time": "2023-07-16T11:16:45.900Z"
   },
   {
    "duration": 193,
    "start_time": "2023-07-16T11:17:13.108Z"
   },
   {
    "duration": 250,
    "start_time": "2023-07-16T11:17:25.872Z"
   },
   {
    "duration": 272,
    "start_time": "2023-07-16T11:17:47.438Z"
   },
   {
    "duration": 312,
    "start_time": "2023-07-16T11:17:59.548Z"
   },
   {
    "duration": 268,
    "start_time": "2023-07-16T11:18:27.800Z"
   },
   {
    "duration": 276,
    "start_time": "2023-07-16T11:19:45.745Z"
   },
   {
    "duration": 279,
    "start_time": "2023-07-16T11:20:09.435Z"
   },
   {
    "duration": 268,
    "start_time": "2023-07-16T11:20:13.344Z"
   },
   {
    "duration": 275,
    "start_time": "2023-07-16T11:20:16.240Z"
   },
   {
    "duration": 92,
    "start_time": "2023-07-16T12:31:49.832Z"
   },
   {
    "duration": 99,
    "start_time": "2023-07-16T12:32:03.816Z"
   },
   {
    "duration": 204,
    "start_time": "2023-07-16T12:32:34.924Z"
   },
   {
    "duration": 229,
    "start_time": "2023-07-16T13:01:05.326Z"
   },
   {
    "duration": 320,
    "start_time": "2023-07-16T13:02:19.711Z"
   },
   {
    "duration": 10,
    "start_time": "2023-07-16T13:02:36.284Z"
   },
   {
    "duration": 1265,
    "start_time": "2023-07-16T13:09:40.438Z"
   },
   {
    "duration": 207,
    "start_time": "2023-07-16T13:09:41.705Z"
   },
   {
    "duration": 29,
    "start_time": "2023-07-16T13:09:41.915Z"
   },
   {
    "duration": 35,
    "start_time": "2023-07-16T13:09:41.946Z"
   },
   {
    "duration": 85,
    "start_time": "2023-07-16T13:09:41.984Z"
   },
   {
    "duration": 163,
    "start_time": "2023-07-16T13:09:42.077Z"
   },
   {
    "duration": 45,
    "start_time": "2023-07-16T13:09:42.242Z"
   },
   {
    "duration": 21,
    "start_time": "2023-07-16T13:09:42.289Z"
   },
   {
    "duration": 103,
    "start_time": "2023-07-16T13:09:42.312Z"
   },
   {
    "duration": 8,
    "start_time": "2023-07-16T13:09:42.417Z"
   },
   {
    "duration": 18,
    "start_time": "2023-07-16T13:09:42.427Z"
   },
   {
    "duration": 28,
    "start_time": "2023-07-16T13:09:42.447Z"
   },
   {
    "duration": 635,
    "start_time": "2023-07-16T13:09:42.477Z"
   },
   {
    "duration": 341,
    "start_time": "2023-07-16T13:09:43.115Z"
   },
   {
    "duration": 23,
    "start_time": "2023-07-16T13:09:43.458Z"
   },
   {
    "duration": 13,
    "start_time": "2023-07-16T13:09:43.484Z"
   },
   {
    "duration": 49,
    "start_time": "2023-07-16T13:09:43.499Z"
   },
   {
    "duration": 234,
    "start_time": "2023-07-16T13:09:43.549Z"
   },
   {
    "duration": 336,
    "start_time": "2023-07-16T13:09:43.786Z"
   },
   {
    "duration": 370,
    "start_time": "2023-07-16T13:09:44.124Z"
   },
   {
    "duration": 91,
    "start_time": "2023-07-16T13:09:44.500Z"
   },
   {
    "duration": 137,
    "start_time": "2023-07-16T13:09:44.593Z"
   },
   {
    "duration": 55,
    "start_time": "2023-07-16T13:09:44.732Z"
   },
   {
    "duration": 7,
    "start_time": "2023-07-16T13:09:44.789Z"
   },
   {
    "duration": 236,
    "start_time": "2023-07-16T13:09:44.797Z"
   },
   {
    "duration": 219,
    "start_time": "2023-07-16T13:09:45.035Z"
   },
   {
    "duration": 247,
    "start_time": "2023-07-16T13:09:45.263Z"
   },
   {
    "duration": 398,
    "start_time": "2023-07-16T13:09:45.513Z"
   },
   {
    "duration": 1188,
    "start_time": "2023-07-17T12:51:44.757Z"
   },
   {
    "duration": 500,
    "start_time": "2023-07-17T12:51:45.947Z"
   },
   {
    "duration": 26,
    "start_time": "2023-07-17T12:51:46.448Z"
   },
   {
    "duration": 6,
    "start_time": "2023-07-17T12:51:46.477Z"
   },
   {
    "duration": 71,
    "start_time": "2023-07-17T12:51:46.484Z"
   },
   {
    "duration": 110,
    "start_time": "2023-07-17T12:51:46.556Z"
   },
   {
    "duration": 16,
    "start_time": "2023-07-17T12:51:46.668Z"
   },
   {
    "duration": 22,
    "start_time": "2023-07-17T12:51:46.686Z"
   },
   {
    "duration": 67,
    "start_time": "2023-07-17T12:51:46.709Z"
   },
   {
    "duration": 21,
    "start_time": "2023-07-17T12:51:46.779Z"
   },
   {
    "duration": 17,
    "start_time": "2023-07-17T12:51:46.802Z"
   },
   {
    "duration": 18,
    "start_time": "2023-07-17T12:51:46.821Z"
   },
   {
    "duration": 509,
    "start_time": "2023-07-17T12:51:46.840Z"
   },
   {
    "duration": 256,
    "start_time": "2023-07-17T12:51:47.351Z"
   },
   {
    "duration": 11,
    "start_time": "2023-07-17T12:51:47.609Z"
   },
   {
    "duration": 9,
    "start_time": "2023-07-17T12:51:47.621Z"
   },
   {
    "duration": 45,
    "start_time": "2023-07-17T12:51:47.631Z"
   },
   {
    "duration": 192,
    "start_time": "2023-07-17T12:51:47.678Z"
   },
   {
    "duration": 251,
    "start_time": "2023-07-17T12:51:47.871Z"
   },
   {
    "duration": 251,
    "start_time": "2023-07-17T12:51:48.123Z"
   },
   {
    "duration": 75,
    "start_time": "2023-07-17T12:51:48.375Z"
   },
   {
    "duration": 126,
    "start_time": "2023-07-17T12:51:48.452Z"
   },
   {
    "duration": 38,
    "start_time": "2023-07-17T12:51:48.580Z"
   },
   {
    "duration": 6,
    "start_time": "2023-07-17T12:51:48.620Z"
   },
   {
    "duration": 153,
    "start_time": "2023-07-17T12:51:48.627Z"
   },
   {
    "duration": 156,
    "start_time": "2023-07-17T12:51:48.781Z"
   },
   {
    "duration": 161,
    "start_time": "2023-07-17T12:51:48.939Z"
   },
   {
    "duration": 205,
    "start_time": "2023-07-17T12:51:49.102Z"
   },
   {
    "duration": 246,
    "start_time": "2023-07-17T12:52:12.695Z"
   },
   {
    "duration": 247,
    "start_time": "2023-07-17T12:52:20.247Z"
   },
   {
    "duration": 263,
    "start_time": "2023-07-17T12:52:26.169Z"
   },
   {
    "duration": 233,
    "start_time": "2023-07-17T12:52:32.007Z"
   },
   {
    "duration": 1417,
    "start_time": "2023-07-17T16:17:32.696Z"
   },
   {
    "duration": 1113,
    "start_time": "2023-07-17T16:17:34.125Z"
   },
   {
    "duration": 32,
    "start_time": "2023-07-17T16:17:35.240Z"
   },
   {
    "duration": 8,
    "start_time": "2023-07-17T16:17:35.273Z"
   },
   {
    "duration": 105,
    "start_time": "2023-07-17T16:17:35.283Z"
   },
   {
    "duration": 146,
    "start_time": "2023-07-17T16:17:35.390Z"
   },
   {
    "duration": 27,
    "start_time": "2023-07-17T16:17:35.538Z"
   },
   {
    "duration": 37,
    "start_time": "2023-07-17T16:17:35.567Z"
   },
   {
    "duration": 135,
    "start_time": "2023-07-17T16:17:35.606Z"
   },
   {
    "duration": 6,
    "start_time": "2023-07-17T16:17:35.743Z"
   },
   {
    "duration": 102,
    "start_time": "2023-07-17T16:17:35.751Z"
   },
   {
    "duration": 73,
    "start_time": "2023-07-17T16:17:35.855Z"
   },
   {
    "duration": 627,
    "start_time": "2023-07-17T16:17:35.931Z"
   },
   {
    "duration": 289,
    "start_time": "2023-07-17T16:17:36.562Z"
   },
   {
    "duration": 14,
    "start_time": "2023-07-17T16:17:36.853Z"
   },
   {
    "duration": 9,
    "start_time": "2023-07-17T16:17:36.869Z"
   },
   {
    "duration": 67,
    "start_time": "2023-07-17T16:17:36.880Z"
   },
   {
    "duration": 230,
    "start_time": "2023-07-17T16:17:36.949Z"
   },
   {
    "duration": 280,
    "start_time": "2023-07-17T16:17:37.181Z"
   },
   {
    "duration": 289,
    "start_time": "2023-07-17T16:17:37.463Z"
   },
   {
    "duration": 90,
    "start_time": "2023-07-17T16:17:37.754Z"
   },
   {
    "duration": 144,
    "start_time": "2023-07-17T16:17:37.846Z"
   },
   {
    "duration": 46,
    "start_time": "2023-07-17T16:17:37.991Z"
   },
   {
    "duration": 6,
    "start_time": "2023-07-17T16:17:38.040Z"
   },
   {
    "duration": 201,
    "start_time": "2023-07-17T16:17:38.048Z"
   },
   {
    "duration": 193,
    "start_time": "2023-07-17T16:17:38.251Z"
   },
   {
    "duration": 191,
    "start_time": "2023-07-17T16:17:38.446Z"
   },
   {
    "duration": 247,
    "start_time": "2023-07-17T16:17:38.638Z"
   },
   {
    "duration": 322,
    "start_time": "2023-07-17T16:26:33.132Z"
   },
   {
    "duration": 350,
    "start_time": "2023-07-17T16:28:06.060Z"
   },
   {
    "duration": 415,
    "start_time": "2023-07-17T16:28:15.948Z"
   },
   {
    "duration": 361,
    "start_time": "2023-07-17T16:28:22.484Z"
   },
   {
    "duration": 7,
    "start_time": "2023-07-17T16:42:52.181Z"
   },
   {
    "duration": 8,
    "start_time": "2023-07-17T16:43:06.881Z"
   },
   {
    "duration": 232,
    "start_time": "2023-07-17T16:57:09.657Z"
   },
   {
    "duration": 43,
    "start_time": "2023-07-17T17:01:11.354Z"
   },
   {
    "duration": 1259,
    "start_time": "2023-07-17T17:29:50.004Z"
   },
   {
    "duration": 170,
    "start_time": "2023-07-17T17:29:51.265Z"
   },
   {
    "duration": 37,
    "start_time": "2023-07-17T17:29:51.437Z"
   },
   {
    "duration": 7,
    "start_time": "2023-07-17T17:29:51.476Z"
   },
   {
    "duration": 96,
    "start_time": "2023-07-17T17:29:51.485Z"
   },
   {
    "duration": 168,
    "start_time": "2023-07-17T17:29:51.583Z"
   },
   {
    "duration": 20,
    "start_time": "2023-07-17T17:29:51.753Z"
   },
   {
    "duration": 34,
    "start_time": "2023-07-17T17:29:51.775Z"
   },
   {
    "duration": 82,
    "start_time": "2023-07-17T17:29:51.826Z"
   },
   {
    "duration": 9,
    "start_time": "2023-07-17T17:29:51.917Z"
   },
   {
    "duration": 20,
    "start_time": "2023-07-17T17:29:51.928Z"
   },
   {
    "duration": 14,
    "start_time": "2023-07-17T17:29:51.951Z"
   },
   {
    "duration": 604,
    "start_time": "2023-07-17T17:29:51.967Z"
   },
   {
    "duration": 316,
    "start_time": "2023-07-17T17:29:52.573Z"
   },
   {
    "duration": 14,
    "start_time": "2023-07-17T17:29:52.891Z"
   },
   {
    "duration": 8,
    "start_time": "2023-07-17T17:29:52.907Z"
   },
   {
    "duration": 59,
    "start_time": "2023-07-17T17:29:52.917Z"
   },
   {
    "duration": 245,
    "start_time": "2023-07-17T17:29:52.978Z"
   },
   {
    "duration": 301,
    "start_time": "2023-07-17T17:29:53.225Z"
   },
   {
    "duration": 292,
    "start_time": "2023-07-17T17:29:53.527Z"
   },
   {
    "duration": 110,
    "start_time": "2023-07-17T17:29:53.821Z"
   },
   {
    "duration": 488,
    "start_time": "2023-07-17T17:29:53.934Z"
   },
   {
    "duration": 289,
    "start_time": "2023-07-17T17:29:54.425Z"
   },
   {
    "duration": 43,
    "start_time": "2023-07-17T17:29:54.716Z"
   },
   {
    "duration": 6,
    "start_time": "2023-07-17T17:29:54.761Z"
   },
   {
    "duration": 216,
    "start_time": "2023-07-17T17:29:54.769Z"
   },
   {
    "duration": 205,
    "start_time": "2023-07-17T17:29:54.987Z"
   },
   {
    "duration": 198,
    "start_time": "2023-07-17T17:29:55.196Z"
   },
   {
    "duration": 271,
    "start_time": "2023-07-17T17:29:55.396Z"
   },
   {
    "duration": 1361,
    "start_time": "2023-08-12T15:55:10.435Z"
   },
   {
    "duration": 717,
    "start_time": "2023-08-12T15:55:11.798Z"
   },
   {
    "duration": 34,
    "start_time": "2023-08-12T15:55:12.519Z"
   },
   {
    "duration": 8,
    "start_time": "2023-08-12T15:55:12.555Z"
   },
   {
    "duration": 98,
    "start_time": "2023-08-12T15:55:12.566Z"
   },
   {
    "duration": 173,
    "start_time": "2023-08-12T15:55:12.666Z"
   },
   {
    "duration": 19,
    "start_time": "2023-08-12T15:55:12.841Z"
   },
   {
    "duration": 30,
    "start_time": "2023-08-12T15:55:12.862Z"
   },
   {
    "duration": 140,
    "start_time": "2023-08-12T15:55:12.894Z"
   },
   {
    "duration": 9,
    "start_time": "2023-08-12T15:55:13.036Z"
   },
   {
    "duration": 70,
    "start_time": "2023-08-12T15:55:13.047Z"
   },
   {
    "duration": 36,
    "start_time": "2023-08-12T15:55:13.122Z"
   },
   {
    "duration": 639,
    "start_time": "2023-08-12T15:55:13.160Z"
   },
   {
    "duration": 326,
    "start_time": "2023-08-12T15:55:13.812Z"
   },
   {
    "duration": 15,
    "start_time": "2023-08-12T15:55:14.140Z"
   },
   {
    "duration": 24,
    "start_time": "2023-08-12T15:55:14.157Z"
   },
   {
    "duration": 88,
    "start_time": "2023-08-12T15:55:14.183Z"
   },
   {
    "duration": 226,
    "start_time": "2023-08-12T15:55:14.273Z"
   },
   {
    "duration": 299,
    "start_time": "2023-08-12T15:55:14.501Z"
   },
   {
    "duration": 297,
    "start_time": "2023-08-12T15:55:14.810Z"
   },
   {
    "duration": 87,
    "start_time": "2023-08-12T15:55:15.109Z"
   },
   {
    "duration": 556,
    "start_time": "2023-08-12T15:55:15.198Z"
   },
   {
    "duration": 280,
    "start_time": "2023-08-12T15:55:15.757Z"
   },
   {
    "duration": 47,
    "start_time": "2023-08-12T15:55:16.040Z"
   },
   {
    "duration": 29,
    "start_time": "2023-08-12T15:55:16.090Z"
   },
   {
    "duration": 276,
    "start_time": "2023-08-12T15:55:16.120Z"
   },
   {
    "duration": 241,
    "start_time": "2023-08-12T15:55:16.398Z"
   },
   {
    "duration": 227,
    "start_time": "2023-08-12T15:55:16.641Z"
   },
   {
    "duration": 274,
    "start_time": "2023-08-12T15:55:16.870Z"
   },
   {
    "duration": 1222,
    "start_time": "2023-09-08T12:44:17.955Z"
   },
   {
    "duration": 517,
    "start_time": "2023-09-08T12:44:19.178Z"
   },
   {
    "duration": 28,
    "start_time": "2023-09-08T12:44:19.697Z"
   },
   {
    "duration": 6,
    "start_time": "2023-09-08T12:44:19.726Z"
   },
   {
    "duration": 78,
    "start_time": "2023-09-08T12:44:19.734Z"
   },
   {
    "duration": 121,
    "start_time": "2023-09-08T12:44:19.814Z"
   },
   {
    "duration": 21,
    "start_time": "2023-09-08T12:44:19.936Z"
   },
   {
    "duration": 17,
    "start_time": "2023-09-08T12:44:19.958Z"
   },
   {
    "duration": 98,
    "start_time": "2023-09-08T12:44:19.977Z"
   },
   {
    "duration": 6,
    "start_time": "2023-09-08T12:44:20.077Z"
   },
   {
    "duration": 31,
    "start_time": "2023-09-08T12:44:20.084Z"
   },
   {
    "duration": 13,
    "start_time": "2023-09-08T12:44:20.116Z"
   },
   {
    "duration": 490,
    "start_time": "2023-09-08T12:44:20.130Z"
   },
   {
    "duration": 246,
    "start_time": "2023-09-08T12:44:20.623Z"
   },
   {
    "duration": 14,
    "start_time": "2023-09-08T12:44:20.871Z"
   },
   {
    "duration": 15,
    "start_time": "2023-09-08T12:44:20.886Z"
   },
   {
    "duration": 43,
    "start_time": "2023-09-08T12:44:20.902Z"
   },
   {
    "duration": 184,
    "start_time": "2023-09-08T12:44:20.949Z"
   },
   {
    "duration": 236,
    "start_time": "2023-09-08T12:44:21.134Z"
   },
   {
    "duration": 243,
    "start_time": "2023-09-08T12:44:21.371Z"
   },
   {
    "duration": 77,
    "start_time": "2023-09-08T12:44:21.615Z"
   },
   {
    "duration": 402,
    "start_time": "2023-09-08T12:44:21.693Z"
   },
   {
    "duration": 192,
    "start_time": "2023-09-08T12:44:22.096Z"
   },
   {
    "duration": 33,
    "start_time": "2023-09-08T12:44:22.289Z"
   },
   {
    "duration": 5,
    "start_time": "2023-09-08T12:44:22.324Z"
   },
   {
    "duration": 173,
    "start_time": "2023-09-08T12:44:22.330Z"
   },
   {
    "duration": 168,
    "start_time": "2023-09-08T12:44:22.504Z"
   },
   {
    "duration": 176,
    "start_time": "2023-09-08T12:44:22.673Z"
   },
   {
    "duration": 218,
    "start_time": "2023-09-08T12:44:22.851Z"
   },
   {
    "duration": 4,
    "start_time": "2023-09-08T13:22:39.990Z"
   },
   {
    "duration": 205,
    "start_time": "2023-09-08T13:22:39.995Z"
   },
   {
    "duration": 24,
    "start_time": "2023-09-08T13:22:40.201Z"
   },
   {
    "duration": 18,
    "start_time": "2023-09-08T13:22:40.226Z"
   },
   {
    "duration": 92,
    "start_time": "2023-09-08T13:22:40.250Z"
   },
   {
    "duration": 111,
    "start_time": "2023-09-08T13:22:40.344Z"
   },
   {
    "duration": 24,
    "start_time": "2023-09-08T13:22:40.457Z"
   },
   {
    "duration": 43,
    "start_time": "2023-09-08T13:22:40.483Z"
   },
   {
    "duration": 113,
    "start_time": "2023-09-08T13:22:40.527Z"
   },
   {
    "duration": 6,
    "start_time": "2023-09-08T13:22:40.641Z"
   },
   {
    "duration": 31,
    "start_time": "2023-09-08T13:22:40.648Z"
   },
   {
    "duration": 35,
    "start_time": "2023-09-08T13:22:40.680Z"
   },
   {
    "duration": 462,
    "start_time": "2023-09-08T13:22:40.717Z"
   },
   {
    "duration": 243,
    "start_time": "2023-09-08T13:22:41.181Z"
   },
   {
    "duration": 24,
    "start_time": "2023-09-08T13:22:41.426Z"
   },
   {
    "duration": 31,
    "start_time": "2023-09-08T13:22:41.452Z"
   },
   {
    "duration": 64,
    "start_time": "2023-09-08T13:22:41.485Z"
   },
   {
    "duration": 222,
    "start_time": "2023-09-08T13:22:41.551Z"
   },
   {
    "duration": 218,
    "start_time": "2023-09-08T13:22:41.774Z"
   },
   {
    "duration": 229,
    "start_time": "2023-09-08T13:22:41.993Z"
   },
   {
    "duration": 70,
    "start_time": "2023-09-08T13:22:42.224Z"
   },
   {
    "duration": 40,
    "start_time": "2023-09-08T13:22:42.295Z"
   },
   {
    "duration": 147,
    "start_time": "2023-09-08T13:22:42.349Z"
   },
   {
    "duration": 31,
    "start_time": "2023-09-08T13:22:42.497Z"
   },
   {
    "duration": 6,
    "start_time": "2023-09-08T13:22:42.529Z"
   },
   {
    "duration": 158,
    "start_time": "2023-09-08T13:22:42.536Z"
   },
   {
    "duration": 139,
    "start_time": "2023-09-08T13:22:42.695Z"
   },
   {
    "duration": 145,
    "start_time": "2023-09-08T13:22:42.836Z"
   },
   {
    "duration": 199,
    "start_time": "2023-09-08T13:22:42.983Z"
   }
  ],
  "kernelspec": {
   "display_name": "Python 3 (ipykernel)",
   "language": "python",
   "name": "python3"
  },
  "language_info": {
   "codemirror_mode": {
    "name": "ipython",
    "version": 3
   },
   "file_extension": ".py",
   "mimetype": "text/x-python",
   "name": "python",
   "nbconvert_exporter": "python",
   "pygments_lexer": "ipython3",
   "version": "3.9.5"
  },
  "toc": {
   "base_numbering": 1,
   "nav_menu": {},
   "number_sections": true,
   "sideBar": true,
   "skip_h1_title": true,
   "title_cell": "Table of Contents",
   "title_sidebar": "Contents",
   "toc_cell": false,
   "toc_position": {
    "height": "calc(100% - 180px)",
    "left": "10px",
    "top": "150px",
    "width": "371px"
   },
   "toc_section_display": true,
   "toc_window_display": true
  }
 },
 "nbformat": 4,
 "nbformat_minor": 2
}
