{
 "cells": [
  {
   "cell_type": "markdown",
   "metadata": {},
   "source": [
    "# Интернет-магазин «Стримчик»\n",
    "\n",
    "В нашем распоряжении данные об играх за последние 30 лет: название игры, платформа, жанр, год релиза, количество проданных копий в различных регионах, оценки пользователей и критиков, возрастной рейтинг.\n",
    "\n",
    "Нам нужно определить потенциально прибыльные игровые платформы, найти самые популярные жанры среди геймеров из разных регионов, проверить две гипотезы.\n",
    "\n",
    "**Цели исследования:** выявить определяющие успешность игры закономерности, проверить две гипотезы:\n",
    "\n",
    "- Средние пользовательские рейтинги платформ Xbox One и PC одинаковые\n",
    "- Пользовательские рейтинги жанров Action и Sports разные\n",
    "\n",
    "**Ход исследования:**\n",
    "\n",
    "1. Обзор данных\n",
    "2. Предобработка\n",
    "3. Исследовательский анализ\n",
    "4. Построение портрета пользователя каждого региона\n",
    "5. Проверка гипотез"
   ]
  },
  {
   "cell_type": "code",
   "execution_count": 1,
   "metadata": {},
   "outputs": [],
   "source": [
    "# Импортируем нужные нам библиотеки\n",
    "\n",
    "import numpy as np\n",
    "import pandas as pd\n",
    "import matplotlib.pyplot as plt\n",
    "from scipy import stats as st"
   ]
  },
  {
   "cell_type": "markdown",
   "metadata": {},
   "source": [
    "#### Загрузка данных"
   ]
  },
  {
   "cell_type": "code",
   "execution_count": 2,
   "metadata": {
    "scrolled": false
   },
   "outputs": [
    {
     "name": "stdout",
     "output_type": "stream",
     "text": [
      "<class 'pandas.core.frame.DataFrame'>\n",
      "RangeIndex: 16715 entries, 0 to 16714\n",
      "Data columns (total 11 columns):\n",
      " #   Column           Non-Null Count  Dtype  \n",
      "---  ------           --------------  -----  \n",
      " 0   Name             16713 non-null  object \n",
      " 1   Platform         16715 non-null  object \n",
      " 2   Year_of_Release  16446 non-null  float64\n",
      " 3   Genre            16713 non-null  object \n",
      " 4   NA_sales         16715 non-null  float64\n",
      " 5   EU_sales         16715 non-null  float64\n",
      " 6   JP_sales         16715 non-null  float64\n",
      " 7   Other_sales      16715 non-null  float64\n",
      " 8   Critic_Score     8137 non-null   float64\n",
      " 9   User_Score       10014 non-null  object \n",
      " 10  Rating           9949 non-null   object \n",
      "dtypes: float64(6), object(5)\n",
      "memory usage: 1.4+ MB\n"
     ]
    },
    {
     "data": {
      "text/html": [
       "<div>\n",
       "<style scoped>\n",
       "    .dataframe tbody tr th:only-of-type {\n",
       "        vertical-align: middle;\n",
       "    }\n",
       "\n",
       "    .dataframe tbody tr th {\n",
       "        vertical-align: top;\n",
       "    }\n",
       "\n",
       "    .dataframe thead th {\n",
       "        text-align: right;\n",
       "    }\n",
       "</style>\n",
       "<table border=\"1\" class=\"dataframe\">\n",
       "  <thead>\n",
       "    <tr style=\"text-align: right;\">\n",
       "      <th></th>\n",
       "      <th>Name</th>\n",
       "      <th>Platform</th>\n",
       "      <th>Year_of_Release</th>\n",
       "      <th>Genre</th>\n",
       "      <th>NA_sales</th>\n",
       "      <th>EU_sales</th>\n",
       "      <th>JP_sales</th>\n",
       "      <th>Other_sales</th>\n",
       "      <th>Critic_Score</th>\n",
       "      <th>User_Score</th>\n",
       "      <th>Rating</th>\n",
       "    </tr>\n",
       "  </thead>\n",
       "  <tbody>\n",
       "    <tr>\n",
       "      <th>0</th>\n",
       "      <td>Wii Sports</td>\n",
       "      <td>Wii</td>\n",
       "      <td>2006.0</td>\n",
       "      <td>Sports</td>\n",
       "      <td>41.36</td>\n",
       "      <td>28.96</td>\n",
       "      <td>3.77</td>\n",
       "      <td>8.45</td>\n",
       "      <td>76.0</td>\n",
       "      <td>8</td>\n",
       "      <td>E</td>\n",
       "    </tr>\n",
       "    <tr>\n",
       "      <th>1</th>\n",
       "      <td>Super Mario Bros.</td>\n",
       "      <td>NES</td>\n",
       "      <td>1985.0</td>\n",
       "      <td>Platform</td>\n",
       "      <td>29.08</td>\n",
       "      <td>3.58</td>\n",
       "      <td>6.81</td>\n",
       "      <td>0.77</td>\n",
       "      <td>NaN</td>\n",
       "      <td>NaN</td>\n",
       "      <td>NaN</td>\n",
       "    </tr>\n",
       "    <tr>\n",
       "      <th>2</th>\n",
       "      <td>Mario Kart Wii</td>\n",
       "      <td>Wii</td>\n",
       "      <td>2008.0</td>\n",
       "      <td>Racing</td>\n",
       "      <td>15.68</td>\n",
       "      <td>12.76</td>\n",
       "      <td>3.79</td>\n",
       "      <td>3.29</td>\n",
       "      <td>82.0</td>\n",
       "      <td>8.3</td>\n",
       "      <td>E</td>\n",
       "    </tr>\n",
       "    <tr>\n",
       "      <th>3</th>\n",
       "      <td>Wii Sports Resort</td>\n",
       "      <td>Wii</td>\n",
       "      <td>2009.0</td>\n",
       "      <td>Sports</td>\n",
       "      <td>15.61</td>\n",
       "      <td>10.93</td>\n",
       "      <td>3.28</td>\n",
       "      <td>2.95</td>\n",
       "      <td>80.0</td>\n",
       "      <td>8</td>\n",
       "      <td>E</td>\n",
       "    </tr>\n",
       "    <tr>\n",
       "      <th>4</th>\n",
       "      <td>Pokemon Red/Pokemon Blue</td>\n",
       "      <td>GB</td>\n",
       "      <td>1996.0</td>\n",
       "      <td>Role-Playing</td>\n",
       "      <td>11.27</td>\n",
       "      <td>8.89</td>\n",
       "      <td>10.22</td>\n",
       "      <td>1.00</td>\n",
       "      <td>NaN</td>\n",
       "      <td>NaN</td>\n",
       "      <td>NaN</td>\n",
       "    </tr>\n",
       "  </tbody>\n",
       "</table>\n",
       "</div>"
      ],
      "text/plain": [
       "                       Name Platform  Year_of_Release         Genre  NA_sales  \\\n",
       "0                Wii Sports      Wii           2006.0        Sports     41.36   \n",
       "1         Super Mario Bros.      NES           1985.0      Platform     29.08   \n",
       "2            Mario Kart Wii      Wii           2008.0        Racing     15.68   \n",
       "3         Wii Sports Resort      Wii           2009.0        Sports     15.61   \n",
       "4  Pokemon Red/Pokemon Blue       GB           1996.0  Role-Playing     11.27   \n",
       "\n",
       "   EU_sales  JP_sales  Other_sales  Critic_Score User_Score Rating  \n",
       "0     28.96      3.77         8.45          76.0          8      E  \n",
       "1      3.58      6.81         0.77           NaN        NaN    NaN  \n",
       "2     12.76      3.79         3.29          82.0        8.3      E  \n",
       "3     10.93      3.28         2.95          80.0          8      E  \n",
       "4      8.89     10.22         1.00           NaN        NaN    NaN  "
      ]
     },
     "execution_count": 2,
     "metadata": {},
     "output_type": "execute_result"
    }
   ],
   "source": [
    "data = pd.read_csv('/datasets/games.csv')\n",
    "\n",
    "# Выводим общую информацию\n",
    "\n",
    "data.info()\n",
    "data.head()"
   ]
  },
  {
   "cell_type": "markdown",
   "metadata": {},
   "source": [
    "##### Промежуточный вывод по этапу загрузки данных\n",
    "\n",
    "Всего в таблице 16715 строк, в глаза бросается огромное количество пропусков в столбцах с оценками критиков и пользователей и с возрастным рейтингом, названия столбцов не соответствуют общепринятым стандартам, нужно будет изменить их, также нужно будет поменять тип данных в столбце с годом релиза и оценкой пользователей."
   ]
  },
  {
   "cell_type": "markdown",
   "metadata": {},
   "source": [
    "#### Предобработка данных"
   ]
  },
  {
   "cell_type": "markdown",
   "metadata": {},
   "source": [
    "Для начала подправим названия столбцов:"
   ]
  },
  {
   "cell_type": "code",
   "execution_count": 3,
   "metadata": {},
   "outputs": [
    {
     "data": {
      "text/plain": [
       "Index(['name', 'platform', 'year_of_release', 'genre', 'na_sales', 'eu_sales',\n",
       "       'jp_sales', 'other_sales', 'critic_score', 'user_score', 'rating'],\n",
       "      dtype='object')"
      ]
     },
     "execution_count": 3,
     "metadata": {},
     "output_type": "execute_result"
    }
   ],
   "source": [
    "# Приводим названия столбцов к нижнему регистру\n",
    "\n",
    "data.columns = data.columns.str.lower()\n",
    "data.columns"
   ]
  },
  {
   "cell_type": "markdown",
   "metadata": {},
   "source": [
    "Проверим данные на наличие явных и неявных дубликатов:"
   ]
  },
  {
   "cell_type": "code",
   "execution_count": 4,
   "metadata": {},
   "outputs": [
    {
     "name": "stdout",
     "output_type": "stream",
     "text": [
      "Количество явных дубликатов: 0\n"
     ]
    },
    {
     "data": {
      "text/html": [
       "<div>\n",
       "<style scoped>\n",
       "    .dataframe tbody tr th:only-of-type {\n",
       "        vertical-align: middle;\n",
       "    }\n",
       "\n",
       "    .dataframe tbody tr th {\n",
       "        vertical-align: top;\n",
       "    }\n",
       "\n",
       "    .dataframe thead th {\n",
       "        text-align: right;\n",
       "    }\n",
       "</style>\n",
       "<table border=\"1\" class=\"dataframe\">\n",
       "  <thead>\n",
       "    <tr style=\"text-align: right;\">\n",
       "      <th></th>\n",
       "      <th>name</th>\n",
       "      <th>platform</th>\n",
       "      <th>year_of_release</th>\n",
       "      <th>genre</th>\n",
       "      <th>na_sales</th>\n",
       "      <th>eu_sales</th>\n",
       "      <th>jp_sales</th>\n",
       "      <th>other_sales</th>\n",
       "      <th>critic_score</th>\n",
       "      <th>user_score</th>\n",
       "      <th>rating</th>\n",
       "    </tr>\n",
       "  </thead>\n",
       "  <tbody>\n",
       "    <tr>\n",
       "      <th>14244</th>\n",
       "      <td>NaN</td>\n",
       "      <td>GEN</td>\n",
       "      <td>1993.0</td>\n",
       "      <td>NaN</td>\n",
       "      <td>0.0</td>\n",
       "      <td>0.00</td>\n",
       "      <td>0.03</td>\n",
       "      <td>0.0</td>\n",
       "      <td>NaN</td>\n",
       "      <td>NaN</td>\n",
       "      <td>NaN</td>\n",
       "    </tr>\n",
       "    <tr>\n",
       "      <th>16230</th>\n",
       "      <td>Madden NFL 13</td>\n",
       "      <td>PS3</td>\n",
       "      <td>2012.0</td>\n",
       "      <td>Sports</td>\n",
       "      <td>0.0</td>\n",
       "      <td>0.01</td>\n",
       "      <td>0.00</td>\n",
       "      <td>0.0</td>\n",
       "      <td>83.0</td>\n",
       "      <td>5.5</td>\n",
       "      <td>E</td>\n",
       "    </tr>\n",
       "  </tbody>\n",
       "</table>\n",
       "</div>"
      ],
      "text/plain": [
       "                name platform  year_of_release   genre  na_sales  eu_sales  \\\n",
       "14244            NaN      GEN           1993.0     NaN       0.0      0.00   \n",
       "16230  Madden NFL 13      PS3           2012.0  Sports       0.0      0.01   \n",
       "\n",
       "       jp_sales  other_sales  critic_score user_score rating  \n",
       "14244      0.03          0.0           NaN        NaN    NaN  \n",
       "16230      0.00          0.0          83.0        5.5      E  "
      ]
     },
     "execution_count": 4,
     "metadata": {},
     "output_type": "execute_result"
    }
   ],
   "source": [
    "print('Количество явных дубликатов:', data.duplicated().sum())\n",
    "\n",
    "data[data.loc[:, 'name':'year_of_release'].duplicated() == 1]"
   ]
  },
  {
   "cell_type": "markdown",
   "metadata": {},
   "source": [
    "Явных дубликатов не обнаружено, но есть 2 игры, продажи которых были посчитаны по 2 раза, так как название, платформа и год релиза у них одинаковые. Удалим эти строки:"
   ]
  },
  {
   "cell_type": "code",
   "execution_count": 5,
   "metadata": {},
   "outputs": [],
   "source": [
    "data = data.drop(labels=data[data.loc[:, 'name':'year_of_release'].duplicated() == 1].index.values.tolist(), axis=0)\n",
    "\n",
    "# data.shape[0]"
   ]
  },
  {
   "cell_type": "markdown",
   "metadata": {},
   "source": [
    "Изменим тип данных в столбце с годом релиза на целочисленный и с оценкой пользователей на вещественный"
   ]
  },
  {
   "cell_type": "code",
   "execution_count": 6,
   "metadata": {},
   "outputs": [
    {
     "data": {
      "text/html": [
       "<div>\n",
       "<style scoped>\n",
       "    .dataframe tbody tr th:only-of-type {\n",
       "        vertical-align: middle;\n",
       "    }\n",
       "\n",
       "    .dataframe tbody tr th {\n",
       "        vertical-align: top;\n",
       "    }\n",
       "\n",
       "    .dataframe thead th {\n",
       "        text-align: right;\n",
       "    }\n",
       "</style>\n",
       "<table border=\"1\" class=\"dataframe\">\n",
       "  <thead>\n",
       "    <tr style=\"text-align: right;\">\n",
       "      <th></th>\n",
       "      <th>name</th>\n",
       "      <th>platform</th>\n",
       "      <th>year_of_release</th>\n",
       "      <th>genre</th>\n",
       "      <th>na_sales</th>\n",
       "      <th>eu_sales</th>\n",
       "      <th>jp_sales</th>\n",
       "      <th>other_sales</th>\n",
       "      <th>critic_score</th>\n",
       "      <th>user_score</th>\n",
       "      <th>rating</th>\n",
       "    </tr>\n",
       "  </thead>\n",
       "  <tbody>\n",
       "    <tr>\n",
       "      <th>0</th>\n",
       "      <td>Wii Sports</td>\n",
       "      <td>Wii</td>\n",
       "      <td>2006</td>\n",
       "      <td>Sports</td>\n",
       "      <td>41.36</td>\n",
       "      <td>28.96</td>\n",
       "      <td>3.77</td>\n",
       "      <td>8.45</td>\n",
       "      <td>76.0</td>\n",
       "      <td>8.0</td>\n",
       "      <td>E</td>\n",
       "    </tr>\n",
       "    <tr>\n",
       "      <th>1</th>\n",
       "      <td>Super Mario Bros.</td>\n",
       "      <td>NES</td>\n",
       "      <td>1985</td>\n",
       "      <td>Platform</td>\n",
       "      <td>29.08</td>\n",
       "      <td>3.58</td>\n",
       "      <td>6.81</td>\n",
       "      <td>0.77</td>\n",
       "      <td>NaN</td>\n",
       "      <td>NaN</td>\n",
       "      <td>NaN</td>\n",
       "    </tr>\n",
       "    <tr>\n",
       "      <th>2</th>\n",
       "      <td>Mario Kart Wii</td>\n",
       "      <td>Wii</td>\n",
       "      <td>2008</td>\n",
       "      <td>Racing</td>\n",
       "      <td>15.68</td>\n",
       "      <td>12.76</td>\n",
       "      <td>3.79</td>\n",
       "      <td>3.29</td>\n",
       "      <td>82.0</td>\n",
       "      <td>8.3</td>\n",
       "      <td>E</td>\n",
       "    </tr>\n",
       "    <tr>\n",
       "      <th>3</th>\n",
       "      <td>Wii Sports Resort</td>\n",
       "      <td>Wii</td>\n",
       "      <td>2009</td>\n",
       "      <td>Sports</td>\n",
       "      <td>15.61</td>\n",
       "      <td>10.93</td>\n",
       "      <td>3.28</td>\n",
       "      <td>2.95</td>\n",
       "      <td>80.0</td>\n",
       "      <td>8.0</td>\n",
       "      <td>E</td>\n",
       "    </tr>\n",
       "    <tr>\n",
       "      <th>4</th>\n",
       "      <td>Pokemon Red/Pokemon Blue</td>\n",
       "      <td>GB</td>\n",
       "      <td>1996</td>\n",
       "      <td>Role-Playing</td>\n",
       "      <td>11.27</td>\n",
       "      <td>8.89</td>\n",
       "      <td>10.22</td>\n",
       "      <td>1.00</td>\n",
       "      <td>NaN</td>\n",
       "      <td>NaN</td>\n",
       "      <td>NaN</td>\n",
       "    </tr>\n",
       "  </tbody>\n",
       "</table>\n",
       "</div>"
      ],
      "text/plain": [
       "                       name platform year_of_release         genre  na_sales  \\\n",
       "0                Wii Sports      Wii            2006        Sports     41.36   \n",
       "1         Super Mario Bros.      NES            1985      Platform     29.08   \n",
       "2            Mario Kart Wii      Wii            2008        Racing     15.68   \n",
       "3         Wii Sports Resort      Wii            2009        Sports     15.61   \n",
       "4  Pokemon Red/Pokemon Blue       GB            1996  Role-Playing     11.27   \n",
       "\n",
       "   eu_sales  jp_sales  other_sales  critic_score user_score rating  \n",
       "0     28.96      3.77         8.45          76.0        8.0      E  \n",
       "1      3.58      6.81         0.77           NaN        NaN    NaN  \n",
       "2     12.76      3.79         3.29          82.0        8.3      E  \n",
       "3     10.93      3.28         2.95          80.0        8.0      E  \n",
       "4      8.89     10.22         1.00           NaN        NaN    NaN  "
      ]
     },
     "execution_count": 6,
     "metadata": {},
     "output_type": "execute_result"
    }
   ],
   "source": [
    "# Создаем список индексов, где в строках нет пропусков и значения 'tbd', затем с помощью индексации \n",
    "# изменяем тип данных\n",
    "\n",
    "score = data.query('user_score != \"tbd\" and user_score.isna() == 0').index.values.tolist()\n",
    "data.loc[score, 'user_score'] = data.loc[score, 'user_score'].astype(float)\n",
    "\n",
    "year = data.query('year_of_release.isna() == 0').index.values.tolist()\n",
    "data.loc[year, 'year_of_release'] = data.loc[year, 'year_of_release'].astype(str)\n",
    "data.loc[year, 'year_of_release'] = data.loc[year, 'year_of_release'].astype(float)\n",
    "data.loc[year, 'year_of_release'] = data.loc[year, 'year_of_release'].astype(int)\n",
    "\n",
    "data.head()"
   ]
  },
  {
   "cell_type": "markdown",
   "metadata": {},
   "source": [
    "Теперь посмотрим общее количество пропусков:"
   ]
  },
  {
   "cell_type": "code",
   "execution_count": 7,
   "metadata": {},
   "outputs": [
    {
     "data": {
      "text/plain": [
       "name                  1\n",
       "platform              0\n",
       "year_of_release     269\n",
       "genre                 1\n",
       "na_sales              0\n",
       "eu_sales              0\n",
       "jp_sales              0\n",
       "other_sales           0\n",
       "critic_score       8577\n",
       "user_score         6700\n",
       "rating             6765\n",
       "dtype: int64"
      ]
     },
     "execution_count": 7,
     "metadata": {},
     "output_type": "execute_result"
    }
   ],
   "source": [
    "# Смотрим количесвто пропусков в каждом столбце\n",
    "\n",
    "data.isna().sum()"
   ]
  },
  {
   "cell_type": "markdown",
   "metadata": {},
   "source": [
    "По 1 пропущенному значению в столбце с жанром и названием игры, 269 пропусков в столбце с годом релиза, огромное количество пропусков в столбцах с оценкой критиков и пользователей и возрастным рейтингом. Пропуски в  этих трех столбцах оставим как есть, так как они занимают почти половину своих столбцов и их заполнение синтетическими данными приведет к сильному искажению реальной картины. Заполнить пропуски в  столбце с годом релиза не предоставляется возможным. Посмотрим что из себя представляет строка без названия игры:"
   ]
  },
  {
   "cell_type": "code",
   "execution_count": 8,
   "metadata": {},
   "outputs": [
    {
     "data": {
      "text/html": [
       "<div>\n",
       "<style scoped>\n",
       "    .dataframe tbody tr th:only-of-type {\n",
       "        vertical-align: middle;\n",
       "    }\n",
       "\n",
       "    .dataframe tbody tr th {\n",
       "        vertical-align: top;\n",
       "    }\n",
       "\n",
       "    .dataframe thead th {\n",
       "        text-align: right;\n",
       "    }\n",
       "</style>\n",
       "<table border=\"1\" class=\"dataframe\">\n",
       "  <thead>\n",
       "    <tr style=\"text-align: right;\">\n",
       "      <th></th>\n",
       "      <th>name</th>\n",
       "      <th>platform</th>\n",
       "      <th>year_of_release</th>\n",
       "      <th>genre</th>\n",
       "      <th>na_sales</th>\n",
       "      <th>eu_sales</th>\n",
       "      <th>jp_sales</th>\n",
       "      <th>other_sales</th>\n",
       "      <th>critic_score</th>\n",
       "      <th>user_score</th>\n",
       "      <th>rating</th>\n",
       "    </tr>\n",
       "  </thead>\n",
       "  <tbody>\n",
       "    <tr>\n",
       "      <th>659</th>\n",
       "      <td>NaN</td>\n",
       "      <td>GEN</td>\n",
       "      <td>1993</td>\n",
       "      <td>NaN</td>\n",
       "      <td>1.78</td>\n",
       "      <td>0.53</td>\n",
       "      <td>0.0</td>\n",
       "      <td>0.08</td>\n",
       "      <td>NaN</td>\n",
       "      <td>NaN</td>\n",
       "      <td>NaN</td>\n",
       "    </tr>\n",
       "  </tbody>\n",
       "</table>\n",
       "</div>"
      ],
      "text/plain": [
       "    name platform year_of_release genre  na_sales  eu_sales  jp_sales  \\\n",
       "659  NaN      GEN            1993   NaN      1.78      0.53       0.0   \n",
       "\n",
       "     other_sales  critic_score user_score rating  \n",
       "659         0.08           NaN        NaN    NaN  "
      ]
     },
     "execution_count": 8,
     "metadata": {},
     "output_type": "execute_result"
    }
   ],
   "source": [
    "data.query('name.isna() == 1')"
   ]
  },
  {
   "cell_type": "markdown",
   "metadata": {},
   "source": [
    "В этой строке пропущены оценки, рейтинги, год релиза и название игры, удалим эту строку"
   ]
  },
  {
   "cell_type": "code",
   "execution_count": 9,
   "metadata": {},
   "outputs": [],
   "source": [
    "data = data.query('name.isna() == 0')\n",
    "\n",
    "# data.shape[0]"
   ]
  },
  {
   "cell_type": "markdown",
   "metadata": {},
   "source": [
    "Посмотрим на пропуски в столбце с годом релиза:"
   ]
  },
  {
   "cell_type": "code",
   "execution_count": 10,
   "metadata": {
    "scrolled": false
   },
   "outputs": [
    {
     "data": {
      "text/html": [
       "<div>\n",
       "<style scoped>\n",
       "    .dataframe tbody tr th:only-of-type {\n",
       "        vertical-align: middle;\n",
       "    }\n",
       "\n",
       "    .dataframe tbody tr th {\n",
       "        vertical-align: top;\n",
       "    }\n",
       "\n",
       "    .dataframe thead th {\n",
       "        text-align: right;\n",
       "    }\n",
       "</style>\n",
       "<table border=\"1\" class=\"dataframe\">\n",
       "  <thead>\n",
       "    <tr style=\"text-align: right;\">\n",
       "      <th></th>\n",
       "      <th>name</th>\n",
       "      <th>platform</th>\n",
       "      <th>year_of_release</th>\n",
       "      <th>genre</th>\n",
       "      <th>na_sales</th>\n",
       "      <th>eu_sales</th>\n",
       "      <th>jp_sales</th>\n",
       "      <th>other_sales</th>\n",
       "      <th>critic_score</th>\n",
       "      <th>user_score</th>\n",
       "      <th>rating</th>\n",
       "    </tr>\n",
       "  </thead>\n",
       "  <tbody>\n",
       "    <tr>\n",
       "      <th>183</th>\n",
       "      <td>Madden NFL 2004</td>\n",
       "      <td>PS2</td>\n",
       "      <td>NaN</td>\n",
       "      <td>Sports</td>\n",
       "      <td>4.26</td>\n",
       "      <td>0.26</td>\n",
       "      <td>0.01</td>\n",
       "      <td>0.71</td>\n",
       "      <td>94.0</td>\n",
       "      <td>8.5</td>\n",
       "      <td>E</td>\n",
       "    </tr>\n",
       "    <tr>\n",
       "      <th>377</th>\n",
       "      <td>FIFA Soccer 2004</td>\n",
       "      <td>PS2</td>\n",
       "      <td>NaN</td>\n",
       "      <td>Sports</td>\n",
       "      <td>0.59</td>\n",
       "      <td>2.36</td>\n",
       "      <td>0.04</td>\n",
       "      <td>0.51</td>\n",
       "      <td>84.0</td>\n",
       "      <td>6.4</td>\n",
       "      <td>E</td>\n",
       "    </tr>\n",
       "    <tr>\n",
       "      <th>456</th>\n",
       "      <td>LEGO Batman: The Videogame</td>\n",
       "      <td>Wii</td>\n",
       "      <td>NaN</td>\n",
       "      <td>Action</td>\n",
       "      <td>1.80</td>\n",
       "      <td>0.97</td>\n",
       "      <td>0.00</td>\n",
       "      <td>0.29</td>\n",
       "      <td>74.0</td>\n",
       "      <td>7.9</td>\n",
       "      <td>E10+</td>\n",
       "    </tr>\n",
       "    <tr>\n",
       "      <th>475</th>\n",
       "      <td>wwe Smackdown vs. Raw 2006</td>\n",
       "      <td>PS2</td>\n",
       "      <td>NaN</td>\n",
       "      <td>Fighting</td>\n",
       "      <td>1.57</td>\n",
       "      <td>1.02</td>\n",
       "      <td>0.00</td>\n",
       "      <td>0.41</td>\n",
       "      <td>NaN</td>\n",
       "      <td>NaN</td>\n",
       "      <td>NaN</td>\n",
       "    </tr>\n",
       "    <tr>\n",
       "      <th>609</th>\n",
       "      <td>Space Invaders</td>\n",
       "      <td>2600</td>\n",
       "      <td>NaN</td>\n",
       "      <td>Shooter</td>\n",
       "      <td>2.36</td>\n",
       "      <td>0.14</td>\n",
       "      <td>0.00</td>\n",
       "      <td>0.03</td>\n",
       "      <td>NaN</td>\n",
       "      <td>NaN</td>\n",
       "      <td>NaN</td>\n",
       "    </tr>\n",
       "    <tr>\n",
       "      <th>627</th>\n",
       "      <td>Rock Band</td>\n",
       "      <td>X360</td>\n",
       "      <td>NaN</td>\n",
       "      <td>Misc</td>\n",
       "      <td>1.93</td>\n",
       "      <td>0.33</td>\n",
       "      <td>0.00</td>\n",
       "      <td>0.21</td>\n",
       "      <td>92.0</td>\n",
       "      <td>8.2</td>\n",
       "      <td>T</td>\n",
       "    </tr>\n",
       "    <tr>\n",
       "      <th>657</th>\n",
       "      <td>Frogger's Adventures: Temple of the Frog</td>\n",
       "      <td>GBA</td>\n",
       "      <td>NaN</td>\n",
       "      <td>Adventure</td>\n",
       "      <td>2.15</td>\n",
       "      <td>0.18</td>\n",
       "      <td>0.00</td>\n",
       "      <td>0.07</td>\n",
       "      <td>73.0</td>\n",
       "      <td>tbd</td>\n",
       "      <td>E</td>\n",
       "    </tr>\n",
       "    <tr>\n",
       "      <th>678</th>\n",
       "      <td>LEGO Indiana Jones: The Original Adventures</td>\n",
       "      <td>Wii</td>\n",
       "      <td>NaN</td>\n",
       "      <td>Action</td>\n",
       "      <td>1.51</td>\n",
       "      <td>0.61</td>\n",
       "      <td>0.00</td>\n",
       "      <td>0.21</td>\n",
       "      <td>78.0</td>\n",
       "      <td>6.6</td>\n",
       "      <td>E10+</td>\n",
       "    </tr>\n",
       "    <tr>\n",
       "      <th>719</th>\n",
       "      <td>Call of Duty 3</td>\n",
       "      <td>Wii</td>\n",
       "      <td>NaN</td>\n",
       "      <td>Shooter</td>\n",
       "      <td>1.17</td>\n",
       "      <td>0.84</td>\n",
       "      <td>0.00</td>\n",
       "      <td>0.23</td>\n",
       "      <td>69.0</td>\n",
       "      <td>6.7</td>\n",
       "      <td>T</td>\n",
       "    </tr>\n",
       "    <tr>\n",
       "      <th>805</th>\n",
       "      <td>Rock Band</td>\n",
       "      <td>Wii</td>\n",
       "      <td>NaN</td>\n",
       "      <td>Misc</td>\n",
       "      <td>1.33</td>\n",
       "      <td>0.56</td>\n",
       "      <td>0.00</td>\n",
       "      <td>0.20</td>\n",
       "      <td>80.0</td>\n",
       "      <td>6.3</td>\n",
       "      <td>T</td>\n",
       "    </tr>\n",
       "  </tbody>\n",
       "</table>\n",
       "</div>"
      ],
      "text/plain": [
       "                                            name platform year_of_release  \\\n",
       "183                              Madden NFL 2004      PS2             NaN   \n",
       "377                             FIFA Soccer 2004      PS2             NaN   \n",
       "456                   LEGO Batman: The Videogame      Wii             NaN   \n",
       "475                   wwe Smackdown vs. Raw 2006      PS2             NaN   \n",
       "609                               Space Invaders     2600             NaN   \n",
       "627                                    Rock Band     X360             NaN   \n",
       "657     Frogger's Adventures: Temple of the Frog      GBA             NaN   \n",
       "678  LEGO Indiana Jones: The Original Adventures      Wii             NaN   \n",
       "719                               Call of Duty 3      Wii             NaN   \n",
       "805                                    Rock Band      Wii             NaN   \n",
       "\n",
       "         genre  na_sales  eu_sales  jp_sales  other_sales  critic_score  \\\n",
       "183     Sports      4.26      0.26      0.01         0.71          94.0   \n",
       "377     Sports      0.59      2.36      0.04         0.51          84.0   \n",
       "456     Action      1.80      0.97      0.00         0.29          74.0   \n",
       "475   Fighting      1.57      1.02      0.00         0.41           NaN   \n",
       "609    Shooter      2.36      0.14      0.00         0.03           NaN   \n",
       "627       Misc      1.93      0.33      0.00         0.21          92.0   \n",
       "657  Adventure      2.15      0.18      0.00         0.07          73.0   \n",
       "678     Action      1.51      0.61      0.00         0.21          78.0   \n",
       "719    Shooter      1.17      0.84      0.00         0.23          69.0   \n",
       "805       Misc      1.33      0.56      0.00         0.20          80.0   \n",
       "\n",
       "    user_score rating  \n",
       "183        8.5      E  \n",
       "377        6.4      E  \n",
       "456        7.9   E10+  \n",
       "475        NaN    NaN  \n",
       "609        NaN    NaN  \n",
       "627        8.2      T  \n",
       "657        tbd      E  \n",
       "678        6.6   E10+  \n",
       "719        6.7      T  \n",
       "805        6.3      T  "
      ]
     },
     "metadata": {},
     "output_type": "display_data"
    },
    {
     "name": "stdout",
     "output_type": "stream",
     "text": [
      "Доля пропусков в столбце с годом релиза 1.61 %\n"
     ]
    }
   ],
   "source": [
    "display(data.query('year_of_release.isna() == 1').head(10))\n",
    "\n",
    "print('Доля пропусков в столбце с годом релиза', \n",
    "      round(data.query('year_of_release.isna() == 1')['platform'].count()/data.shape[0]*100, 2), '%')"
   ]
  },
  {
   "cell_type": "markdown",
   "metadata": {},
   "source": [
    "Доля пропусков составляет 1.61 % от всего датафрейма, в некоторых строках также присутствуют пропуски в столбцах с оценками и возрастным рейтингом, поэтому их можно удалить:"
   ]
  },
  {
   "cell_type": "code",
   "execution_count": 11,
   "metadata": {},
   "outputs": [],
   "source": [
    "data = data.query('year_of_release.isna() == 0')\n",
    "\n",
    "# data.shape[0]"
   ]
  },
  {
   "cell_type": "markdown",
   "metadata": {},
   "source": [
    "Рассмотрим столбец с возрастным рейтингом:"
   ]
  },
  {
   "cell_type": "code",
   "execution_count": 12,
   "metadata": {},
   "outputs": [
    {
     "data": {
      "text/plain": [
       "array(['E', nan, 'M', 'T', 'E10+', 'K-A', 'AO', 'EC', 'RP'], dtype=object)"
      ]
     },
     "execution_count": 12,
     "metadata": {},
     "output_type": "execute_result"
    }
   ],
   "source": [
    "data['rating'].unique()"
   ]
  },
  {
   "cell_type": "markdown",
   "metadata": {},
   "source": [
    "Возрастной рейтинг ESRB определяется только для США и Канады, поэтому для остальных регионов  рейтинг не определен, рейтинг K-A (Kids to Adults) устарел и его объединил с рейтингом E (Everyone), поэтому пропуски в этом столбце заполним значением \"no rating\" и заменим все K-A на E"
   ]
  },
  {
   "cell_type": "code",
   "execution_count": 13,
   "metadata": {},
   "outputs": [],
   "source": [
    "data['rating'] = data['rating'].fillna('нет рейтинга')\n",
    "data['rating'] = data['rating'].replace('K-A', 'E')"
   ]
  },
  {
   "cell_type": "markdown",
   "metadata": {},
   "source": [
    "Рассмотрим столбец с оценкой пользователей"
   ]
  },
  {
   "cell_type": "code",
   "execution_count": 14,
   "metadata": {
    "scrolled": false
   },
   "outputs": [
    {
     "data": {
      "text/plain": [
       "array([8.0, nan, 8.3, 8.5, 6.6, 8.4, 8.6, 7.7, 6.3, 7.4, 8.2, 9.0, 7.9,\n",
       "       8.1, 8.7, 7.1, 3.4, 5.3, 4.8, 3.2, 8.9, 6.4, 7.8, 7.5, 2.6, 7.2,\n",
       "       9.2, 7.0, 7.3, 4.3, 7.6, 5.7, 5.0, 9.1, 6.5, 'tbd', 8.8, 6.9, 9.4,\n",
       "       6.8, 6.1, 6.7, 5.4, 4.0, 4.9, 4.5, 9.3, 6.2, 4.2, 6.0, 3.7, 4.1,\n",
       "       5.8, 5.6, 5.5, 4.4, 4.6, 5.9, 3.9, 3.1, 2.9, 5.2, 3.3, 4.7, 5.1,\n",
       "       3.5, 2.5, 1.9, 3.0, 2.7, 2.2, 2.0, 9.5, 2.1, 3.6, 2.8, 1.8, 3.8,\n",
       "       0.0, 1.6, 9.6, 2.4, 1.7, 1.1, 0.3, 1.5, 0.7, 1.2, 2.3, 0.5, 1.3,\n",
       "       0.2, 0.6, 1.4, 0.9, 1.0, 9.7], dtype=object)"
      ]
     },
     "execution_count": 14,
     "metadata": {},
     "output_type": "execute_result"
    }
   ],
   "source": [
    "data['user_score'].unique()"
   ]
  },
  {
   "cell_type": "markdown",
   "metadata": {},
   "source": [
    "Значение tbd означает to be determined, что рейтинг не определен и  будет обозначен в ближайшее время, поэтому это значение можно считать пропущенным и везде заменить на NaN:"
   ]
  },
  {
   "cell_type": "code",
   "execution_count": 15,
   "metadata": {},
   "outputs": [
    {
     "data": {
      "text/plain": [
       "array([8. , nan, 8.3, 8.5, 6.6, 8.4, 8.6, 7.7, 6.3, 7.4, 8.2, 9. , 7.9,\n",
       "       8.1, 8.7, 7.1, 3.4, 5.3, 4.8, 3.2, 8.9, 6.4, 7.8, 7.5, 2.6, 7.2,\n",
       "       9.2, 7. , 7.3, 4.3, 7.6, 5.7, 5. , 9.1, 6.5, 8.8, 6.9, 9.4, 6.8,\n",
       "       6.1, 6.7, 5.4, 4. , 4.9, 4.5, 9.3, 6.2, 4.2, 6. , 3.7, 4.1, 5.8,\n",
       "       5.6, 5.5, 4.4, 4.6, 5.9, 3.9, 3.1, 2.9, 5.2, 3.3, 4.7, 5.1, 3.5,\n",
       "       2.5, 1.9, 3. , 2.7, 2.2, 2. , 9.5, 2.1, 3.6, 2.8, 1.8, 3.8, 0. ,\n",
       "       1.6, 9.6, 2.4, 1.7, 1.1, 0.3, 1.5, 0.7, 1.2, 2.3, 0.5, 1.3, 0.2,\n",
       "       0.6, 1.4, 0.9, 1. , 9.7])"
      ]
     },
     "execution_count": 15,
     "metadata": {},
     "output_type": "execute_result"
    }
   ],
   "source": [
    "data['user_score'] = data['user_score'].replace('tbd', np.nan)\n",
    "\n",
    "data['user_score'].unique()"
   ]
  },
  {
   "cell_type": "markdown",
   "metadata": {},
   "source": [
    "Проверим, как распределены пропуски в столбцах с оценками критиков и пользователей:"
   ]
  },
  {
   "cell_type": "code",
   "execution_count": 16,
   "metadata": {},
   "outputs": [
    {
     "data": {
      "text/plain": [
       "7892"
      ]
     },
     "execution_count": 16,
     "metadata": {},
     "output_type": "execute_result"
    }
   ],
   "source": [
    "data.query('user_score.isna() == 1 and critic_score.isna() == 1')['platform'].count()"
   ]
  },
  {
   "cell_type": "markdown",
   "metadata": {},
   "source": [
    "Как и ожидалось, пропуски здесь взаимосвязаны: практически все пропуски находятся в одних и тех же строках. Возможно эти игры просто не были оценены ввиду своей непопулярности, а возможно релиз игры состоялся недавно и она не успела получить отзывы. Но количество пропусков очень большое, данные по количеству продаж на разных платформах в этих строках могут быть полезны для исследования, поэтому оставим их."
   ]
  },
  {
   "cell_type": "markdown",
   "metadata": {},
   "source": [
    "Посмотрим, сколько пропусков осталось после их обработки и заодно посмотрим как изменился тип данных в столбцах:"
   ]
  },
  {
   "cell_type": "code",
   "execution_count": 17,
   "metadata": {},
   "outputs": [
    {
     "name": "stdout",
     "output_type": "stream",
     "text": [
      "name                  0\n",
      "platform              0\n",
      "year_of_release       0\n",
      "genre                 0\n",
      "na_sales              0\n",
      "eu_sales              0\n",
      "jp_sales              0\n",
      "other_sales           0\n",
      "critic_score       8461\n",
      "user_score         8981\n",
      "rating                0\n",
      "dtype: int64 \n",
      "\n",
      "<class 'pandas.core.frame.DataFrame'>\n",
      "Int64Index: 16443 entries, 0 to 16714\n",
      "Data columns (total 11 columns):\n",
      " #   Column           Non-Null Count  Dtype  \n",
      "---  ------           --------------  -----  \n",
      " 0   name             16443 non-null  object \n",
      " 1   platform         16443 non-null  object \n",
      " 2   year_of_release  16443 non-null  object \n",
      " 3   genre            16443 non-null  object \n",
      " 4   na_sales         16443 non-null  float64\n",
      " 5   eu_sales         16443 non-null  float64\n",
      " 6   jp_sales         16443 non-null  float64\n",
      " 7   other_sales      16443 non-null  float64\n",
      " 8   critic_score     7982 non-null   float64\n",
      " 9   user_score       7462 non-null   float64\n",
      " 10  rating           16443 non-null  object \n",
      "dtypes: float64(6), object(5)\n",
      "memory usage: 1.5+ MB\n"
     ]
    }
   ],
   "source": [
    "print(data.isna().sum(), '\\n')\n",
    "\n",
    "data.info()"
   ]
  },
  {
   "cell_type": "markdown",
   "metadata": {},
   "source": [
    "Теперь создадим новый столбец с общими продажами по всему миру:"
   ]
  },
  {
   "cell_type": "code",
   "execution_count": 18,
   "metadata": {},
   "outputs": [
    {
     "data": {
      "text/html": [
       "<div>\n",
       "<style scoped>\n",
       "    .dataframe tbody tr th:only-of-type {\n",
       "        vertical-align: middle;\n",
       "    }\n",
       "\n",
       "    .dataframe tbody tr th {\n",
       "        vertical-align: top;\n",
       "    }\n",
       "\n",
       "    .dataframe thead th {\n",
       "        text-align: right;\n",
       "    }\n",
       "</style>\n",
       "<table border=\"1\" class=\"dataframe\">\n",
       "  <thead>\n",
       "    <tr style=\"text-align: right;\">\n",
       "      <th></th>\n",
       "      <th>name</th>\n",
       "      <th>platform</th>\n",
       "      <th>year_of_release</th>\n",
       "      <th>genre</th>\n",
       "      <th>na_sales</th>\n",
       "      <th>eu_sales</th>\n",
       "      <th>jp_sales</th>\n",
       "      <th>other_sales</th>\n",
       "      <th>critic_score</th>\n",
       "      <th>user_score</th>\n",
       "      <th>rating</th>\n",
       "      <th>sales</th>\n",
       "    </tr>\n",
       "  </thead>\n",
       "  <tbody>\n",
       "    <tr>\n",
       "      <th>0</th>\n",
       "      <td>Wii Sports</td>\n",
       "      <td>Wii</td>\n",
       "      <td>2006</td>\n",
       "      <td>Sports</td>\n",
       "      <td>41.36</td>\n",
       "      <td>28.96</td>\n",
       "      <td>3.77</td>\n",
       "      <td>8.45</td>\n",
       "      <td>76.0</td>\n",
       "      <td>8.0</td>\n",
       "      <td>E</td>\n",
       "      <td>82.54</td>\n",
       "    </tr>\n",
       "    <tr>\n",
       "      <th>1</th>\n",
       "      <td>Super Mario Bros.</td>\n",
       "      <td>NES</td>\n",
       "      <td>1985</td>\n",
       "      <td>Platform</td>\n",
       "      <td>29.08</td>\n",
       "      <td>3.58</td>\n",
       "      <td>6.81</td>\n",
       "      <td>0.77</td>\n",
       "      <td>NaN</td>\n",
       "      <td>NaN</td>\n",
       "      <td>нет рейтинга</td>\n",
       "      <td>40.24</td>\n",
       "    </tr>\n",
       "    <tr>\n",
       "      <th>2</th>\n",
       "      <td>Mario Kart Wii</td>\n",
       "      <td>Wii</td>\n",
       "      <td>2008</td>\n",
       "      <td>Racing</td>\n",
       "      <td>15.68</td>\n",
       "      <td>12.76</td>\n",
       "      <td>3.79</td>\n",
       "      <td>3.29</td>\n",
       "      <td>82.0</td>\n",
       "      <td>8.3</td>\n",
       "      <td>E</td>\n",
       "      <td>35.52</td>\n",
       "    </tr>\n",
       "    <tr>\n",
       "      <th>3</th>\n",
       "      <td>Wii Sports Resort</td>\n",
       "      <td>Wii</td>\n",
       "      <td>2009</td>\n",
       "      <td>Sports</td>\n",
       "      <td>15.61</td>\n",
       "      <td>10.93</td>\n",
       "      <td>3.28</td>\n",
       "      <td>2.95</td>\n",
       "      <td>80.0</td>\n",
       "      <td>8.0</td>\n",
       "      <td>E</td>\n",
       "      <td>32.77</td>\n",
       "    </tr>\n",
       "    <tr>\n",
       "      <th>4</th>\n",
       "      <td>Pokemon Red/Pokemon Blue</td>\n",
       "      <td>GB</td>\n",
       "      <td>1996</td>\n",
       "      <td>Role-Playing</td>\n",
       "      <td>11.27</td>\n",
       "      <td>8.89</td>\n",
       "      <td>10.22</td>\n",
       "      <td>1.00</td>\n",
       "      <td>NaN</td>\n",
       "      <td>NaN</td>\n",
       "      <td>нет рейтинга</td>\n",
       "      <td>31.38</td>\n",
       "    </tr>\n",
       "  </tbody>\n",
       "</table>\n",
       "</div>"
      ],
      "text/plain": [
       "                       name platform year_of_release         genre  na_sales  \\\n",
       "0                Wii Sports      Wii            2006        Sports     41.36   \n",
       "1         Super Mario Bros.      NES            1985      Platform     29.08   \n",
       "2            Mario Kart Wii      Wii            2008        Racing     15.68   \n",
       "3         Wii Sports Resort      Wii            2009        Sports     15.61   \n",
       "4  Pokemon Red/Pokemon Blue       GB            1996  Role-Playing     11.27   \n",
       "\n",
       "   eu_sales  jp_sales  other_sales  critic_score  user_score        rating  \\\n",
       "0     28.96      3.77         8.45          76.0         8.0             E   \n",
       "1      3.58      6.81         0.77           NaN         NaN  нет рейтинга   \n",
       "2     12.76      3.79         3.29          82.0         8.3             E   \n",
       "3     10.93      3.28         2.95          80.0         8.0             E   \n",
       "4      8.89     10.22         1.00           NaN         NaN  нет рейтинга   \n",
       "\n",
       "   sales  \n",
       "0  82.54  \n",
       "1  40.24  \n",
       "2  35.52  \n",
       "3  32.77  \n",
       "4  31.38  "
      ]
     },
     "execution_count": 18,
     "metadata": {},
     "output_type": "execute_result"
    }
   ],
   "source": [
    "# Создаем новый столбец для дальнейшего удобства\n",
    "\n",
    "data['sales'] = data.loc[:,['na_sales','eu_sales', 'jp_sales', 'other_sales']].sum(axis=1)\n",
    "\n",
    "data.head()"
   ]
  },
  {
   "cell_type": "markdown",
   "metadata": {},
   "source": [
    "Перейдем к обработке аномальных значений:"
   ]
  },
  {
   "cell_type": "code",
   "execution_count": 19,
   "metadata": {
    "scrolled": false
   },
   "outputs": [
    {
     "name": "stdout",
     "output_type": "stream",
     "text": [
      "count    16443.000000\n",
      "mean         0.264028\n",
      "std          0.818400\n",
      "min          0.000000\n",
      "25%          0.000000\n",
      "50%          0.080000\n",
      "75%          0.240000\n",
      "max         41.360000\n",
      "Name: na_sales, dtype: float64\n",
      "\n",
      "count    16443.000000\n",
      "mean         0.145939\n",
      "std          0.506731\n",
      "min          0.000000\n",
      "25%          0.000000\n",
      "50%          0.020000\n",
      "75%          0.110000\n",
      "max         28.960000\n",
      "Name: eu_sales, dtype: float64\n",
      "\n",
      "count    16443.000000\n",
      "mean         0.078492\n",
      "std          0.311109\n",
      "min          0.000000\n",
      "25%          0.000000\n",
      "50%          0.000000\n",
      "75%          0.040000\n",
      "max         10.220000\n",
      "Name: jp_sales, dtype: float64\n",
      "\n",
      "count    16443.000000\n",
      "mean         0.047597\n",
      "std          0.188011\n",
      "min          0.000000\n",
      "25%          0.000000\n",
      "50%          0.010000\n",
      "75%          0.030000\n",
      "max         10.570000\n",
      "Name: other_sales, dtype: float64\n",
      "\n",
      "count    16443.000000\n",
      "mean         0.536055\n",
      "std          1.558828\n",
      "min          0.000000\n",
      "25%          0.060000\n",
      "50%          0.170000\n",
      "75%          0.470000\n",
      "max         82.540000\n",
      "Name: sales, dtype: float64\n"
     ]
    }
   ],
   "source": [
    "# Выводим характеристику каждого столбца\n",
    "\n",
    "print(data['na_sales'].describe(),\n",
    "      data['eu_sales'].describe(),\n",
    "      data['jp_sales'].describe(),\n",
    "      data['other_sales'].describe(),\n",
    "      data['sales'].describe(), sep='\\n\\n')"
   ]
  },
  {
   "cell_type": "markdown",
   "metadata": {},
   "source": [
    "Видно, что половина продаж в регионах исчитывается всего десятками тысяч копий, тогда как миллионами копий исчитываются лишь несколько десятков игр. Аномальных значений нет. Общие продажи около 30% от общего числа игр не превышают 100 тыс. копий."
   ]
  },
  {
   "cell_type": "markdown",
   "metadata": {},
   "source": [
    "##### Промежуточный вывод по этапу предобработки данных\n",
    "\n",
    "Названия столбцов были приведены к нижнему регистру, был изменен тип данных в столбце с годом релиза на целочисленный (так как год это целое число) и в столбце с оценкой пользователей на вещественный (изначально все значения в этом столбце были строчными). Было обнаружено огромное количество пропусков:\n",
    "\n",
    "- столбец с названием игры - 1 пропущенное значение, возможно у игры просто нет названия, или же это авторская модификация, которая была представлена в виде отдельной игры без официального названия. Строка удалена\n",
    "\n",
    "- столбец с годом релиза - 269 пропусков, скорее всего у игры нет точной даты выхода или же ее просто забыли указать. Все строки удалены\n",
    "\n",
    "- столбец с жанром - 1 пропущенное значение, в той же строке где у игры нет названия, причины пропущенного значения скоре всего такие же как и у названия. Строка была удалена\n",
    "\n",
    "- столбцы с оценками критиков и пользователей - 8677 и 6700 пропусков соответственно, возможно игра была просто не оценена или ее релиз состоялся недавно и она не получила отзывов. В столцбе с оценкой пользователей значение tbd (to be determined) было заменено на NaN, так как tbd означает, что оценки нет, но в скором времени она появится, возможно игра еще не вышла, но открылись предзаказы на нее. Пропуски не были заполнены, так как они составляют почти половину столбца и заполнение их синтетическими данными приведет к искажению результата исследования\n",
    "\n",
    "- столбец возрастным рейтингом - 6765 пропусков, это связано с тем, что возрастной рейтинг ESRB определяется только в США и Канаде, поэтому для остальных регионов он не определен, и пропущенные значения были заменены на \"no_rating\"\n",
    "\n",
    "Аномальные значения не были обнаружены. Был создан новый столбец с общим количеством продаж во всех регионах. В общей сложности было удалено 272 строки"
   ]
  },
  {
   "cell_type": "markdown",
   "metadata": {},
   "source": [
    "#### Исследовательский анализ данных"
   ]
  },
  {
   "cell_type": "markdown",
   "metadata": {},
   "source": [
    "Узнаем, сколько игр выходило в разные годы:"
   ]
  },
  {
   "cell_type": "code",
   "execution_count": 21,
   "metadata": {
    "scrolled": false
   },
   "outputs": [
    {
     "data": {
      "image/png": "[encoded data removed]",
      "text/plain": [
       "<Figure size 720x288 with 1 Axes>"
      ]
     },
     "metadata": {
      "needs_background": "light"
     },
     "output_type": "display_data"
    }
   ],
   "source": [
    "# Строим столбчатую диаграмму\n",
    "\n",
    "# data['year_of_release'].value_counts(ascending=True).plot(kind='barh', figsize=(5, 8));\n",
    "\n",
    "data.groupby('year_of_release')['name'].count().plot(kind='bar', figsize=(10, 4), color='c')\n",
    "plt.title('Динамика релиза игр по годам')\n",
    "plt.xlabel('Год релиза')\n",
    "plt.ylabel('Количество игр');"
   ]
  },
  {
   "cell_type": "markdown",
   "metadata": {},
   "source": [
    "До 1994 года выходил совсем мало игр - не больше 50 за год, с 1994 до 2001 был заметен прирост, а после 2001 и до 2009 количество игр стремительно росло, но после этого периода их количество начало уменьшаться."
   ]
  },
  {
   "cell_type": "markdown",
   "metadata": {},
   "source": [
    "Теперь посмотрим, как менялись продажи по платформам:"
   ]
  },
  {
   "cell_type": "code",
   "execution_count": 22,
   "metadata": {},
   "outputs": [
    {
     "data": {
      "image/png": "[encoded data removed]",
      "text/plain": [
       "<Figure size 1008x432 with 1 Axes>"
      ]
     },
     "metadata": {
      "needs_background": "light"
     },
     "output_type": "display_data"
    }
   ],
   "source": [
    "(\n",
    "data.pivot_table(index='platform', values='sales', aggfunc='sum').sort_values(by='sales', ascending=False)\n",
    ".plot(kind='bar', figsize=(14, 6), color='y', legend=False, rot=0)\n",
    ")\n",
    "plt.title('Продажи по платформам')\n",
    "plt.xlabel('Платформа')\n",
    "plt.ylabel('Количество продаж, млн.');\n",
    "\n",
    "# data.pivot_table(index='platform', values='sales', aggfunc='sum').sort_values(by='sales', ascending=False)"
   ]
  },
  {
   "cell_type": "markdown",
   "metadata": {},
   "source": [
    "Самое большое количество игр было продано на PS2 - больше 1.2 млрд. копий, следующие за ней идут X360, PS3, Wii, DS и PS соответственно, продажи остальных игровых платформ не превышают 400 млн. копий."
   ]
  },
  {
   "cell_type": "markdown",
   "metadata": {},
   "source": [
    "Чтобы определить среднюю продолжительность \"жизни\" платформы, возьмем данные после 2000 года, так как начиная с этого времени частота выхода игр достаточно высокая."
   ]
  },
  {
   "cell_type": "code",
   "execution_count": 23,
   "metadata": {},
   "outputs": [
    {
     "name": "stdout",
     "output_type": "stream",
     "text": [
      "Средняя продолжительность жизни платформы: 7 лет\n"
     ]
    }
   ],
   "source": [
    "platform_life = data.query('year_of_release > 2000').pivot_table(index='platform', \n",
    "                                                                 values='year_of_release', aggfunc=['max', 'min'])\n",
    "platform_life['time_life'] = platform_life['max'] - platform_life['min'] + 1\n",
    "print('Средняя продолжительность жизни платформы:', platform_life['time_life'].median().astype(int), 'лет')"
   ]
  },
  {
   "cell_type": "markdown",
   "metadata": {},
   "source": [
    "Одна игровая платформа в среднем держится на плаву около 7 лет"
   ]
  },
  {
   "cell_type": "markdown",
   "metadata": {},
   "source": [
    "Теперь посмотрим на количество проданных копий для каждой платформы за последние 5 лет"
   ]
  },
  {
   "cell_type": "code",
   "execution_count": 26,
   "metadata": {
    "scrolled": false
   },
   "outputs": [
    {
     "data": {
      "image/png": "[encoded data removed]",
      "text/plain": [
       "<Figure size 432x288 with 1 Axes>"
      ]
     },
     "metadata": {
      "needs_background": "light"
     },
     "output_type": "display_data"
    },
    {
     "data": {
      "image/png": "[encoded data removed]",
      "text/plain": [
       "<Figure size 432x288 with 1 Axes>"
      ]
     },
     "metadata": {
      "needs_background": "light"
     },
     "output_type": "display_data"
    },
    {
     "data": {
      "image/png": "[encoded data removed]",
      "text/plain": [
       "<Figure size 432x288 with 1 Axes>"
      ]
     },
     "metadata": {
      "needs_background": "light"
     },
     "output_type": "display_data"
    },
    {
     "data": {
      "image/png": "[encoded data removed]",
      "text/plain": [
       "<Figure size 432x288 with 1 Axes>"
      ]
     },
     "metadata": {
      "needs_background": "light"
     },
     "output_type": "display_data"
    },
    {
     "data": {
      "image/png": "[encoded data removed]",
      "text/plain": [
       "<Figure size 432x288 with 1 Axes>"
      ]
     },
     "metadata": {
      "needs_background": "light"
     },
     "output_type": "display_data"
    }
   ],
   "source": [
    "# С помощью цикла проходимся по всем годам и строим для каждого из них\n",
    "# горизонтальную столбчатую диаграмму\n",
    "\n",
    "for x in range(2012, 2017):\n",
    "    (\n",
    "    data.pivot_table(index=['year_of_release', 'platform'], values='sales', aggfunc='sum')\n",
    "    .query('year_of_release == @x').plot(kind='barh', title=x, legend=False)\n",
    "    )\n",
    "    plt.xlabel('Количество проданных копий, млн')\n",
    "    plt.ylabel('Платформа')"
   ]
  },
  {
   "cell_type": "markdown",
   "metadata": {},
   "source": [
    "С 2012 до 2014 года на рынке господствовали консоли PS3, X360 и 3DS. Но после появления PS4 и XOne в 2013 году, все остальные платформы ушли на второй план. Эти две платформы отличаются от предшественников гораздо большей производительностью и комфортом использования. С уверенностью можно сказать, что игры для консолей PS4 и XOne принесут огромную прибыль в 2017 году. Но также немного выделяется консоль 3DS, продажи на эту консоль с 2012 по 2014 год всегда были больше 40 млн., а после в районе 15-25 млн. копий, что тоже является неплохим показателем."
   ]
  },
  {
   "cell_type": "markdown",
   "metadata": {},
   "source": [
    "Для верного прогноза на 2017 год нужно анализировать только актуальные данные, исходя из выше сказанного актуальным периодом для исследования будем считать период с 2013 - появление Xbox One и PS4 на рынке,- по 2016 год. Также избавимся от платформ, жизнь которых подошла к концу."
   ]
  },
  {
   "cell_type": "code",
   "execution_count": 27,
   "metadata": {},
   "outputs": [
    {
     "data": {
      "text/plain": [
       "2135"
      ]
     },
     "execution_count": 27,
     "metadata": {},
     "output_type": "execute_result"
    }
   ],
   "source": [
    "data = data.query('year_of_release > 2012 and platform != [\"Wii\", \"PSP\", \"DS\"]')\n",
    "\n",
    "data.shape[0]"
   ]
  },
  {
   "cell_type": "code",
   "execution_count": 28,
   "metadata": {},
   "outputs": [
    {
     "data": {
      "text/plain": [
       "(1071.9900000000002, 1090.69, 1.71)"
      ]
     },
     "execution_count": 28,
     "metadata": {},
     "output_type": "execute_result"
    }
   ],
   "source": [
    "# Комментарий ревьюера 2\n",
    "temp1, temp2 = data.sales.sum(), temp[temp.year_of_release > 2012].sales.sum()\n",
    "temp1, temp2, round((temp2-temp1)/temp2*100, 2)"
   ]
  },
  {
   "cell_type": "markdown",
   "metadata": {},
   "source": [
    "Теперь посмотрим на диаграммы размаха по количеству продаж для каждой платформы:"
   ]
  },
  {
   "cell_type": "code",
   "execution_count": 29,
   "metadata": {
    "scrolled": false
   },
   "outputs": [
    {
     "data": {
      "image/png": "[encoded data removed]",
      "text/plain": [
       "<Figure size 864x504 with 1 Axes>"
      ]
     },
     "metadata": {
      "needs_background": "light"
     },
     "output_type": "display_data"
    },
    {
     "data": {
      "image/png": "[encoded data removed]",
      "text/plain": [
       "<Figure size 864x504 with 1 Axes>"
      ]
     },
     "metadata": {
      "needs_background": "light"
     },
     "output_type": "display_data"
    }
   ],
   "source": [
    "# С помощью цикла проходимся по всем индексам (названиям платформ) сводной таблицы и строим для каждой из них\n",
    "# диаграмму размаха\n",
    "\n",
    "#for i in (\n",
    "#          data.pivot_table(index='platform', values='sales', aggfunc='sum').sort_values(by='sales', ascending=False).head(10)\n",
    "#          .index.values.tolist()\n",
    "#         ):\n",
    "#    data.query('platform == @i').boxplot(column='sales', by='platform')\n",
    "#    plt.title(i)\n",
    "#    plt.ylabel('Количество продаж, млн')\n",
    "#    plt.show();\n",
    "\n",
    "data.boxplot(column='sales', by='platform', figsize=(12, 7))\n",
    "plt.title('Продажи по платформам')\n",
    "plt.xlabel('Платформы')\n",
    "plt.ylabel('Количество продаж, млн')\n",
    "plt.show();\n",
    "\n",
    "data.boxplot(column='sales', by='platform', figsize=(12, 7))\n",
    "plt.ylim(0, 2)\n",
    "plt.title('Продажи по платформам')\n",
    "plt.xlabel('Платформы')\n",
    "plt.ylabel('Количество продаж, млн')\n",
    "plt.show();"
   ]
  },
  {
   "cell_type": "markdown",
   "metadata": {},
   "source": [
    "У всех платформ пределы нормальных значений не превышают 2 млн. У каждой платформы есть игры, продажи которой исчисляются несколькими миллионами копий. Минимальное значение везде равно 0. Можно сделать следующий вывод: разработчики создают огромное количество игр, но большинство из их не \"выстреливают\": либо игра очень непопулярна, либо это хит, продажи которого составляют более 2 млн. копий."
   ]
  },
  {
   "cell_type": "markdown",
   "metadata": {},
   "source": [
    "Теперь узнаем, как влияют на продажи внутри одной популярной платформы отзывы пользователей и критиков."
   ]
  },
  {
   "cell_type": "code",
   "execution_count": 30,
   "metadata": {
    "scrolled": false
   },
   "outputs": [
    {
     "data": {
      "image/png": "[encoded data removed]",
      "text/plain": [
       "<Figure size 432x288 with 1 Axes>"
      ]
     },
     "metadata": {
      "needs_background": "light"
     },
     "output_type": "display_data"
    },
    {
     "name": "stdout",
     "output_type": "stream",
     "text": [
      "Коэффициент корреляции Пирсона при оценке критиков равен 0.40656790206178095\n"
     ]
    },
    {
     "data": {
      "image/png": "[encoded data removed]",
      "text/plain": [
       "<Figure size 432x288 with 1 Axes>"
      ]
     },
     "metadata": {
      "needs_background": "light"
     },
     "output_type": "display_data"
    },
    {
     "name": "stdout",
     "output_type": "stream",
     "text": [
      "Коэффициент корреляции Пирсона при оценке пользователей равен -0.031957110204556376\n",
      "____________________________________________________________\n"
     ]
    },
    {
     "data": {
      "image/png": "[encoded data removed]",
      "text/plain": [
       "<Figure size 432x288 with 1 Axes>"
      ]
     },
     "metadata": {
      "needs_background": "light"
     },
     "output_type": "display_data"
    },
    {
     "name": "stdout",
     "output_type": "stream",
     "text": [
      "Коэффициент корреляции Пирсона при оценке критиков равен 0.3342853393371919\n"
     ]
    },
    {
     "data": {
      "image/png": "[encoded data removed]",
      "text/plain": [
       "<Figure size 432x288 with 1 Axes>"
      ]
     },
     "metadata": {
      "needs_background": "light"
     },
     "output_type": "display_data"
    },
    {
     "name": "stdout",
     "output_type": "stream",
     "text": [
      "Коэффициент корреляции Пирсона при оценке пользователей равен 0.0023944027357566925\n",
      "____________________________________________________________\n"
     ]
    },
    {
     "data": {
      "image/png": "[encoded data removed]",
      "text/plain": [
       "<Figure size 432x288 with 1 Axes>"
      ]
     },
     "metadata": {
      "needs_background": "light"
     },
     "output_type": "display_data"
    },
    {
     "name": "stdout",
     "output_type": "stream",
     "text": [
      "Коэффициент корреляции Пирсона при оценке критиков равен 0.4169983280084017\n"
     ]
    },
    {
     "data": {
      "image/png": "[encoded data removed]",
      "text/plain": [
       "<Figure size 432x288 with 1 Axes>"
      ]
     },
     "metadata": {
      "needs_background": "light"
     },
     "output_type": "display_data"
    },
    {
     "name": "stdout",
     "output_type": "stream",
     "text": [
      "Коэффициент корреляции Пирсона при оценке пользователей равен -0.06892505328279414\n",
      "____________________________________________________________\n"
     ]
    },
    {
     "data": {
      "image/png": "[encoded data removed]",
      "text/plain": [
       "<Figure size 432x288 with 1 Axes>"
      ]
     },
     "metadata": {
      "needs_background": "light"
     },
     "output_type": "display_data"
    },
    {
     "name": "stdout",
     "output_type": "stream",
     "text": [
      "Коэффициент корреляции Пирсона при оценке критиков равен 0.3570566142288103\n"
     ]
    },
    {
     "data": {
      "image/png": "[encoded data removed]",
      "text/plain": [
       "<Figure size 432x288 with 1 Axes>"
      ]
     },
     "metadata": {
      "needs_background": "light"
     },
     "output_type": "display_data"
    },
    {
     "name": "stdout",
     "output_type": "stream",
     "text": [
      "Коэффициент корреляции Пирсона при оценке пользователей равен 0.24150411773563016\n",
      "____________________________________________________________\n"
     ]
    },
    {
     "data": {
      "image/png": "[encoded data removed]",
      "text/plain": [
       "<Figure size 432x288 with 1 Axes>"
      ]
     },
     "metadata": {
      "needs_background": "light"
     },
     "output_type": "display_data"
    },
    {
     "name": "stdout",
     "output_type": "stream",
     "text": [
      "Коэффициент корреляции Пирсона при оценке критиков равен 0.3503445460228664\n"
     ]
    },
    {
     "data": {
      "image/png": "[encoded data removed]",
      "text/plain": [
       "<Figure size 432x288 with 1 Axes>"
      ]
     },
     "metadata": {
      "needs_background": "light"
     },
     "output_type": "display_data"
    },
    {
     "name": "stdout",
     "output_type": "stream",
     "text": [
      "Коэффициент корреляции Пирсона при оценке пользователей равен -0.011742185147181342\n",
      "____________________________________________________________\n"
     ]
    },
    {
     "data": {
      "image/png": "[encoded data removed]",
      "text/plain": [
       "<Figure size 432x288 with 1 Axes>"
      ]
     },
     "metadata": {
      "needs_background": "light"
     },
     "output_type": "display_data"
    },
    {
     "name": "stdout",
     "output_type": "stream",
     "text": [
      "Коэффициент корреляции Пирсона при оценке критиков равен 0.3764149065423912\n"
     ]
    },
    {
     "data": {
      "image/png": "[encoded data removed]",
      "text/plain": [
       "<Figure size 432x288 with 1 Axes>"
      ]
     },
     "metadata": {
      "needs_background": "light"
     },
     "output_type": "display_data"
    },
    {
     "name": "stdout",
     "output_type": "stream",
     "text": [
      "Коэффициент корреляции Пирсона при оценке пользователей равен 0.4193304819266187\n",
      "____________________________________________________________\n"
     ]
    },
    {
     "data": {
      "image/png": "[encoded data removed]",
      "text/plain": [
       "<Figure size 432x288 with 1 Axes>"
      ]
     },
     "metadata": {
      "needs_background": "light"
     },
     "output_type": "display_data"
    },
    {
     "name": "stdout",
     "output_type": "stream",
     "text": [
      "Коэффициент корреляции Пирсона при оценке критиков равен 0.19603028294369382\n"
     ]
    },
    {
     "data": {
      "image/png": "[encoded data removed]",
      "text/plain": [
       "<Figure size 432x288 with 1 Axes>"
      ]
     },
     "metadata": {
      "needs_background": "light"
     },
     "output_type": "display_data"
    },
    {
     "name": "stdout",
     "output_type": "stream",
     "text": [
      "Коэффициент корреляции Пирсона при оценке пользователей равен -0.0938418695247674\n",
      "____________________________________________________________\n"
     ]
    },
    {
     "data": {
      "image/png": "[encoded data removed]",
      "text/plain": [
       "<Figure size 432x288 with 1 Axes>"
      ]
     },
     "metadata": {
      "needs_background": "light"
     },
     "output_type": "display_data"
    },
    {
     "name": "stdout",
     "output_type": "stream",
     "text": [
      "Коэффициент корреляции Пирсона при оценке критиков равен 0.2547423503068656\n"
     ]
    },
    {
     "data": {
      "image/png": "[encoded data removed]",
      "text/plain": [
       "<Figure size 432x288 with 1 Axes>"
      ]
     },
     "metadata": {
      "needs_background": "light"
     },
     "output_type": "display_data"
    },
    {
     "name": "stdout",
     "output_type": "stream",
     "text": [
      "Коэффициент корреляции Пирсона при оценке пользователей равен 0.0009424723319108626\n",
      "____________________________________________________________\n"
     ]
    }
   ],
   "source": [
    "# С помощью цикла проходимся по всем индексам (названиям платформ) сводной таблицы и строим для среза данных по платформе\n",
    "# диаграмму рассеяния в зависимости от оценки пользователя и критика, и тут же считаем коэффициент корреляции Пирсона\n",
    "\n",
    "for i in (\n",
    "          data.pivot_table(index='platform', values='sales', aggfunc='sum').sort_values(by='sales', ascending=False)\n",
    "          .index.values.tolist()\n",
    "         ):\n",
    "    data.query('platform == @i').plot(x='critic_score',\n",
    "                                      y='sales',\n",
    "                                      kind='scatter',\n",
    "                                      alpha=0.3)\n",
    "    plt.title(i)\n",
    "    plt.xlabel('Оценка критиков')\n",
    "    plt.ylabel('Продажи, млн')\n",
    "    plt.show()\n",
    "    print('Коэффициент корреляции Пирсона при оценке критиков равен', \n",
    "          data.query('platform == @i')['critic_score'].corr(data.query('platform == @i')['sales']))\n",
    "    \n",
    "    data.query('platform == @i').plot(x='user_score',\n",
    "                                      y='sales',\n",
    "                                      kind='scatter',\n",
    "                                      alpha=0.3)\n",
    "    plt.title(i)\n",
    "    plt.xlabel('Оценка пользователей')\n",
    "    plt.ylabel('Продажи, млн')\n",
    "    plt.show()\n",
    "    print('Коэффициент корреляции Пирсона при оценке пользователей равен', \n",
    "          data.query('platform == @i')['user_score']\n",
    "          .corr(data.query('platform == @i')['sales']))\n",
    "    \n",
    "# Для удобства разделяем пары графиков сплошной линией\n",
    "    \n",
    "    print(60*'_')"
   ]
  },
  {
   "cell_type": "markdown",
   "metadata": {},
   "source": [
    "Профили всех графиков похожи. В основном количество продаж исчисляется от 0 до 1 млн. При оценке критиков до 60 рост почти не заметен. Коэффициент корреляции Пирсона говорит о том, что при большей оценке критиков продажи тоже растут, но его значение не превышает 0.5 - средняя корреляция. Этот же коэффициент при оценке пользователей гораздо ближе к 0.1 - очень слабая корреляция, значит их оценки почти не влияют на продажи. Вывод: оценка критиков намного сильнее влияет на количество проданных копий."
   ]
  },
  {
   "cell_type": "markdown",
   "metadata": {},
   "source": [
    "Все выше описанные выводы с уверенностью можно спроецировать на остальные платформы, которые не были рассмотрены на этапе исследовательского анализа."
   ]
  },
  {
   "cell_type": "markdown",
   "metadata": {},
   "source": [
    "Теперь посмотрим на количество проданных игр по жанрам:"
   ]
  },
  {
   "cell_type": "code",
   "execution_count": 31,
   "metadata": {
    "scrolled": false
   },
   "outputs": [
    {
     "data": {
      "image/png": "[encoded data removed]",
      "text/plain": [
       "<Figure size 1008x432 with 1 Axes>"
      ]
     },
     "metadata": {
      "needs_background": "light"
     },
     "output_type": "display_data"
    },
    {
     "data": {
      "image/png": "[encoded data removed]",
      "text/plain": [
       "<Figure size 1008x432 with 1 Axes>"
      ]
     },
     "metadata": {
      "needs_background": "light"
     },
     "output_type": "display_data"
    }
   ],
   "source": [
    "# Создаем свобную таблицу\n",
    "\n",
    "#data.pivot_table(index='genre', values='sales', aggfunc='sum').sort_values(by='sales', ascending=False)\n",
    "\n",
    "data.boxplot(column='sales', by='genre', figsize=(14, 6))\n",
    "plt.title('Продажи по жанрам')\n",
    "plt.xlabel('Жанр')\n",
    "plt.ylabel('Продажи, млн')\n",
    "plt.show();\n",
    "\n",
    "data.boxplot(column='sales', by='genre', figsize=(14, 6))\n",
    "plt.ylim(0, 2)\n",
    "plt.title('Продажи по жанрам')\n",
    "plt.xlabel('Жанр')\n",
    "plt.ylabel('Продажи, млн')\n",
    "plt.show();"
   ]
  },
  {
   "cell_type": "markdown",
   "metadata": {},
   "source": [
    "Самый популярный жанр это Shooter, дальше за ним идут Sports и Platform, медианные продажи на остальных платформах не превышают 200 тыс. копий, самые непопулярные - Puzzle и Adventure. Это очевидно, ведь игры были созданы в первую очередь для развлечения, для того, чтобы делать вещи, которые невозможно делать в реальной жизни, и в основном для детей. А пазлы не могут похвастаться наличием этих параметров, дети практически никогда не играют в подобный жанр игр, для них это скучно."
   ]
  },
  {
   "cell_type": "markdown",
   "metadata": {},
   "source": [
    "##### Промежуточный вывод по этапу исследовательского анализа данных\n",
    "\n",
    "Было рассмотрено количество игр, выпущенных в разные года и на разных платформах, по этим данным был сделан вывод, что актуальным периодом для исследования является 2013-2016 года. Таблица была отфильтрована по этому параметру, было удалено почти 14000 строк исходного датафрейма. С этими же данными удалились и те, которые содержали в себе информацию о неактуальных игровых платформах. Самые популярные платформы - PS4 и Xbox One. В среднем длительность \"жизни\" одной игровой платформы равна 7 лет. Актуальными платформами на 2016 год являются PS4 и XOne, их можно отнести к потенциально прибыльным, так как продажи для этих платформ растут начиная с момента их появления на рынке, после этого года все остальные платформы ушли на второй план. На продажи, хоть и несильно, влияют оценки критиков, оценки пользователей почти не имеют веса. Самый популярный жанр это Shooter (медианные продажи ~500 тыс. копий), дальше за ним идут Sports и Platform, медианные продажи на остальных платформах не превышают 200 тыс. копий, самые непопулярные - Puzzle и Adventure."
   ]
  },
  {
   "cell_type": "markdown",
   "metadata": {},
   "source": [
    "#### Портреты пользователей каждого региона"
   ]
  },
  {
   "cell_type": "markdown",
   "metadata": {},
   "source": [
    "Опишем предпочтения пользователей: выведем топ 5 игровых платформ и жанров для каждого региона."
   ]
  },
  {
   "cell_type": "code",
   "execution_count": 32,
   "metadata": {
    "scrolled": false
   },
   "outputs": [
    {
     "data": {
      "image/png": "[encoded data removed]",
      "text/plain": [
       "<Figure size 432x288 with 1 Axes>"
      ]
     },
     "metadata": {},
     "output_type": "display_data"
    },
    {
     "data": {
      "image/png": "[encoded data removed]",
      "text/plain": [
       "<Figure size 432x288 with 1 Axes>"
      ]
     },
     "metadata": {},
     "output_type": "display_data"
    },
    {
     "data": {
      "image/png": "[encoded data removed]",
      "text/plain": [
       "<Figure size 432x288 with 1 Axes>"
      ]
     },
     "metadata": {},
     "output_type": "display_data"
    }
   ],
   "source": [
    "for x in['eu_sales', 'na_sales', 'jp_sales']:\n",
    "    region = (\n",
    "         data.pivot_table(index='platform', values=x, aggfunc='sum')\n",
    "         .sort_values(by=x, ascending=False).reset_index()\n",
    "         )\n",
    "\n",
    "# Суммируем данные по жанрам, которые не вошли в топ-5 и обозначем их как others\n",
    "    \n",
    "    region.loc[5] = region.loc[5:, x].sum()\n",
    "    region.loc[5, 'platform'] = 'others'\n",
    "    region = region.loc[:5]\n",
    "\n",
    "# С помощью цикла меняем индексы на названия платформ, чтобы при построении круговой диаграммы были видны названия\n",
    "    \n",
    "    for i in range(0, 6):\n",
    "        region.rename(index={i: region.loc[i, 'platform']}, inplace=True)\n",
    "    region.plot(kind='pie', y=x, autopct='%.1f%%', legend=False)\n",
    "    if x == 'eu_sales':\n",
    "        plt.title('Европа')\n",
    "    if x == 'na_sales':\n",
    "        plt.title('Северная Америка')\n",
    "    if x == 'jp_sales':\n",
    "        plt.title('Япония')\n",
    "    plt.ylabel('')\n",
    "    plt.show();"
   ]
  },
  {
   "cell_type": "markdown",
   "metadata": {},
   "source": [
    "Население Европы составляет ~740 млн. человек. Самой популярной платформой для европейцев явлется PS4. Доля остальных платформ не превышает 18%."
   ]
  },
  {
   "cell_type": "markdown",
   "metadata": {},
   "source": [
    "Население Северной Америки составляет ~600 млн. человек. Самая популярная приставка здесь также PS4, но доля продаж XOne и X360 здесь выше чем в Европе - 21.6% и 19 % соответственно, возможно это связано с тем, что это отечественные платформы."
   ]
  },
  {
   "cell_type": "markdown",
   "metadata": {},
   "source": [
    "Население Японии составляет ~125 млн. человек, очевидно. В отличие от предыдущих результатов, в этом топе отсутствуют платформы X360 и XOne, вместо них здесь PSV и WiiU. Самой популярной платформой является 3DS, - на нее приходится половина продаж. Интересен тот факт, что все игровые приставки в этом топе разработаны как раз-таки здесь, в Японии. Поэтому доля других платформ здесь очень маленькая - 0.6%."
   ]
  },
  {
   "cell_type": "markdown",
   "metadata": {},
   "source": [
    "Теперь взглянем на популярность жанров:"
   ]
  },
  {
   "cell_type": "code",
   "execution_count": 33,
   "metadata": {
    "scrolled": false
   },
   "outputs": [
    {
     "data": {
      "image/png": "[encoded data removed]",
      "text/plain": [
       "<Figure size 432x288 with 1 Axes>"
      ]
     },
     "metadata": {},
     "output_type": "display_data"
    },
    {
     "data": {
      "image/png": "[encoded data removed]",
      "text/plain": [
       "<Figure size 432x288 with 1 Axes>"
      ]
     },
     "metadata": {},
     "output_type": "display_data"
    },
    {
     "data": {
      "image/png": "[encoded data removed]",
      "text/plain": [
       "<Figure size 432x288 with 1 Axes>"
      ]
     },
     "metadata": {},
     "output_type": "display_data"
    }
   ],
   "source": [
    "for x in['eu_sales', 'na_sales', 'jp_sales']:\n",
    "    region = (\n",
    "         data.pivot_table(index='genre', values=x, aggfunc='sum')\n",
    "         .sort_values(by=x, ascending=False).reset_index()\n",
    "         )\n",
    "\n",
    "# Суммируем данные по жанрам, которые не вошли в топ-5 и обозначем их как others\n",
    "    \n",
    "    region.loc[5] = region.loc[5:, x].sum()\n",
    "    region.loc[5, 'genre'] = 'others'\n",
    "    region = region.loc[:5]\n",
    "\n",
    "# С помощью цикла меняем индексы на названия жанра, чтобы при построении круговой диаграммы были видны жанры\n",
    "    \n",
    "    for i in range(0, 6):\n",
    "        region.rename(index={i: region.loc[i, 'genre']}, inplace=True)\n",
    "    region.plot(kind='pie', y=x, autopct='%.1f%%', legend=False)\n",
    "    if x == 'eu_sales':\n",
    "        plt.title('Европа')\n",
    "    if x == 'na_sales':\n",
    "        plt.title('Северная Америка')\n",
    "    if x == 'jp_sales':\n",
    "        plt.title('Япония')\n",
    "    plt.ylabel('')\n",
    "    plt.show();"
   ]
  },
  {
   "cell_type": "markdown",
   "metadata": {},
   "source": [
    "В Европе самым популярным жанром является Action, как и в Северной Америке, топ-4 у них схож, даже по долям продаж, а последнюю строчку в топе Европы занимает Racing вместо Misc, также нельзя не отметить существенную долю других жанров во всех регионах. В Японии наблюдается другая картина: самый популярный жанр - Role-Playing - 36.4%, на втором месте Action - 28.8%, остальные три жанра занимают примерно одинаковую долю."
   ]
  },
  {
   "cell_type": "markdown",
   "metadata": {},
   "source": [
    "Теперь посмотрим, как возрастыне рейтинги влияют на продажи в тех же регионах:"
   ]
  },
  {
   "cell_type": "code",
   "execution_count": 37,
   "metadata": {},
   "outputs": [
    {
     "data": {
      "image/png": "[encoded data removed]",
      "text/plain": [
       "<Figure size 432x288 with 1 Axes>"
      ]
     },
     "metadata": {},
     "output_type": "display_data"
    },
    {
     "data": {
      "image/png": "[encoded data removed]",
      "text/plain": [
       "<Figure size 432x288 with 1 Axes>"
      ]
     },
     "metadata": {},
     "output_type": "display_data"
    },
    {
     "data": {
      "image/png": "[encoded data removed]",
      "text/plain": [
       "<Figure size 432x288 with 1 Axes>"
      ]
     },
     "metadata": {},
     "output_type": "display_data"
    }
   ],
   "source": [
    "for x in ['eu_sales', 'na_sales', 'jp_sales']:\n",
    "    region = (\n",
    "             data.pivot_table(index='rating', values=x, aggfunc='sum')\n",
    "             .sort_values(by=x, ascending=False)\n",
    "             )\n",
    "    region.plot(kind='pie', y=x, autopct='%.1f%%', legend=False)\n",
    "    if x == 'eu_sales':\n",
    "        plt.title('Европа')\n",
    "    if x == 'na_sales':\n",
    "        plt.title('Северная Америка')\n",
    "    if x == 'jp_sales':\n",
    "        plt.title('Япония')\n",
    "    plt.ylabel('')\n",
    "    plt.show();"
   ]
  },
  {
   "cell_type": "markdown",
   "metadata": {},
   "source": [
    "В Европе и Северной Америке игры для взрослых занимают наибольшую долю, игры без рейтинга занимают примерно одинаковые доли, в принципе картина у этих двух регионов схожая. В Японии совсем другая ситуация: безрейтинговые игры занимают больше половины рынка, игры для взрослых занимают всего 10%."
   ]
  },
  {
   "cell_type": "markdown",
   "metadata": {},
   "source": [
    "##### Промежуточный вывод по этапу составления портрета пользователей каждого региона\n",
    "\n",
    "**Северная Америка** (600 млн. человек)\n",
    "\n",
    "Самой популярной игровой платформой является PS4, самые популярные жанры - Action, Shooter и Sports. В основном игры, проданные в этом регионе, обладают возрастным рейтингом M (Mature) для взрослых.\n",
    "\n",
    "**Европа** (740 млн. человек)\n",
    "\n",
    "Топ популярных игровых платформ совпадает с топом в Северной Америке. Топ популярных жанров также совпадает, кроме 5-ой строчки - здесь расположен Racing вместо Misc. Здесь тоже предпочитают игры для взрослых.\n",
    "\n",
    "**Япония** (125 млн. человек)\n",
    "\n",
    "Самый уникальный по игровым предпочтениям регион: самый популярный жанр - Role-Playing, на втором месте Action, остальные занимают примерно одинаковую долю. Все популярные платформы были разработаны здесь и самая популярная для этого региона - 3DS, занимает половину рынка."
   ]
  },
  {
   "cell_type": "markdown",
   "metadata": {},
   "source": [
    "#### Проверка гипотез"
   ]
  },
  {
   "cell_type": "markdown",
   "metadata": {},
   "source": [
    "Проверим гипотезу о том, что средние пользовательские рейтинги платформ Xbox One и PC одинаковые:\n",
    "- **Нулевая гипотеза:** средний пользовательский рейтинг платформ Xbox One и PC одинаковый\n",
    "- **Альтернативная гипотеза:** средний пользовательский рейтинг Xbox One не равен PC"
   ]
  },
  {
   "cell_type": "code",
   "execution_count": 39,
   "metadata": {},
   "outputs": [
    {
     "name": "stdout",
     "output_type": "stream",
     "text": [
      "Средний пользовательский рейтинг Xbox One: 6.521428571428572\n",
      "Средний пользовательский рейтинг PC: 6.2696774193548395\n",
      "p-значение: 0.14012658403611647\n",
      "Не получилось отвергнуть нулевую гипотезу\n"
     ]
    }
   ],
   "source": [
    "# Проводим Т-тест с двумя независимыми выборками с уровнем статистической значимости 5%\n",
    "\n",
    "print('Средний пользовательский рейтинг Xbox One:', \n",
    "      data.query('user_score.isna() == 0 and platform == \"XOne\"')['user_score'].mean())\n",
    "print('Средний пользовательский рейтинг PC:', \n",
    "      data.query('user_score.isna() == 0 and platform == \"PC\"')['user_score'].mean())\n",
    "\n",
    "alpha = 0.05\n",
    "\n",
    "results = st.ttest_ind(data.query('user_score.isna() == 0 and platform == \"XOne\"')['user_score'], \n",
    "                       data.query('user_score.isna() == 0 and platform == \"PC\"')['user_score'], \n",
    "                       alternative='two-sided')\n",
    "\n",
    "print('p-значение:', results.pvalue)\n",
    "\n",
    "if results.pvalue < alpha:\n",
    "    print('Отвергаем нулевую гипотезу')\n",
    "else:\n",
    "    print('Не получилось отвергнуть нулевую гипотезу')"
   ]
  },
  {
   "cell_type": "markdown",
   "metadata": {},
   "source": [
    "Значение p-value говорит о том, что нулевую гипотезу о равенстве средних двух независмых выборок нельзя отвергнуть, средний пользовательский рейтинг Xbox One возможно равен PC."
   ]
  },
  {
   "cell_type": "markdown",
   "metadata": {},
   "source": [
    "Теперь проверим гипотезу о том, что пользовательские рейтинги жанров Action и Sports разные.\n",
    "- **Нулевая гипотеза:** пользовательские рейтинги жанров Action и Sports равны.\n",
    "- **Альтернативная гипотеза:** пользовательские рейтинги жанров Action и Sports разные."
   ]
  },
  {
   "cell_type": "code",
   "execution_count": 40,
   "metadata": {},
   "outputs": [
    {
     "name": "stdout",
     "output_type": "stream",
     "text": [
      "Средний пользовательский рейтинг жанра Action: 6.8496124031007755\n",
      "Средний пользовательский рейтинг жанра Sports: 5.261783439490445\n",
      "p-значение: 4.172703051737141e-27\n",
      "Отвергаем нулевую гипотезу\n"
     ]
    }
   ],
   "source": [
    "# Проводим Т-тест с двумя независимыми выборками с уровнем статистической значимости 5%\n",
    "\n",
    "print('Средний пользовательский рейтинг жанра Action:', \n",
    "      data.query('user_score.isna() == 0 and genre == \"Action\"')['user_score'].mean())\n",
    "print('Средний пользовательский рейтинг жанра Sports:', \n",
    "      data.query('user_score.isna() == 0 and genre == \"Sports\"')['user_score'].mean())\n",
    "\n",
    "alpha = 0.05\n",
    "\n",
    "results = st.ttest_ind(data.query('user_score.isna() == 0 and genre == \"Action\"')['user_score'], \n",
    "                       data.query('user_score.isna() == 0 and genre == \"Sports\"')['user_score'], \n",
    "                       alternative='two-sided')\n",
    "\n",
    "print('p-значение:', results.pvalue)\n",
    "\n",
    "if results.pvalue < alpha:\n",
    "    print('Отвергаем нулевую гипотезу')\n",
    "else:\n",
    "    print('Не получилось отвергнуть нулевую гипотезу')"
   ]
  },
  {
   "cell_type": "markdown",
   "metadata": {},
   "source": [
    "Значение p-value ниже уровня статистической значимости, значит нулевую гипотезу о равенстве двух независимых выборок можно отвергнуть, средний пользовательский рейтинг жанра Action не равен Sports."
   ]
  },
  {
   "cell_type": "markdown",
   "metadata": {},
   "source": [
    "##### Промежуточный вывод по этапу проверки гипотез\n",
    "\n",
    "Были проверены две гипотезы:\n",
    "\n",
    "- Гипотеза о том, что средние пользовательские рейтинги платформ Xbox One и PC одинаковые - **подтверждена**, рейтинги равные\n",
    "- Гипотеза о том, что пользовательские рейтинги жанров Action и Sports разные - **подтверждена**, рейтинги разные\n",
    "\n",
    "Для проверки гипотез формулировалась нулевая - выборочные средние двух независимых выборок с рейтингом равны, и альтернативная, причем двусторонняя - выборочные средние двух независимых выборок с рейтингом разные. Уровнем статистической значимости в 5% мы задали вероятность попасть слишком далеко от центра распределения. Для такой проверки отлично подойдет т-тест, так как он подходит для выборки размера 30 или больше, центральная предельная теорема выполняется, так как наша выборка конечна, и мы не имеем доступа к генеральной совокупности, ведь данных за следующий год у нас нет, но делать прогнозы помогают именно выборки из таких генеральных совокупностей. В параметре alternative укажем значение 'two-sided', так как нас интересует отклонение в обе стороны."
   ]
  },
  {
   "cell_type": "markdown",
   "metadata": {},
   "source": [
    "#### Общий вывод"
   ]
  },
  {
   "cell_type": "markdown",
   "metadata": {},
   "source": [
    "Было проведено исследование по данным из интернет-магазина «Стримчик», который продаёт по всему миру компьютерные игры. \n",
    "\n",
    "В таблице были выявлены неявные дубликаты - было удалено 2 строки. Были обнаружены пропуски: по 1 пропущенному значению в столбце с жанром и названием игры, 269 пропусков в столбце с годом релиза, огромное количество пропусков в столбцах с оценкой критиков и пользователей и возрастным рейтингом. Строки с пропуском в столбце с годом релиза, жанром и названием игры были удалены, остальные пропуски были оставлены как есть, так как их слишком много и заполнение их синтетическими данными сильно исказило бы результат исследования. Названия столбцов были приведены к нижнему регистру, был изменен тип данных в столбце с годом релиза на целочисленный и в столбце с оценкой пользователей на вещественный. Значение tbd  в столбце с оценкой пользователей было заменено на пустое. Аномальные значения не были обнаружены.\n",
    "\n",
    "Актуальным периодом для исследования был определен период с 2013 по 2016 год. После фильтрации было удалено чуть больше 14000 строк исходного датафрейма. В среднем длительность \"жизни\" одной игровой платформы равна 7 лет. Актуальными платформами на 2016 год являются PS4 и XOne, их можно отнести к потенциально прибыльным, так как продажи для этих платформ растут начиная с момента их появления на рынке, после этого года все остальные платформы ушли на второй план. На продажи, хоть и несильно, влияют оценки критиков, оценки пользователей почти не имеют веса. Самыми популярными жанрами являются Shooter, Sports и Platform, самыми непопулярными - Puzzle и Adventure.\n",
    "\n",
    "Были составлены портреты пользователей из разных регионов:\n",
    "\n",
    "**Северная Америка** (600 млн. человек)\n",
    "\n",
    "Самой популярной игровой платформой является PS4, самые популярные жанры - Action, Shooter и Sports. В основном игры, проданные в этом регионе, обладают возрастным рейтингом M (Mature) для взрослых.\n",
    "\n",
    "**Европа** (740 млн. человек)\n",
    "\n",
    "Топ популярных игровых платформ совпадает с топом в Северной Америке. Топ популярных жанров также совпадает, кроме 5-ой строчки - здесь расположен Racing вместо Misc. Здесь тоже предпочитают игры для взрослых.\n",
    "\n",
    "**Япония** (125 млн. человек)\n",
    "\n",
    "Самый уникальный по игровым предпочтениям регион: самый популярный жанр - Role-Playing, на втором месте Action, остальные занимают примерно одинаковую долю. Все популярные платформы были разработаны здесь и самая популярная для этого региона - 3DS, занимает половину рынка.\n",
    "\n",
    "Были проверены две гипотезы:\n",
    "\n",
    "- Гипотеза о том, что средние пользовательские рейтинги платформ Xbox One и PC одинаковые - **подтверждена**, рейтинги равные\n",
    "- Гипотеза о том, что пользовательские рейтинги жанров Action и Sports разные - **подтверждена**, рейтинги разные\n",
    "\n",
    "**Общие рекомендации:** стоит обратить внимания на игры, которые будут выпускаться для платформ PS4 и Xbox One, эти две платформы сейчас лидируют на рынке игровых консолей, остальные платформы ушли на второй план после их выхода. Жанр игр, который пользуется наибольшим спросом - Shooter. При проведении рекламной компании стоит опираться на какой-нибудь шутер, который выпускают для PS4 и Xbox One, желательно с рейтингом M (для взрослых)."
   ]
  }
 ],
 "metadata": {
  "ExecuteTimeLog": [
   {
    "duration": 1235,
    "start_time": "2023-05-01T09:32:54.722Z"
   },
   {
    "duration": 136,
    "start_time": "2023-05-01T09:32:56.381Z"
   },
   {
    "duration": 202,
    "start_time": "2023-05-01T09:33:37.855Z"
   },
   {
    "duration": 73,
    "start_time": "2023-05-01T09:33:59.284Z"
   },
   {
    "duration": 5,
    "start_time": "2023-05-01T09:35:08.105Z"
   },
   {
    "duration": 6,
    "start_time": "2023-05-01T09:35:41.200Z"
   },
   {
    "duration": 5,
    "start_time": "2023-05-01T09:38:12.182Z"
   },
   {
    "duration": 6,
    "start_time": "2023-05-01T09:39:46.890Z"
   },
   {
    "duration": 4,
    "start_time": "2023-05-01T09:41:42.084Z"
   },
   {
    "duration": 17,
    "start_time": "2023-05-01T09:42:45.492Z"
   },
   {
    "duration": 71,
    "start_time": "2023-05-01T09:49:00.756Z"
   },
   {
    "duration": 71,
    "start_time": "2023-05-01T09:52:31.544Z"
   },
   {
    "duration": 23,
    "start_time": "2023-05-01T09:53:06.309Z"
   },
   {
    "duration": 710,
    "start_time": "2023-05-01T09:53:20.355Z"
   },
   {
    "duration": 6,
    "start_time": "2023-05-01T09:53:33.252Z"
   },
   {
    "duration": 13,
    "start_time": "2023-05-01T09:54:05.733Z"
   },
   {
    "duration": 12,
    "start_time": "2023-05-01T09:54:49.037Z"
   },
   {
    "duration": 9,
    "start_time": "2023-05-01T09:56:10.263Z"
   },
   {
    "duration": 78,
    "start_time": "2023-05-01T10:27:08.349Z"
   },
   {
    "duration": 5,
    "start_time": "2023-05-01T10:32:31.762Z"
   },
   {
    "duration": 5,
    "start_time": "2023-05-01T10:32:53.215Z"
   },
   {
    "duration": 6,
    "start_time": "2023-05-01T10:32:59.760Z"
   },
   {
    "duration": 11,
    "start_time": "2023-05-01T10:35:17.527Z"
   },
   {
    "duration": 5,
    "start_time": "2023-05-01T10:35:44.350Z"
   },
   {
    "duration": 9,
    "start_time": "2023-05-01T10:37:18.717Z"
   },
   {
    "duration": 3,
    "start_time": "2023-05-01T10:37:50.551Z"
   },
   {
    "duration": 18,
    "start_time": "2023-05-01T10:42:32.641Z"
   },
   {
    "duration": 26,
    "start_time": "2023-05-01T10:42:37.980Z"
   },
   {
    "duration": 26,
    "start_time": "2023-05-01T10:44:17.464Z"
   },
   {
    "duration": 27,
    "start_time": "2023-05-01T10:44:37.904Z"
   },
   {
    "duration": 1253,
    "start_time": "2023-05-01T10:45:01.606Z"
   },
   {
    "duration": 90,
    "start_time": "2023-05-01T10:45:02.861Z"
   },
   {
    "duration": 5,
    "start_time": "2023-05-01T10:45:02.953Z"
   },
   {
    "duration": 24,
    "start_time": "2023-05-01T10:45:02.959Z"
   },
   {
    "duration": 487,
    "start_time": "2023-05-01T10:45:07.149Z"
   },
   {
    "duration": 1168,
    "start_time": "2023-05-01T10:45:46.302Z"
   },
   {
    "duration": 107,
    "start_time": "2023-05-01T10:45:47.473Z"
   },
   {
    "duration": 5,
    "start_time": "2023-05-01T10:45:47.582Z"
   },
   {
    "duration": 20,
    "start_time": "2023-05-01T10:45:51.013Z"
   },
   {
    "duration": 134,
    "start_time": "2023-05-01T10:50:13.944Z"
   },
   {
    "duration": 32,
    "start_time": "2023-05-01T10:50:27.823Z"
   },
   {
    "duration": 360,
    "start_time": "2023-05-01T10:51:10.128Z"
   },
   {
    "duration": 18,
    "start_time": "2023-05-01T10:51:27.843Z"
   },
   {
    "duration": 403,
    "start_time": "2023-05-01T10:51:40.320Z"
   },
   {
    "duration": 1070,
    "start_time": "2023-05-01T10:51:59.114Z"
   },
   {
    "duration": 86,
    "start_time": "2023-05-01T10:52:00.186Z"
   },
   {
    "duration": 5,
    "start_time": "2023-05-01T10:52:00.273Z"
   },
   {
    "duration": 20,
    "start_time": "2023-05-01T10:52:03.614Z"
   },
   {
    "duration": 22,
    "start_time": "2023-05-01T10:54:43.620Z"
   },
   {
    "duration": 30,
    "start_time": "2023-05-01T10:54:58.622Z"
   },
   {
    "duration": 25,
    "start_time": "2023-05-01T10:59:10.853Z"
   },
   {
    "duration": 28,
    "start_time": "2023-05-01T10:59:19.521Z"
   },
   {
    "duration": 52,
    "start_time": "2023-05-01T10:59:54.103Z"
   },
   {
    "duration": 47,
    "start_time": "2023-05-01T11:00:23.027Z"
   },
   {
    "duration": 1182,
    "start_time": "2023-05-01T11:00:27.897Z"
   },
   {
    "duration": 80,
    "start_time": "2023-05-01T11:00:29.081Z"
   },
   {
    "duration": 5,
    "start_time": "2023-05-01T11:00:29.163Z"
   },
   {
    "duration": 68,
    "start_time": "2023-05-01T11:00:30.909Z"
   },
   {
    "duration": 9,
    "start_time": "2023-05-01T11:02:09.561Z"
   },
   {
    "duration": 47,
    "start_time": "2023-05-01T11:02:29.360Z"
   },
   {
    "duration": 55,
    "start_time": "2023-05-01T11:03:28.158Z"
   },
   {
    "duration": 1164,
    "start_time": "2023-05-01T11:03:31.610Z"
   },
   {
    "duration": 91,
    "start_time": "2023-05-01T11:03:32.776Z"
   },
   {
    "duration": 6,
    "start_time": "2023-05-01T11:03:32.869Z"
   },
   {
    "duration": 53,
    "start_time": "2023-05-01T11:03:32.877Z"
   },
   {
    "duration": 40,
    "start_time": "2023-05-01T11:04:17.059Z"
   },
   {
    "duration": 34,
    "start_time": "2023-05-01T11:04:50.618Z"
   },
   {
    "duration": 52,
    "start_time": "2023-05-01T11:05:08.134Z"
   },
   {
    "duration": 39,
    "start_time": "2023-05-01T11:05:22.753Z"
   },
   {
    "duration": 88,
    "start_time": "2023-05-01T11:05:59.001Z"
   },
   {
    "duration": 27,
    "start_time": "2023-05-01T11:06:11.827Z"
   },
   {
    "duration": 29,
    "start_time": "2023-05-01T11:07:51.249Z"
   },
   {
    "duration": 22,
    "start_time": "2023-05-01T11:08:53.654Z"
   },
   {
    "duration": 33,
    "start_time": "2023-05-01T11:09:12.916Z"
   },
   {
    "duration": 32,
    "start_time": "2023-05-01T11:09:22.640Z"
   },
   {
    "duration": 20,
    "start_time": "2023-05-01T11:11:01.432Z"
   },
   {
    "duration": 39,
    "start_time": "2023-05-01T11:11:23.804Z"
   },
   {
    "duration": 43,
    "start_time": "2023-05-01T11:12:08.140Z"
   },
   {
    "duration": 26,
    "start_time": "2023-05-01T11:13:26.163Z"
   },
   {
    "duration": 26,
    "start_time": "2023-05-01T11:13:32.305Z"
   },
   {
    "duration": 1127,
    "start_time": "2023-05-01T11:14:13.261Z"
   },
   {
    "duration": 89,
    "start_time": "2023-05-01T11:14:14.390Z"
   },
   {
    "duration": 6,
    "start_time": "2023-05-01T11:14:14.481Z"
   },
   {
    "duration": 33,
    "start_time": "2023-05-01T11:14:14.488Z"
   },
   {
    "duration": 29,
    "start_time": "2023-05-01T11:14:35.134Z"
   },
   {
    "duration": 31,
    "start_time": "2023-05-01T11:15:02.136Z"
   },
   {
    "duration": 1084,
    "start_time": "2023-05-01T11:15:43.262Z"
   },
   {
    "duration": 83,
    "start_time": "2023-05-01T11:15:44.348Z"
   },
   {
    "duration": 6,
    "start_time": "2023-05-01T11:15:44.433Z"
   },
   {
    "duration": 103,
    "start_time": "2023-05-01T11:15:51.133Z"
   },
   {
    "duration": 21,
    "start_time": "2023-05-01T11:18:01.395Z"
   },
   {
    "duration": 56,
    "start_time": "2023-05-01T11:18:11.822Z"
   },
   {
    "duration": 35,
    "start_time": "2023-05-01T11:18:15.387Z"
   },
   {
    "duration": 29,
    "start_time": "2023-05-01T11:18:22.826Z"
   },
   {
    "duration": 1070,
    "start_time": "2023-05-01T11:19:03.941Z"
   },
   {
    "duration": 79,
    "start_time": "2023-05-01T11:19:05.013Z"
   },
   {
    "duration": 4,
    "start_time": "2023-05-01T11:19:05.094Z"
   },
   {
    "duration": 4,
    "start_time": "2023-05-01T11:21:13.083Z"
   },
   {
    "duration": 14,
    "start_time": "2023-05-01T11:21:19.228Z"
   },
   {
    "duration": 15,
    "start_time": "2023-05-01T11:21:26.997Z"
   },
   {
    "duration": 17,
    "start_time": "2023-05-01T11:21:48.804Z"
   },
   {
    "duration": 1043,
    "start_time": "2023-05-01T11:22:21.332Z"
   },
   {
    "duration": 83,
    "start_time": "2023-05-01T11:22:22.377Z"
   },
   {
    "duration": 5,
    "start_time": "2023-05-01T11:22:22.462Z"
   },
   {
    "duration": 4,
    "start_time": "2023-05-01T11:24:48.705Z"
   },
   {
    "duration": 5,
    "start_time": "2023-05-01T11:25:05.259Z"
   },
   {
    "duration": 4,
    "start_time": "2023-05-01T11:25:11.350Z"
   },
   {
    "duration": 4,
    "start_time": "2023-05-01T11:25:15.618Z"
   },
   {
    "duration": 6,
    "start_time": "2023-05-01T11:25:57.450Z"
   },
   {
    "duration": 10,
    "start_time": "2023-05-01T11:27:13.459Z"
   },
   {
    "duration": 11,
    "start_time": "2023-05-01T11:28:14.760Z"
   },
   {
    "duration": 4,
    "start_time": "2023-05-01T11:29:26.396Z"
   },
   {
    "duration": 18,
    "start_time": "2023-05-01T11:29:33.604Z"
   },
   {
    "duration": 4,
    "start_time": "2023-05-01T11:30:05.943Z"
   },
   {
    "duration": 5,
    "start_time": "2023-05-01T11:30:16.933Z"
   },
   {
    "duration": 6,
    "start_time": "2023-05-01T11:30:39.624Z"
   },
   {
    "duration": 537,
    "start_time": "2023-05-01T11:31:03.099Z"
   },
   {
    "duration": 12,
    "start_time": "2023-05-01T11:36:57.921Z"
   },
   {
    "duration": 1050,
    "start_time": "2023-05-01T11:37:25.952Z"
   },
   {
    "duration": 82,
    "start_time": "2023-05-01T11:37:27.004Z"
   },
   {
    "duration": 5,
    "start_time": "2023-05-01T11:37:27.087Z"
   },
   {
    "duration": 84,
    "start_time": "2023-05-01T11:38:22.004Z"
   },
   {
    "duration": 75,
    "start_time": "2023-05-01T11:39:23.905Z"
   },
   {
    "duration": 123,
    "start_time": "2023-05-01T11:42:02.744Z"
   },
   {
    "duration": 3,
    "start_time": "2023-05-01T11:42:24.662Z"
   },
   {
    "duration": 93,
    "start_time": "2023-05-01T11:42:24.666Z"
   },
   {
    "duration": 5,
    "start_time": "2023-05-01T11:42:24.760Z"
   },
   {
    "duration": 35,
    "start_time": "2023-05-01T11:42:28.234Z"
   },
   {
    "duration": 14,
    "start_time": "2023-05-01T11:42:51.592Z"
   },
   {
    "duration": 20,
    "start_time": "2023-05-01T11:44:19.190Z"
   },
   {
    "duration": 15,
    "start_time": "2023-05-01T11:44:28.336Z"
   },
   {
    "duration": 24,
    "start_time": "2023-05-01T11:44:46.491Z"
   },
   {
    "duration": 27,
    "start_time": "2023-05-01T11:46:15.229Z"
   },
   {
    "duration": 1193,
    "start_time": "2023-05-01T11:49:40.079Z"
   },
   {
    "duration": 84,
    "start_time": "2023-05-01T11:49:41.274Z"
   },
   {
    "duration": 6,
    "start_time": "2023-05-01T11:49:41.360Z"
   },
   {
    "duration": 13,
    "start_time": "2023-05-01T11:49:41.367Z"
   },
   {
    "duration": 4,
    "start_time": "2023-05-01T11:53:54.817Z"
   },
   {
    "duration": 91,
    "start_time": "2023-05-01T11:54:01.596Z"
   },
   {
    "duration": 4,
    "start_time": "2023-05-01T11:54:06.337Z"
   },
   {
    "duration": 4,
    "start_time": "2023-05-01T11:54:25.412Z"
   },
   {
    "duration": 5,
    "start_time": "2023-05-01T11:54:40.708Z"
   },
   {
    "duration": 4,
    "start_time": "2023-05-01T11:56:16.789Z"
   },
   {
    "duration": 3,
    "start_time": "2023-05-01T11:56:19.051Z"
   },
   {
    "duration": 4,
    "start_time": "2023-05-01T11:56:24.367Z"
   },
   {
    "duration": 4,
    "start_time": "2023-05-01T11:56:44.450Z"
   },
   {
    "duration": 32,
    "start_time": "2023-05-01T12:01:02.344Z"
   },
   {
    "duration": 12,
    "start_time": "2023-05-01T12:01:26.036Z"
   },
   {
    "duration": 14,
    "start_time": "2023-05-01T12:01:42.143Z"
   },
   {
    "duration": 11,
    "start_time": "2023-05-01T12:01:58.612Z"
   },
   {
    "duration": 15,
    "start_time": "2023-05-01T12:02:05.642Z"
   },
   {
    "duration": 17,
    "start_time": "2023-05-01T12:02:35.434Z"
   },
   {
    "duration": 16,
    "start_time": "2023-05-01T12:02:38.753Z"
   },
   {
    "duration": 57,
    "start_time": "2023-05-01T12:02:48.577Z"
   },
   {
    "duration": 11,
    "start_time": "2023-05-01T12:02:52.436Z"
   },
   {
    "duration": 12,
    "start_time": "2023-05-01T12:03:58.557Z"
   },
   {
    "duration": 17,
    "start_time": "2023-05-01T12:05:13.015Z"
   },
   {
    "duration": 26,
    "start_time": "2023-05-01T12:05:19.999Z"
   },
   {
    "duration": 36,
    "start_time": "2023-05-01T12:05:36.718Z"
   },
   {
    "duration": 24,
    "start_time": "2023-05-01T12:05:59.348Z"
   },
   {
    "duration": 1137,
    "start_time": "2023-05-01T12:06:07.534Z"
   },
   {
    "duration": 82,
    "start_time": "2023-05-01T12:06:08.673Z"
   },
   {
    "duration": 5,
    "start_time": "2023-05-01T12:06:08.756Z"
   },
   {
    "duration": 33,
    "start_time": "2023-05-01T12:06:08.762Z"
   },
   {
    "duration": 28,
    "start_time": "2023-05-01T12:06:54.382Z"
   },
   {
    "duration": 99,
    "start_time": "2023-05-01T12:06:58.925Z"
   },
   {
    "duration": 17,
    "start_time": "2023-05-01T12:07:11.691Z"
   },
   {
    "duration": 26,
    "start_time": "2023-05-01T12:07:23.202Z"
   },
   {
    "duration": 23,
    "start_time": "2023-05-01T12:07:28.932Z"
   },
   {
    "duration": 27,
    "start_time": "2023-05-01T12:07:32.705Z"
   },
   {
    "duration": 16,
    "start_time": "2023-05-01T12:08:17.720Z"
   },
   {
    "duration": 12,
    "start_time": "2023-05-01T12:10:46.929Z"
   },
   {
    "duration": 21,
    "start_time": "2023-05-01T12:10:55.415Z"
   },
   {
    "duration": 1001,
    "start_time": "2023-05-01T12:11:10.251Z"
   },
   {
    "duration": 80,
    "start_time": "2023-05-01T12:11:11.253Z"
   },
   {
    "duration": 4,
    "start_time": "2023-05-01T12:11:11.334Z"
   },
   {
    "duration": 24,
    "start_time": "2023-05-01T12:11:19.633Z"
   },
   {
    "duration": 21,
    "start_time": "2023-05-01T12:11:38.033Z"
   },
   {
    "duration": 21,
    "start_time": "2023-05-01T12:12:12.396Z"
   },
   {
    "duration": 23,
    "start_time": "2023-05-01T12:12:17.581Z"
   },
   {
    "duration": 23,
    "start_time": "2023-05-01T12:16:15.927Z"
   },
   {
    "duration": 23,
    "start_time": "2023-05-01T12:16:26.287Z"
   },
   {
    "duration": 25,
    "start_time": "2023-05-01T12:16:32.148Z"
   },
   {
    "duration": 51,
    "start_time": "2023-05-01T12:21:08.343Z"
   },
   {
    "duration": 1031,
    "start_time": "2023-05-01T12:21:11.621Z"
   },
   {
    "duration": 85,
    "start_time": "2023-05-01T12:21:12.654Z"
   },
   {
    "duration": 5,
    "start_time": "2023-05-01T12:21:12.740Z"
   },
   {
    "duration": 90,
    "start_time": "2023-05-01T12:21:12.746Z"
   },
   {
    "duration": 26,
    "start_time": "2023-05-01T12:21:26.893Z"
   },
   {
    "duration": 25,
    "start_time": "2023-05-01T12:21:45.593Z"
   },
   {
    "duration": 24,
    "start_time": "2023-05-01T12:21:58.244Z"
   },
   {
    "duration": 950,
    "start_time": "2023-05-01T12:23:49.686Z"
   },
   {
    "duration": 19,
    "start_time": "2023-05-01T12:24:07.973Z"
   },
   {
    "duration": 26,
    "start_time": "2023-05-01T12:24:21.290Z"
   },
   {
    "duration": 23,
    "start_time": "2023-05-01T12:30:06.501Z"
   },
   {
    "duration": 36,
    "start_time": "2023-05-01T12:30:47.021Z"
   },
   {
    "duration": 32,
    "start_time": "2023-05-01T12:31:06.570Z"
   },
   {
    "duration": 1139,
    "start_time": "2023-05-01T12:31:12.409Z"
   },
   {
    "duration": 76,
    "start_time": "2023-05-01T12:31:13.550Z"
   },
   {
    "duration": 5,
    "start_time": "2023-05-01T12:31:13.627Z"
   },
   {
    "duration": 30,
    "start_time": "2023-05-01T12:31:13.634Z"
   },
   {
    "duration": 36,
    "start_time": "2023-05-01T12:32:21.924Z"
   },
   {
    "duration": 36,
    "start_time": "2023-05-01T12:32:48.064Z"
   },
   {
    "duration": 37,
    "start_time": "2023-05-01T12:33:40.123Z"
   },
   {
    "duration": 40,
    "start_time": "2023-05-01T12:33:43.844Z"
   },
   {
    "duration": 43,
    "start_time": "2023-05-01T12:33:50.262Z"
   },
   {
    "duration": 145,
    "start_time": "2023-05-01T12:34:02.868Z"
   },
   {
    "duration": 40,
    "start_time": "2023-05-01T12:34:06.873Z"
   },
   {
    "duration": 38,
    "start_time": "2023-05-01T12:34:16.327Z"
   },
   {
    "duration": 41,
    "start_time": "2023-05-01T12:43:11.600Z"
   },
   {
    "duration": 34,
    "start_time": "2023-05-01T12:44:04.939Z"
   },
   {
    "duration": 53,
    "start_time": "2023-05-01T12:45:46.101Z"
   },
   {
    "duration": 43,
    "start_time": "2023-05-01T12:46:09.655Z"
   },
   {
    "duration": 43,
    "start_time": "2023-05-01T12:46:40.012Z"
   },
   {
    "duration": 40,
    "start_time": "2023-05-01T12:46:51.030Z"
   },
   {
    "duration": 44,
    "start_time": "2023-05-01T12:46:54.116Z"
   },
   {
    "duration": 46,
    "start_time": "2023-05-01T12:46:56.156Z"
   },
   {
    "duration": 42,
    "start_time": "2023-05-01T12:46:58.714Z"
   },
   {
    "duration": 39,
    "start_time": "2023-05-01T12:47:01.221Z"
   },
   {
    "duration": 52,
    "start_time": "2023-05-01T12:47:07.939Z"
   },
   {
    "duration": 84,
    "start_time": "2023-05-01T12:47:18.038Z"
   },
   {
    "duration": 37,
    "start_time": "2023-05-01T12:51:36.108Z"
   },
   {
    "duration": 4,
    "start_time": "2023-05-01T12:51:57.611Z"
   },
   {
    "duration": 93,
    "start_time": "2023-05-01T12:51:57.618Z"
   },
   {
    "duration": 5,
    "start_time": "2023-05-01T12:51:57.714Z"
   },
   {
    "duration": 61,
    "start_time": "2023-05-01T12:51:57.721Z"
   },
   {
    "duration": 38,
    "start_time": "2023-05-01T12:52:03.503Z"
   },
   {
    "duration": 70,
    "start_time": "2023-05-01T13:20:32.088Z"
   },
   {
    "duration": 34,
    "start_time": "2023-05-01T13:45:26.555Z"
   },
   {
    "duration": 3,
    "start_time": "2023-05-01T13:45:32.752Z"
   },
   {
    "duration": 74,
    "start_time": "2023-05-01T13:45:32.758Z"
   },
   {
    "duration": 4,
    "start_time": "2023-05-01T13:45:32.834Z"
   },
   {
    "duration": 65,
    "start_time": "2023-05-01T13:45:32.840Z"
   },
   {
    "duration": 11,
    "start_time": "2023-05-01T13:45:32.907Z"
   },
   {
    "duration": 210,
    "start_time": "2023-05-01T13:45:52.500Z"
   },
   {
    "duration": 47,
    "start_time": "2023-05-01T13:46:09.753Z"
   },
   {
    "duration": 76,
    "start_time": "2023-05-01T13:46:24.422Z"
   },
   {
    "duration": 64,
    "start_time": "2023-05-01T13:49:08.891Z"
   },
   {
    "duration": 152,
    "start_time": "2023-05-01T13:50:43.947Z"
   },
   {
    "duration": 1098,
    "start_time": "2023-05-01T13:51:32.250Z"
   },
   {
    "duration": 72,
    "start_time": "2023-05-01T13:51:33.350Z"
   },
   {
    "duration": 5,
    "start_time": "2023-05-01T13:51:33.424Z"
   },
   {
    "duration": 77,
    "start_time": "2023-05-01T13:51:33.430Z"
   },
   {
    "duration": 9,
    "start_time": "2023-05-01T13:51:33.509Z"
   },
   {
    "duration": 74,
    "start_time": "2023-05-01T13:52:55.916Z"
   },
   {
    "duration": 72,
    "start_time": "2023-05-01T13:53:06.619Z"
   },
   {
    "duration": 270,
    "start_time": "2023-05-01T13:54:02.709Z"
   },
   {
    "duration": 1126,
    "start_time": "2023-05-01T13:55:24.352Z"
   },
   {
    "duration": 75,
    "start_time": "2023-05-01T13:55:25.480Z"
   },
   {
    "duration": 5,
    "start_time": "2023-05-01T13:55:25.558Z"
   },
   {
    "duration": 77,
    "start_time": "2023-05-01T13:55:25.565Z"
   },
   {
    "duration": 10,
    "start_time": "2023-05-01T13:55:25.644Z"
   },
   {
    "duration": 1157,
    "start_time": "2023-05-01T13:55:50.199Z"
   },
   {
    "duration": 75,
    "start_time": "2023-05-01T13:55:51.358Z"
   },
   {
    "duration": 6,
    "start_time": "2023-05-01T13:55:51.436Z"
   },
   {
    "duration": 181,
    "start_time": "2023-05-01T13:55:51.444Z"
   },
   {
    "duration": 0,
    "start_time": "2023-05-01T13:55:51.626Z"
   },
   {
    "duration": 1069,
    "start_time": "2023-05-01T13:56:19.397Z"
   },
   {
    "duration": 73,
    "start_time": "2023-05-01T13:56:20.469Z"
   },
   {
    "duration": 5,
    "start_time": "2023-05-01T13:56:20.543Z"
   },
   {
    "duration": 78,
    "start_time": "2023-05-01T13:56:20.549Z"
   },
   {
    "duration": 9,
    "start_time": "2023-05-01T13:56:20.628Z"
   },
   {
    "duration": 60,
    "start_time": "2023-05-01T13:56:34.626Z"
   },
   {
    "duration": 60,
    "start_time": "2023-05-01T13:56:43.906Z"
   },
   {
    "duration": 100,
    "start_time": "2023-05-01T13:58:14.716Z"
   },
   {
    "duration": 165,
    "start_time": "2023-05-01T13:59:11.162Z"
   },
   {
    "duration": 1086,
    "start_time": "2023-05-01T13:59:35.960Z"
   },
   {
    "duration": 77,
    "start_time": "2023-05-01T13:59:37.048Z"
   },
   {
    "duration": 5,
    "start_time": "2023-05-01T13:59:37.126Z"
   },
   {
    "duration": 125,
    "start_time": "2023-05-01T13:59:37.133Z"
   },
   {
    "duration": 11,
    "start_time": "2023-05-01T13:59:37.261Z"
   },
   {
    "duration": 123,
    "start_time": "2023-05-01T13:59:44.396Z"
   },
   {
    "duration": 111,
    "start_time": "2023-05-01T14:00:32.932Z"
   },
   {
    "duration": 114,
    "start_time": "2023-05-01T14:00:37.543Z"
   },
   {
    "duration": 110,
    "start_time": "2023-05-01T14:00:58.463Z"
   },
   {
    "duration": 167,
    "start_time": "2023-05-01T14:04:58.343Z"
   },
   {
    "duration": 189,
    "start_time": "2023-05-01T14:05:55.495Z"
   },
   {
    "duration": 107,
    "start_time": "2023-05-01T14:06:19.151Z"
   },
   {
    "duration": 105,
    "start_time": "2023-05-01T14:07:47.208Z"
   },
   {
    "duration": 1015,
    "start_time": "2023-05-01T14:08:21.541Z"
   },
   {
    "duration": 70,
    "start_time": "2023-05-01T14:08:22.559Z"
   },
   {
    "duration": 5,
    "start_time": "2023-05-01T14:08:22.630Z"
   },
   {
    "duration": 75,
    "start_time": "2023-05-01T14:08:22.636Z"
   },
   {
    "duration": 11,
    "start_time": "2023-05-01T14:08:22.713Z"
   },
   {
    "duration": 172,
    "start_time": "2023-05-01T14:10:25.955Z"
   },
   {
    "duration": 77,
    "start_time": "2023-05-01T14:10:31.609Z"
   },
   {
    "duration": 62,
    "start_time": "2023-05-01T14:11:26.019Z"
   },
   {
    "duration": 49,
    "start_time": "2023-05-01T20:04:49.112Z"
   },
   {
    "duration": 1374,
    "start_time": "2023-05-01T20:04:51.857Z"
   },
   {
    "duration": 121,
    "start_time": "2023-05-01T20:04:53.233Z"
   },
   {
    "duration": 4,
    "start_time": "2023-05-01T20:04:53.356Z"
   },
   {
    "duration": 95,
    "start_time": "2023-05-01T20:04:53.362Z"
   },
   {
    "duration": 10,
    "start_time": "2023-05-01T20:04:53.459Z"
   },
   {
    "duration": 85,
    "start_time": "2023-05-01T20:06:49.613Z"
   },
   {
    "duration": 82,
    "start_time": "2023-05-01T20:07:56.305Z"
   },
   {
    "duration": 69,
    "start_time": "2023-05-01T20:08:35.189Z"
   },
   {
    "duration": 67,
    "start_time": "2023-05-01T20:10:44.312Z"
   },
   {
    "duration": 63,
    "start_time": "2023-05-01T20:11:26.116Z"
   },
   {
    "duration": 10,
    "start_time": "2023-05-01T20:12:15.458Z"
   },
   {
    "duration": 18,
    "start_time": "2023-05-01T20:13:04.308Z"
   },
   {
    "duration": 1287,
    "start_time": "2023-05-01T20:14:23.704Z"
   },
   {
    "duration": 77,
    "start_time": "2023-05-01T20:14:24.994Z"
   },
   {
    "duration": 4,
    "start_time": "2023-05-01T20:14:25.073Z"
   },
   {
    "duration": 347,
    "start_time": "2023-05-01T20:14:25.079Z"
   },
   {
    "duration": 0,
    "start_time": "2023-05-01T20:14:25.427Z"
   },
   {
    "duration": 56,
    "start_time": "2023-05-01T20:16:09.939Z"
   },
   {
    "duration": 1195,
    "start_time": "2023-05-01T20:16:13.658Z"
   },
   {
    "duration": 92,
    "start_time": "2023-05-01T20:16:14.855Z"
   },
   {
    "duration": 5,
    "start_time": "2023-05-01T20:16:14.948Z"
   },
   {
    "duration": 56,
    "start_time": "2023-05-01T20:16:14.954Z"
   },
   {
    "duration": 10,
    "start_time": "2023-05-01T20:16:15.012Z"
   },
   {
    "duration": 35,
    "start_time": "2023-05-01T20:16:23.840Z"
   },
   {
    "duration": 43,
    "start_time": "2023-05-01T20:17:53.689Z"
   },
   {
    "duration": 64,
    "start_time": "2023-05-01T20:18:00.959Z"
   },
   {
    "duration": 78,
    "start_time": "2023-05-01T20:18:10.580Z"
   },
   {
    "duration": 81,
    "start_time": "2023-05-01T20:20:22.424Z"
   },
   {
    "duration": 66,
    "start_time": "2023-05-01T20:20:36.956Z"
   },
   {
    "duration": 76,
    "start_time": "2023-05-01T20:21:13.735Z"
   },
   {
    "duration": 900,
    "start_time": "2023-05-01T20:21:28.323Z"
   },
   {
    "duration": 77,
    "start_time": "2023-05-01T20:21:37.028Z"
   },
   {
    "duration": 77,
    "start_time": "2023-05-01T20:21:57.587Z"
   },
   {
    "duration": 67,
    "start_time": "2023-05-01T20:22:05.082Z"
   },
   {
    "duration": 72,
    "start_time": "2023-05-01T20:22:13.431Z"
   },
   {
    "duration": 13,
    "start_time": "2023-05-01T20:22:23.195Z"
   },
   {
    "duration": 65,
    "start_time": "2023-05-01T20:22:25.992Z"
   },
   {
    "duration": 10,
    "start_time": "2023-05-01T20:23:45.609Z"
   },
   {
    "duration": 15,
    "start_time": "2023-05-01T20:23:53.692Z"
   },
   {
    "duration": 99,
    "start_time": "2023-05-01T20:24:58.237Z"
   },
   {
    "duration": 16,
    "start_time": "2023-05-01T20:51:44.736Z"
   },
   {
    "duration": 10,
    "start_time": "2023-05-01T20:52:02.663Z"
   },
   {
    "duration": 5,
    "start_time": "2023-05-01T20:53:07.306Z"
   },
   {
    "duration": 5,
    "start_time": "2023-05-01T20:53:17.420Z"
   },
   {
    "duration": 4,
    "start_time": "2023-05-01T20:53:25.521Z"
   },
   {
    "duration": 7,
    "start_time": "2023-05-01T20:53:33.397Z"
   },
   {
    "duration": 15,
    "start_time": "2023-05-01T20:54:01.998Z"
   },
   {
    "duration": 11,
    "start_time": "2023-05-01T20:54:18.798Z"
   },
   {
    "duration": 12,
    "start_time": "2023-05-01T20:54:25.501Z"
   },
   {
    "duration": 11,
    "start_time": "2023-05-01T20:54:28.639Z"
   },
   {
    "duration": 9,
    "start_time": "2023-05-01T20:54:41.026Z"
   },
   {
    "duration": 41,
    "start_time": "2023-05-01T20:55:38.854Z"
   },
   {
    "duration": 15,
    "start_time": "2023-05-01T20:55:46.949Z"
   },
   {
    "duration": 14,
    "start_time": "2023-05-01T20:57:00.661Z"
   },
   {
    "duration": 12,
    "start_time": "2023-05-01T20:57:04.748Z"
   },
   {
    "duration": 11,
    "start_time": "2023-05-01T20:57:08.860Z"
   },
   {
    "duration": 13,
    "start_time": "2023-05-01T20:57:23.455Z"
   },
   {
    "duration": 9,
    "start_time": "2023-05-01T21:00:02.706Z"
   },
   {
    "duration": 9,
    "start_time": "2023-05-01T21:01:09.705Z"
   },
   {
    "duration": 11,
    "start_time": "2023-05-01T21:02:14.003Z"
   },
   {
    "duration": 10,
    "start_time": "2023-05-01T21:02:21.902Z"
   },
   {
    "duration": 23,
    "start_time": "2023-05-01T21:07:16.096Z"
   },
   {
    "duration": 9,
    "start_time": "2023-05-01T21:07:35.232Z"
   },
   {
    "duration": 10,
    "start_time": "2023-05-01T21:07:48.000Z"
   },
   {
    "duration": 9,
    "start_time": "2023-05-01T21:07:53.033Z"
   },
   {
    "duration": 10,
    "start_time": "2023-05-01T21:09:26.636Z"
   },
   {
    "duration": 12,
    "start_time": "2023-05-01T21:09:36.110Z"
   },
   {
    "duration": 12,
    "start_time": "2023-05-01T21:09:39.980Z"
   },
   {
    "duration": 14,
    "start_time": "2023-05-01T21:10:17.277Z"
   },
   {
    "duration": 11,
    "start_time": "2023-05-01T21:10:33.399Z"
   },
   {
    "duration": 85,
    "start_time": "2023-05-01T21:11:29.379Z"
   },
   {
    "duration": 10,
    "start_time": "2023-05-01T21:17:11.996Z"
   },
   {
    "duration": 9,
    "start_time": "2023-05-01T21:20:01.014Z"
   },
   {
    "duration": 9,
    "start_time": "2023-05-01T21:20:09.910Z"
   },
   {
    "duration": 7,
    "start_time": "2023-05-01T21:20:13.932Z"
   },
   {
    "duration": 75,
    "start_time": "2023-05-01T21:23:51.558Z"
   },
   {
    "duration": 24,
    "start_time": "2023-05-01T21:24:08.999Z"
   },
   {
    "duration": 26,
    "start_time": "2023-05-01T21:24:15.982Z"
   },
   {
    "duration": 40,
    "start_time": "2023-05-01T21:25:04.404Z"
   },
   {
    "duration": 10,
    "start_time": "2023-05-01T21:26:13.820Z"
   },
   {
    "duration": 13,
    "start_time": "2023-05-01T21:27:58.225Z"
   },
   {
    "duration": 36,
    "start_time": "2023-05-01T21:37:55.168Z"
   },
   {
    "duration": 44,
    "start_time": "2023-05-01T21:43:39.821Z"
   },
   {
    "duration": 10,
    "start_time": "2023-05-01T21:44:03.921Z"
   },
   {
    "duration": 17,
    "start_time": "2023-05-01T21:45:15.356Z"
   },
   {
    "duration": 23,
    "start_time": "2023-05-01T21:53:52.609Z"
   },
   {
    "duration": 15,
    "start_time": "2023-05-01T21:55:19.161Z"
   },
   {
    "duration": 18,
    "start_time": "2023-05-01T21:55:31.918Z"
   },
   {
    "duration": 22,
    "start_time": "2023-05-01T21:56:17.018Z"
   },
   {
    "duration": 1352,
    "start_time": "2023-05-02T09:44:11.055Z"
   },
   {
    "duration": 278,
    "start_time": "2023-05-02T09:44:12.410Z"
   },
   {
    "duration": 6,
    "start_time": "2023-05-02T09:44:12.690Z"
   },
   {
    "duration": 119,
    "start_time": "2023-05-02T09:44:12.699Z"
   },
   {
    "duration": 14,
    "start_time": "2023-05-02T09:44:12.820Z"
   },
   {
    "duration": 118,
    "start_time": "2023-05-02T11:41:17.277Z"
   },
   {
    "duration": 35,
    "start_time": "2023-05-02T11:52:47.641Z"
   },
   {
    "duration": 16,
    "start_time": "2023-05-02T12:01:22.079Z"
   },
   {
    "duration": 35,
    "start_time": "2023-05-02T12:06:55.612Z"
   },
   {
    "duration": 1391,
    "start_time": "2023-05-02T12:16:02.212Z"
   },
   {
    "duration": 118,
    "start_time": "2023-05-02T12:16:03.606Z"
   },
   {
    "duration": 23,
    "start_time": "2023-05-02T12:16:03.738Z"
   },
   {
    "duration": 103,
    "start_time": "2023-05-02T12:16:03.763Z"
   },
   {
    "duration": 28,
    "start_time": "2023-05-02T12:16:03.868Z"
   },
   {
    "duration": 82,
    "start_time": "2023-05-02T12:16:03.898Z"
   },
   {
    "duration": 22,
    "start_time": "2023-05-02T12:16:03.982Z"
   },
   {
    "duration": 85,
    "start_time": "2023-05-02T12:16:04.006Z"
   },
   {
    "duration": 46,
    "start_time": "2023-05-02T12:16:04.092Z"
   },
   {
    "duration": 90,
    "start_time": "2023-05-02T12:16:16.409Z"
   },
   {
    "duration": 1577,
    "start_time": "2023-05-02T12:16:28.916Z"
   },
   {
    "duration": 118,
    "start_time": "2023-05-02T12:16:30.495Z"
   },
   {
    "duration": 21,
    "start_time": "2023-05-02T12:16:30.615Z"
   },
   {
    "duration": 200,
    "start_time": "2023-05-02T12:16:30.648Z"
   },
   {
    "duration": 16,
    "start_time": "2023-05-02T12:16:30.861Z"
   },
   {
    "duration": 45,
    "start_time": "2023-05-02T12:16:30.880Z"
   },
   {
    "duration": 64,
    "start_time": "2023-05-02T12:16:30.927Z"
   },
   {
    "duration": 75,
    "start_time": "2023-05-02T12:16:30.993Z"
   },
   {
    "duration": 43,
    "start_time": "2023-05-02T12:16:31.070Z"
   },
   {
    "duration": 3,
    "start_time": "2023-05-02T12:18:00.280Z"
   },
   {
    "duration": 166,
    "start_time": "2023-05-02T12:18:00.285Z"
   },
   {
    "duration": 5,
    "start_time": "2023-05-02T12:18:00.455Z"
   },
   {
    "duration": 113,
    "start_time": "2023-05-02T12:18:00.462Z"
   },
   {
    "duration": 15,
    "start_time": "2023-05-02T12:18:00.578Z"
   },
   {
    "duration": 88,
    "start_time": "2023-05-02T12:18:00.595Z"
   },
   {
    "duration": 75,
    "start_time": "2023-05-02T12:18:00.686Z"
   },
   {
    "duration": 46,
    "start_time": "2023-05-02T12:18:00.767Z"
   },
   {
    "duration": 64,
    "start_time": "2023-05-02T12:18:00.815Z"
   },
   {
    "duration": 108,
    "start_time": "2023-05-02T12:18:25.777Z"
   },
   {
    "duration": 1419,
    "start_time": "2023-05-02T12:18:38.789Z"
   },
   {
    "duration": 104,
    "start_time": "2023-05-02T12:18:40.210Z"
   },
   {
    "duration": 13,
    "start_time": "2023-05-02T12:18:40.315Z"
   },
   {
    "duration": 107,
    "start_time": "2023-05-02T12:18:40.330Z"
   },
   {
    "duration": 14,
    "start_time": "2023-05-02T12:18:40.444Z"
   },
   {
    "duration": 26,
    "start_time": "2023-05-02T12:18:40.460Z"
   },
   {
    "duration": 24,
    "start_time": "2023-05-02T12:18:40.487Z"
   },
   {
    "duration": 60,
    "start_time": "2023-05-02T12:18:40.513Z"
   },
   {
    "duration": 13,
    "start_time": "2023-05-02T12:18:40.574Z"
   },
   {
    "duration": 34,
    "start_time": "2023-05-02T12:21:01.543Z"
   },
   {
    "duration": 47,
    "start_time": "2023-05-02T12:21:12.707Z"
   },
   {
    "duration": 37,
    "start_time": "2023-05-02T12:26:13.853Z"
   },
   {
    "duration": 122,
    "start_time": "2023-05-02T12:41:49.061Z"
   },
   {
    "duration": 350,
    "start_time": "2023-05-02T12:41:59.788Z"
   },
   {
    "duration": 358,
    "start_time": "2023-05-02T12:42:28.241Z"
   },
   {
    "duration": 484,
    "start_time": "2023-05-02T12:42:46.539Z"
   },
   {
    "duration": 415,
    "start_time": "2023-05-02T12:42:58.988Z"
   },
   {
    "duration": 481,
    "start_time": "2023-05-02T12:43:21.348Z"
   },
   {
    "duration": 336,
    "start_time": "2023-05-02T12:43:30.060Z"
   },
   {
    "duration": 501,
    "start_time": "2023-05-02T12:48:48.873Z"
   },
   {
    "duration": 13,
    "start_time": "2023-05-02T12:50:13.811Z"
   },
   {
    "duration": 28,
    "start_time": "2023-05-02T12:51:56.339Z"
   },
   {
    "duration": 20,
    "start_time": "2023-05-02T12:53:00.261Z"
   },
   {
    "duration": 26,
    "start_time": "2023-05-02T12:53:34.674Z"
   },
   {
    "duration": 41,
    "start_time": "2023-05-02T12:53:50.006Z"
   },
   {
    "duration": 31,
    "start_time": "2023-05-02T12:56:04.259Z"
   },
   {
    "duration": 45,
    "start_time": "2023-05-02T12:56:27.707Z"
   },
   {
    "duration": 30,
    "start_time": "2023-05-02T12:56:36.664Z"
   },
   {
    "duration": 15,
    "start_time": "2023-05-02T12:56:59.667Z"
   },
   {
    "duration": 353,
    "start_time": "2023-05-02T12:57:07.059Z"
   },
   {
    "duration": 37,
    "start_time": "2023-05-02T12:57:17.274Z"
   },
   {
    "duration": 34,
    "start_time": "2023-05-02T12:59:58.282Z"
   },
   {
    "duration": 17,
    "start_time": "2023-05-02T13:00:08.340Z"
   },
   {
    "duration": 12,
    "start_time": "2023-05-02T13:00:15.943Z"
   },
   {
    "duration": 16,
    "start_time": "2023-05-02T13:02:27.519Z"
   },
   {
    "duration": 23,
    "start_time": "2023-05-02T13:02:39.735Z"
   },
   {
    "duration": 31,
    "start_time": "2023-05-02T13:04:16.203Z"
   },
   {
    "duration": 41,
    "start_time": "2023-05-02T13:04:34.640Z"
   },
   {
    "duration": 7073,
    "start_time": "2023-05-02T13:08:19.769Z"
   },
   {
    "duration": 57,
    "start_time": "2023-05-02T13:09:05.573Z"
   },
   {
    "duration": 2569,
    "start_time": "2023-05-02T13:10:33.389Z"
   },
   {
    "duration": 3103,
    "start_time": "2023-05-02T13:10:56.747Z"
   },
   {
    "duration": 44,
    "start_time": "2023-05-02T13:11:30.343Z"
   },
   {
    "duration": 7,
    "start_time": "2023-05-02T13:12:34.797Z"
   },
   {
    "duration": 14,
    "start_time": "2023-05-02T13:12:56.451Z"
   },
   {
    "duration": 9,
    "start_time": "2023-05-02T13:12:59.758Z"
   },
   {
    "duration": 203,
    "start_time": "2023-05-02T13:13:21.796Z"
   },
   {
    "duration": 211,
    "start_time": "2023-05-02T13:13:28.671Z"
   },
   {
    "duration": 15,
    "start_time": "2023-05-02T13:13:31.853Z"
   },
   {
    "duration": 9,
    "start_time": "2023-05-02T13:13:40.496Z"
   },
   {
    "duration": 161,
    "start_time": "2023-05-02T13:17:39.055Z"
   },
   {
    "duration": 418,
    "start_time": "2023-05-02T13:17:44.463Z"
   },
   {
    "duration": 70,
    "start_time": "2023-05-02T13:18:36.084Z"
   },
   {
    "duration": 138,
    "start_time": "2023-05-02T13:19:03.359Z"
   },
   {
    "duration": 70,
    "start_time": "2023-05-02T13:19:25.335Z"
   },
   {
    "duration": 1567,
    "start_time": "2023-05-02T13:21:01.184Z"
   },
   {
    "duration": 144,
    "start_time": "2023-05-02T13:21:02.765Z"
   },
   {
    "duration": 73,
    "start_time": "2023-05-02T13:21:02.914Z"
   },
   {
    "duration": 151,
    "start_time": "2023-05-02T13:21:02.991Z"
   },
   {
    "duration": 15,
    "start_time": "2023-05-02T13:21:03.144Z"
   },
   {
    "duration": 84,
    "start_time": "2023-05-02T13:21:03.161Z"
   },
   {
    "duration": 71,
    "start_time": "2023-05-02T13:21:03.248Z"
   },
   {
    "duration": 119,
    "start_time": "2023-05-02T13:21:03.327Z"
   },
   {
    "duration": 85,
    "start_time": "2023-05-02T13:21:03.449Z"
   },
   {
    "duration": 445,
    "start_time": "2023-05-02T13:21:03.544Z"
   },
   {
    "duration": 12505,
    "start_time": "2023-05-02T13:21:03.992Z"
   },
   {
    "duration": 14,
    "start_time": "2023-05-02T13:21:43.302Z"
   },
   {
    "duration": 32243,
    "start_time": "2023-05-02T13:22:34.704Z"
   },
   {
    "duration": 8,
    "start_time": "2023-05-02T13:24:08.652Z"
   },
   {
    "duration": 28,
    "start_time": "2023-05-02T13:25:34.036Z"
   },
   {
    "duration": 21,
    "start_time": "2023-05-02T13:25:59.039Z"
   },
   {
    "duration": 26,
    "start_time": "2023-05-02T13:26:03.564Z"
   },
   {
    "duration": 24,
    "start_time": "2023-05-02T13:27:09.662Z"
   },
   {
    "duration": 39,
    "start_time": "2023-05-02T13:27:45.313Z"
   },
   {
    "duration": 2772,
    "start_time": "2023-05-02T13:28:29.710Z"
   },
   {
    "duration": 33,
    "start_time": "2023-05-02T13:28:42.310Z"
   },
   {
    "duration": 30,
    "start_time": "2023-05-02T13:29:10.147Z"
   },
   {
    "duration": 25,
    "start_time": "2023-05-02T13:29:19.260Z"
   },
   {
    "duration": 155,
    "start_time": "2023-05-02T13:29:25.823Z"
   },
   {
    "duration": 241,
    "start_time": "2023-05-02T13:29:29.832Z"
   },
   {
    "duration": 235,
    "start_time": "2023-05-02T13:30:25.236Z"
   },
   {
    "duration": 215,
    "start_time": "2023-05-02T13:30:40.549Z"
   },
   {
    "duration": 240,
    "start_time": "2023-05-02T13:30:52.008Z"
   },
   {
    "duration": 219,
    "start_time": "2023-05-02T13:30:56.845Z"
   },
   {
    "duration": 188,
    "start_time": "2023-05-02T13:33:39.151Z"
   },
   {
    "duration": 114,
    "start_time": "2023-05-02T13:33:51.110Z"
   },
   {
    "duration": 47,
    "start_time": "2023-05-02T13:33:54.348Z"
   },
   {
    "duration": 1205,
    "start_time": "2023-05-02T13:34:01.652Z"
   },
   {
    "duration": 93,
    "start_time": "2023-05-02T13:39:51.007Z"
   },
   {
    "duration": 891,
    "start_time": "2023-05-02T13:40:04.928Z"
   },
   {
    "duration": 775,
    "start_time": "2023-05-02T13:40:18.450Z"
   },
   {
    "duration": 800,
    "start_time": "2023-05-02T13:40:28.607Z"
   },
   {
    "duration": 1067,
    "start_time": "2023-05-02T13:41:03.404Z"
   },
   {
    "duration": 1181,
    "start_time": "2023-05-02T13:41:12.379Z"
   },
   {
    "duration": 1103,
    "start_time": "2023-05-02T13:41:26.449Z"
   },
   {
    "duration": 1509,
    "start_time": "2023-05-02T13:42:11.927Z"
   },
   {
    "duration": 1046,
    "start_time": "2023-05-02T13:42:43.308Z"
   },
   {
    "duration": 1082,
    "start_time": "2023-05-02T13:45:57.468Z"
   },
   {
    "duration": 1187,
    "start_time": "2023-05-02T13:47:30.503Z"
   },
   {
    "duration": 2126,
    "start_time": "2023-05-02T13:48:56.348Z"
   },
   {
    "duration": 2586,
    "start_time": "2023-05-02T13:49:05.514Z"
   },
   {
    "duration": 172,
    "start_time": "2023-05-02T13:49:16.850Z"
   },
   {
    "duration": 1180,
    "start_time": "2023-05-02T13:49:26.519Z"
   },
   {
    "duration": 1386,
    "start_time": "2023-05-02T13:49:33.415Z"
   },
   {
    "duration": 1754,
    "start_time": "2023-05-02T13:49:38.734Z"
   },
   {
    "duration": 1218,
    "start_time": "2023-05-02T13:50:44.034Z"
   },
   {
    "duration": 1099,
    "start_time": "2023-05-02T14:25:22.945Z"
   },
   {
    "duration": 2231,
    "start_time": "2023-05-02T14:26:04.315Z"
   },
   {
    "duration": 2709,
    "start_time": "2023-05-02T14:27:32.452Z"
   },
   {
    "duration": 1576,
    "start_time": "2023-05-02T14:28:01.939Z"
   },
   {
    "duration": 1426,
    "start_time": "2023-05-02T14:28:48.444Z"
   },
   {
    "duration": 1370,
    "start_time": "2023-05-02T14:29:21.032Z"
   },
   {
    "duration": 1751,
    "start_time": "2023-05-02T14:29:35.478Z"
   },
   {
    "duration": 1784,
    "start_time": "2023-05-02T14:30:36.495Z"
   },
   {
    "duration": 1599,
    "start_time": "2023-05-02T14:30:53.056Z"
   },
   {
    "duration": 1799,
    "start_time": "2023-05-02T14:31:22.060Z"
   },
   {
    "duration": 1748,
    "start_time": "2023-05-02T14:33:04.199Z"
   },
   {
    "duration": 1085,
    "start_time": "2023-05-02T14:33:24.068Z"
   },
   {
    "duration": 1178,
    "start_time": "2023-05-02T14:41:10.961Z"
   },
   {
    "duration": 3,
    "start_time": "2023-05-02T14:41:31.600Z"
   },
   {
    "duration": 5,
    "start_time": "2023-05-02T14:41:36.496Z"
   },
   {
    "duration": 955,
    "start_time": "2023-05-02T14:41:42.605Z"
   },
   {
    "duration": 290,
    "start_time": "2023-05-02T14:42:04.787Z"
   },
   {
    "duration": 843,
    "start_time": "2023-05-02T14:42:09.999Z"
   },
   {
    "duration": 22,
    "start_time": "2023-05-02T14:43:15.518Z"
   },
   {
    "duration": 1397,
    "start_time": "2023-05-02T14:43:32.164Z"
   },
   {
    "duration": 1124,
    "start_time": "2023-05-02T14:47:32.210Z"
   },
   {
    "duration": 1050,
    "start_time": "2023-05-02T14:47:37.900Z"
   },
   {
    "duration": 1232,
    "start_time": "2023-05-02T14:47:41.600Z"
   },
   {
    "duration": 1091,
    "start_time": "2023-05-02T14:47:46.141Z"
   },
   {
    "duration": 8,
    "start_time": "2023-05-02T15:04:16.120Z"
   },
   {
    "duration": 53,
    "start_time": "2023-05-02T15:05:38.947Z"
   },
   {
    "duration": 1254,
    "start_time": "2023-05-02T15:05:42.340Z"
   },
   {
    "duration": 85,
    "start_time": "2023-05-02T15:05:43.596Z"
   },
   {
    "duration": 5,
    "start_time": "2023-05-02T15:05:43.683Z"
   },
   {
    "duration": 85,
    "start_time": "2023-05-02T15:05:43.689Z"
   },
   {
    "duration": 11,
    "start_time": "2023-05-02T15:05:43.776Z"
   },
   {
    "duration": 32,
    "start_time": "2023-05-02T15:05:43.789Z"
   },
   {
    "duration": 16,
    "start_time": "2023-05-02T15:05:43.823Z"
   },
   {
    "duration": 25,
    "start_time": "2023-05-02T15:05:43.841Z"
   },
   {
    "duration": 31,
    "start_time": "2023-05-02T15:05:43.868Z"
   },
   {
    "duration": 384,
    "start_time": "2023-05-02T15:05:43.901Z"
   },
   {
    "duration": 1030,
    "start_time": "2023-05-02T15:05:44.287Z"
   },
   {
    "duration": 977,
    "start_time": "2023-05-02T15:05:45.321Z"
   },
   {
    "duration": 21,
    "start_time": "2023-05-02T15:05:46.300Z"
   },
   {
    "duration": 12,
    "start_time": "2023-05-02T15:06:08.833Z"
   },
   {
    "duration": 1098,
    "start_time": "2023-05-02T15:11:29.973Z"
   },
   {
    "duration": 991,
    "start_time": "2023-05-02T15:11:37.735Z"
   },
   {
    "duration": 19,
    "start_time": "2023-05-02T15:16:38.915Z"
   },
   {
    "duration": 22,
    "start_time": "2023-05-02T15:16:55.930Z"
   },
   {
    "duration": 5,
    "start_time": "2023-05-02T15:18:38.907Z"
   },
   {
    "duration": 102,
    "start_time": "2023-05-02T15:18:38.915Z"
   },
   {
    "duration": 6,
    "start_time": "2023-05-02T15:18:39.020Z"
   },
   {
    "duration": 106,
    "start_time": "2023-05-02T15:18:39.028Z"
   },
   {
    "duration": 12,
    "start_time": "2023-05-02T15:18:39.137Z"
   },
   {
    "duration": 41,
    "start_time": "2023-05-02T15:18:39.151Z"
   },
   {
    "duration": 28,
    "start_time": "2023-05-02T15:18:39.195Z"
   },
   {
    "duration": 47,
    "start_time": "2023-05-02T15:18:39.225Z"
   },
   {
    "duration": 58,
    "start_time": "2023-05-02T15:18:39.275Z"
   },
   {
    "duration": 340,
    "start_time": "2023-05-02T15:18:39.335Z"
   },
   {
    "duration": 1094,
    "start_time": "2023-05-02T15:18:39.677Z"
   },
   {
    "duration": 1144,
    "start_time": "2023-05-02T15:18:40.773Z"
   },
   {
    "duration": 21,
    "start_time": "2023-05-02T15:18:41.920Z"
   },
   {
    "duration": 1208,
    "start_time": "2023-05-02T16:12:06.004Z"
   },
   {
    "duration": 85,
    "start_time": "2023-05-02T16:12:07.214Z"
   },
   {
    "duration": 5,
    "start_time": "2023-05-02T16:12:07.301Z"
   },
   {
    "duration": 87,
    "start_time": "2023-05-02T16:12:07.308Z"
   },
   {
    "duration": 11,
    "start_time": "2023-05-02T16:12:07.397Z"
   },
   {
    "duration": 26,
    "start_time": "2023-05-02T16:12:07.410Z"
   },
   {
    "duration": 13,
    "start_time": "2023-05-02T16:12:07.439Z"
   },
   {
    "duration": 26,
    "start_time": "2023-05-02T16:12:07.454Z"
   },
   {
    "duration": 47,
    "start_time": "2023-05-02T16:12:07.481Z"
   },
   {
    "duration": 332,
    "start_time": "2023-05-02T16:12:07.531Z"
   },
   {
    "duration": 148,
    "start_time": "2023-05-02T16:12:07.865Z"
   },
   {
    "duration": 0,
    "start_time": "2023-05-02T16:12:08.017Z"
   },
   {
    "duration": 0,
    "start_time": "2023-05-02T16:12:08.019Z"
   },
   {
    "duration": 150,
    "start_time": "2023-05-02T16:16:46.668Z"
   },
   {
    "duration": 987,
    "start_time": "2023-05-02T16:17:14.623Z"
   },
   {
    "duration": 12,
    "start_time": "2023-05-02T16:20:05.933Z"
   },
   {
    "duration": 1133,
    "start_time": "2023-05-02T16:20:17.858Z"
   },
   {
    "duration": 83,
    "start_time": "2023-05-02T16:20:18.993Z"
   },
   {
    "duration": 5,
    "start_time": "2023-05-02T16:20:19.078Z"
   },
   {
    "duration": 98,
    "start_time": "2023-05-02T16:20:19.084Z"
   },
   {
    "duration": 12,
    "start_time": "2023-05-02T16:20:19.185Z"
   },
   {
    "duration": 43,
    "start_time": "2023-05-02T16:20:19.200Z"
   },
   {
    "duration": 28,
    "start_time": "2023-05-02T16:20:19.245Z"
   },
   {
    "duration": 22,
    "start_time": "2023-05-02T16:20:19.275Z"
   },
   {
    "duration": 46,
    "start_time": "2023-05-02T16:20:19.299Z"
   },
   {
    "duration": 321,
    "start_time": "2023-05-02T16:20:19.347Z"
   },
   {
    "duration": 975,
    "start_time": "2023-05-02T16:20:19.671Z"
   },
   {
    "duration": 954,
    "start_time": "2023-05-02T16:20:20.648Z"
   },
   {
    "duration": 20,
    "start_time": "2023-05-02T16:20:21.605Z"
   },
   {
    "duration": 1200,
    "start_time": "2023-05-02T19:11:18.234Z"
   },
   {
    "duration": 87,
    "start_time": "2023-05-02T19:11:19.436Z"
   },
   {
    "duration": 5,
    "start_time": "2023-05-02T19:11:19.525Z"
   },
   {
    "duration": 92,
    "start_time": "2023-05-02T19:11:19.532Z"
   },
   {
    "duration": 11,
    "start_time": "2023-05-02T19:11:19.626Z"
   },
   {
    "duration": 31,
    "start_time": "2023-05-02T19:11:19.639Z"
   },
   {
    "duration": 16,
    "start_time": "2023-05-02T19:11:19.671Z"
   },
   {
    "duration": 33,
    "start_time": "2023-05-02T19:11:19.688Z"
   },
   {
    "duration": 25,
    "start_time": "2023-05-02T19:11:19.723Z"
   },
   {
    "duration": 349,
    "start_time": "2023-05-02T19:11:19.750Z"
   },
   {
    "duration": 1034,
    "start_time": "2023-05-02T19:11:20.101Z"
   },
   {
    "duration": 1050,
    "start_time": "2023-05-02T19:11:21.137Z"
   },
   {
    "duration": 9,
    "start_time": "2023-05-02T19:11:42.592Z"
   },
   {
    "duration": 7,
    "start_time": "2023-05-02T19:27:17.851Z"
   },
   {
    "duration": 12,
    "start_time": "2023-05-02T19:27:40.544Z"
   },
   {
    "duration": 9,
    "start_time": "2023-05-02T19:27:50.926Z"
   },
   {
    "duration": 109,
    "start_time": "2023-05-02T19:28:16.365Z"
   },
   {
    "duration": 10,
    "start_time": "2023-05-02T19:28:28.578Z"
   },
   {
    "duration": 24,
    "start_time": "2023-05-02T19:30:26.328Z"
   },
   {
    "duration": 16,
    "start_time": "2023-05-02T19:30:33.772Z"
   },
   {
    "duration": 19,
    "start_time": "2023-05-02T19:30:36.292Z"
   },
   {
    "duration": 16,
    "start_time": "2023-05-02T19:30:43.833Z"
   },
   {
    "duration": 18,
    "start_time": "2023-05-02T19:30:54.133Z"
   },
   {
    "duration": 20,
    "start_time": "2023-05-02T19:32:16.513Z"
   },
   {
    "duration": 30,
    "start_time": "2023-05-02T19:33:12.850Z"
   },
   {
    "duration": 23,
    "start_time": "2023-05-02T19:33:29.190Z"
   },
   {
    "duration": 14,
    "start_time": "2023-05-02T19:34:20.950Z"
   },
   {
    "duration": 17,
    "start_time": "2023-05-02T19:34:42.738Z"
   },
   {
    "duration": 1137,
    "start_time": "2023-05-02T19:36:11.921Z"
   },
   {
    "duration": 108,
    "start_time": "2023-05-02T19:38:17.908Z"
   },
   {
    "duration": 893,
    "start_time": "2023-05-02T19:38:59.707Z"
   },
   {
    "duration": 1021,
    "start_time": "2023-05-02T19:39:16.790Z"
   },
   {
    "duration": 65,
    "start_time": "2023-05-02T19:42:18.917Z"
   },
   {
    "duration": 23,
    "start_time": "2023-05-02T19:42:32.309Z"
   },
   {
    "duration": 32,
    "start_time": "2023-05-02T19:42:41.913Z"
   },
   {
    "duration": 96,
    "start_time": "2023-05-02T19:42:50.601Z"
   },
   {
    "duration": 70,
    "start_time": "2023-05-02T19:43:13.988Z"
   },
   {
    "duration": 16,
    "start_time": "2023-05-02T19:48:23.424Z"
   },
   {
    "duration": 1143,
    "start_time": "2023-05-02T19:48:43.942Z"
   },
   {
    "duration": 79,
    "start_time": "2023-05-02T19:48:45.087Z"
   },
   {
    "duration": 5,
    "start_time": "2023-05-02T19:48:45.168Z"
   },
   {
    "duration": 103,
    "start_time": "2023-05-02T19:48:45.176Z"
   },
   {
    "duration": 10,
    "start_time": "2023-05-02T19:48:45.281Z"
   },
   {
    "duration": 37,
    "start_time": "2023-05-02T19:48:45.293Z"
   },
   {
    "duration": 32,
    "start_time": "2023-05-02T19:48:45.332Z"
   },
   {
    "duration": 55,
    "start_time": "2023-05-02T19:48:45.365Z"
   },
   {
    "duration": 58,
    "start_time": "2023-05-02T19:48:45.422Z"
   },
   {
    "duration": 319,
    "start_time": "2023-05-02T19:48:45.482Z"
   },
   {
    "duration": 23,
    "start_time": "2023-05-02T19:48:45.802Z"
   },
   {
    "duration": 79,
    "start_time": "2023-05-02T19:56:03.602Z"
   },
   {
    "duration": 1018,
    "start_time": "2023-05-02T19:56:27.213Z"
   },
   {
    "duration": 96,
    "start_time": "2023-05-02T19:59:43.861Z"
   },
   {
    "duration": 2171,
    "start_time": "2023-05-02T20:00:33.162Z"
   },
   {
    "duration": 102,
    "start_time": "2023-05-02T20:01:13.876Z"
   },
   {
    "duration": 2005,
    "start_time": "2023-05-02T20:01:18.549Z"
   },
   {
    "duration": 2316,
    "start_time": "2023-05-02T20:02:00.316Z"
   },
   {
    "duration": 15,
    "start_time": "2023-05-02T20:03:23.535Z"
   },
   {
    "duration": 29,
    "start_time": "2023-05-02T20:03:33.307Z"
   },
   {
    "duration": 17,
    "start_time": "2023-05-02T20:03:55.753Z"
   },
   {
    "duration": 2197,
    "start_time": "2023-05-02T20:05:34.242Z"
   },
   {
    "duration": 3827,
    "start_time": "2023-05-02T20:06:34.708Z"
   },
   {
    "duration": 16,
    "start_time": "2023-05-02T20:10:12.526Z"
   },
   {
    "duration": 18,
    "start_time": "2023-05-02T20:10:19.533Z"
   },
   {
    "duration": 16,
    "start_time": "2023-05-02T20:12:11.147Z"
   },
   {
    "duration": 2056,
    "start_time": "2023-05-02T20:12:27.893Z"
   },
   {
    "duration": 2143,
    "start_time": "2023-05-02T20:13:57.006Z"
   },
   {
    "duration": 1854,
    "start_time": "2023-05-02T20:27:33.275Z"
   },
   {
    "duration": 1532,
    "start_time": "2023-05-03T11:58:27.724Z"
   },
   {
    "duration": 238,
    "start_time": "2023-05-03T11:58:29.259Z"
   },
   {
    "duration": 6,
    "start_time": "2023-05-03T11:58:29.498Z"
   },
   {
    "duration": 100,
    "start_time": "2023-05-03T11:58:29.506Z"
   },
   {
    "duration": 11,
    "start_time": "2023-05-03T11:58:29.609Z"
   },
   {
    "duration": 40,
    "start_time": "2023-05-03T11:58:29.622Z"
   },
   {
    "duration": 17,
    "start_time": "2023-05-03T11:58:29.664Z"
   },
   {
    "duration": 18,
    "start_time": "2023-05-03T11:58:29.683Z"
   },
   {
    "duration": 52,
    "start_time": "2023-05-03T11:58:29.702Z"
   },
   {
    "duration": 348,
    "start_time": "2023-05-03T11:58:29.756Z"
   },
   {
    "duration": 15,
    "start_time": "2023-05-03T11:58:30.106Z"
   },
   {
    "duration": 63,
    "start_time": "2023-05-03T11:58:30.123Z"
   },
   {
    "duration": 2236,
    "start_time": "2023-05-03T11:58:30.188Z"
   },
   {
    "duration": 1151,
    "start_time": "2023-05-03T11:58:32.427Z"
   },
   {
    "duration": 134,
    "start_time": "2023-05-03T12:08:12.035Z"
   },
   {
    "duration": 116,
    "start_time": "2023-05-03T12:08:37.444Z"
   },
   {
    "duration": 111,
    "start_time": "2023-05-03T12:08:52.023Z"
   },
   {
    "duration": 25,
    "start_time": "2023-05-03T12:09:17.788Z"
   },
   {
    "duration": 127,
    "start_time": "2023-05-03T12:09:26.524Z"
   },
   {
    "duration": 136,
    "start_time": "2023-05-03T12:09:32.155Z"
   },
   {
    "duration": 160,
    "start_time": "2023-05-03T12:10:00.632Z"
   },
   {
    "duration": 330,
    "start_time": "2023-05-03T12:12:32.278Z"
   },
   {
    "duration": 87,
    "start_time": "2023-05-03T12:14:02.297Z"
   },
   {
    "duration": 144,
    "start_time": "2023-05-03T12:14:07.059Z"
   },
   {
    "duration": 155,
    "start_time": "2023-05-03T12:14:29.517Z"
   },
   {
    "duration": 1312,
    "start_time": "2023-05-03T12:14:35.047Z"
   },
   {
    "duration": 1302,
    "start_time": "2023-05-03T12:16:13.710Z"
   },
   {
    "duration": 1411,
    "start_time": "2023-05-03T12:16:25.133Z"
   },
   {
    "duration": 23,
    "start_time": "2023-05-03T12:23:20.231Z"
   },
   {
    "duration": 136,
    "start_time": "2023-05-03T12:29:26.611Z"
   },
   {
    "duration": 135,
    "start_time": "2023-05-03T12:29:36.391Z"
   },
   {
    "duration": 1371,
    "start_time": "2023-05-03T12:29:51.349Z"
   },
   {
    "duration": 154,
    "start_time": "2023-05-03T13:09:56.234Z"
   },
   {
    "duration": 176,
    "start_time": "2023-05-03T13:10:05.449Z"
   },
   {
    "duration": 292,
    "start_time": "2023-05-03T13:10:17.932Z"
   },
   {
    "duration": 205,
    "start_time": "2023-05-03T13:10:26.358Z"
   },
   {
    "duration": 176,
    "start_time": "2023-05-03T13:11:06.202Z"
   },
   {
    "duration": 193,
    "start_time": "2023-05-03T13:11:56.103Z"
   },
   {
    "duration": 169,
    "start_time": "2023-05-03T13:13:40.062Z"
   },
   {
    "duration": 183,
    "start_time": "2023-05-03T13:13:53.011Z"
   },
   {
    "duration": 148,
    "start_time": "2023-05-03T13:18:03.042Z"
   },
   {
    "duration": 827,
    "start_time": "2023-05-03T13:19:06.304Z"
   },
   {
    "duration": 2017,
    "start_time": "2023-05-03T13:19:39.220Z"
   },
   {
    "duration": 774,
    "start_time": "2023-05-03T13:20:43.024Z"
   },
   {
    "duration": 194,
    "start_time": "2023-05-03T13:21:52.718Z"
   },
   {
    "duration": 233,
    "start_time": "2023-05-03T13:22:07.224Z"
   },
   {
    "duration": 846,
    "start_time": "2023-05-03T13:22:24.740Z"
   },
   {
    "duration": 876,
    "start_time": "2023-05-03T13:22:33.124Z"
   },
   {
    "duration": 217,
    "start_time": "2023-05-03T13:23:05.961Z"
   },
   {
    "duration": 193,
    "start_time": "2023-05-03T13:23:17.384Z"
   },
   {
    "duration": 202,
    "start_time": "2023-05-03T13:23:20.750Z"
   },
   {
    "duration": 254,
    "start_time": "2023-05-03T13:23:30.623Z"
   },
   {
    "duration": 188,
    "start_time": "2023-05-03T13:23:50.334Z"
   },
   {
    "duration": 343,
    "start_time": "2023-05-03T13:23:57.921Z"
   },
   {
    "duration": 216,
    "start_time": "2023-05-03T13:24:27.878Z"
   },
   {
    "duration": 216,
    "start_time": "2023-05-03T13:24:44.918Z"
   },
   {
    "duration": 235,
    "start_time": "2023-05-03T13:25:52.349Z"
   },
   {
    "duration": 276,
    "start_time": "2023-05-03T13:26:29.818Z"
   },
   {
    "duration": 204,
    "start_time": "2023-05-03T13:26:45.122Z"
   },
   {
    "duration": 208,
    "start_time": "2023-05-03T13:26:53.668Z"
   },
   {
    "duration": 12,
    "start_time": "2023-05-03T13:28:22.029Z"
   },
   {
    "duration": 147,
    "start_time": "2023-05-03T13:32:21.080Z"
   },
   {
    "duration": 149,
    "start_time": "2023-05-03T13:32:42.379Z"
   },
   {
    "duration": 177,
    "start_time": "2023-05-03T13:33:03.323Z"
   },
   {
    "duration": 159,
    "start_time": "2023-05-03T13:36:05.685Z"
   },
   {
    "duration": 155,
    "start_time": "2023-05-03T13:36:13.008Z"
   },
   {
    "duration": 290,
    "start_time": "2023-05-03T13:37:55.205Z"
   },
   {
    "duration": 171,
    "start_time": "2023-05-03T13:38:11.015Z"
   },
   {
    "duration": 155,
    "start_time": "2023-05-03T13:41:28.868Z"
   },
   {
    "duration": 169,
    "start_time": "2023-05-03T13:41:43.002Z"
   },
   {
    "duration": 18,
    "start_time": "2023-05-03T13:55:20.679Z"
   },
   {
    "duration": 14,
    "start_time": "2023-05-03T13:56:45.603Z"
   },
   {
    "duration": 16,
    "start_time": "2023-05-03T14:03:48.836Z"
   },
   {
    "duration": 17,
    "start_time": "2023-05-03T14:04:35.058Z"
   },
   {
    "duration": 17,
    "start_time": "2023-05-03T14:04:49.314Z"
   },
   {
    "duration": 16,
    "start_time": "2023-05-03T14:22:27.560Z"
   },
   {
    "duration": 23,
    "start_time": "2023-05-03T15:00:21.449Z"
   },
   {
    "duration": 12,
    "start_time": "2023-05-03T15:07:07.244Z"
   },
   {
    "duration": 13,
    "start_time": "2023-05-03T15:07:15.405Z"
   },
   {
    "duration": 12,
    "start_time": "2023-05-03T15:07:18.101Z"
   },
   {
    "duration": 24,
    "start_time": "2023-05-03T15:07:24.601Z"
   },
   {
    "duration": 22,
    "start_time": "2023-05-03T15:07:33.719Z"
   },
   {
    "duration": 6,
    "start_time": "2023-05-03T15:08:16.156Z"
   },
   {
    "duration": 14,
    "start_time": "2023-05-03T15:08:34.526Z"
   },
   {
    "duration": 21,
    "start_time": "2023-05-03T15:10:35.428Z"
   },
   {
    "duration": 26,
    "start_time": "2023-05-03T15:10:55.296Z"
   },
   {
    "duration": 24,
    "start_time": "2023-05-03T15:10:59.969Z"
   },
   {
    "duration": 23,
    "start_time": "2023-05-03T15:11:06.968Z"
   },
   {
    "duration": 20,
    "start_time": "2023-05-03T15:11:40.299Z"
   },
   {
    "duration": 175,
    "start_time": "2023-05-03T15:11:52.296Z"
   },
   {
    "duration": 141,
    "start_time": "2023-05-03T15:11:59.223Z"
   },
   {
    "duration": 17,
    "start_time": "2023-05-03T15:12:03.330Z"
   },
   {
    "duration": 23,
    "start_time": "2023-05-03T15:13:16.598Z"
   },
   {
    "duration": 18,
    "start_time": "2023-05-03T15:13:43.101Z"
   },
   {
    "duration": 24,
    "start_time": "2023-05-03T15:14:02.843Z"
   },
   {
    "duration": 22,
    "start_time": "2023-05-03T15:14:05.923Z"
   },
   {
    "duration": 18,
    "start_time": "2023-05-03T15:26:31.361Z"
   },
   {
    "duration": 22,
    "start_time": "2023-05-03T15:26:42.087Z"
   },
   {
    "duration": 19,
    "start_time": "2023-05-03T15:28:46.256Z"
   },
   {
    "duration": 17,
    "start_time": "2023-05-03T15:30:24.764Z"
   },
   {
    "duration": 19,
    "start_time": "2023-05-03T15:30:26.508Z"
   },
   {
    "duration": 19,
    "start_time": "2023-05-03T15:31:42.961Z"
   },
   {
    "duration": 28,
    "start_time": "2023-05-03T15:32:31.294Z"
   },
   {
    "duration": 21,
    "start_time": "2023-05-03T15:32:41.912Z"
   },
   {
    "duration": 19,
    "start_time": "2023-05-03T15:33:03.980Z"
   },
   {
    "duration": 21,
    "start_time": "2023-05-03T15:33:35.523Z"
   },
   {
    "duration": 55,
    "start_time": "2023-05-03T19:36:35.950Z"
   },
   {
    "duration": 1403,
    "start_time": "2023-05-03T19:36:41.361Z"
   },
   {
    "duration": 267,
    "start_time": "2023-05-03T19:36:42.767Z"
   },
   {
    "duration": 6,
    "start_time": "2023-05-03T19:36:43.038Z"
   },
   {
    "duration": 87,
    "start_time": "2023-05-03T19:36:43.045Z"
   },
   {
    "duration": 11,
    "start_time": "2023-05-03T19:36:43.137Z"
   },
   {
    "duration": 31,
    "start_time": "2023-05-03T19:36:43.150Z"
   },
   {
    "duration": 66,
    "start_time": "2023-05-03T19:36:43.183Z"
   },
   {
    "duration": 36,
    "start_time": "2023-05-03T19:36:43.251Z"
   },
   {
    "duration": 19,
    "start_time": "2023-05-03T19:36:43.288Z"
   },
   {
    "duration": 354,
    "start_time": "2023-05-03T19:36:43.309Z"
   },
   {
    "duration": 14,
    "start_time": "2023-05-03T19:36:43.665Z"
   },
   {
    "duration": 36,
    "start_time": "2023-05-03T19:36:43.680Z"
   },
   {
    "duration": 1984,
    "start_time": "2023-05-03T19:36:43.717Z"
   },
   {
    "duration": 1032,
    "start_time": "2023-05-03T19:36:45.704Z"
   },
   {
    "duration": 1358,
    "start_time": "2023-05-03T19:36:46.738Z"
   },
   {
    "duration": 3313,
    "start_time": "2023-05-03T19:36:48.098Z"
   },
   {
    "duration": 3240,
    "start_time": "2023-05-03T19:40:49.444Z"
   },
   {
    "duration": 3555,
    "start_time": "2023-05-03T19:41:41.806Z"
   },
   {
    "duration": 3287,
    "start_time": "2023-05-03T19:41:50.570Z"
   },
   {
    "duration": 3308,
    "start_time": "2023-05-03T19:41:55.142Z"
   },
   {
    "duration": 226,
    "start_time": "2023-05-03T20:07:58.693Z"
   },
   {
    "duration": 3490,
    "start_time": "2023-05-03T20:09:28.598Z"
   },
   {
    "duration": 3118,
    "start_time": "2023-05-03T20:10:16.090Z"
   },
   {
    "duration": 21,
    "start_time": "2023-05-03T20:40:34.518Z"
   },
   {
    "duration": 19,
    "start_time": "2023-05-03T20:45:30.878Z"
   },
   {
    "duration": 18,
    "start_time": "2023-05-03T20:48:33.847Z"
   },
   {
    "duration": 20,
    "start_time": "2023-05-03T20:55:53.928Z"
   },
   {
    "duration": 18,
    "start_time": "2023-05-03T20:56:33.058Z"
   },
   {
    "duration": 25,
    "start_time": "2023-05-03T20:56:41.404Z"
   },
   {
    "duration": 75,
    "start_time": "2023-05-03T20:59:20.508Z"
   },
   {
    "duration": 19,
    "start_time": "2023-05-03T20:59:33.739Z"
   },
   {
    "duration": 21,
    "start_time": "2023-05-03T20:59:39.174Z"
   },
   {
    "duration": 18,
    "start_time": "2023-05-03T20:59:41.272Z"
   },
   {
    "duration": 48,
    "start_time": "2023-05-03T21:02:43.724Z"
   },
   {
    "duration": 51,
    "start_time": "2023-05-03T21:30:54.502Z"
   },
   {
    "duration": 83,
    "start_time": "2023-05-03T21:31:38.063Z"
   },
   {
    "duration": 84,
    "start_time": "2023-05-03T21:32:10.000Z"
   },
   {
    "duration": 44,
    "start_time": "2023-05-03T21:32:21.263Z"
   },
   {
    "duration": 44,
    "start_time": "2023-05-03T21:33:29.121Z"
   },
   {
    "duration": 13,
    "start_time": "2023-05-03T21:44:45.903Z"
   },
   {
    "duration": 63,
    "start_time": "2023-05-03T21:55:33.155Z"
   },
   {
    "duration": 30,
    "start_time": "2023-05-03T21:56:59.044Z"
   },
   {
    "duration": 13,
    "start_time": "2023-05-03T21:58:49.479Z"
   },
   {
    "duration": 1538,
    "start_time": "2023-05-03T21:59:22.781Z"
   },
   {
    "duration": 24,
    "start_time": "2023-05-03T22:00:28.965Z"
   },
   {
    "duration": 19,
    "start_time": "2023-05-03T22:00:42.844Z"
   },
   {
    "duration": 29,
    "start_time": "2023-05-03T22:00:49.022Z"
   },
   {
    "duration": 1228,
    "start_time": "2023-05-03T22:01:02.127Z"
   },
   {
    "duration": 79,
    "start_time": "2023-05-03T22:01:03.358Z"
   },
   {
    "duration": 6,
    "start_time": "2023-05-03T22:01:03.439Z"
   },
   {
    "duration": 93,
    "start_time": "2023-05-03T22:01:03.447Z"
   },
   {
    "duration": 10,
    "start_time": "2023-05-03T22:01:03.542Z"
   },
   {
    "duration": 24,
    "start_time": "2023-05-03T22:01:03.554Z"
   },
   {
    "duration": 28,
    "start_time": "2023-05-03T22:01:03.580Z"
   },
   {
    "duration": 24,
    "start_time": "2023-05-03T22:01:03.610Z"
   },
   {
    "duration": 19,
    "start_time": "2023-05-03T22:01:03.635Z"
   },
   {
    "duration": 308,
    "start_time": "2023-05-03T22:01:03.656Z"
   },
   {
    "duration": 14,
    "start_time": "2023-05-03T22:01:03.966Z"
   },
   {
    "duration": 35,
    "start_time": "2023-05-03T22:01:03.982Z"
   },
   {
    "duration": 1960,
    "start_time": "2023-05-03T22:01:04.020Z"
   },
   {
    "duration": 1064,
    "start_time": "2023-05-03T22:01:05.984Z"
   },
   {
    "duration": 1398,
    "start_time": "2023-05-03T22:01:07.050Z"
   },
   {
    "duration": 3276,
    "start_time": "2023-05-03T22:01:08.450Z"
   },
   {
    "duration": 16,
    "start_time": "2023-05-03T22:01:11.729Z"
   },
   {
    "duration": 30,
    "start_time": "2023-05-03T22:01:11.748Z"
   },
   {
    "duration": 21,
    "start_time": "2023-05-03T22:01:11.781Z"
   },
   {
    "duration": 25,
    "start_time": "2023-05-03T22:01:11.818Z"
   },
   {
    "duration": 23,
    "start_time": "2023-05-03T22:01:11.846Z"
   },
   {
    "duration": 50,
    "start_time": "2023-05-03T22:01:11.871Z"
   },
   {
    "duration": 25,
    "start_time": "2023-05-03T22:01:11.923Z"
   },
   {
    "duration": 81,
    "start_time": "2023-05-03T22:01:11.950Z"
   },
   {
    "duration": 40,
    "start_time": "2023-05-03T22:01:12.033Z"
   },
   {
    "duration": 1864,
    "start_time": "2023-05-03T22:01:12.074Z"
   },
   {
    "duration": 5,
    "start_time": "2023-05-03T22:01:18.816Z"
   },
   {
    "duration": 41,
    "start_time": "2023-05-03T22:05:32.271Z"
   },
   {
    "duration": 33,
    "start_time": "2023-05-03T22:09:47.062Z"
   },
   {
    "duration": 1194,
    "start_time": "2023-05-03T22:52:42.706Z"
   },
   {
    "duration": 92,
    "start_time": "2023-05-03T22:52:43.902Z"
   },
   {
    "duration": 5,
    "start_time": "2023-05-03T22:52:43.997Z"
   },
   {
    "duration": 83,
    "start_time": "2023-05-03T22:52:44.004Z"
   },
   {
    "duration": 11,
    "start_time": "2023-05-03T22:52:44.090Z"
   },
   {
    "duration": 37,
    "start_time": "2023-05-03T22:52:44.102Z"
   },
   {
    "duration": 13,
    "start_time": "2023-05-03T22:52:44.141Z"
   },
   {
    "duration": 16,
    "start_time": "2023-05-03T22:52:44.156Z"
   },
   {
    "duration": 45,
    "start_time": "2023-05-03T22:52:44.174Z"
   },
   {
    "duration": 336,
    "start_time": "2023-05-03T22:52:44.229Z"
   },
   {
    "duration": 13,
    "start_time": "2023-05-03T22:52:44.567Z"
   },
   {
    "duration": 18,
    "start_time": "2023-05-03T22:52:44.582Z"
   },
   {
    "duration": 1994,
    "start_time": "2023-05-03T22:52:44.601Z"
   },
   {
    "duration": 1088,
    "start_time": "2023-05-03T22:52:46.598Z"
   },
   {
    "duration": 1356,
    "start_time": "2023-05-03T22:52:47.688Z"
   },
   {
    "duration": 3143,
    "start_time": "2023-05-03T22:52:49.046Z"
   },
   {
    "duration": 15,
    "start_time": "2023-05-03T22:52:52.190Z"
   },
   {
    "duration": 24,
    "start_time": "2023-05-03T22:52:52.218Z"
   },
   {
    "duration": 41,
    "start_time": "2023-05-03T22:52:52.244Z"
   },
   {
    "duration": 20,
    "start_time": "2023-05-03T22:52:52.286Z"
   },
   {
    "duration": 25,
    "start_time": "2023-05-03T22:52:52.308Z"
   },
   {
    "duration": 16,
    "start_time": "2023-05-03T22:52:52.335Z"
   },
   {
    "duration": 22,
    "start_time": "2023-05-03T22:52:52.353Z"
   },
   {
    "duration": 77,
    "start_time": "2023-05-03T22:52:52.376Z"
   },
   {
    "duration": 37,
    "start_time": "2023-05-03T22:52:52.456Z"
   },
   {
    "duration": 55,
    "start_time": "2023-05-03T22:52:52.495Z"
   },
   {
    "duration": 1083,
    "start_time": "2023-05-03T23:03:16.953Z"
   },
   {
    "duration": 81,
    "start_time": "2023-05-03T23:03:18.038Z"
   },
   {
    "duration": 4,
    "start_time": "2023-05-03T23:03:18.121Z"
   },
   {
    "duration": 73,
    "start_time": "2023-05-03T23:03:18.129Z"
   },
   {
    "duration": 27,
    "start_time": "2023-05-03T23:03:18.205Z"
   },
   {
    "duration": 20,
    "start_time": "2023-05-03T23:03:18.234Z"
   },
   {
    "duration": 14,
    "start_time": "2023-05-03T23:03:18.255Z"
   },
   {
    "duration": 19,
    "start_time": "2023-05-03T23:03:18.271Z"
   },
   {
    "duration": 51,
    "start_time": "2023-05-03T23:03:18.292Z"
   },
   {
    "duration": 314,
    "start_time": "2023-05-03T23:03:18.345Z"
   },
   {
    "duration": 12,
    "start_time": "2023-05-03T23:03:18.661Z"
   },
   {
    "duration": 16,
    "start_time": "2023-05-03T23:03:18.674Z"
   },
   {
    "duration": 1907,
    "start_time": "2023-05-03T23:03:18.692Z"
   },
   {
    "duration": 1032,
    "start_time": "2023-05-03T23:03:20.602Z"
   },
   {
    "duration": 1319,
    "start_time": "2023-05-03T23:03:21.636Z"
   },
   {
    "duration": 3049,
    "start_time": "2023-05-03T23:03:22.956Z"
   },
   {
    "duration": 32,
    "start_time": "2023-05-03T23:03:26.007Z"
   },
   {
    "duration": 17,
    "start_time": "2023-05-03T23:03:26.041Z"
   },
   {
    "duration": 17,
    "start_time": "2023-05-03T23:03:26.060Z"
   },
   {
    "duration": 39,
    "start_time": "2023-05-03T23:03:26.079Z"
   },
   {
    "duration": 19,
    "start_time": "2023-05-03T23:03:26.128Z"
   },
   {
    "duration": 18,
    "start_time": "2023-05-03T23:03:26.149Z"
   },
   {
    "duration": 18,
    "start_time": "2023-05-03T23:03:26.169Z"
   },
   {
    "duration": 71,
    "start_time": "2023-05-03T23:03:26.188Z"
   },
   {
    "duration": 30,
    "start_time": "2023-05-03T23:03:26.260Z"
   },
   {
    "duration": 51,
    "start_time": "2023-05-03T23:03:26.291Z"
   },
   {
    "duration": 1148,
    "start_time": "2023-05-03T23:21:45.627Z"
   },
   {
    "duration": 137,
    "start_time": "2023-05-03T23:21:46.777Z"
   },
   {
    "duration": 7,
    "start_time": "2023-05-03T23:21:46.916Z"
   },
   {
    "duration": 93,
    "start_time": "2023-05-03T23:21:46.924Z"
   },
   {
    "duration": 10,
    "start_time": "2023-05-03T23:21:47.019Z"
   },
   {
    "duration": 21,
    "start_time": "2023-05-03T23:21:47.031Z"
   },
   {
    "duration": 14,
    "start_time": "2023-05-03T23:21:47.053Z"
   },
   {
    "duration": 18,
    "start_time": "2023-05-03T23:21:47.097Z"
   },
   {
    "duration": 25,
    "start_time": "2023-05-03T23:21:47.118Z"
   },
   {
    "duration": 403,
    "start_time": "2023-05-03T23:21:47.145Z"
   },
   {
    "duration": 15,
    "start_time": "2023-05-03T23:21:47.550Z"
   },
   {
    "duration": 42,
    "start_time": "2023-05-03T23:21:47.567Z"
   },
   {
    "duration": 1978,
    "start_time": "2023-05-03T23:21:47.611Z"
   },
   {
    "duration": 1067,
    "start_time": "2023-05-03T23:21:49.599Z"
   },
   {
    "duration": 1353,
    "start_time": "2023-05-03T23:21:50.667Z"
   },
   {
    "duration": 3297,
    "start_time": "2023-05-03T23:21:52.022Z"
   },
   {
    "duration": 20,
    "start_time": "2023-05-03T23:21:55.321Z"
   },
   {
    "duration": 24,
    "start_time": "2023-05-03T23:21:55.343Z"
   },
   {
    "duration": 46,
    "start_time": "2023-05-03T23:21:55.369Z"
   },
   {
    "duration": 23,
    "start_time": "2023-05-03T23:21:55.416Z"
   },
   {
    "duration": 23,
    "start_time": "2023-05-03T23:21:55.441Z"
   },
   {
    "duration": 45,
    "start_time": "2023-05-03T23:21:55.466Z"
   },
   {
    "duration": 18,
    "start_time": "2023-05-03T23:21:55.512Z"
   },
   {
    "duration": 78,
    "start_time": "2023-05-03T23:21:55.531Z"
   },
   {
    "duration": 30,
    "start_time": "2023-05-03T23:21:55.610Z"
   },
   {
    "duration": 39,
    "start_time": "2023-05-03T23:21:55.641Z"
   },
   {
    "duration": 1275,
    "start_time": "2023-05-04T11:38:26.010Z"
   },
   {
    "duration": 156,
    "start_time": "2023-05-04T11:38:27.287Z"
   },
   {
    "duration": 5,
    "start_time": "2023-05-04T11:38:27.444Z"
   },
   {
    "duration": 130,
    "start_time": "2023-05-04T11:38:27.452Z"
   },
   {
    "duration": 10,
    "start_time": "2023-05-04T11:38:27.585Z"
   },
   {
    "duration": 66,
    "start_time": "2023-05-04T11:38:27.597Z"
   },
   {
    "duration": 17,
    "start_time": "2023-05-04T11:38:27.665Z"
   },
   {
    "duration": 43,
    "start_time": "2023-05-04T11:38:27.683Z"
   },
   {
    "duration": 45,
    "start_time": "2023-05-04T11:38:27.728Z"
   },
   {
    "duration": 391,
    "start_time": "2023-05-04T11:38:27.775Z"
   },
   {
    "duration": 39,
    "start_time": "2023-05-04T11:38:28.168Z"
   },
   {
    "duration": 25,
    "start_time": "2023-05-04T11:38:28.218Z"
   },
   {
    "duration": 2219,
    "start_time": "2023-05-04T11:38:28.246Z"
   },
   {
    "duration": 1222,
    "start_time": "2023-05-04T11:38:30.470Z"
   },
   {
    "duration": 1475,
    "start_time": "2023-05-04T11:38:31.693Z"
   },
   {
    "duration": 3387,
    "start_time": "2023-05-04T11:38:33.170Z"
   },
   {
    "duration": 16,
    "start_time": "2023-05-04T11:38:36.559Z"
   },
   {
    "duration": 31,
    "start_time": "2023-05-04T11:38:36.598Z"
   },
   {
    "duration": 19,
    "start_time": "2023-05-04T11:38:36.630Z"
   },
   {
    "duration": 19,
    "start_time": "2023-05-04T11:38:36.650Z"
   },
   {
    "duration": 48,
    "start_time": "2023-05-04T11:38:36.671Z"
   },
   {
    "duration": 24,
    "start_time": "2023-05-04T11:38:36.720Z"
   },
   {
    "duration": 27,
    "start_time": "2023-05-04T11:38:36.746Z"
   },
   {
    "duration": 64,
    "start_time": "2023-05-04T11:38:36.775Z"
   },
   {
    "duration": 32,
    "start_time": "2023-05-04T11:38:36.840Z"
   },
   {
    "duration": 44,
    "start_time": "2023-05-04T11:38:36.895Z"
   },
   {
    "duration": 194,
    "start_time": "2023-05-04T11:46:06.120Z"
   },
   {
    "duration": 1291,
    "start_time": "2023-05-04T11:46:15.954Z"
   },
   {
    "duration": 94,
    "start_time": "2023-05-04T11:46:17.247Z"
   },
   {
    "duration": 7,
    "start_time": "2023-05-04T11:46:17.343Z"
   },
   {
    "duration": 122,
    "start_time": "2023-05-04T11:46:17.353Z"
   },
   {
    "duration": 35,
    "start_time": "2023-05-04T11:46:17.478Z"
   },
   {
    "duration": 30,
    "start_time": "2023-05-04T11:46:17.521Z"
   },
   {
    "duration": 21,
    "start_time": "2023-05-04T11:46:17.553Z"
   },
   {
    "duration": 43,
    "start_time": "2023-05-04T11:46:17.576Z"
   },
   {
    "duration": 33,
    "start_time": "2023-05-04T11:46:17.621Z"
   },
   {
    "duration": 281,
    "start_time": "2023-05-04T11:46:17.656Z"
   },
   {
    "duration": 0,
    "start_time": "2023-05-04T11:46:17.939Z"
   },
   {
    "duration": 0,
    "start_time": "2023-05-04T11:46:17.940Z"
   },
   {
    "duration": 0,
    "start_time": "2023-05-04T11:46:17.941Z"
   },
   {
    "duration": 0,
    "start_time": "2023-05-04T11:46:17.942Z"
   },
   {
    "duration": 0,
    "start_time": "2023-05-04T11:46:17.944Z"
   },
   {
    "duration": 0,
    "start_time": "2023-05-04T11:46:17.946Z"
   },
   {
    "duration": 0,
    "start_time": "2023-05-04T11:46:17.947Z"
   },
   {
    "duration": 0,
    "start_time": "2023-05-04T11:46:17.948Z"
   },
   {
    "duration": 0,
    "start_time": "2023-05-04T11:46:17.949Z"
   },
   {
    "duration": 0,
    "start_time": "2023-05-04T11:46:17.950Z"
   },
   {
    "duration": 0,
    "start_time": "2023-05-04T11:46:17.951Z"
   },
   {
    "duration": 0,
    "start_time": "2023-05-04T11:46:17.952Z"
   },
   {
    "duration": 0,
    "start_time": "2023-05-04T11:46:17.953Z"
   },
   {
    "duration": 0,
    "start_time": "2023-05-04T11:46:17.955Z"
   },
   {
    "duration": 0,
    "start_time": "2023-05-04T11:46:17.958Z"
   },
   {
    "duration": 0,
    "start_time": "2023-05-04T11:46:17.960Z"
   },
   {
    "duration": 0,
    "start_time": "2023-05-04T11:46:17.962Z"
   },
   {
    "duration": 47,
    "start_time": "2023-05-04T11:54:59.109Z"
   },
   {
    "duration": 1378,
    "start_time": "2023-05-04T11:55:15.389Z"
   },
   {
    "duration": 96,
    "start_time": "2023-05-04T11:55:16.769Z"
   },
   {
    "duration": 5,
    "start_time": "2023-05-04T11:55:16.867Z"
   },
   {
    "duration": 106,
    "start_time": "2023-05-04T11:55:16.874Z"
   },
   {
    "duration": 25,
    "start_time": "2023-05-04T11:55:16.982Z"
   },
   {
    "duration": 23,
    "start_time": "2023-05-04T11:55:17.011Z"
   },
   {
    "duration": 23,
    "start_time": "2023-05-04T11:55:17.037Z"
   },
   {
    "duration": 53,
    "start_time": "2023-05-04T11:55:17.062Z"
   },
   {
    "duration": 40,
    "start_time": "2023-05-04T11:55:17.117Z"
   },
   {
    "duration": 77,
    "start_time": "2023-05-04T11:55:17.159Z"
   },
   {
    "duration": 425,
    "start_time": "2023-05-04T11:55:17.240Z"
   },
   {
    "duration": 27,
    "start_time": "2023-05-04T11:55:17.667Z"
   },
   {
    "duration": 28,
    "start_time": "2023-05-04T11:55:17.699Z"
   },
   {
    "duration": 4152,
    "start_time": "2023-05-04T11:55:17.731Z"
   },
   {
    "duration": 1263,
    "start_time": "2023-05-04T11:55:21.884Z"
   },
   {
    "duration": 1580,
    "start_time": "2023-05-04T11:55:23.150Z"
   },
   {
    "duration": 3867,
    "start_time": "2023-05-04T11:55:24.733Z"
   },
   {
    "duration": 20,
    "start_time": "2023-05-04T11:55:28.602Z"
   },
   {
    "duration": 22,
    "start_time": "2023-05-04T11:55:28.624Z"
   },
   {
    "duration": 19,
    "start_time": "2023-05-04T11:55:28.648Z"
   },
   {
    "duration": 49,
    "start_time": "2023-05-04T11:55:28.669Z"
   },
   {
    "duration": 25,
    "start_time": "2023-05-04T11:55:28.720Z"
   },
   {
    "duration": 21,
    "start_time": "2023-05-04T11:55:28.747Z"
   },
   {
    "duration": 37,
    "start_time": "2023-05-04T11:55:28.796Z"
   },
   {
    "duration": 94,
    "start_time": "2023-05-04T11:55:28.835Z"
   },
   {
    "duration": 38,
    "start_time": "2023-05-04T11:55:28.931Z"
   },
   {
    "duration": 49,
    "start_time": "2023-05-04T11:55:28.971Z"
   },
   {
    "duration": 46,
    "start_time": "2023-05-04T12:12:38.783Z"
   },
   {
    "duration": 18,
    "start_time": "2023-05-04T12:29:35.912Z"
   },
   {
    "duration": 1511,
    "start_time": "2023-05-04T20:31:13.029Z"
   },
   {
    "duration": 526,
    "start_time": "2023-05-04T20:31:14.542Z"
   },
   {
    "duration": 112,
    "start_time": "2023-05-04T20:41:00.163Z"
   },
   {
    "duration": 31,
    "start_time": "2023-05-04T20:41:05.100Z"
   },
   {
    "duration": 5,
    "start_time": "2023-05-04T20:41:21.611Z"
   },
   {
    "duration": 223,
    "start_time": "2023-05-04T20:41:24.212Z"
   },
   {
    "duration": 61,
    "start_time": "2023-05-04T20:42:14.428Z"
   },
   {
    "duration": 56,
    "start_time": "2023-05-04T20:42:31.485Z"
   },
   {
    "duration": 46,
    "start_time": "2023-05-04T20:43:10.831Z"
   },
   {
    "duration": 55,
    "start_time": "2023-05-04T20:43:52.713Z"
   },
   {
    "duration": 54,
    "start_time": "2023-05-04T20:43:59.253Z"
   },
   {
    "duration": 57,
    "start_time": "2023-05-04T20:44:27.728Z"
   },
   {
    "duration": 138,
    "start_time": "2023-05-04T20:45:24.874Z"
   },
   {
    "duration": 80,
    "start_time": "2023-05-04T20:45:27.754Z"
   },
   {
    "duration": 61,
    "start_time": "2023-05-04T20:46:18.930Z"
   },
   {
    "duration": 59,
    "start_time": "2023-05-04T20:46:33.377Z"
   },
   {
    "duration": 78,
    "start_time": "2023-05-04T20:46:49.153Z"
   },
   {
    "duration": 1499,
    "start_time": "2023-05-04T20:47:51.967Z"
   },
   {
    "duration": 1505,
    "start_time": "2023-05-04T20:48:35.134Z"
   },
   {
    "duration": 1330,
    "start_time": "2023-05-04T20:49:49.972Z"
   },
   {
    "duration": 59,
    "start_time": "2023-05-04T20:50:03.731Z"
   },
   {
    "duration": 59,
    "start_time": "2023-05-04T20:50:12.769Z"
   },
   {
    "duration": 63,
    "start_time": "2023-05-04T20:50:15.896Z"
   },
   {
    "duration": 38,
    "start_time": "2023-05-04T20:51:17.091Z"
   },
   {
    "duration": 25,
    "start_time": "2023-05-04T20:51:30.272Z"
   },
   {
    "duration": 24,
    "start_time": "2023-05-04T20:51:46.641Z"
   },
   {
    "duration": 32,
    "start_time": "2023-05-04T20:51:53.508Z"
   },
   {
    "duration": 23,
    "start_time": "2023-05-04T20:52:10.432Z"
   },
   {
    "duration": 26,
    "start_time": "2023-05-04T20:52:54.824Z"
   },
   {
    "duration": 80,
    "start_time": "2023-05-04T20:54:11.183Z"
   },
   {
    "duration": 33,
    "start_time": "2023-05-04T20:55:07.632Z"
   },
   {
    "duration": 40,
    "start_time": "2023-05-04T20:56:34.333Z"
   },
   {
    "duration": 25,
    "start_time": "2023-05-04T20:57:17.687Z"
   },
   {
    "duration": 37,
    "start_time": "2023-05-04T20:57:22.822Z"
   },
   {
    "duration": 37,
    "start_time": "2023-05-04T21:00:34.015Z"
   },
   {
    "duration": 29,
    "start_time": "2023-05-04T21:00:40.676Z"
   },
   {
    "duration": 19,
    "start_time": "2023-05-04T21:18:44.194Z"
   },
   {
    "duration": 17,
    "start_time": "2023-05-04T21:19:32.031Z"
   },
   {
    "duration": 16,
    "start_time": "2023-05-04T21:19:38.032Z"
   },
   {
    "duration": 23,
    "start_time": "2023-05-04T21:21:10.810Z"
   },
   {
    "duration": 19,
    "start_time": "2023-05-04T21:21:33.680Z"
   },
   {
    "duration": 18,
    "start_time": "2023-05-04T21:22:29.162Z"
   },
   {
    "duration": 1387,
    "start_time": "2023-05-04T21:22:33.142Z"
   },
   {
    "duration": 1669,
    "start_time": "2023-05-04T21:22:48.528Z"
   },
   {
    "duration": 21,
    "start_time": "2023-05-04T21:22:54.837Z"
   },
   {
    "duration": 9,
    "start_time": "2023-05-04T21:23:46.975Z"
   },
   {
    "duration": 18,
    "start_time": "2023-05-04T21:23:55.333Z"
   },
   {
    "duration": 24,
    "start_time": "2023-05-04T21:24:07.174Z"
   },
   {
    "duration": 23,
    "start_time": "2023-05-04T21:25:11.893Z"
   },
   {
    "duration": 60,
    "start_time": "2023-05-04T21:25:51.343Z"
   },
   {
    "duration": 1164,
    "start_time": "2023-05-04T21:25:54.624Z"
   },
   {
    "duration": 84,
    "start_time": "2023-05-04T21:25:55.791Z"
   },
   {
    "duration": 5,
    "start_time": "2023-05-04T21:25:55.878Z"
   },
   {
    "duration": 48,
    "start_time": "2023-05-04T21:25:55.885Z"
   },
   {
    "duration": 24,
    "start_time": "2023-05-04T21:25:55.935Z"
   },
   {
    "duration": 20,
    "start_time": "2023-05-04T21:51:41.639Z"
   },
   {
    "duration": 1213,
    "start_time": "2023-05-04T21:52:40.981Z"
   },
   {
    "duration": 87,
    "start_time": "2023-05-04T21:52:42.196Z"
   },
   {
    "duration": 5,
    "start_time": "2023-05-04T21:52:42.284Z"
   },
   {
    "duration": 52,
    "start_time": "2023-05-04T21:52:42.292Z"
   },
   {
    "duration": 21,
    "start_time": "2023-05-04T21:55:53.795Z"
   },
   {
    "duration": 25,
    "start_time": "2023-05-04T21:56:59.154Z"
   },
   {
    "duration": 24,
    "start_time": "2023-05-04T21:57:11.225Z"
   },
   {
    "duration": 15,
    "start_time": "2023-05-04T21:57:25.742Z"
   },
   {
    "duration": 4,
    "start_time": "2023-05-04T22:40:56.089Z"
   },
   {
    "duration": 3,
    "start_time": "2023-05-04T22:42:04.758Z"
   },
   {
    "duration": 82,
    "start_time": "2023-05-04T22:42:04.763Z"
   },
   {
    "duration": 5,
    "start_time": "2023-05-04T22:42:04.848Z"
   },
   {
    "duration": 73,
    "start_time": "2023-05-04T22:42:04.855Z"
   },
   {
    "duration": 17,
    "start_time": "2023-05-04T22:42:04.931Z"
   },
   {
    "duration": 98,
    "start_time": "2023-05-04T22:42:04.951Z"
   },
   {
    "duration": 11,
    "start_time": "2023-05-04T22:42:05.050Z"
   },
   {
    "duration": 19,
    "start_time": "2023-05-04T22:42:42.516Z"
   },
   {
    "duration": 9,
    "start_time": "2023-05-04T22:44:00.761Z"
   },
   {
    "duration": 10,
    "start_time": "2023-05-04T22:44:07.906Z"
   },
   {
    "duration": 20,
    "start_time": "2023-05-04T22:48:45.609Z"
   },
   {
    "duration": 19,
    "start_time": "2023-05-04T22:53:47.074Z"
   },
   {
    "duration": 26,
    "start_time": "2023-05-04T22:53:58.908Z"
   },
   {
    "duration": 35,
    "start_time": "2023-05-04T22:54:12.714Z"
   },
   {
    "duration": 10,
    "start_time": "2023-05-04T22:57:08.170Z"
   },
   {
    "duration": 5,
    "start_time": "2023-05-04T23:04:19.246Z"
   },
   {
    "duration": 6,
    "start_time": "2023-05-04T23:08:22.014Z"
   },
   {
    "duration": 6,
    "start_time": "2023-05-04T23:09:52.174Z"
   },
   {
    "duration": 10,
    "start_time": "2023-05-04T23:12:01.101Z"
   },
   {
    "duration": 4,
    "start_time": "2023-05-04T23:13:50.605Z"
   },
   {
    "duration": 106,
    "start_time": "2023-05-04T23:13:50.611Z"
   },
   {
    "duration": 5,
    "start_time": "2023-05-04T23:13:50.718Z"
   },
   {
    "duration": 60,
    "start_time": "2023-05-04T23:13:50.725Z"
   },
   {
    "duration": 13,
    "start_time": "2023-05-04T23:13:50.788Z"
   },
   {
    "duration": 71,
    "start_time": "2023-05-04T23:13:50.803Z"
   },
   {
    "duration": 11,
    "start_time": "2023-05-04T23:13:50.876Z"
   },
   {
    "duration": 50,
    "start_time": "2023-05-04T23:13:50.889Z"
   },
   {
    "duration": 37,
    "start_time": "2023-05-04T23:13:50.941Z"
   },
   {
    "duration": 41,
    "start_time": "2023-05-04T23:13:50.979Z"
   },
   {
    "duration": 19,
    "start_time": "2023-05-04T23:13:51.022Z"
   },
   {
    "duration": 30,
    "start_time": "2023-05-04T23:13:51.043Z"
   },
   {
    "duration": 19,
    "start_time": "2023-05-04T23:13:51.075Z"
   },
   {
    "duration": 15,
    "start_time": "2023-05-04T23:13:51.097Z"
   },
   {
    "duration": 30,
    "start_time": "2023-05-04T23:13:51.114Z"
   },
   {
    "duration": 19,
    "start_time": "2023-05-04T23:13:51.146Z"
   },
   {
    "duration": 21,
    "start_time": "2023-05-04T23:13:51.167Z"
   },
   {
    "duration": 20,
    "start_time": "2023-05-04T23:17:01.539Z"
   },
   {
    "duration": 58,
    "start_time": "2023-05-04T23:18:26.637Z"
   },
   {
    "duration": 22,
    "start_time": "2023-05-04T23:18:43.252Z"
   },
   {
    "duration": 17,
    "start_time": "2023-05-04T23:23:41.690Z"
   },
   {
    "duration": 6,
    "start_time": "2023-05-04T23:24:01.764Z"
   },
   {
    "duration": 20,
    "start_time": "2023-05-04T23:24:12.368Z"
   },
   {
    "duration": 18,
    "start_time": "2023-05-04T23:24:16.956Z"
   },
   {
    "duration": 1157,
    "start_time": "2023-05-04T23:28:10.630Z"
   },
   {
    "duration": 92,
    "start_time": "2023-05-04T23:28:11.789Z"
   },
   {
    "duration": 5,
    "start_time": "2023-05-04T23:28:11.883Z"
   },
   {
    "duration": 60,
    "start_time": "2023-05-04T23:28:11.891Z"
   },
   {
    "duration": 15,
    "start_time": "2023-05-04T23:28:11.953Z"
   },
   {
    "duration": 80,
    "start_time": "2023-05-04T23:28:11.970Z"
   },
   {
    "duration": 12,
    "start_time": "2023-05-04T23:28:12.052Z"
   },
   {
    "duration": 33,
    "start_time": "2023-05-04T23:28:12.065Z"
   },
   {
    "duration": 24,
    "start_time": "2023-05-04T23:28:12.100Z"
   },
   {
    "duration": 34,
    "start_time": "2023-05-04T23:28:12.127Z"
   },
   {
    "duration": 10,
    "start_time": "2023-05-04T23:28:12.163Z"
   },
   {
    "duration": 6,
    "start_time": "2023-05-04T23:28:12.175Z"
   },
   {
    "duration": 35,
    "start_time": "2023-05-04T23:28:12.183Z"
   },
   {
    "duration": 15,
    "start_time": "2023-05-04T23:28:12.220Z"
   },
   {
    "duration": 11,
    "start_time": "2023-05-04T23:28:12.237Z"
   },
   {
    "duration": 14,
    "start_time": "2023-05-04T23:28:12.250Z"
   },
   {
    "duration": 19,
    "start_time": "2023-05-04T23:28:12.266Z"
   },
   {
    "duration": 41,
    "start_time": "2023-05-04T23:28:12.287Z"
   },
   {
    "duration": 22,
    "start_time": "2023-05-04T23:30:07.049Z"
   },
   {
    "duration": 46,
    "start_time": "2023-05-04T23:30:13.002Z"
   },
   {
    "duration": 14,
    "start_time": "2023-05-04T23:31:34.387Z"
   },
   {
    "duration": 22,
    "start_time": "2023-05-04T23:31:41.140Z"
   },
   {
    "duration": 33,
    "start_time": "2023-05-04T23:31:56.892Z"
   },
   {
    "duration": 33,
    "start_time": "2023-05-04T23:32:01.367Z"
   },
   {
    "duration": 9,
    "start_time": "2023-05-04T23:32:24.963Z"
   },
   {
    "duration": 16,
    "start_time": "2023-05-04T23:32:35.688Z"
   },
   {
    "duration": 25,
    "start_time": "2023-05-04T23:32:51.317Z"
   },
   {
    "duration": 99,
    "start_time": "2023-05-04T23:32:59.145Z"
   },
   {
    "duration": 4,
    "start_time": "2023-05-04T23:33:02.875Z"
   },
   {
    "duration": 24,
    "start_time": "2023-05-04T23:33:10.783Z"
   },
   {
    "duration": 24,
    "start_time": "2023-05-04T23:34:16.840Z"
   },
   {
    "duration": 23,
    "start_time": "2023-05-04T23:34:40.958Z"
   },
   {
    "duration": 1138,
    "start_time": "2023-05-04T23:35:24.488Z"
   },
   {
    "duration": 84,
    "start_time": "2023-05-04T23:35:25.628Z"
   },
   {
    "duration": 5,
    "start_time": "2023-05-04T23:35:25.713Z"
   },
   {
    "duration": 39,
    "start_time": "2023-05-04T23:35:25.719Z"
   },
   {
    "duration": 12,
    "start_time": "2023-05-04T23:35:25.760Z"
   },
   {
    "duration": 79,
    "start_time": "2023-05-04T23:35:25.774Z"
   },
   {
    "duration": 10,
    "start_time": "2023-05-04T23:35:25.855Z"
   },
   {
    "duration": 33,
    "start_time": "2023-05-04T23:35:25.866Z"
   },
   {
    "duration": 11,
    "start_time": "2023-05-04T23:35:25.900Z"
   },
   {
    "duration": 25,
    "start_time": "2023-05-04T23:35:25.918Z"
   },
   {
    "duration": 10,
    "start_time": "2023-05-04T23:35:25.944Z"
   },
   {
    "duration": 19,
    "start_time": "2023-05-04T23:35:25.955Z"
   },
   {
    "duration": 11,
    "start_time": "2023-05-04T23:35:25.977Z"
   },
   {
    "duration": 9,
    "start_time": "2023-05-04T23:35:25.991Z"
   },
   {
    "duration": 27,
    "start_time": "2023-05-04T23:35:26.002Z"
   },
   {
    "duration": 21,
    "start_time": "2023-05-04T23:35:26.031Z"
   },
   {
    "duration": 25,
    "start_time": "2023-05-04T23:35:26.054Z"
   },
   {
    "duration": 19,
    "start_time": "2023-05-04T23:35:26.081Z"
   },
   {
    "duration": 24,
    "start_time": "2023-05-04T23:35:29.701Z"
   },
   {
    "duration": 21,
    "start_time": "2023-05-04T23:36:50.602Z"
   },
   {
    "duration": 39,
    "start_time": "2023-05-04T23:37:02.129Z"
   },
   {
    "duration": 11,
    "start_time": "2023-05-04T23:41:51.755Z"
   },
   {
    "duration": 11,
    "start_time": "2023-05-04T23:42:01.146Z"
   },
   {
    "duration": 12,
    "start_time": "2023-05-04T23:42:19.510Z"
   },
   {
    "duration": 80,
    "start_time": "2023-05-04T23:42:45.092Z"
   },
   {
    "duration": 11,
    "start_time": "2023-05-04T23:42:51.644Z"
   },
   {
    "duration": 19,
    "start_time": "2023-05-04T23:43:26.558Z"
   },
   {
    "duration": 19,
    "start_time": "2023-05-04T23:44:28.947Z"
   },
   {
    "duration": 6,
    "start_time": "2023-05-05T00:00:50.884Z"
   },
   {
    "duration": 899,
    "start_time": "2023-05-05T00:16:06.558Z"
   },
   {
    "duration": 281,
    "start_time": "2023-05-05T00:16:24.263Z"
   },
   {
    "duration": 339,
    "start_time": "2023-05-05T00:16:52.370Z"
   },
   {
    "duration": 334,
    "start_time": "2023-05-05T00:19:13.694Z"
   },
   {
    "duration": 385,
    "start_time": "2023-05-05T00:19:17.750Z"
   },
   {
    "duration": 292,
    "start_time": "2023-05-05T00:19:47.953Z"
   },
   {
    "duration": 298,
    "start_time": "2023-05-05T00:19:57.828Z"
   },
   {
    "duration": 320,
    "start_time": "2023-05-05T00:21:58.937Z"
   },
   {
    "duration": 301,
    "start_time": "2023-05-05T00:22:07.833Z"
   },
   {
    "duration": 125,
    "start_time": "2023-05-05T00:27:24.375Z"
   },
   {
    "duration": 206,
    "start_time": "2023-05-05T00:27:30.432Z"
   },
   {
    "duration": 425,
    "start_time": "2023-05-05T00:29:14.814Z"
   },
   {
    "duration": 315,
    "start_time": "2023-05-05T00:29:21.222Z"
   },
   {
    "duration": 303,
    "start_time": "2023-05-05T00:29:39.197Z"
   },
   {
    "duration": 294,
    "start_time": "2023-05-05T00:31:03.105Z"
   },
   {
    "duration": 289,
    "start_time": "2023-05-05T00:31:09.645Z"
   },
   {
    "duration": 311,
    "start_time": "2023-05-05T00:31:19.060Z"
   },
   {
    "duration": 331,
    "start_time": "2023-05-05T00:31:22.296Z"
   },
   {
    "duration": 314,
    "start_time": "2023-05-05T00:31:25.006Z"
   },
   {
    "duration": 126,
    "start_time": "2023-05-05T00:31:28.541Z"
   },
   {
    "duration": 320,
    "start_time": "2023-05-05T00:32:10.056Z"
   },
   {
    "duration": 583,
    "start_time": "2023-05-05T00:32:52.743Z"
   },
   {
    "duration": 307,
    "start_time": "2023-05-05T00:33:28.705Z"
   },
   {
    "duration": 304,
    "start_time": "2023-05-05T00:33:41.599Z"
   },
   {
    "duration": 287,
    "start_time": "2023-05-05T00:33:59.960Z"
   },
   {
    "duration": 391,
    "start_time": "2023-05-05T00:34:07.968Z"
   },
   {
    "duration": 371,
    "start_time": "2023-05-05T00:34:19.591Z"
   },
   {
    "duration": 308,
    "start_time": "2023-05-05T00:34:30.697Z"
   },
   {
    "duration": 332,
    "start_time": "2023-05-05T00:35:00.472Z"
   },
   {
    "duration": 299,
    "start_time": "2023-05-05T00:35:05.961Z"
   },
   {
    "duration": 294,
    "start_time": "2023-05-05T00:35:34.762Z"
   },
   {
    "duration": 298,
    "start_time": "2023-05-05T00:37:34.331Z"
   },
   {
    "duration": 410,
    "start_time": "2023-05-05T00:37:50.431Z"
   },
   {
    "duration": 316,
    "start_time": "2023-05-05T00:43:53.295Z"
   },
   {
    "duration": 299,
    "start_time": "2023-05-05T00:44:01.377Z"
   },
   {
    "duration": 301,
    "start_time": "2023-05-05T00:44:09.777Z"
   },
   {
    "duration": 304,
    "start_time": "2023-05-05T00:44:13.202Z"
   },
   {
    "duration": 288,
    "start_time": "2023-05-05T00:44:53.031Z"
   },
   {
    "duration": 2058,
    "start_time": "2023-05-05T00:46:12.396Z"
   },
   {
    "duration": 1877,
    "start_time": "2023-05-05T00:46:49.198Z"
   },
   {
    "duration": 1125,
    "start_time": "2023-05-05T00:53:54.457Z"
   },
   {
    "duration": 277,
    "start_time": "2023-05-05T00:55:12.860Z"
   },
   {
    "duration": 265,
    "start_time": "2023-05-05T00:55:17.712Z"
   },
   {
    "duration": 323,
    "start_time": "2023-05-05T00:55:21.824Z"
   },
   {
    "duration": 1305,
    "start_time": "2023-05-05T00:59:51.435Z"
   },
   {
    "duration": 3,
    "start_time": "2023-05-05T01:05:13.505Z"
   },
   {
    "duration": 126,
    "start_time": "2023-05-05T01:13:14.454Z"
   },
   {
    "duration": 38,
    "start_time": "2023-05-05T01:13:21.710Z"
   },
   {
    "duration": 41,
    "start_time": "2023-05-05T01:13:45.071Z"
   },
   {
    "duration": 35,
    "start_time": "2023-05-05T01:14:13.188Z"
   },
   {
    "duration": 99,
    "start_time": "2023-05-05T01:14:35.721Z"
   },
   {
    "duration": 32,
    "start_time": "2023-05-05T01:14:40.461Z"
   },
   {
    "duration": 311,
    "start_time": "2023-05-05T01:18:35.956Z"
   },
   {
    "duration": 296,
    "start_time": "2023-05-05T01:19:12.875Z"
   },
   {
    "duration": 285,
    "start_time": "2023-05-05T01:19:17.383Z"
   },
   {
    "duration": 276,
    "start_time": "2023-05-05T01:19:32.584Z"
   },
   {
    "duration": 435,
    "start_time": "2023-05-05T01:20:01.607Z"
   },
   {
    "duration": 302,
    "start_time": "2023-05-05T01:20:06.310Z"
   },
   {
    "duration": 288,
    "start_time": "2023-05-05T01:20:10.039Z"
   },
   {
    "duration": 283,
    "start_time": "2023-05-05T01:20:14.078Z"
   },
   {
    "duration": 885,
    "start_time": "2023-05-05T01:28:02.678Z"
   },
   {
    "duration": 967,
    "start_time": "2023-05-05T01:28:11.377Z"
   },
   {
    "duration": 8,
    "start_time": "2023-05-05T01:32:50.972Z"
   },
   {
    "duration": 9,
    "start_time": "2023-05-05T01:37:47.247Z"
   },
   {
    "duration": 8,
    "start_time": "2023-05-05T01:38:10.297Z"
   },
   {
    "duration": 9,
    "start_time": "2023-05-05T01:38:33.451Z"
   },
   {
    "duration": 1023,
    "start_time": "2023-05-05T01:46:21.103Z"
   },
   {
    "duration": 186,
    "start_time": "2023-05-05T01:47:09.756Z"
   },
   {
    "duration": 193,
    "start_time": "2023-05-05T01:47:51.394Z"
   },
   {
    "duration": 311,
    "start_time": "2023-05-05T01:48:08.756Z"
   },
   {
    "duration": 223,
    "start_time": "2023-05-05T01:50:05.990Z"
   },
   {
    "duration": 255,
    "start_time": "2023-05-05T01:50:42.369Z"
   },
   {
    "duration": 227,
    "start_time": "2023-05-05T01:53:28.874Z"
   },
   {
    "duration": 216,
    "start_time": "2023-05-05T01:53:34.565Z"
   },
   {
    "duration": 557,
    "start_time": "2023-05-05T01:56:15.644Z"
   },
   {
    "duration": 470,
    "start_time": "2023-05-05T01:57:16.792Z"
   },
   {
    "duration": 467,
    "start_time": "2023-05-05T01:57:26.588Z"
   },
   {
    "duration": 4,
    "start_time": "2023-05-05T02:05:16.980Z"
   },
   {
    "duration": 81,
    "start_time": "2023-05-05T02:05:16.986Z"
   },
   {
    "duration": 5,
    "start_time": "2023-05-05T02:05:17.069Z"
   },
   {
    "duration": 45,
    "start_time": "2023-05-05T02:05:17.076Z"
   },
   {
    "duration": 11,
    "start_time": "2023-05-05T02:05:17.122Z"
   },
   {
    "duration": 86,
    "start_time": "2023-05-05T02:05:17.135Z"
   },
   {
    "duration": 11,
    "start_time": "2023-05-05T02:05:17.223Z"
   },
   {
    "duration": 21,
    "start_time": "2023-05-05T02:05:17.235Z"
   },
   {
    "duration": 9,
    "start_time": "2023-05-05T02:05:17.258Z"
   },
   {
    "duration": 54,
    "start_time": "2023-05-05T02:05:17.269Z"
   },
   {
    "duration": 8,
    "start_time": "2023-05-05T02:05:17.325Z"
   },
   {
    "duration": 17,
    "start_time": "2023-05-05T02:05:17.335Z"
   },
   {
    "duration": 19,
    "start_time": "2023-05-05T02:05:17.353Z"
   },
   {
    "duration": 10,
    "start_time": "2023-05-05T02:05:17.373Z"
   },
   {
    "duration": 19,
    "start_time": "2023-05-05T02:05:17.384Z"
   },
   {
    "duration": 17,
    "start_time": "2023-05-05T02:05:17.405Z"
   },
   {
    "duration": 19,
    "start_time": "2023-05-05T02:05:17.424Z"
   },
   {
    "duration": 18,
    "start_time": "2023-05-05T02:05:17.445Z"
   },
   {
    "duration": 21,
    "start_time": "2023-05-05T02:05:17.464Z"
   },
   {
    "duration": 69,
    "start_time": "2023-05-05T02:05:17.487Z"
   },
   {
    "duration": 438,
    "start_time": "2023-05-05T02:05:17.558Z"
   },
   {
    "duration": 293,
    "start_time": "2023-05-05T02:05:17.997Z"
   },
   {
    "duration": 42,
    "start_time": "2023-05-05T02:05:18.292Z"
   },
   {
    "duration": 3,
    "start_time": "2023-05-05T02:05:18.337Z"
   },
   {
    "duration": 40,
    "start_time": "2023-05-05T02:05:18.342Z"
   },
   {
    "duration": 829,
    "start_time": "2023-05-05T02:05:18.383Z"
   },
   {
    "duration": 9,
    "start_time": "2023-05-05T02:05:19.217Z"
   },
   {
    "duration": 433,
    "start_time": "2023-05-05T02:05:19.228Z"
   },
   {
    "duration": 2336,
    "start_time": "2023-05-05T02:05:23.421Z"
   },
   {
    "duration": 2492,
    "start_time": "2023-05-05T02:11:03.649Z"
   },
   {
    "duration": 2538,
    "start_time": "2023-05-05T02:12:01.300Z"
   },
   {
    "duration": 2533,
    "start_time": "2023-05-05T02:12:38.924Z"
   },
   {
    "duration": 2459,
    "start_time": "2023-05-05T02:13:28.464Z"
   },
   {
    "duration": 49,
    "start_time": "2023-05-05T12:40:34.067Z"
   },
   {
    "duration": 1297,
    "start_time": "2023-05-05T12:40:39.287Z"
   },
   {
    "duration": 157,
    "start_time": "2023-05-05T12:40:40.587Z"
   },
   {
    "duration": 6,
    "start_time": "2023-05-05T12:40:40.746Z"
   },
   {
    "duration": 43,
    "start_time": "2023-05-05T12:40:40.755Z"
   },
   {
    "duration": 22,
    "start_time": "2023-05-05T12:40:40.800Z"
   },
   {
    "duration": 63,
    "start_time": "2023-05-05T12:40:40.823Z"
   },
   {
    "duration": 27,
    "start_time": "2023-05-05T12:40:40.888Z"
   },
   {
    "duration": 26,
    "start_time": "2023-05-05T12:40:40.916Z"
   },
   {
    "duration": 19,
    "start_time": "2023-05-05T12:40:40.944Z"
   },
   {
    "duration": 49,
    "start_time": "2023-05-05T12:40:40.965Z"
   },
   {
    "duration": 8,
    "start_time": "2023-05-05T12:40:41.016Z"
   },
   {
    "duration": 12,
    "start_time": "2023-05-05T12:40:41.026Z"
   },
   {
    "duration": 22,
    "start_time": "2023-05-05T12:40:41.040Z"
   },
   {
    "duration": 10,
    "start_time": "2023-05-05T12:40:41.063Z"
   },
   {
    "duration": 12,
    "start_time": "2023-05-05T12:40:41.075Z"
   },
   {
    "duration": 30,
    "start_time": "2023-05-05T12:40:41.089Z"
   },
   {
    "duration": 30,
    "start_time": "2023-05-05T12:40:41.120Z"
   },
   {
    "duration": 18,
    "start_time": "2023-05-05T12:40:41.152Z"
   },
   {
    "duration": 44,
    "start_time": "2023-05-05T12:40:41.172Z"
   },
   {
    "duration": 51,
    "start_time": "2023-05-05T12:40:41.219Z"
   },
   {
    "duration": 381,
    "start_time": "2023-05-05T12:40:41.272Z"
   },
   {
    "duration": 295,
    "start_time": "2023-05-05T12:40:41.654Z"
   },
   {
    "duration": 37,
    "start_time": "2023-05-05T12:40:41.951Z"
   },
   {
    "duration": 22,
    "start_time": "2023-05-05T12:40:41.990Z"
   },
   {
    "duration": 67,
    "start_time": "2023-05-05T12:40:42.015Z"
   },
   {
    "duration": 885,
    "start_time": "2023-05-05T12:40:42.085Z"
   },
   {
    "duration": 9,
    "start_time": "2023-05-05T12:40:42.972Z"
   },
   {
    "duration": 585,
    "start_time": "2023-05-05T12:40:42.984Z"
   },
   {
    "duration": 2566,
    "start_time": "2023-05-05T12:40:43.571Z"
   },
   {
    "duration": 276,
    "start_time": "2023-05-05T12:40:46.138Z"
   },
   {
    "duration": 339,
    "start_time": "2023-05-05T12:41:10.681Z"
   },
   {
    "duration": 369,
    "start_time": "2023-05-05T12:44:02.274Z"
   },
   {
    "duration": 628,
    "start_time": "2023-05-05T12:44:44.443Z"
   },
   {
    "duration": 615,
    "start_time": "2023-05-05T12:46:25.010Z"
   },
   {
    "duration": 700,
    "start_time": "2023-05-05T12:46:42.925Z"
   },
   {
    "duration": 51,
    "start_time": "2023-05-05T12:52:04.631Z"
   },
   {
    "duration": 21,
    "start_time": "2023-05-05T13:05:40.697Z"
   },
   {
    "duration": 54,
    "start_time": "2023-05-05T13:08:33.243Z"
   },
   {
    "duration": 67,
    "start_time": "2023-05-05T13:08:40.018Z"
   },
   {
    "duration": 67,
    "start_time": "2023-05-05T13:08:50.511Z"
   },
   {
    "duration": 71,
    "start_time": "2023-05-05T13:08:55.368Z"
   },
   {
    "duration": 21,
    "start_time": "2023-05-05T13:09:05.558Z"
   },
   {
    "duration": 20,
    "start_time": "2023-05-05T13:09:21.496Z"
   },
   {
    "duration": 83,
    "start_time": "2023-05-05T13:10:14.114Z"
   },
   {
    "duration": 20,
    "start_time": "2023-05-05T13:12:10.337Z"
   },
   {
    "duration": 67,
    "start_time": "2023-05-05T13:13:03.302Z"
   },
   {
    "duration": 30,
    "start_time": "2023-05-05T13:14:54.229Z"
   },
   {
    "duration": 17,
    "start_time": "2023-05-05T13:18:08.782Z"
   },
   {
    "duration": 18,
    "start_time": "2023-05-05T13:18:24.443Z"
   },
   {
    "duration": 17,
    "start_time": "2023-05-05T13:19:05.293Z"
   },
   {
    "duration": 34,
    "start_time": "2023-05-05T13:19:26.006Z"
   },
   {
    "duration": 26,
    "start_time": "2023-05-05T13:20:36.625Z"
   },
   {
    "duration": 13,
    "start_time": "2023-05-05T13:22:21.734Z"
   },
   {
    "duration": 20,
    "start_time": "2023-05-05T13:23:21.525Z"
   },
   {
    "duration": 20,
    "start_time": "2023-05-05T13:24:16.148Z"
   },
   {
    "duration": 433,
    "start_time": "2023-05-05T13:24:29.866Z"
   },
   {
    "duration": 21,
    "start_time": "2023-05-05T13:24:44.690Z"
   },
   {
    "duration": 19,
    "start_time": "2023-05-05T13:24:56.624Z"
   },
   {
    "duration": 53,
    "start_time": "2023-05-05T13:25:04.749Z"
   },
   {
    "duration": 21,
    "start_time": "2023-05-05T13:25:07.668Z"
   },
   {
    "duration": 15,
    "start_time": "2023-05-05T13:25:15.625Z"
   },
   {
    "duration": 25,
    "start_time": "2023-05-05T13:32:54.785Z"
   },
   {
    "duration": 21,
    "start_time": "2023-05-05T13:33:02.792Z"
   },
   {
    "duration": 25,
    "start_time": "2023-05-05T13:33:13.433Z"
   },
   {
    "duration": 17,
    "start_time": "2023-05-05T13:33:41.579Z"
   },
   {
    "duration": 19,
    "start_time": "2023-05-05T13:34:53.316Z"
   },
   {
    "duration": 17,
    "start_time": "2023-05-05T13:36:25.734Z"
   },
   {
    "duration": 20,
    "start_time": "2023-05-05T13:36:35.014Z"
   },
   {
    "duration": 18,
    "start_time": "2023-05-05T13:37:47.659Z"
   },
   {
    "duration": 21,
    "start_time": "2023-05-05T13:43:56.282Z"
   },
   {
    "duration": 20,
    "start_time": "2023-05-05T13:44:16.056Z"
   },
   {
    "duration": 17,
    "start_time": "2023-05-05T13:44:34.619Z"
   },
   {
    "duration": 16,
    "start_time": "2023-05-05T13:45:17.062Z"
   },
   {
    "duration": 20,
    "start_time": "2023-05-05T13:45:23.044Z"
   },
   {
    "duration": 18,
    "start_time": "2023-05-05T13:46:20.164Z"
   },
   {
    "duration": 20,
    "start_time": "2023-05-05T13:47:01.990Z"
   },
   {
    "duration": 785,
    "start_time": "2023-05-05T13:47:43.738Z"
   },
   {
    "duration": 21,
    "start_time": "2023-05-05T13:47:55.276Z"
   },
   {
    "duration": 20,
    "start_time": "2023-05-05T13:52:53.832Z"
   },
   {
    "duration": 20,
    "start_time": "2023-05-05T13:53:00.392Z"
   },
   {
    "duration": 21,
    "start_time": "2023-05-05T13:54:37.406Z"
   },
   {
    "duration": 33,
    "start_time": "2023-05-05T13:54:54.329Z"
   },
   {
    "duration": 19,
    "start_time": "2023-05-05T13:57:28.069Z"
   },
   {
    "duration": 18,
    "start_time": "2023-05-05T13:58:26.479Z"
   },
   {
    "duration": 19,
    "start_time": "2023-05-05T13:59:41.790Z"
   },
   {
    "duration": 20,
    "start_time": "2023-05-05T14:00:13.456Z"
   },
   {
    "duration": 21,
    "start_time": "2023-05-05T14:00:31.689Z"
   },
   {
    "duration": 20,
    "start_time": "2023-05-05T14:01:21.103Z"
   },
   {
    "duration": 14,
    "start_time": "2023-05-05T14:01:25.644Z"
   },
   {
    "duration": 24,
    "start_time": "2023-05-05T14:01:30.700Z"
   },
   {
    "duration": 21,
    "start_time": "2023-05-05T14:01:39.759Z"
   },
   {
    "duration": 22,
    "start_time": "2023-05-05T14:01:55.957Z"
   },
   {
    "duration": 21,
    "start_time": "2023-05-05T14:02:19.552Z"
   },
   {
    "duration": 824,
    "start_time": "2023-05-05T14:04:01.838Z"
   },
   {
    "duration": 22,
    "start_time": "2023-05-05T14:04:24.059Z"
   },
   {
    "duration": 25,
    "start_time": "2023-05-05T14:04:58.907Z"
   },
   {
    "duration": 24,
    "start_time": "2023-05-05T14:05:43.904Z"
   },
   {
    "duration": 22,
    "start_time": "2023-05-05T14:07:08.294Z"
   },
   {
    "duration": 21,
    "start_time": "2023-05-05T14:09:14.847Z"
   },
   {
    "duration": 116,
    "start_time": "2023-05-05T14:09:23.780Z"
   },
   {
    "duration": 113,
    "start_time": "2023-05-05T14:09:42.504Z"
   },
   {
    "duration": 110,
    "start_time": "2023-05-05T14:09:57.826Z"
   },
   {
    "duration": 86,
    "start_time": "2023-05-05T14:10:18.396Z"
   },
   {
    "duration": 35,
    "start_time": "2023-05-05T14:10:21.826Z"
   },
   {
    "duration": 307,
    "start_time": "2023-05-05T14:11:00.136Z"
   },
   {
    "duration": 257,
    "start_time": "2023-05-05T14:11:18.759Z"
   },
   {
    "duration": 219,
    "start_time": "2023-05-05T14:11:25.611Z"
   },
   {
    "duration": 50,
    "start_time": "2023-05-05T14:11:33.107Z"
   },
   {
    "duration": 228,
    "start_time": "2023-05-05T14:11:35.918Z"
   },
   {
    "duration": 24,
    "start_time": "2023-05-05T14:11:47.345Z"
   },
   {
    "duration": 215,
    "start_time": "2023-05-05T14:12:39.776Z"
   },
   {
    "duration": 199,
    "start_time": "2023-05-05T14:12:59.528Z"
   },
   {
    "duration": 222,
    "start_time": "2023-05-05T14:13:06.969Z"
   },
   {
    "duration": 208,
    "start_time": "2023-05-05T14:13:19.681Z"
   },
   {
    "duration": 309,
    "start_time": "2023-05-05T14:14:33.686Z"
   },
   {
    "duration": 197,
    "start_time": "2023-05-05T14:14:42.621Z"
   },
   {
    "duration": 31,
    "start_time": "2023-05-05T14:15:15.194Z"
   },
   {
    "duration": 206,
    "start_time": "2023-05-05T14:15:34.829Z"
   },
   {
    "duration": 225,
    "start_time": "2023-05-05T14:16:22.451Z"
   },
   {
    "duration": 301,
    "start_time": "2023-05-05T14:16:29.859Z"
   },
   {
    "duration": 241,
    "start_time": "2023-05-05T14:16:49.193Z"
   },
   {
    "duration": 293,
    "start_time": "2023-05-05T14:20:15.706Z"
   },
   {
    "duration": 131,
    "start_time": "2023-05-05T14:20:26.534Z"
   },
   {
    "duration": 132,
    "start_time": "2023-05-05T14:32:59.982Z"
   },
   {
    "duration": 27,
    "start_time": "2023-05-05T14:33:20.531Z"
   },
   {
    "duration": 26,
    "start_time": "2023-05-05T14:33:24.068Z"
   },
   {
    "duration": 136,
    "start_time": "2023-05-05T14:33:46.671Z"
   },
   {
    "duration": 28,
    "start_time": "2023-05-05T14:33:58.863Z"
   },
   {
    "duration": 16,
    "start_time": "2023-05-05T14:40:11.057Z"
   },
   {
    "duration": 31,
    "start_time": "2023-05-05T14:41:32.109Z"
   },
   {
    "duration": 126,
    "start_time": "2023-05-05T14:41:53.310Z"
   },
   {
    "duration": 115,
    "start_time": "2023-05-05T14:42:12.636Z"
   },
   {
    "duration": 122,
    "start_time": "2023-05-05T14:42:48.067Z"
   },
   {
    "duration": 23,
    "start_time": "2023-05-05T14:47:45.351Z"
   },
   {
    "duration": 154,
    "start_time": "2023-05-05T14:49:28.791Z"
   },
   {
    "duration": 212,
    "start_time": "2023-05-05T14:49:51.375Z"
   },
   {
    "duration": 126,
    "start_time": "2023-05-05T14:49:57.018Z"
   },
   {
    "duration": 142,
    "start_time": "2023-05-05T14:50:58.116Z"
   },
   {
    "duration": 33,
    "start_time": "2023-05-05T14:54:38.885Z"
   },
   {
    "duration": 17,
    "start_time": "2023-05-05T14:54:50.754Z"
   },
   {
    "duration": 139,
    "start_time": "2023-05-05T14:54:52.934Z"
   },
   {
    "duration": 273,
    "start_time": "2023-05-05T14:56:18.756Z"
   },
   {
    "duration": 135,
    "start_time": "2023-05-05T14:56:39.234Z"
   },
   {
    "duration": 123,
    "start_time": "2023-05-05T14:57:43.546Z"
   },
   {
    "duration": 123,
    "start_time": "2023-05-05T14:57:54.474Z"
   },
   {
    "duration": 63,
    "start_time": "2023-05-05T14:58:32.388Z"
   },
   {
    "duration": 60,
    "start_time": "2023-05-05T14:58:58.683Z"
   },
   {
    "duration": 31,
    "start_time": "2023-05-05T14:59:09.075Z"
   },
   {
    "duration": 125,
    "start_time": "2023-05-05T14:59:13.096Z"
   },
   {
    "duration": 84,
    "start_time": "2023-05-05T14:59:30.047Z"
   },
   {
    "duration": 48,
    "start_time": "2023-05-05T14:59:37.515Z"
   },
   {
    "duration": 125,
    "start_time": "2023-05-05T14:59:47.326Z"
   },
   {
    "duration": 53,
    "start_time": "2023-05-05T14:59:59.119Z"
   },
   {
    "duration": 52,
    "start_time": "2023-05-05T15:00:11.386Z"
   },
   {
    "duration": 126,
    "start_time": "2023-05-05T15:00:52.620Z"
   },
   {
    "duration": 33,
    "start_time": "2023-05-05T15:02:38.856Z"
   },
   {
    "duration": 118,
    "start_time": "2023-05-05T15:04:45.854Z"
   },
   {
    "duration": 119,
    "start_time": "2023-05-05T15:05:27.685Z"
   },
   {
    "duration": 116,
    "start_time": "2023-05-05T15:05:46.340Z"
   },
   {
    "duration": 46,
    "start_time": "2023-05-05T15:09:12.093Z"
   },
   {
    "duration": 359,
    "start_time": "2023-05-05T15:09:22.356Z"
   },
   {
    "duration": 357,
    "start_time": "2023-05-05T15:10:03.281Z"
   },
   {
    "duration": 577,
    "start_time": "2023-05-05T15:16:45.872Z"
   },
   {
    "duration": 536,
    "start_time": "2023-05-05T15:17:25.725Z"
   },
   {
    "duration": 348,
    "start_time": "2023-05-05T15:29:18.525Z"
   },
   {
    "duration": 354,
    "start_time": "2023-05-05T15:29:52.697Z"
   },
   {
    "duration": 452,
    "start_time": "2023-05-05T15:30:00.797Z"
   },
   {
    "duration": 52,
    "start_time": "2023-05-05T16:44:07.434Z"
   },
   {
    "duration": 357,
    "start_time": "2023-05-05T16:44:17.155Z"
   },
   {
    "duration": 338,
    "start_time": "2023-05-05T16:49:32.071Z"
   },
   {
    "duration": 365,
    "start_time": "2023-05-05T16:49:39.317Z"
   },
   {
    "duration": 366,
    "start_time": "2023-05-05T16:49:42.267Z"
   },
   {
    "duration": 446,
    "start_time": "2023-05-05T16:53:29.733Z"
   },
   {
    "duration": 340,
    "start_time": "2023-05-05T16:54:09.398Z"
   },
   {
    "duration": 334,
    "start_time": "2023-05-05T16:54:26.747Z"
   },
   {
    "duration": 2,
    "start_time": "2023-05-05T17:03:28.182Z"
   },
   {
    "duration": 3,
    "start_time": "2023-05-05T17:03:39.145Z"
   },
   {
    "duration": 2,
    "start_time": "2023-05-05T17:03:47.679Z"
   },
   {
    "duration": 40,
    "start_time": "2023-05-05T17:13:40.324Z"
   },
   {
    "duration": 312,
    "start_time": "2023-05-05T17:17:27.172Z"
   },
   {
    "duration": 313,
    "start_time": "2023-05-05T17:17:32.753Z"
   },
   {
    "duration": 5,
    "start_time": "2023-05-05T17:19:05.371Z"
   },
   {
    "duration": 296,
    "start_time": "2023-05-05T17:19:15.636Z"
   },
   {
    "duration": 1166,
    "start_time": "2023-05-05T17:19:23.635Z"
   },
   {
    "duration": 80,
    "start_time": "2023-05-05T17:19:24.802Z"
   },
   {
    "duration": 5,
    "start_time": "2023-05-05T17:19:24.883Z"
   },
   {
    "duration": 48,
    "start_time": "2023-05-05T17:19:24.890Z"
   },
   {
    "duration": 11,
    "start_time": "2023-05-05T17:19:24.941Z"
   },
   {
    "duration": 86,
    "start_time": "2023-05-05T17:19:24.954Z"
   },
   {
    "duration": 11,
    "start_time": "2023-05-05T17:19:25.042Z"
   },
   {
    "duration": 29,
    "start_time": "2023-05-05T17:19:25.054Z"
   },
   {
    "duration": 8,
    "start_time": "2023-05-05T17:19:25.085Z"
   },
   {
    "duration": 44,
    "start_time": "2023-05-05T17:19:25.095Z"
   },
   {
    "duration": 8,
    "start_time": "2023-05-05T17:19:25.141Z"
   },
   {
    "duration": 10,
    "start_time": "2023-05-05T17:19:25.150Z"
   },
   {
    "duration": 12,
    "start_time": "2023-05-05T17:19:25.161Z"
   },
   {
    "duration": 7,
    "start_time": "2023-05-05T17:19:25.175Z"
   },
   {
    "duration": 31,
    "start_time": "2023-05-05T17:19:25.184Z"
   },
   {
    "duration": 12,
    "start_time": "2023-05-05T17:19:25.216Z"
   },
   {
    "duration": 19,
    "start_time": "2023-05-05T17:19:25.229Z"
   },
   {
    "duration": 17,
    "start_time": "2023-05-05T17:19:25.250Z"
   },
   {
    "duration": 47,
    "start_time": "2023-05-05T17:19:25.269Z"
   },
   {
    "duration": 40,
    "start_time": "2023-05-05T17:19:25.317Z"
   },
   {
    "duration": 347,
    "start_time": "2023-05-05T17:19:25.359Z"
   },
   {
    "duration": 290,
    "start_time": "2023-05-05T17:19:25.711Z"
   },
   {
    "duration": 40,
    "start_time": "2023-05-05T17:19:26.002Z"
   },
   {
    "duration": 2,
    "start_time": "2023-05-05T17:19:26.044Z"
   },
   {
    "duration": 40,
    "start_time": "2023-05-05T17:19:26.048Z"
   },
   {
    "duration": 856,
    "start_time": "2023-05-05T17:19:26.090Z"
   },
   {
    "duration": 10,
    "start_time": "2023-05-05T17:19:26.949Z"
   },
   {
    "duration": 563,
    "start_time": "2023-05-05T17:19:26.961Z"
   },
   {
    "duration": 2532,
    "start_time": "2023-05-05T17:19:27.527Z"
   },
   {
    "duration": 575,
    "start_time": "2023-05-05T17:19:30.061Z"
   },
   {
    "duration": 466,
    "start_time": "2023-05-05T17:19:30.638Z"
   },
   {
    "duration": 355,
    "start_time": "2023-05-05T17:19:31.106Z"
   },
   {
    "duration": 2,
    "start_time": "2023-05-05T17:19:31.463Z"
   },
   {
    "duration": 35,
    "start_time": "2023-05-05T17:19:31.467Z"
   },
   {
    "duration": 19,
    "start_time": "2023-05-05T17:19:31.504Z"
   },
   {
    "duration": 299,
    "start_time": "2023-05-05T17:19:36.058Z"
   },
   {
    "duration": 293,
    "start_time": "2023-05-05T17:28:06.528Z"
   },
   {
    "duration": 116,
    "start_time": "2023-05-05T17:37:14.902Z"
   },
   {
    "duration": 24,
    "start_time": "2023-05-05T17:37:51.911Z"
   },
   {
    "duration": 22,
    "start_time": "2023-05-05T17:38:15.171Z"
   },
   {
    "duration": 32,
    "start_time": "2023-05-05T17:40:01.873Z"
   },
   {
    "duration": 1183,
    "start_time": "2023-05-05T19:39:46.110Z"
   },
   {
    "duration": 81,
    "start_time": "2023-05-05T19:39:47.295Z"
   },
   {
    "duration": 5,
    "start_time": "2023-05-05T19:39:47.378Z"
   },
   {
    "duration": 44,
    "start_time": "2023-05-05T19:39:47.385Z"
   },
   {
    "duration": 11,
    "start_time": "2023-05-05T19:39:47.431Z"
   },
   {
    "duration": 76,
    "start_time": "2023-05-05T19:39:47.443Z"
   },
   {
    "duration": 11,
    "start_time": "2023-05-05T19:39:47.521Z"
   },
   {
    "duration": 29,
    "start_time": "2023-05-05T19:39:47.534Z"
   },
   {
    "duration": 9,
    "start_time": "2023-05-05T19:39:47.564Z"
   },
   {
    "duration": 43,
    "start_time": "2023-05-05T19:39:47.576Z"
   },
   {
    "duration": 9,
    "start_time": "2023-05-05T19:39:47.620Z"
   },
   {
    "duration": 16,
    "start_time": "2023-05-05T19:39:47.630Z"
   },
   {
    "duration": 7,
    "start_time": "2023-05-05T19:39:47.648Z"
   },
   {
    "duration": 7,
    "start_time": "2023-05-05T19:39:47.656Z"
   },
   {
    "duration": 16,
    "start_time": "2023-05-05T19:39:47.665Z"
   },
   {
    "duration": 39,
    "start_time": "2023-05-05T19:39:47.683Z"
   },
   {
    "duration": 21,
    "start_time": "2023-05-05T19:39:47.724Z"
   },
   {
    "duration": 17,
    "start_time": "2023-05-05T19:39:47.747Z"
   },
   {
    "duration": 21,
    "start_time": "2023-05-05T19:39:47.765Z"
   },
   {
    "duration": 41,
    "start_time": "2023-05-05T19:39:47.812Z"
   },
   {
    "duration": 346,
    "start_time": "2023-05-05T19:39:47.855Z"
   },
   {
    "duration": 310,
    "start_time": "2023-05-05T19:39:48.203Z"
   },
   {
    "duration": 37,
    "start_time": "2023-05-05T19:39:48.515Z"
   },
   {
    "duration": 3,
    "start_time": "2023-05-05T19:39:48.554Z"
   },
   {
    "duration": 60,
    "start_time": "2023-05-05T19:39:48.558Z"
   },
   {
    "duration": 929,
    "start_time": "2023-05-05T19:39:48.620Z"
   },
   {
    "duration": 11,
    "start_time": "2023-05-05T19:39:49.551Z"
   },
   {
    "duration": 587,
    "start_time": "2023-05-05T19:39:49.566Z"
   },
   {
    "duration": 2573,
    "start_time": "2023-05-05T19:39:50.155Z"
   },
   {
    "duration": 623,
    "start_time": "2023-05-05T19:39:52.730Z"
   },
   {
    "duration": 460,
    "start_time": "2023-05-05T19:39:53.355Z"
   },
   {
    "duration": 386,
    "start_time": "2023-05-05T19:39:53.816Z"
   },
   {
    "duration": 8,
    "start_time": "2023-05-05T19:39:54.204Z"
   },
   {
    "duration": 7,
    "start_time": "2023-05-05T19:39:54.215Z"
   },
   {
    "duration": 5,
    "start_time": "2023-05-05T19:39:54.224Z"
   },
   {
    "duration": 337,
    "start_time": "2023-05-05T19:39:54.231Z"
   },
   {
    "duration": 10,
    "start_time": "2023-05-05T19:39:54.570Z"
   },
   {
    "duration": 38,
    "start_time": "2023-05-05T19:39:54.581Z"
   },
   {
    "duration": 24,
    "start_time": "2023-05-05T19:39:54.621Z"
   },
   {
    "duration": 1001,
    "start_time": "2023-05-05T23:57:29.936Z"
   },
   {
    "duration": 79,
    "start_time": "2023-05-05T23:57:30.939Z"
   },
   {
    "duration": 4,
    "start_time": "2023-05-05T23:57:31.020Z"
   },
   {
    "duration": 58,
    "start_time": "2023-05-05T23:57:31.026Z"
   },
   {
    "duration": 11,
    "start_time": "2023-05-05T23:57:31.086Z"
   },
   {
    "duration": 84,
    "start_time": "2023-05-05T23:57:31.098Z"
   },
   {
    "duration": 10,
    "start_time": "2023-05-05T23:57:31.183Z"
   },
   {
    "duration": 49,
    "start_time": "2023-05-05T23:57:31.195Z"
   },
   {
    "duration": 29,
    "start_time": "2023-05-05T23:57:31.246Z"
   },
   {
    "duration": 48,
    "start_time": "2023-05-05T23:57:31.277Z"
   },
   {
    "duration": 37,
    "start_time": "2023-05-05T23:57:31.327Z"
   },
   {
    "duration": 35,
    "start_time": "2023-05-05T23:57:31.366Z"
   },
   {
    "duration": 45,
    "start_time": "2023-05-05T23:57:31.403Z"
   },
   {
    "duration": 31,
    "start_time": "2023-05-05T23:57:31.451Z"
   },
   {
    "duration": 48,
    "start_time": "2023-05-05T23:57:31.484Z"
   },
   {
    "duration": 59,
    "start_time": "2023-05-05T23:57:31.533Z"
   },
   {
    "duration": 51,
    "start_time": "2023-05-05T23:57:31.593Z"
   },
   {
    "duration": 23,
    "start_time": "2023-05-05T23:57:31.646Z"
   },
   {
    "duration": 22,
    "start_time": "2023-05-05T23:57:31.670Z"
   },
   {
    "duration": 39,
    "start_time": "2023-05-05T23:57:31.694Z"
   },
   {
    "duration": 324,
    "start_time": "2023-05-05T23:57:31.735Z"
   },
   {
    "duration": 279,
    "start_time": "2023-05-05T23:57:32.061Z"
   },
   {
    "duration": 33,
    "start_time": "2023-05-05T23:57:32.342Z"
   },
   {
    "duration": 3,
    "start_time": "2023-05-05T23:57:32.383Z"
   },
   {
    "duration": 48,
    "start_time": "2023-05-05T23:57:32.387Z"
   },
   {
    "duration": 753,
    "start_time": "2023-05-05T23:57:32.436Z"
   },
   {
    "duration": 9,
    "start_time": "2023-05-05T23:57:33.190Z"
   },
   {
    "duration": 483,
    "start_time": "2023-05-05T23:57:33.200Z"
   },
   {
    "duration": 2135,
    "start_time": "2023-05-05T23:57:33.685Z"
   },
   {
    "duration": 512,
    "start_time": "2023-05-05T23:57:35.822Z"
   },
   {
    "duration": 365,
    "start_time": "2023-05-05T23:57:36.335Z"
   },
   {
    "duration": 306,
    "start_time": "2023-05-05T23:57:36.702Z"
   },
   {
    "duration": 3,
    "start_time": "2023-05-05T23:57:37.009Z"
   },
   {
    "duration": 30,
    "start_time": "2023-05-05T23:57:37.013Z"
   },
   {
    "duration": 24,
    "start_time": "2023-05-05T23:57:37.044Z"
   },
   {
    "duration": 277,
    "start_time": "2023-05-05T23:57:37.069Z"
   },
   {
    "duration": 8,
    "start_time": "2023-05-05T23:57:37.348Z"
   },
   {
    "duration": 35,
    "start_time": "2023-05-05T23:57:37.357Z"
   },
   {
    "duration": 27,
    "start_time": "2023-05-05T23:57:37.394Z"
   },
   {
    "duration": 1069,
    "start_time": "2023-05-05T23:58:00.170Z"
   },
   {
    "duration": 77,
    "start_time": "2023-05-05T23:58:01.241Z"
   },
   {
    "duration": 5,
    "start_time": "2023-05-05T23:58:01.319Z"
   },
   {
    "duration": 56,
    "start_time": "2023-05-05T23:58:01.326Z"
   },
   {
    "duration": 11,
    "start_time": "2023-05-05T23:58:01.385Z"
   },
   {
    "duration": 63,
    "start_time": "2023-05-05T23:58:01.397Z"
   },
   {
    "duration": 24,
    "start_time": "2023-05-05T23:58:01.462Z"
   },
   {
    "duration": 22,
    "start_time": "2023-05-05T23:58:01.488Z"
   },
   {
    "duration": 18,
    "start_time": "2023-05-05T23:58:01.512Z"
   },
   {
    "duration": 37,
    "start_time": "2023-05-05T23:58:01.532Z"
   },
   {
    "duration": 13,
    "start_time": "2023-05-05T23:58:01.571Z"
   },
   {
    "duration": 28,
    "start_time": "2023-05-05T23:58:01.585Z"
   },
   {
    "duration": 35,
    "start_time": "2023-05-05T23:58:01.615Z"
   },
   {
    "duration": 52,
    "start_time": "2023-05-05T23:58:01.653Z"
   },
   {
    "duration": 36,
    "start_time": "2023-05-05T23:58:01.707Z"
   },
   {
    "duration": 39,
    "start_time": "2023-05-05T23:58:01.745Z"
   },
   {
    "duration": 21,
    "start_time": "2023-05-05T23:58:01.785Z"
   },
   {
    "duration": 16,
    "start_time": "2023-05-05T23:58:01.808Z"
   },
   {
    "duration": 22,
    "start_time": "2023-05-05T23:58:01.825Z"
   },
   {
    "duration": 54,
    "start_time": "2023-05-05T23:58:01.849Z"
   },
   {
    "duration": 307,
    "start_time": "2023-05-05T23:58:01.905Z"
   },
   {
    "duration": 275,
    "start_time": "2023-05-05T23:58:02.213Z"
   },
   {
    "duration": 33,
    "start_time": "2023-05-05T23:58:02.490Z"
   },
   {
    "duration": 3,
    "start_time": "2023-05-05T23:58:02.525Z"
   },
   {
    "duration": 56,
    "start_time": "2023-05-05T23:58:02.529Z"
   },
   {
    "duration": 749,
    "start_time": "2023-05-05T23:58:02.588Z"
   },
   {
    "duration": 9,
    "start_time": "2023-05-05T23:58:03.339Z"
   },
   {
    "duration": 511,
    "start_time": "2023-05-05T23:58:03.350Z"
   },
   {
    "duration": 2148,
    "start_time": "2023-05-05T23:58:03.863Z"
   },
   {
    "duration": 506,
    "start_time": "2023-05-05T23:58:06.012Z"
   },
   {
    "duration": 385,
    "start_time": "2023-05-05T23:58:06.519Z"
   },
   {
    "duration": 315,
    "start_time": "2023-05-05T23:58:06.905Z"
   },
   {
    "duration": 2,
    "start_time": "2023-05-05T23:58:07.222Z"
   },
   {
    "duration": 6,
    "start_time": "2023-05-05T23:58:07.225Z"
   },
   {
    "duration": 7,
    "start_time": "2023-05-05T23:58:07.232Z"
   },
   {
    "duration": 267,
    "start_time": "2023-05-05T23:58:07.240Z"
   },
   {
    "duration": 8,
    "start_time": "2023-05-05T23:58:07.508Z"
   },
   {
    "duration": 23,
    "start_time": "2023-05-05T23:58:07.517Z"
   },
   {
    "duration": 19,
    "start_time": "2023-05-05T23:58:07.542Z"
   },
   {
    "duration": 6,
    "start_time": "2023-05-06T00:11:36.564Z"
   },
   {
    "duration": 1137,
    "start_time": "2023-05-06T00:12:09.051Z"
   },
   {
    "duration": 78,
    "start_time": "2023-05-06T00:12:10.190Z"
   },
   {
    "duration": 5,
    "start_time": "2023-05-06T00:12:10.269Z"
   },
   {
    "duration": 47,
    "start_time": "2023-05-06T00:12:10.276Z"
   },
   {
    "duration": 25,
    "start_time": "2023-05-06T00:12:10.325Z"
   },
   {
    "duration": 68,
    "start_time": "2023-05-06T00:12:10.351Z"
   },
   {
    "duration": 9,
    "start_time": "2023-05-06T00:12:10.420Z"
   },
   {
    "duration": 22,
    "start_time": "2023-05-06T00:12:10.430Z"
   },
   {
    "duration": 9,
    "start_time": "2023-05-06T00:12:10.453Z"
   },
   {
    "duration": 37,
    "start_time": "2023-05-06T00:12:10.464Z"
   },
   {
    "duration": 7,
    "start_time": "2023-05-06T00:12:10.503Z"
   },
   {
    "duration": 14,
    "start_time": "2023-05-06T00:12:10.512Z"
   },
   {
    "duration": 11,
    "start_time": "2023-05-06T00:12:10.527Z"
   },
   {
    "duration": 11,
    "start_time": "2023-05-06T00:12:10.539Z"
   },
   {
    "duration": 12,
    "start_time": "2023-05-06T00:12:10.552Z"
   },
   {
    "duration": 24,
    "start_time": "2023-05-06T00:12:10.565Z"
   },
   {
    "duration": 19,
    "start_time": "2023-05-06T00:12:10.591Z"
   },
   {
    "duration": 18,
    "start_time": "2023-05-06T00:12:10.612Z"
   },
   {
    "duration": 22,
    "start_time": "2023-05-06T00:12:10.631Z"
   },
   {
    "duration": 38,
    "start_time": "2023-05-06T00:12:10.682Z"
   },
   {
    "duration": 324,
    "start_time": "2023-05-06T00:12:10.722Z"
   },
   {
    "duration": 440,
    "start_time": "2023-05-06T00:12:11.048Z"
   },
   {
    "duration": 32,
    "start_time": "2023-05-06T00:12:11.490Z"
   },
   {
    "duration": 2,
    "start_time": "2023-05-06T00:12:11.524Z"
   },
   {
    "duration": 98,
    "start_time": "2023-05-06T00:12:11.528Z"
   },
   {
    "duration": 1452,
    "start_time": "2023-05-06T00:12:11.627Z"
   },
   {
    "duration": 10,
    "start_time": "2023-05-06T00:12:13.080Z"
   },
   {
    "duration": 17,
    "start_time": "2023-05-06T00:12:13.093Z"
   },
   {
    "duration": 503,
    "start_time": "2023-05-06T00:12:13.112Z"
   },
   {
    "duration": 2287,
    "start_time": "2023-05-06T00:12:13.616Z"
   },
   {
    "duration": 536,
    "start_time": "2023-05-06T00:12:15.905Z"
   },
   {
    "duration": 391,
    "start_time": "2023-05-06T00:12:16.442Z"
   },
   {
    "duration": 328,
    "start_time": "2023-05-06T00:12:16.835Z"
   },
   {
    "duration": 2,
    "start_time": "2023-05-06T00:12:17.165Z"
   },
   {
    "duration": 6,
    "start_time": "2023-05-06T00:12:17.169Z"
   },
   {
    "duration": 6,
    "start_time": "2023-05-06T00:12:17.184Z"
   },
   {
    "duration": 299,
    "start_time": "2023-05-06T00:12:17.191Z"
   },
   {
    "duration": 8,
    "start_time": "2023-05-06T00:12:17.492Z"
   },
   {
    "duration": 22,
    "start_time": "2023-05-06T00:12:17.502Z"
   },
   {
    "duration": 19,
    "start_time": "2023-05-06T00:12:17.526Z"
   },
   {
    "duration": 545,
    "start_time": "2023-05-06T00:18:15.762Z"
   },
   {
    "duration": 253,
    "start_time": "2023-05-06T00:24:01.757Z"
   }
  ],
  "kernelspec": {
   "display_name": "Python 3 (ipykernel)",
   "language": "python",
   "name": "python3"
  },
  "language_info": {
   "codemirror_mode": {
    "name": "ipython",
    "version": 3
   },
   "file_extension": ".py",
   "mimetype": "text/x-python",
   "name": "python",
   "nbconvert_exporter": "python",
   "pygments_lexer": "ipython3",
   "version": "3.9.5"
  },
  "toc": {
   "base_numbering": 1,
   "nav_menu": {},
   "number_sections": true,
   "sideBar": true,
   "skip_h1_title": true,
   "title_cell": "Table of Contents",
   "title_sidebar": "Contents",
   "toc_cell": false,
   "toc_position": {
    "height": "calc(100% - 180px)",
    "left": "10px",
    "top": "150px",
    "width": "207.922px"
   },
   "toc_section_display": true,
   "toc_window_display": false
  }
 },
 "nbformat": 4,
 "nbformat_minor": 2
}
